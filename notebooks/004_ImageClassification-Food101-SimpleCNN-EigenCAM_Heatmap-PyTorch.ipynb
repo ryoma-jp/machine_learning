{
 "cells": [
  {
   "cell_type": "markdown",
   "id": "215abe64-2d48-4c59-93ca-5104826537bf",
   "metadata": {},
   "source": [
    "# Eigen-CAM Heatmap Sample\n",
    "\n",
    "|Item|Description|\n",
    "|---|---|\n",
    "|DeepLearning Framework|PyTorch|\n",
    "|Dataset|Food-101|\n",
    "|Model Architecture|Simple CNN|\n",
    "|XAI Method|Eigen-CAM|\n"
   ]
  },
  {
   "cell_type": "code",
   "execution_count": 1,
   "id": "bd344ba7-3414-4b91-a0bd-204f16eecc8b",
   "metadata": {},
   "outputs": [],
   "source": [
    "%load_ext autoreload\n",
    "%autoreload 2"
   ]
  },
  {
   "cell_type": "code",
   "execution_count": 2,
   "id": "dc4c9441-4782-4f0c-b21f-b0c083cafd5c",
   "metadata": {
    "scrolled": true
   },
   "outputs": [],
   "source": [
    "import random\n",
    "import numpy as np\n",
    "import torch\n",
    "\n",
    "from PIL import Image\n",
    "from pathlib import Path\n",
    "from data_loader.data_loader import DataLoader\n",
    "from models.pytorch import simple_cnn\n",
    "\n",
    "from explainable_ai.pytorch.explainable_ai import ExplainableAI"
   ]
  },
  {
   "cell_type": "markdown",
   "id": "012e0091-0142-4dce-bf0e-584b48be4d3f",
   "metadata": {},
   "source": [
    "## Prepare Trained-Model\n",
    "\n",
    "Please prepare the trained model and set the path to `trained_model` variable.  \n",
    "The example of the way to prepare the trained model is as below.\n",
    "\n",
    "- Download from [Google Drive](https://drive.google.com/file/d/1n-gMqdDxkc1cpMmQDsKt7wMBrQIO2hHX/view?usp=drive_link)\n",
    "- Train the model using [002_ImageClassification-Food101-SimpleCNN-PyTorch.ipynb](./002_ImageClassification-Food101-SimpleCNN-PyTorch.ipynb)\n"
   ]
  },
  {
   "cell_type": "code",
   "execution_count": 3,
   "id": "87c94ff0-25e8-4647-9218-278dc3d463ab",
   "metadata": {},
   "outputs": [],
   "source": [
    "trained_model = '../trained_model/002_ImageClassification-Food101-SimpleCNN-PyTorch/model.pth'"
   ]
  },
  {
   "cell_type": "markdown",
   "id": "00aa00e4-e3c6-4824-b209-0b7a8fe3bba2",
   "metadata": {},
   "source": [
    "## Set Random Seed"
   ]
  },
  {
   "cell_type": "code",
   "execution_count": 4,
   "id": "c5002ce5-3510-4052-8643-29b7e86090f8",
   "metadata": {},
   "outputs": [
    {
     "data": {
      "text/plain": [
       "<torch._C.Generator at 0x7f236828f730>"
      ]
     },
     "execution_count": 4,
     "metadata": {},
     "output_type": "execute_result"
    }
   ],
   "source": [
    "seed=42\n",
    "\n",
    "random.seed(seed)\n",
    "np.random.seed(seed)\n",
    "torch.manual_seed(seed)"
   ]
  },
  {
   "cell_type": "markdown",
   "id": "0360ca3a-1a34-49ff-9e8e-08b82910376d",
   "metadata": {},
   "source": [
    "## Device Settings"
   ]
  },
  {
   "cell_type": "code",
   "execution_count": 5,
   "id": "91e595cc-fa94-459e-8e90-cc1ecfe5af21",
   "metadata": {},
   "outputs": [
    {
     "data": {
      "text/plain": [
       "device(type='cuda', index=0)"
      ]
     },
     "execution_count": 5,
     "metadata": {},
     "output_type": "execute_result"
    }
   ],
   "source": [
    "device = torch.device('cuda:0' if torch.cuda.is_available() else 'cpu')\n",
    "device"
   ]
  },
  {
   "cell_type": "markdown",
   "id": "72353efb-1234-4149-b9d9-6762a4e0e3fb",
   "metadata": {},
   "source": [
    "## Hyperparameters"
   ]
  },
  {
   "cell_type": "code",
   "execution_count": 6,
   "id": "3e11c744-e453-4037-af0d-d21bf6588610",
   "metadata": {},
   "outputs": [],
   "source": [
    "batch_size = 32"
   ]
  },
  {
   "cell_type": "markdown",
   "id": "8ba2afda-9b9a-4117-808e-2fd52ded9ab9",
   "metadata": {},
   "source": [
    "## Load Dataset and Normalize"
   ]
  },
  {
   "cell_type": "code",
   "execution_count": 7,
   "id": "18f92d89-a9a6-4421-befc-1c38ee514603",
   "metadata": {},
   "outputs": [],
   "source": [
    "dataset_dir = '/tmp/dataset'\n",
    "dataloader = DataLoader('food101_pytorch', dataset_dir, batch_size=batch_size)"
   ]
  },
  {
   "cell_type": "code",
   "execution_count": 8,
   "id": "dc7bdd8d-bc5b-4f8f-a29f-b8d371ac7f6b",
   "metadata": {
    "scrolled": true
   },
   "outputs": [
    {
     "data": {
      "text/plain": [
       "['apple_pie',\n",
       " 'baby_back_ribs',\n",
       " 'baklava',\n",
       " 'beef_carpaccio',\n",
       " 'beef_tartare',\n",
       " 'beet_salad',\n",
       " 'beignets',\n",
       " 'bibimbap',\n",
       " 'bread_pudding',\n",
       " 'breakfast_burrito',\n",
       " 'bruschetta',\n",
       " 'caesar_salad',\n",
       " 'cannoli',\n",
       " 'caprese_salad',\n",
       " 'carrot_cake',\n",
       " 'ceviche',\n",
       " 'cheese_plate',\n",
       " 'cheesecake',\n",
       " 'chicken_curry',\n",
       " 'chicken_quesadilla',\n",
       " 'chicken_wings',\n",
       " 'chocolate_cake',\n",
       " 'chocolate_mousse',\n",
       " 'churros',\n",
       " 'clam_chowder',\n",
       " 'club_sandwich',\n",
       " 'crab_cakes',\n",
       " 'creme_brulee',\n",
       " 'croque_madame',\n",
       " 'cup_cakes',\n",
       " 'deviled_eggs',\n",
       " 'donuts',\n",
       " 'dumplings',\n",
       " 'edamame',\n",
       " 'eggs_benedict',\n",
       " 'escargots',\n",
       " 'falafel',\n",
       " 'filet_mignon',\n",
       " 'fish_and_chips',\n",
       " 'foie_gras',\n",
       " 'french_fries',\n",
       " 'french_onion_soup',\n",
       " 'french_toast',\n",
       " 'fried_calamari',\n",
       " 'fried_rice',\n",
       " 'frozen_yogurt',\n",
       " 'garlic_bread',\n",
       " 'gnocchi',\n",
       " 'greek_salad',\n",
       " 'grilled_cheese_sandwich',\n",
       " 'grilled_salmon',\n",
       " 'guacamole',\n",
       " 'gyoza',\n",
       " 'hamburger',\n",
       " 'hot_and_sour_soup',\n",
       " 'hot_dog',\n",
       " 'huevos_rancheros',\n",
       " 'hummus',\n",
       " 'ice_cream',\n",
       " 'lasagna',\n",
       " 'lobster_bisque',\n",
       " 'lobster_roll_sandwich',\n",
       " 'macaroni_and_cheese',\n",
       " 'macarons',\n",
       " 'miso_soup',\n",
       " 'mussels',\n",
       " 'nachos',\n",
       " 'omelette',\n",
       " 'onion_rings',\n",
       " 'oysters',\n",
       " 'pad_thai',\n",
       " 'paella',\n",
       " 'pancakes',\n",
       " 'panna_cotta',\n",
       " 'peking_duck',\n",
       " 'pho',\n",
       " 'pizza',\n",
       " 'pork_chop',\n",
       " 'poutine',\n",
       " 'prime_rib',\n",
       " 'pulled_pork_sandwich',\n",
       " 'ramen',\n",
       " 'ravioli',\n",
       " 'red_velvet_cake',\n",
       " 'risotto',\n",
       " 'samosa',\n",
       " 'sashimi',\n",
       " 'scallops',\n",
       " 'seaweed_salad',\n",
       " 'shrimp_and_grits',\n",
       " 'spaghetti_bolognese',\n",
       " 'spaghetti_carbonara',\n",
       " 'spring_rolls',\n",
       " 'steak',\n",
       " 'strawberry_shortcake',\n",
       " 'sushi',\n",
       " 'tacos',\n",
       " 'takoyaki',\n",
       " 'tiramisu',\n",
       " 'tuna_tartare',\n",
       " 'waffles']"
      ]
     },
     "execution_count": 8,
     "metadata": {},
     "output_type": "execute_result"
    }
   ],
   "source": [
    "dataloader.dataset.class_name"
   ]
  },
  {
   "cell_type": "markdown",
   "id": "5bc52f56-04ac-4cad-bc3a-8483dc54ac91",
   "metadata": {},
   "source": [
    "## Load Model"
   ]
  },
  {
   "cell_type": "code",
   "execution_count": 9,
   "id": "79c74e73-a083-485b-b10f-380fea6a3574",
   "metadata": {},
   "outputs": [
    {
     "name": "stdout",
     "output_type": "stream",
     "text": [
      "==========================================================================================\n",
      "Layer (type:depth-idx)                   Output Shape              Param #\n",
      "==========================================================================================\n",
      "Net                                      [32, 101]                 --\n",
      "├─Conv2d: 1-1                            [32, 64, 128, 128]        1,792\n",
      "├─ReLU: 1-2                              [32, 64, 128, 128]        --\n",
      "├─BatchNorm2d: 1-3                       [32, 64, 128, 128]        128\n",
      "├─Conv2d: 1-4                            [32, 64, 128, 128]        36,928\n",
      "├─ReLU: 1-5                              [32, 64, 128, 128]        --\n",
      "├─BatchNorm2d: 1-6                       [32, 64, 128, 128]        128\n",
      "├─MaxPool2d: 1-7                         [32, 64, 64, 64]          --\n",
      "├─Dropout: 1-8                           [32, 64, 64, 64]          --\n",
      "├─Conv2d: 1-9                            [32, 128, 64, 64]         73,856\n",
      "├─ReLU: 1-10                             [32, 128, 64, 64]         --\n",
      "├─BatchNorm2d: 1-11                      [32, 128, 64, 64]         256\n",
      "├─Conv2d: 1-12                           [32, 128, 64, 64]         147,584\n",
      "├─ReLU: 1-13                             [32, 128, 64, 64]         --\n",
      "├─BatchNorm2d: 1-14                      [32, 128, 64, 64]         256\n",
      "├─MaxPool2d: 1-15                        [32, 128, 32, 32]         --\n",
      "├─Dropout: 1-16                          [32, 128, 32, 32]         --\n",
      "├─Conv2d: 1-17                           [32, 256, 32, 32]         295,168\n",
      "├─ReLU: 1-18                             [32, 256, 32, 32]         --\n",
      "├─BatchNorm2d: 1-19                      [32, 256, 32, 32]         512\n",
      "├─Conv2d: 1-20                           [32, 256, 32, 32]         590,080\n",
      "├─ReLU: 1-21                             [32, 256, 32, 32]         --\n",
      "├─BatchNorm2d: 1-22                      [32, 256, 32, 32]         512\n",
      "├─MaxPool2d: 1-23                        [32, 256, 16, 16]         --\n",
      "├─AdaptiveAvgPool2d: 1-24                [32, 256, 8, 8]           --\n",
      "├─Linear: 1-25                           [32, 512]                 8,389,120\n",
      "├─ReLU: 1-26                             [32, 512]                 --\n",
      "├─BatchNorm1d: 1-27                      [32, 512]                 1,024\n",
      "├─Dropout: 1-28                          [32, 512]                 --\n",
      "├─Linear: 1-29                           [32, 128]                 65,664\n",
      "├─ReLU: 1-30                             [32, 128]                 --\n",
      "├─BatchNorm1d: 1-31                      [32, 128]                 256\n",
      "├─Dropout: 1-32                          [32, 128]                 --\n",
      "├─Linear: 1-33                           [32, 101]                 13,029\n",
      "├─Softmax: 1-34                          [32, 101]                 --\n",
      "==========================================================================================\n",
      "Total params: 9,616,293\n",
      "Trainable params: 9,616,293\n",
      "Non-trainable params: 0\n",
      "Total mult-adds (G): 78.60\n",
      "==========================================================================================\n",
      "Input size (MB): 6.29\n",
      "Forward/backward pass size (MB): 1879.40\n",
      "Params size (MB): 38.47\n",
      "Estimated Total Size (MB): 1924.16\n",
      "==========================================================================================\n"
     ]
    },
    {
     "data": {
      "text/plain": [
       "<All keys matched successfully>"
      ]
     },
     "execution_count": 9,
     "metadata": {},
     "output_type": "execute_result"
    }
   ],
   "source": [
    "input_size = (batch_size, 3, 128, 128)\n",
    "num_classes = len(dataloader.dataset.class_name)\n",
    "model = simple_cnn.SimpleCNN(device, input_size=input_size, num_classes=num_classes)\n",
    "\n",
    "model.net.load_state_dict(torch.load(trained_model))"
   ]
  },
  {
   "cell_type": "code",
   "execution_count": 10,
   "id": "8fc87ae5-347a-4a2c-9bd4-2df468b4cdec",
   "metadata": {},
   "outputs": [
    {
     "data": {
      "text/plain": [
       "Net(\n",
       "  (conv3_64): Conv2d(3, 64, kernel_size=(3, 3), stride=(1, 1), padding=same)\n",
       "  (bn2d64_1): BatchNorm2d(64, eps=1e-05, momentum=0.1, affine=True, track_running_stats=True)\n",
       "  (conv64_64): Conv2d(64, 64, kernel_size=(3, 3), stride=(1, 1), padding=same)\n",
       "  (bn2d64_2): BatchNorm2d(64, eps=1e-05, momentum=0.1, affine=True, track_running_stats=True)\n",
       "  (conv64_128): Conv2d(64, 128, kernel_size=(3, 3), stride=(1, 1), padding=same)\n",
       "  (bn2d128_1): BatchNorm2d(128, eps=1e-05, momentum=0.1, affine=True, track_running_stats=True)\n",
       "  (conv128_128): Conv2d(128, 128, kernel_size=(3, 3), stride=(1, 1), padding=same)\n",
       "  (bn2d128_2): BatchNorm2d(128, eps=1e-05, momentum=0.1, affine=True, track_running_stats=True)\n",
       "  (conv128_256): Conv2d(128, 256, kernel_size=(3, 3), stride=(1, 1), padding=same)\n",
       "  (bn2d256_1): BatchNorm2d(256, eps=1e-05, momentum=0.1, affine=True, track_running_stats=True)\n",
       "  (conv256_256): Conv2d(256, 256, kernel_size=(3, 3), stride=(1, 1), padding=same)\n",
       "  (bn2d256_2): BatchNorm2d(256, eps=1e-05, momentum=0.1, affine=True, track_running_stats=True)\n",
       "  (fcn_512): Linear(in_features=16384, out_features=512, bias=True)\n",
       "  (bn1d512_1): BatchNorm1d(512, eps=1e-05, momentum=0.1, affine=True, track_running_stats=True)\n",
       "  (fc512_128): Linear(in_features=512, out_features=128, bias=True)\n",
       "  (bn1d128_1): BatchNorm1d(128, eps=1e-05, momentum=0.1, affine=True, track_running_stats=True)\n",
       "  (fc_out): Linear(in_features=128, out_features=101, bias=True)\n",
       "  (relu): ReLU()\n",
       "  (dropout2d): Dropout(p=0.5, inplace=False)\n",
       "  (dropout): Dropout(p=0.5, inplace=False)\n",
       "  (softmax): Softmax(dim=1)\n",
       "  (pool): MaxPool2d(kernel_size=(2, 2), stride=(2, 2), padding=0, dilation=1, ceil_mode=False)\n",
       "  (avgpool): AdaptiveAvgPool2d(output_size=(8, 8))\n",
       ")"
      ]
     },
     "execution_count": 10,
     "metadata": {},
     "output_type": "execute_result"
    }
   ],
   "source": [
    "model.net.eval()"
   ]
  },
  {
   "cell_type": "code",
   "execution_count": 11,
   "id": "174b7a0d-09aa-4670-937e-d20e5bead07a",
   "metadata": {},
   "outputs": [
    {
     "data": {
      "text/plain": [
       "[Conv2d(256, 256, kernel_size=(3, 3), stride=(1, 1), padding=same)]"
      ]
     },
     "execution_count": 11,
     "metadata": {},
     "output_type": "execute_result"
    }
   ],
   "source": [
    "target_layers = [model.net.eval().conv256_256]\n",
    "target_layers"
   ]
  },
  {
   "cell_type": "code",
   "execution_count": 12,
   "id": "cbb63623-46b3-429e-92dc-803f15f47e61",
   "metadata": {},
   "outputs": [],
   "source": [
    "testloader = dataloader.dataset.testloader\n",
    "test_pos = 0\n",
    "output_dir = 'food-101_eigen-cam'\n",
    "\n",
    "for input_tensor, targets in testloader:\n",
    "    input_images = dataloader.dataset.inverse_normalize(input_tensor).permute(0, 2, 3, 1).to('cpu').numpy()  # convert from NCHW -> NHWC\n",
    "    image_names = dataloader.dataset.test_file_list[test_pos:test_pos+len(input_tensor)]\n",
    "    test_pos = test_pos + len(input_tensor)\n",
    "    \n",
    "    method = 'eigen_cam'\n",
    "    cam_outputs, cam_images = ExplainableAI(method, model.net, target_layers, input_tensor, input_images, image_names=image_names, output_dir=output_dir)\n",
    "    "
   ]
  },
  {
   "cell_type": "code",
   "execution_count": 13,
   "id": "aab5b067-87da-4585-be4c-27ed31fa3d2a",
   "metadata": {},
   "outputs": [
    {
     "data": {
      "image/png": "[encoded data removed]",
      "text/plain": [
       "<PIL.JpegImagePlugin.JpegImageFile image mode=RGB size=128x128>"
      ]
     },
     "metadata": {},
     "output_type": "display_data"
    },
    {
     "data": {
      "image/png": "[encoded data removed]",
      "text/plain": [
       "<PIL.JpegImagePlugin.JpegImageFile image mode=RGB size=128x128>"
      ]
     },
     "metadata": {},
     "output_type": "display_data"
    }
   ],
   "source": [
    "input_image = Image.open(Path(output_dir, 'input_image', dataloader.dataset.test_file_list[0]))\n",
    "cam_image = Image.open(Path(output_dir, 'cam', dataloader.dataset.test_file_list[0]))\n",
    "display(input_image, cam_image)"
   ]
  }
 ],
 "metadata": {
  "kernelspec": {
   "display_name": "Python 3 (ipykernel)",
   "language": "python",
   "name": "python3"
  },
  "language_info": {
   "codemirror_mode": {
    "name": "ipython",
    "version": 3
   },
   "file_extension": ".py",
   "mimetype": "text/x-python",
   "name": "python",
   "nbconvert_exporter": "python",
   "pygments_lexer": "ipython3",
   "version": "3.10.12"
  }
 },
 "nbformat": 4,
 "nbformat_minor": 5
}
