{
 "cells": [
  {
   "cell_type": "markdown",
   "id": "474b637f",
   "metadata": {},
   "source": [
    "# Image Classification Sample\n",
    "\n",
    "|Item|Description|\n",
    "|---|---|\n",
    "|DeepLearning Framework|PyTorch|\n",
    "|Dataset|CIFAR-10|\n",
    "|Model Architecture|Simple CNN|\n"
   ]
  },
  {
   "cell_type": "code",
   "execution_count": 1,
   "id": "1e0c5978",
   "metadata": {},
   "outputs": [],
   "source": [
    "%load_ext autoreload\n",
    "%autoreload 2"
   ]
  },
  {
   "cell_type": "code",
   "execution_count": 2,
   "id": "19c40f93",
   "metadata": {},
   "outputs": [],
   "source": [
    "import torch\n",
    "import torchvision\n",
    "import torchvision.transforms as transforms\n",
    "\n",
    "from models.pytorch import simple_cnn"
   ]
  },
  {
   "cell_type": "markdown",
   "id": "60045952",
   "metadata": {},
   "source": [
    "## Load Dataset and Normalize"
   ]
  },
  {
   "cell_type": "code",
   "execution_count": 3,
   "id": "f813c799",
   "metadata": {},
   "outputs": [],
   "source": [
    "dataset_dir = '/tmp/dataset'"
   ]
  },
  {
   "cell_type": "code",
   "execution_count": 4,
   "id": "41cdacbd",
   "metadata": {
    "scrolled": true
   },
   "outputs": [
    {
     "name": "stdout",
     "output_type": "stream",
     "text": [
      "Files already downloaded and verified\n",
      "Files already downloaded and verified\n"
     ]
    }
   ],
   "source": [
    "transform = transforms.Compose(\n",
    "    [transforms.ToTensor(),\n",
    "     transforms.Normalize((0.5, 0.5, 0.5), (0.5, 0.5, 0.5))])\n",
    "\n",
    "batch_size = 4\n",
    "\n",
    "trainset = torchvision.datasets.CIFAR10(root=dataset_dir, train=True,\n",
    "                                        download=True, transform=transform)\n",
    "trainloader = torch.utils.data.DataLoader(trainset, batch_size=batch_size,\n",
    "                                          shuffle=True, num_workers=2)\n",
    "\n",
    "testset = torchvision.datasets.CIFAR10(root=dataset_dir, train=False,\n",
    "                                       download=True, transform=transform)\n",
    "testloader = torch.utils.data.DataLoader(testset, batch_size=batch_size,\n",
    "                                         shuffle=False, num_workers=2)\n",
    "\n",
    "classes = ('plane', 'car', 'bird', 'cat',\n",
    "           'deer', 'dog', 'frog', 'horse', 'ship', 'truck')"
   ]
  },
  {
   "cell_type": "markdown",
   "id": "8aa2fb55",
   "metadata": {},
   "source": [
    "## Training Model"
   ]
  },
  {
   "cell_type": "code",
   "execution_count": 5,
   "id": "db3bdad0",
   "metadata": {},
   "outputs": [
    {
     "name": "stdout",
     "output_type": "stream",
     "text": [
      "[EPOCH #1, Iter #1000] loss: 2.2580605090856554\n",
      "[EPOCH #1, Iter #2000] loss: 2.0510758364200594\n",
      "[EPOCH #1, Iter #3000] loss: 1.8802313915491105\n",
      "[EPOCH #1, Iter #4000] loss: 1.7887310304641724\n",
      "[EPOCH #1, Iter #5000] loss: 1.7184594050645827\n",
      "[EPOCH #1, Iter #6000] loss: 1.661954479575157\n",
      "[EPOCH #1, Iter #7000] loss: 1.6198761066794396\n",
      "[EPOCH #1, Iter #8000] loss: 1.5587132701277733\n",
      "[EPOCH #1, Iter #9000] loss: 1.5206170471608638\n",
      "[EPOCH #1, Iter #10000] loss: 1.5066286487579346\n",
      "[EPOCH #1, Iter #11000] loss: 1.4604105754196643\n",
      "[EPOCH #1, Iter #12000] loss: 1.4376046631932258\n",
      "[EPOCH #2, Iter #1000] loss: 1.3906631363779307\n",
      "[EPOCH #2, Iter #2000] loss: 1.3990557370781898\n",
      "[EPOCH #2, Iter #3000] loss: 1.375750108152628\n",
      "[EPOCH #2, Iter #4000] loss: 1.3564982497990132\n",
      "[EPOCH #2, Iter #5000] loss: 1.3487377805262803\n",
      "[EPOCH #2, Iter #6000] loss: 1.3232826615124942\n",
      "[EPOCH #2, Iter #7000] loss: 1.322360341846943\n",
      "[EPOCH #2, Iter #8000] loss: 1.2939532564133405\n",
      "[EPOCH #2, Iter #9000] loss: 1.3124294627457858\n",
      "[EPOCH #2, Iter #10000] loss: 1.3289129162319004\n",
      "[EPOCH #2, Iter #11000] loss: 1.2799376984238624\n",
      "[EPOCH #2, Iter #12000] loss: 1.2730762048959732\n"
     ]
    }
   ],
   "source": [
    "model = simple_cnn.SimpleCNN()\n",
    "\n",
    "model.train(trainloader)"
   ]
  }
 ],
 "metadata": {
  "kernelspec": {
   "display_name": "Python 3 (ipykernel)",
   "language": "python",
   "name": "python3"
  },
  "language_info": {
   "codemirror_mode": {
    "name": "ipython",
    "version": 3
   },
   "file_extension": ".py",
   "mimetype": "text/x-python",
   "name": "python",
   "nbconvert_exporter": "python",
   "pygments_lexer": "ipython3",
   "version": "3.10.12"
  }
 },
 "nbformat": 4,
 "nbformat_minor": 5
}
