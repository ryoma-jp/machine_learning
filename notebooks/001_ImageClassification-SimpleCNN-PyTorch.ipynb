{
 "cells": [
  {
   "cell_type": "markdown",
   "id": "474b637f",
   "metadata": {},
   "source": [
    "# Image Classification Sample\n",
    "\n",
    "|Item|Description|\n",
    "|---|---|\n",
    "|DeepLearning Framework|PyTorch|\n",
    "|Dataset|CIFAR-10|\n",
    "|Model Architecture|Simple CNN|\n"
   ]
  },
  {
   "cell_type": "code",
   "execution_count": 1,
   "id": "6dc9d0b7",
   "metadata": {},
   "outputs": [],
   "source": [
    "%load_ext autoreload\n",
    "%autoreload 2"
   ]
  },
  {
   "cell_type": "code",
   "execution_count": 2,
   "id": "19c40f93",
   "metadata": {},
   "outputs": [],
   "source": [
    "import random\n",
    "import numpy as np\n",
    "import torch\n",
    "import torchvision\n",
    "import torchvision.transforms as transforms\n",
    "import pprint\n",
    "\n",
    "from models.pytorch import simple_cnn"
   ]
  },
  {
   "cell_type": "markdown",
   "id": "6811f0a5",
   "metadata": {},
   "source": [
    "## Set Random Seed"
   ]
  },
  {
   "cell_type": "code",
   "execution_count": 3,
   "id": "a45c8093",
   "metadata": {},
   "outputs": [
    {
     "data": {
      "text/plain": [
       "<torch._C.Generator at 0x7f8938173730>"
      ]
     },
     "execution_count": 3,
     "metadata": {},
     "output_type": "execute_result"
    }
   ],
   "source": [
    "seed=42\n",
    "\n",
    "random.seed(seed)\n",
    "np.random.seed(seed)\n",
    "torch.manual_seed(seed)"
   ]
  },
  {
   "cell_type": "markdown",
   "id": "2a76f73c",
   "metadata": {},
   "source": [
    "## Device Settings"
   ]
  },
  {
   "cell_type": "code",
   "execution_count": 4,
   "id": "95bfed9a",
   "metadata": {},
   "outputs": [
    {
     "data": {
      "text/plain": [
       "device(type='cuda', index=0)"
      ]
     },
     "execution_count": 4,
     "metadata": {},
     "output_type": "execute_result"
    }
   ],
   "source": [
    "device = torch.device('cuda:0' if torch.cuda.is_available() else 'cpu')\n",
    "device"
   ]
  },
  {
   "cell_type": "markdown",
   "id": "0e2a9692",
   "metadata": {},
   "source": [
    "## Hyperparameters"
   ]
  },
  {
   "cell_type": "code",
   "execution_count": 5,
   "id": "0fa0fb52",
   "metadata": {},
   "outputs": [],
   "source": [
    "epochs = 200\n",
    "batch_size = 512\n",
    "learning_rate = 0.001\n",
    "weight_decay = 0.004"
   ]
  },
  {
   "cell_type": "markdown",
   "id": "60045952",
   "metadata": {},
   "source": [
    "## Load Dataset and Normalize"
   ]
  },
  {
   "cell_type": "code",
   "execution_count": 6,
   "id": "f813c799",
   "metadata": {},
   "outputs": [],
   "source": [
    "dataset_dir = '/tmp/dataset'"
   ]
  },
  {
   "cell_type": "code",
   "execution_count": 7,
   "id": "41cdacbd",
   "metadata": {
    "scrolled": true
   },
   "outputs": [
    {
     "name": "stdout",
     "output_type": "stream",
     "text": [
      "Files already downloaded and verified\n",
      "Files already downloaded and verified\n"
     ]
    }
   ],
   "source": [
    "transform = transforms.Compose(\n",
    "    [transforms.ToTensor(),\n",
    "     transforms.Normalize((0.5, 0.5, 0.5), (0.5, 0.5, 0.5))])\n",
    "\n",
    "trainset = torchvision.datasets.CIFAR10(root=dataset_dir, train=True,\n",
    "                                        download=True, transform=transform)\n",
    "trainloader = torch.utils.data.DataLoader(trainset, batch_size=batch_size,\n",
    "                                          shuffle=True, num_workers=2)\n",
    "\n",
    "testset = torchvision.datasets.CIFAR10(root=dataset_dir, train=False,\n",
    "                                       download=True, transform=transform)\n",
    "testloader = torch.utils.data.DataLoader(testset, batch_size=batch_size,\n",
    "                                         shuffle=False, num_workers=2)\n",
    "\n",
    "classes = ('plane', 'car', 'bird', 'cat',\n",
    "           'deer', 'dog', 'frog', 'horse', 'ship', 'truck')"
   ]
  },
  {
   "cell_type": "markdown",
   "id": "ef213c0a",
   "metadata": {},
   "source": [
    "## Training Model"
   ]
  },
  {
   "cell_type": "code",
   "execution_count": 8,
   "id": "b9458841",
   "metadata": {
    "scrolled": true
   },
   "outputs": [
    {
     "name": "stdout",
     "output_type": "stream",
     "text": [
      "[EPOCH #0] loss: 2.3054837888600876\n",
      "[EPOCH #1] loss: 2.133305323367216\n",
      "[EPOCH #2] loss: 1.9490353598886607\n",
      "[EPOCH #3] loss: 1.8756986953774277\n",
      "[EPOCH #4] loss: 1.8332633935675329\n",
      "[EPOCH #5] loss: 1.803557998063613\n",
      "[EPOCH #6] loss: 1.7770408635236778\n",
      "[EPOCH #7] loss: 1.755055954261702\n",
      "[EPOCH #8] loss: 1.7359193612118156\n",
      "[EPOCH #9] loss: 1.7179213713626473\n",
      "[EPOCH #10] loss: 1.704936211206475\n",
      "[EPOCH #11] loss: 1.6953652111851438\n",
      "[EPOCH #12] loss: 1.6848548760219497\n",
      "[EPOCH #13] loss: 1.6711537716340046\n",
      "[EPOCH #14] loss: 1.6634036521522366\n",
      "[EPOCH #15] loss: 1.6542239359446935\n",
      "[EPOCH #16] loss: 1.6522172859736852\n",
      "[EPOCH #17] loss: 1.6454883375946356\n",
      "[EPOCH #18] loss: 1.6399956442871872\n",
      "[EPOCH #19] loss: 1.6362942274735899\n",
      "[EPOCH #20] loss: 1.6291250282404375\n",
      "[EPOCH #21] loss: 1.62435397323297\n",
      "[EPOCH #22] loss: 1.6191026410278009\n",
      "[EPOCH #23] loss: 1.6209868825211817\n",
      "[EPOCH #24] loss: 1.6126116441220653\n",
      "[EPOCH #25] loss: 1.6143640121635126\n",
      "[EPOCH #26] loss: 1.6089285563449471\n",
      "[EPOCH #27] loss: 1.6067511901563527\n",
      "[EPOCH #28] loss: 1.6029975353455057\n",
      "[EPOCH #29] loss: 1.5991357844703051\n",
      "[EPOCH #30] loss: 1.598076086871478\n",
      "[EPOCH #31] loss: 1.5965142091926263\n",
      "[EPOCH #32] loss: 1.5971343602452959\n",
      "[EPOCH #33] loss: 1.5922611380109981\n",
      "[EPOCH #34] loss: 1.5907062498890623\n",
      "[EPOCH #35] loss: 1.5872681177392298\n",
      "[EPOCH #36] loss: 1.58794026837057\n",
      "[EPOCH #37] loss: 1.5847160767535775\n",
      "[EPOCH #38] loss: 1.5824936908118579\n",
      "[EPOCH #39] loss: 1.5833892250547603\n",
      "[EPOCH #40] loss: 1.5819054331098283\n",
      "[EPOCH #41] loss: 1.576839653813109\n",
      "[EPOCH #42] loss: 1.5754860347631026\n",
      "[EPOCH #43] loss: 1.5735505405737429\n",
      "[EPOCH #44] loss: 1.5721530853485575\n",
      "[EPOCH #45] loss: 1.5706737029309175\n",
      "[EPOCH #46] loss: 1.567246898096435\n",
      "[EPOCH #47] loss: 1.5674697756767273\n",
      "[EPOCH #48] loss: 1.5655637310475718\n",
      "[EPOCH #49] loss: 1.5680197209728008\n",
      "[EPOCH #50] loss: 1.5668420402371153\n",
      "[EPOCH #51] loss: 1.56410606296695\n",
      "[EPOCH #52] loss: 1.5632817258640213\n",
      "[EPOCH #53] loss: 1.5614555234811744\n",
      "[EPOCH #54] loss: 1.5630024866181977\n",
      "[EPOCH #55] loss: 1.560745388877635\n",
      "[EPOCH #56] loss: 1.5579265866960799\n",
      "[EPOCH #57] loss: 1.5599673487702195\n",
      "[EPOCH #58] loss: 1.5573622669492448\n",
      "[EPOCH #59] loss: 1.5572447107762706\n",
      "[EPOCH #60] loss: 1.5544141105243139\n",
      "[EPOCH #61] loss: 1.5535780884781663\n",
      "[EPOCH #62] loss: 1.5548819340005213\n",
      "[EPOCH #63] loss: 1.5504701356498563\n",
      "[EPOCH #64] loss: 1.5489510516731106\n",
      "[EPOCH #65] loss: 1.5487828206042855\n",
      "[EPOCH #66] loss: 1.5495937393636119\n",
      "[EPOCH #67] loss: 1.5507275243194736\n",
      "[EPOCH #68] loss: 1.5494037404352305\n",
      "[EPOCH #69] loss: 1.5474986373161783\n",
      "[EPOCH #70] loss: 1.5451210056032454\n",
      "[EPOCH #71] loss: 1.5442120384196847\n",
      "[EPOCH #72] loss: 1.5410940209213568\n",
      "[EPOCH #73] loss: 1.543604457864956\n",
      "[EPOCH #74] loss: 1.543046980488057\n",
      "[EPOCH #75] loss: 1.5425600263537194\n",
      "[EPOCH #76] loss: 1.5395339982850211\n",
      "[EPOCH #77] loss: 1.5393688094859221\n",
      "[EPOCH #78] loss: 1.539418029541872\n",
      "[EPOCH #79] loss: 1.5389812856304401\n",
      "[EPOCH #80] loss: 1.5385981080483417\n",
      "[EPOCH #81] loss: 1.5366258609051606\n",
      "[EPOCH #82] loss: 1.5389492171151298\n",
      "[EPOCH #83] loss: 1.5357743440842142\n",
      "[EPOCH #84] loss: 1.5353065571006463\n",
      "[EPOCH #85] loss: 1.5360999593929368\n",
      "[EPOCH #86] loss: 1.5354841546136506\n",
      "[EPOCH #87] loss: 1.5345039440661061\n",
      "[EPOCH #88] loss: 1.5358618364042165\n",
      "[EPOCH #89] loss: 1.5323624087839711\n",
      "[EPOCH #90] loss: 1.5320842107947992\n",
      "[EPOCH #91] loss: 1.5324992999738576\n",
      "[EPOCH #92] loss: 1.5315995836744503\n",
      "[EPOCH #93] loss: 1.5343665626584266\n",
      "[EPOCH #94] loss: 1.5299104829223789\n",
      "[EPOCH #95] loss: 1.5305679452662566\n",
      "[EPOCH #96] loss: 1.5285694185568361\n",
      "[EPOCH #97] loss: 1.529860760484423\n",
      "[EPOCH #98] loss: 1.5288758849611088\n",
      "[EPOCH #99] loss: 1.5276032442949257\n",
      "[EPOCH #100] loss: 1.5273873149132242\n",
      "[EPOCH #101] loss: 1.5249617026776683\n",
      "[EPOCH #102] loss: 1.5255726588015655\n",
      "[EPOCH #103] loss: 1.5270507724917666\n",
      "[EPOCH #104] loss: 1.5227149651975047\n",
      "[EPOCH #105] loss: 1.523802479919122\n",
      "[EPOCH #106] loss: 1.5246215669476255\n",
      "[EPOCH #107] loss: 1.524671880566344\n",
      "[EPOCH #108] loss: 1.524266658997049\n",
      "[EPOCH #109] loss: 1.5243268657703788\n",
      "[EPOCH #110] loss: 1.5210842672659426\n",
      "[EPOCH #111] loss: 1.5226676269453399\n",
      "[EPOCH #112] loss: 1.5212428849570605\n",
      "[EPOCH #113] loss: 1.5224108878447085\n",
      "[EPOCH #114] loss: 1.5203627798022057\n",
      "[EPOCH #115] loss: 1.5202326738104528\n",
      "[EPOCH #116] loss: 1.5204971882761742\n",
      "[EPOCH #117] loss: 1.5210269945008414\n",
      "[EPOCH #118] loss: 1.5176085549957898\n",
      "[EPOCH #119] loss: 1.51914417865325\n",
      "[EPOCH #120] loss: 1.5178217960863698\n",
      "[EPOCH #121] loss: 1.5192692146009328\n",
      "[EPOCH #122] loss: 1.518125593662262\n",
      "[EPOCH #123] loss: 1.517820923912282\n",
      "[EPOCH #124] loss: 1.5183669134062163\n",
      "[EPOCH #125] loss: 1.5175254989643485\n",
      "[EPOCH #126] loss: 1.5149222429917784\n",
      "[EPOCH #127] loss: 1.5145428034724022\n",
      "[EPOCH #128] loss: 1.5155729797421669\n",
      "[EPOCH #129] loss: 1.5155978166327184\n",
      "[EPOCH #130] loss: 1.5150840039155922\n",
      "[EPOCH #131] loss: 1.5147211052933518\n",
      "[EPOCH #132] loss: 1.51329177861311\n",
      "[EPOCH #133] loss: 1.5143130251339503\n",
      "[EPOCH #134] loss: 1.5138787298786396\n",
      "[EPOCH #135] loss: 1.5148129998421183\n",
      "[EPOCH #136] loss: 1.5135425256223094\n",
      "[EPOCH #137] loss: 1.5131158926049058\n",
      "[EPOCH #138] loss: 1.5145705415278066\n",
      "[EPOCH #139] loss: 1.5137724864239595\n",
      "[EPOCH #140] loss: 1.512497498064625\n",
      "[EPOCH #141] loss: 1.512030371597835\n",
      "[EPOCH #142] loss: 1.5091854552833401\n",
      "[EPOCH #143] loss: 1.5118747110269508\n",
      "[EPOCH #144] loss: 1.5115744508042628\n",
      "[EPOCH #145] loss: 1.5106439493140396\n",
      "[EPOCH #146] loss: 1.5100018309087169\n",
      "[EPOCH #147] loss: 1.5115548554731875\n",
      "[EPOCH #148] loss: 1.5114088958623457\n",
      "[EPOCH #149] loss: 1.5111040667611726\n",
      "[EPOCH #150] loss: 1.5115183664827931\n",
      "[EPOCH #151] loss: 1.512052210009828\n",
      "[EPOCH #152] loss: 1.5091210141473888\n",
      "[EPOCH #153] loss: 1.509174908910479\n",
      "[EPOCH #154] loss: 1.5071107136959931\n",
      "[EPOCH #155] loss: 1.5090672629220145\n",
      "[EPOCH #156] loss: 1.5084837298003995\n",
      "[EPOCH #157] loss: 1.5066909425112667\n",
      "[EPOCH #158] loss: 1.5064116546085902\n",
      "[EPOCH #159] loss: 1.5084677594048637\n",
      "[EPOCH #160] loss: 1.509141066852881\n",
      "[EPOCH #161] loss: 1.5062933369558684\n",
      "[EPOCH #162] loss: 1.5066489346173344\n",
      "[EPOCH #163] loss: 1.5061216317877477\n",
      "[EPOCH #164] loss: 1.5071571651770144\n",
      "[EPOCH #165] loss: 1.5058400521473008\n",
      "[EPOCH #166] loss: 1.5045644336817217\n",
      "[EPOCH #167] loss: 1.5046300048730812\n",
      "[EPOCH #168] loss: 1.5042371360623106\n",
      "[EPOCH #169] loss: 1.5058569214781936\n",
      "[EPOCH #170] loss: 1.5062394069165599\n",
      "[EPOCH #171] loss: 1.504653917283428\n",
      "[EPOCH #172] loss: 1.5068989237960504\n",
      "[EPOCH #173] loss: 1.5057761206918834\n",
      "[EPOCH #174] loss: 1.5043493326829405\n",
      "[EPOCH #175] loss: 1.5040979896272932\n",
      "[EPOCH #176] loss: 1.5044158417351392\n",
      "[EPOCH #177] loss: 1.5034836652327557\n",
      "[EPOCH #178] loss: 1.502838021638442\n",
      "[EPOCH #179] loss: 1.501544642205141\n",
      "[EPOCH #180] loss: 1.5040273885337674\n",
      "[EPOCH #181] loss: 1.503863468462107\n",
      "[EPOCH #182] loss: 1.5037759797913688\n",
      "[EPOCH #183] loss: 1.5032803647372188\n",
      "[EPOCH #184] loss: 1.5027143626796955\n",
      "[EPOCH #185] loss: 1.5011855254367905\n",
      "[EPOCH #186] loss: 1.5019741155663315\n",
      "[EPOCH #187] loss: 1.5008040678744414\n",
      "[EPOCH #188] loss: 1.501994980841267\n",
      "[EPOCH #189] loss: 1.5008108177963568\n",
      "[EPOCH #190] loss: 1.5032784026496264\n",
      "[EPOCH #191] loss: 1.5010287481911329\n",
      "[EPOCH #192] loss: 1.5009009327207292\n",
      "[EPOCH #193] loss: 1.4986369232742154\n",
      "[EPOCH #194] loss: 1.501940358658226\n",
      "[EPOCH #195] loss: 1.50224741502684\n",
      "[EPOCH #196] loss: 1.4999730003123382\n",
      "[EPOCH #197] loss: 1.5005040193090633\n",
      "[EPOCH #198] loss: 1.5001126418308335\n",
      "[EPOCH #199] loss: 1.5010158638564908\n",
      "[EPOCH #200] loss: 1.499527014031702\n"
     ]
    }
   ],
   "source": [
    "model = simple_cnn.SimpleCNN(device)\n",
    "\n",
    "model.train(trainloader, epochs=epochs, lr=learning_rate, wd=weight_decay)"
   ]
  },
  {
   "cell_type": "markdown",
   "id": "2e916e0b",
   "metadata": {},
   "source": [
    "## Test Model"
   ]
  },
  {
   "cell_type": "code",
   "execution_count": 9,
   "id": "6bf4dd4f",
   "metadata": {},
   "outputs": [],
   "source": [
    "train_result = model.predict(trainloader)\n",
    "train_predictions, train_labels = train_result"
   ]
  },
  {
   "cell_type": "code",
   "execution_count": 10,
   "id": "70ea80c5",
   "metadata": {},
   "outputs": [
    {
     "name": "stdout",
     "output_type": "stream",
     "text": [
      "{'accuracy': 0.96332,\n",
      " 'classification_report': {'0': {'f1-score': 0.9672473867595819,\n",
      "                                 'precision': 0.9629335976214073,\n",
      "                                 'recall': 0.9716,\n",
      "                                 'support': 5000},\n",
      "                           '1': {'f1-score': 0.9843485195892733,\n",
      "                                 'precision': 0.9813158417809581,\n",
      "                                 'recall': 0.9874,\n",
      "                                 'support': 5000},\n",
      "                           '2': {'f1-score': 0.9528595838777767,\n",
      "                                 'precision': 0.9577692463123864,\n",
      "                                 'recall': 0.948,\n",
      "                                 'support': 5000},\n",
      "                           '3': {'f1-score': 0.9354358821779233,\n",
      "                                 'precision': 0.9277985441668306,\n",
      "                                 'recall': 0.9432,\n",
      "                                 'support': 5000},\n",
      "                           '4': {'f1-score': 0.9580648359274313,\n",
      "                                 'precision': 0.9498722233143306,\n",
      "                                 'recall': 0.9664,\n",
      "                                 'support': 5000},\n",
      "                           '5': {'f1-score': 0.9399387129724208,\n",
      "                                 'precision': 0.9605427974947808,\n",
      "                                 'recall': 0.9202,\n",
      "                                 'support': 5000},\n",
      "                           '6': {'f1-score': 0.9698189134808852,\n",
      "                                 'precision': 0.9757085020242915,\n",
      "                                 'recall': 0.964,\n",
      "                                 'support': 5000},\n",
      "                           '7': {'f1-score': 0.9677291232251019,\n",
      "                                 'precision': 0.9609544468546638,\n",
      "                                 'recall': 0.9746,\n",
      "                                 'support': 5000},\n",
      "                           '8': {'f1-score': 0.9787954206072673,\n",
      "                                 'precision': 0.9744301288404361,\n",
      "                                 'recall': 0.9832,\n",
      "                                 'support': 5000},\n",
      "                           '9': {'f1-score': 0.9786123104729392,\n",
      "                                 'precision': 0.9826577939100625,\n",
      "                                 'recall': 0.9746,\n",
      "                                 'support': 5000},\n",
      "                           'accuracy': 0.96332,\n",
      "                           'macro avg': {'f1-score': 0.9632850689090603,\n",
      "                                         'precision': 0.9633983122320148,\n",
      "                                         'recall': 0.9633200000000001,\n",
      "                                         'support': 50000},\n",
      "                           'weighted avg': {'f1-score': 0.9632850689090602,\n",
      "                                            'precision': 0.9633983122320148,\n",
      "                                            'recall': 0.96332,\n",
      "                                            'support': 50000}}}\n"
     ]
    }
   ],
   "source": [
    "train_eval_result = model.evaluate(train_labels, train_predictions)\n",
    "pprint.pprint(train_eval_result)"
   ]
  },
  {
   "cell_type": "code",
   "execution_count": 11,
   "id": "5715967f",
   "metadata": {},
   "outputs": [],
   "source": [
    "test_result = model.predict(testloader)\n",
    "test_predictions, test_labels = test_result"
   ]
  },
  {
   "cell_type": "code",
   "execution_count": 12,
   "id": "b5c25f0c",
   "metadata": {},
   "outputs": [
    {
     "name": "stdout",
     "output_type": "stream",
     "text": [
      "{'accuracy': 0.8474,\n",
      " 'classification_report': {'0': {'f1-score': 0.8669314796425025,\n",
      "                                 'precision': 0.8609467455621301,\n",
      "                                 'recall': 0.873,\n",
      "                                 'support': 1000},\n",
      "                           '1': {'f1-score': 0.9239940387481372,\n",
      "                                 'precision': 0.9180651530108588,\n",
      "                                 'recall': 0.93,\n",
      "                                 'support': 1000},\n",
      "                           '2': {'f1-score': 0.7779479326186829,\n",
      "                                 'precision': 0.794577685088634,\n",
      "                                 'recall': 0.762,\n",
      "                                 'support': 1000},\n",
      "                           '3': {'f1-score': 0.7081673306772909,\n",
      "                                 'precision': 0.7053571428571429,\n",
      "                                 'recall': 0.711,\n",
      "                                 'support': 1000},\n",
      "                           '4': {'f1-score': 0.8373702422145328,\n",
      "                                 'precision': 0.8279569892473119,\n",
      "                                 'recall': 0.847,\n",
      "                                 'support': 1000},\n",
      "                           '5': {'f1-score': 0.7676348547717844,\n",
      "                                 'precision': 0.7974137931034483,\n",
      "                                 'recall': 0.74,\n",
      "                                 'support': 1000},\n",
      "                           '6': {'f1-score': 0.882737795671867,\n",
      "                                 'precision': 0.8885511651469098,\n",
      "                                 'recall': 0.877,\n",
      "                                 'support': 1000},\n",
      "                           '7': {'f1-score': 0.8759124087591241,\n",
      "                                 'precision': 0.8530805687203792,\n",
      "                                 'recall': 0.9,\n",
      "                                 'support': 1000},\n",
      "                           '8': {'f1-score': 0.9202755905511811,\n",
      "                                 'precision': 0.9060077519379846,\n",
      "                                 'recall': 0.935,\n",
      "                                 'support': 1000},\n",
      "                           '9': {'f1-score': 0.9076224129227664,\n",
      "                                 'precision': 0.9164118246687054,\n",
      "                                 'recall': 0.899,\n",
      "                                 'support': 1000},\n",
      "                           'accuracy': 0.8474,\n",
      "                           'macro avg': {'f1-score': 0.846859408657787,\n",
      "                                         'precision': 0.8468368819343505,\n",
      "                                         'recall': 0.8474,\n",
      "                                         'support': 10000},\n",
      "                           'weighted avg': {'f1-score': 0.846859408657787,\n",
      "                                            'precision': 0.8468368819343505,\n",
      "                                            'recall': 0.8474,\n",
      "                                            'support': 10000}}}\n"
     ]
    }
   ],
   "source": [
    "test_eval_result = model.evaluate(test_labels, test_predictions)\n",
    "pprint.pprint(test_eval_result)"
   ]
  }
 ],
 "metadata": {
  "kernelspec": {
   "display_name": "Python 3 (ipykernel)",
   "language": "python",
   "name": "python3"
  },
  "language_info": {
   "codemirror_mode": {
    "name": "ipython",
    "version": 3
   },
   "file_extension": ".py",
   "mimetype": "text/x-python",
   "name": "python",
   "nbconvert_exporter": "python",
   "pygments_lexer": "ipython3",
   "version": "3.10.12"
  }
 },
 "nbformat": 4,
 "nbformat_minor": 5
}
