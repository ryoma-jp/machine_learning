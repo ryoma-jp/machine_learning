{
 "cells": [
  {
   "cell_type": "markdown",
   "id": "474b637f",
   "metadata": {},
   "source": [
    "# Image Classification Sample\n",
    "\n",
    "|Item|Description|\n",
    "|---|---|\n",
    "|DeepLearning Framework|PyTorch|\n",
    "|Dataset|CIFAR-10|\n",
    "|Model Architecture|Simple CNN|\n"
   ]
  },
  {
   "cell_type": "code",
   "execution_count": 1,
   "id": "4fbcf20d",
   "metadata": {},
   "outputs": [],
   "source": [
    "%load_ext autoreload\n",
    "%autoreload 2"
   ]
  },
  {
   "cell_type": "code",
   "execution_count": 2,
   "id": "19c40f93",
   "metadata": {},
   "outputs": [],
   "source": [
    "import torch\n",
    "import torchvision\n",
    "import torchvision.transforms as transforms\n",
    "\n",
    "from models.pytorch import simple_cnn"
   ]
  },
  {
   "cell_type": "markdown",
   "id": "60045952",
   "metadata": {},
   "source": [
    "## Load Dataset and Normalize"
   ]
  },
  {
   "cell_type": "code",
   "execution_count": 3,
   "id": "f813c799",
   "metadata": {},
   "outputs": [],
   "source": [
    "dataset_dir = '/tmp/dataset'"
   ]
  },
  {
   "cell_type": "code",
   "execution_count": 4,
   "id": "41cdacbd",
   "metadata": {
    "scrolled": true
   },
   "outputs": [
    {
     "name": "stdout",
     "output_type": "stream",
     "text": [
      "Files already downloaded and verified\n",
      "Files already downloaded and verified\n"
     ]
    }
   ],
   "source": [
    "transform = transforms.Compose(\n",
    "    [transforms.ToTensor(),\n",
    "     transforms.Normalize((0.5, 0.5, 0.5), (0.5, 0.5, 0.5))])\n",
    "\n",
    "batch_size = 4\n",
    "\n",
    "trainset = torchvision.datasets.CIFAR10(root=dataset_dir, train=True,\n",
    "                                        download=True, transform=transform)\n",
    "trainloader = torch.utils.data.DataLoader(trainset, batch_size=batch_size,\n",
    "                                          shuffle=True, num_workers=2)\n",
    "\n",
    "testset = torchvision.datasets.CIFAR10(root=dataset_dir, train=False,\n",
    "                                       download=True, transform=transform)\n",
    "testloader = torch.utils.data.DataLoader(testset, batch_size=batch_size,\n",
    "                                         shuffle=False, num_workers=2)\n",
    "\n",
    "classes = ('plane', 'car', 'bird', 'cat',\n",
    "           'deer', 'dog', 'frog', 'horse', 'ship', 'truck')"
   ]
  },
  {
   "cell_type": "markdown",
   "id": "2ad77513",
   "metadata": {},
   "source": [
    "## Training Model"
   ]
  },
  {
   "cell_type": "code",
   "execution_count": 5,
   "id": "63ad0db9",
   "metadata": {},
   "outputs": [
    {
     "name": "stdout",
     "output_type": "stream",
     "text": [
      "[EPOCH #1, Iter #1000] loss: 2.302423131942749\n",
      "[EPOCH #1, Iter #2000] loss: 2.225325690507889\n",
      "[EPOCH #1, Iter #3000] loss: 1.9788510888814925\n",
      "[EPOCH #1, Iter #4000] loss: 1.8266051979064941\n",
      "[EPOCH #1, Iter #5000] loss: 1.7102547376155852\n",
      "[EPOCH #1, Iter #6000] loss: 1.6446249175667762\n",
      "[EPOCH #1, Iter #7000] loss: 1.5915126164257527\n",
      "[EPOCH #1, Iter #8000] loss: 1.5625861421823501\n",
      "[EPOCH #1, Iter #9000] loss: 1.5466026995778084\n",
      "[EPOCH #1, Iter #10000] loss: 1.5263606028556824\n",
      "[EPOCH #1, Iter #11000] loss: 1.4742707718610764\n",
      "[EPOCH #1, Iter #12000] loss: 1.4726601259708405\n",
      "[EPOCH #2, Iter #1000] loss: 1.3983836713731288\n",
      "[EPOCH #2, Iter #2000] loss: 1.4108177714049817\n",
      "[EPOCH #2, Iter #3000] loss: 1.3817340752482414\n",
      "[EPOCH #2, Iter #4000] loss: 1.358777125403285\n",
      "[EPOCH #2, Iter #5000] loss: 1.2955972331911325\n",
      "[EPOCH #2, Iter #6000] loss: 1.3017915927171708\n",
      "[EPOCH #2, Iter #7000] loss: 1.3019270651414991\n",
      "[EPOCH #2, Iter #8000] loss: 1.3308279678672552\n",
      "[EPOCH #2, Iter #9000] loss: 1.2983834901452065\n",
      "[EPOCH #2, Iter #10000] loss: 1.2578489960283041\n",
      "[EPOCH #2, Iter #11000] loss: 1.3051134837418794\n",
      "[EPOCH #2, Iter #12000] loss: 1.2818377194702626\n"
     ]
    }
   ],
   "source": [
    "model = simple_cnn.SimpleCNN()\n",
    "\n",
    "model.train(trainloader)"
   ]
  },
  {
   "cell_type": "markdown",
   "id": "207d24d8",
   "metadata": {},
   "source": [
    "## Test Model"
   ]
  },
  {
   "cell_type": "code",
   "execution_count": 6,
   "id": "73d70298",
   "metadata": {},
   "outputs": [],
   "source": [
    "test_result = model.predict(testloader)\n",
    "test_predictions, test_labels = test_result"
   ]
  },
  {
   "cell_type": "code",
   "execution_count": 7,
   "id": "81bdf4df",
   "metadata": {},
   "outputs": [
    {
     "data": {
      "text/plain": [
       "array([3, 8, 8, ..., 5, 1, 7])"
      ]
     },
     "execution_count": 7,
     "metadata": {},
     "output_type": "execute_result"
    }
   ],
   "source": [
    "test_predictions"
   ]
  },
  {
   "cell_type": "code",
   "execution_count": 8,
   "id": "1eceb2d2",
   "metadata": {},
   "outputs": [
    {
     "data": {
      "text/plain": [
       "array([3, 8, 8, ..., 5, 1, 7])"
      ]
     },
     "execution_count": 8,
     "metadata": {},
     "output_type": "execute_result"
    }
   ],
   "source": [
    "test_labels"
   ]
  }
 ],
 "metadata": {
  "kernelspec": {
   "display_name": "Python 3 (ipykernel)",
   "language": "python",
   "name": "python3"
  },
  "language_info": {
   "codemirror_mode": {
    "name": "ipython",
    "version": 3
   },
   "file_extension": ".py",
   "mimetype": "text/x-python",
   "name": "python",
   "nbconvert_exporter": "python",
   "pygments_lexer": "ipython3",
   "version": "3.10.12"
  }
 },
 "nbformat": 4,
 "nbformat_minor": 5
}
