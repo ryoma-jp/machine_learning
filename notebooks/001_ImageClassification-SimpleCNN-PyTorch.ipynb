{
 "cells": [
  {
   "cell_type": "markdown",
   "id": "474b637f",
   "metadata": {},
   "source": [
    "# Image Classification Sample\n",
    "\n",
    "|Item|Description|\n",
    "|---|---|\n",
    "|DeepLearning Framework|PyTorch|\n",
    "|Dataset|CIFAR-10|\n",
    "|Model Architecture|Simple CNN|\n"
   ]
  },
  {
   "cell_type": "code",
   "execution_count": 1,
   "id": "6dc9d0b7",
   "metadata": {},
   "outputs": [],
   "source": [
    "%load_ext autoreload\n",
    "%autoreload 2"
   ]
  },
  {
   "cell_type": "code",
   "execution_count": 2,
   "id": "19c40f93",
   "metadata": {},
   "outputs": [],
   "source": [
    "import random\n",
    "import numpy as np\n",
    "import torch\n",
    "import pprint\n",
    "\n",
    "from data_loader.data_loader import DataLoader\n",
    "from models.pytorch import simple_cnn"
   ]
  },
  {
   "cell_type": "markdown",
   "id": "f080cc78",
   "metadata": {},
   "source": [
    "## Set Random Seed"
   ]
  },
  {
   "cell_type": "code",
   "execution_count": 3,
   "id": "9d245650",
   "metadata": {},
   "outputs": [
    {
     "data": {
      "text/plain": [
       "<torch._C.Generator at 0x7fdaa5573710>"
      ]
     },
     "execution_count": 3,
     "metadata": {},
     "output_type": "execute_result"
    }
   ],
   "source": [
    "seed=42\n",
    "\n",
    "random.seed(seed)\n",
    "np.random.seed(seed)\n",
    "torch.manual_seed(seed)"
   ]
  },
  {
   "cell_type": "markdown",
   "id": "120b0797",
   "metadata": {},
   "source": [
    "## Device Settings"
   ]
  },
  {
   "cell_type": "code",
   "execution_count": 4,
   "id": "8918ce3b",
   "metadata": {},
   "outputs": [
    {
     "data": {
      "text/plain": [
       "device(type='cuda', index=0)"
      ]
     },
     "execution_count": 4,
     "metadata": {},
     "output_type": "execute_result"
    }
   ],
   "source": [
    "device = torch.device('cuda:0' if torch.cuda.is_available() else 'cpu')\n",
    "device"
   ]
  },
  {
   "cell_type": "markdown",
   "id": "0e2a9692",
   "metadata": {},
   "source": [
    "## Hyperparameters"
   ]
  },
  {
   "cell_type": "code",
   "execution_count": 5,
   "id": "0fa0fb52",
   "metadata": {},
   "outputs": [],
   "source": [
    "epochs = 200\n",
    "batch_size = 512\n",
    "learning_rate = 0.001\n",
    "weight_decay = 0.004"
   ]
  },
  {
   "cell_type": "markdown",
   "id": "60045952",
   "metadata": {},
   "source": [
    "## Load Dataset and Normalize"
   ]
  },
  {
   "cell_type": "code",
   "execution_count": 6,
   "id": "deef041c",
   "metadata": {},
   "outputs": [
    {
     "name": "stdout",
     "output_type": "stream",
     "text": [
      "Files already downloaded and verified\n",
      "Files already downloaded and verified\n"
     ]
    }
   ],
   "source": [
    "dataset_dir = '/tmp/dataset'\n",
    "dataloader = DataLoader('cifar10_pytorch', dataset_dir)"
   ]
  },
  {
   "cell_type": "markdown",
   "id": "ef213c0a",
   "metadata": {},
   "source": [
    "## Training Model"
   ]
  },
  {
   "cell_type": "code",
   "execution_count": 7,
   "id": "b9458841",
   "metadata": {
    "scrolled": true
   },
   "outputs": [
    {
     "name": "stdout",
     "output_type": "stream",
     "text": [
      "[EPOCH #0] loss: 2.3054567161311117\n",
      "[EPOCH #1] loss: 2.0840976985692214\n",
      "[EPOCH #2] loss: 1.9446198368255556\n",
      "[EPOCH #3] loss: 1.9036013297522136\n",
      "[EPOCH #4] loss: 1.8671388843466818\n",
      "[EPOCH #5] loss: 1.8459404222643383\n",
      "[EPOCH #6] loss: 1.8252441330895695\n",
      "[EPOCH #7] loss: 1.8138644247579787\n",
      "[EPOCH #8] loss: 1.793832437929555\n",
      "[EPOCH #9] loss: 1.7861325860557384\n",
      "[EPOCH #10] loss: 1.771579421184342\n",
      "[EPOCH #11] loss: 1.7580820068059178\n",
      "[EPOCH #12] loss: 1.7644409114400774\n",
      "[EPOCH #13] loss: 1.7429471612357972\n",
      "[EPOCH #14] loss: 1.7351299950653973\n",
      "[EPOCH #15] loss: 1.7269907555210995\n",
      "[EPOCH #16] loss: 1.7268428049709883\n",
      "[EPOCH #17] loss: 1.7189283369446289\n",
      "[EPOCH #18] loss: 1.714641521240913\n",
      "[EPOCH #19] loss: 1.7075603669527166\n",
      "[EPOCH #20] loss: 1.702841138809214\n",
      "[EPOCH #21] loss: 1.7022659230216985\n",
      "[EPOCH #22] loss: 1.6982211147602444\n",
      "[EPOCH #23] loss: 1.6931255078056417\n",
      "[EPOCH #24] loss: 1.6917279020609646\n",
      "[EPOCH #25] loss: 1.6863489481248082\n",
      "[EPOCH #26] loss: 1.6873937644641215\n",
      "[EPOCH #27] loss: 1.6806409391011479\n",
      "[EPOCH #28] loss: 1.6800440445361196\n",
      "[EPOCH #29] loss: 1.6776342139515599\n",
      "[EPOCH #30] loss: 1.6765869942828011\n",
      "[EPOCH #31] loss: 1.6727187904271268\n",
      "[EPOCH #32] loss: 1.6706718979778765\n",
      "[EPOCH #33] loss: 1.6703767019132736\n",
      "[EPOCH #34] loss: 1.6668675199046168\n",
      "[EPOCH #35] loss: 1.6648997180521374\n",
      "[EPOCH #36] loss: 1.6658309334299157\n",
      "[EPOCH #37] loss: 1.6611203278628817\n",
      "[EPOCH #38] loss: 1.6546530301038531\n",
      "[EPOCH #39] loss: 1.6565228436745212\n",
      "[EPOCH #40] loss: 1.6568915694475326\n",
      "[EPOCH #41] loss: 1.6540947193834008\n",
      "[EPOCH #42] loss: 1.6490085442250766\n",
      "[EPOCH #43] loss: 1.6509254575919738\n",
      "[EPOCH #44] loss: 1.6473196828815315\n",
      "[EPOCH #45] loss: 1.6501139899666921\n",
      "[EPOCH #46] loss: 1.6442195698761894\n",
      "[EPOCH #47] loss: 1.6439853355202703\n",
      "[EPOCH #48] loss: 1.6438627360497082\n",
      "[EPOCH #49] loss: 1.6425850720109654\n",
      "[EPOCH #50] loss: 1.6400943909862906\n",
      "[EPOCH #51] loss: 1.6355408116631682\n",
      "[EPOCH #52] loss: 1.6363897689702185\n",
      "[EPOCH #53] loss: 1.6365398131954465\n",
      "[EPOCH #54] loss: 1.6342341537591516\n",
      "[EPOCH #55] loss: 1.6300753892726496\n",
      "[EPOCH #56] loss: 1.6305435679314308\n",
      "[EPOCH #57] loss: 1.629962738171954\n",
      "[EPOCH #58] loss: 1.6287653010698442\n",
      "[EPOCH #59] loss: 1.6322596289756126\n",
      "[EPOCH #60] loss: 1.6282946891839583\n",
      "[EPOCH #61] loss: 1.6288924754924372\n",
      "[EPOCH #62] loss: 1.6266089879924948\n",
      "[EPOCH #63] loss: 1.627901648071738\n",
      "[EPOCH #64] loss: 1.625602744972561\n",
      "[EPOCH #65] loss: 1.6230413699409403\n",
      "[EPOCH #66] loss: 1.623778865189409\n",
      "[EPOCH #67] loss: 1.6231270445056702\n",
      "[EPOCH #68] loss: 1.624093408776794\n",
      "[EPOCH #69] loss: 1.6209267624966701\n",
      "[EPOCH #70] loss: 1.618769684893461\n",
      "[EPOCH #71] loss: 1.618242063815214\n",
      "[EPOCH #72] loss: 1.6149658498593193\n",
      "[EPOCH #73] loss: 1.6143573399011095\n",
      "[EPOCH #74] loss: 1.6149540020728523\n",
      "[EPOCH #75] loss: 1.613537915532435\n",
      "[EPOCH #76] loss: 1.613625657916908\n",
      "[EPOCH #77] loss: 1.6110950770930303\n",
      "[EPOCH #78] loss: 1.6132589318549413\n",
      "[EPOCH #79] loss: 1.6145252899260225\n",
      "[EPOCH #80] loss: 1.6094792439856747\n",
      "[EPOCH #81] loss: 1.6099479867339668\n",
      "[EPOCH #82] loss: 1.6095401353738434\n",
      "[EPOCH #83] loss: 1.6084206522998334\n",
      "[EPOCH #84] loss: 1.6068274446275093\n",
      "[EPOCH #85] loss: 1.6073495356302878\n",
      "[EPOCH #86] loss: 1.606918287063667\n",
      "[EPOCH #87] loss: 1.6063572759439146\n",
      "[EPOCH #88] loss: 1.6041325054638522\n",
      "[EPOCH #89] loss: 1.604517984527544\n",
      "[EPOCH #90] loss: 1.60449162821547\n",
      "[EPOCH #91] loss: 1.6013488675719716\n",
      "[EPOCH #92] loss: 1.6022311007450272\n",
      "[EPOCH #93] loss: 1.6026355449923018\n",
      "[EPOCH #94] loss: 1.6013552602559271\n",
      "[EPOCH #95] loss: 1.6015506172058145\n",
      "[EPOCH #96] loss: 1.6019302377774025\n",
      "[EPOCH #97] loss: 1.6019411897018638\n",
      "[EPOCH #98] loss: 1.5994796223619085\n",
      "[EPOCH #99] loss: 1.596961171140445\n",
      "[EPOCH #100] loss: 1.5955657402979435\n",
      "[EPOCH #101] loss: 1.595338814928222\n",
      "[EPOCH #102] loss: 1.5968328127095277\n",
      "[EPOCH #103] loss: 1.5964897982370982\n",
      "[EPOCH #104] loss: 1.595774402316381\n",
      "[EPOCH #105] loss: 1.5921797586112776\n",
      "[EPOCH #106] loss: 1.5927161666268503\n",
      "[EPOCH #107] loss: 1.5968355190578516\n",
      "[EPOCH #108] loss: 1.5924379639494366\n",
      "[EPOCH #109] loss: 1.5934487697945448\n",
      "[EPOCH #110] loss: 1.5948772245847638\n",
      "[EPOCH #111] loss: 1.5915529121592955\n",
      "[EPOCH #112] loss: 1.590748410917442\n",
      "[EPOCH #113] loss: 1.590762941713754\n",
      "[EPOCH #114] loss: 1.5876373577331475\n",
      "[EPOCH #115] loss: 1.5907071307158516\n",
      "[EPOCH #116] loss: 1.58928492598555\n",
      "[EPOCH #117] loss: 1.591323567519795\n",
      "[EPOCH #118] loss: 1.5897505901901674\n",
      "[EPOCH #119] loss: 1.5905375857423378\n",
      "[EPOCH #120] loss: 1.587696784974975\n",
      "[EPOCH #121] loss: 1.5865925741134663\n",
      "[EPOCH #122] loss: 1.5868646546349796\n",
      "[EPOCH #123] loss: 1.58620877526772\n",
      "[EPOCH #124] loss: 1.5853617073859607\n",
      "[EPOCH #125] loss: 1.585165955359861\n",
      "[EPOCH #126] loss: 1.5845197023524737\n",
      "[EPOCH #127] loss: 1.5840871410345467\n",
      "[EPOCH #128] loss: 1.5868964935065994\n",
      "[EPOCH #129] loss: 1.5843661929732777\n",
      "[EPOCH #130] loss: 1.582280085396477\n",
      "[EPOCH #131] loss: 1.5841098212311073\n",
      "[EPOCH #132] loss: 1.5831000530330783\n",
      "[EPOCH #133] loss: 1.5817677514795607\n",
      "[EPOCH #134] loss: 1.5849930584926446\n",
      "[EPOCH #135] loss: 1.5821221630617508\n",
      "[EPOCH #136] loss: 1.5796185987390774\n",
      "[EPOCH #137] loss: 1.578467907008649\n",
      "[EPOCH #138] loss: 1.5793454950616974\n",
      "[EPOCH #139] loss: 1.5800733579250001\n",
      "[EPOCH #140] loss: 1.5768873029539239\n",
      "[EPOCH #141] loss: 1.5773729879888143\n",
      "[EPOCH #142] loss: 1.5779420267826307\n",
      "[EPOCH #143] loss: 1.5793298913055098\n",
      "[EPOCH #144] loss: 1.5749487287328552\n",
      "[EPOCH #145] loss: 1.5763712511257872\n",
      "[EPOCH #146] loss: 1.5767400299061283\n",
      "[EPOCH #147] loss: 1.5756258374975036\n",
      "[EPOCH #148] loss: 1.5763942853655482\n",
      "[EPOCH #149] loss: 1.575444980988652\n",
      "[EPOCH #150] loss: 1.5754587435218972\n",
      "[EPOCH #151] loss: 1.5777725738664505\n",
      "[EPOCH #152] loss: 1.5735951606386835\n",
      "[EPOCH #153] loss: 1.5724334575698227\n",
      "[EPOCH #154] loss: 1.5750741929635739\n",
      "[EPOCH #155] loss: 1.5736066108320435\n",
      "[EPOCH #156] loss: 1.5766060057162323\n",
      "[EPOCH #157] loss: 1.5737803752652666\n",
      "[EPOCH #158] loss: 1.574710396490872\n",
      "[EPOCH #159] loss: 1.5736905605611478\n",
      "[EPOCH #160] loss: 1.5728218195458215\n",
      "[EPOCH #161] loss: 1.5765983092045066\n",
      "[EPOCH #162] loss: 1.5724769476813074\n",
      "[EPOCH #163] loss: 1.5698034039538256\n",
      "[EPOCH #164] loss: 1.572191982870291\n",
      "[EPOCH #165] loss: 1.5717308033908397\n",
      "[EPOCH #166] loss: 1.5707581774668289\n",
      "[EPOCH #167] loss: 1.5706796039012634\n",
      "[EPOCH #168] loss: 1.5716890413183016\n",
      "[EPOCH #169] loss: 1.5702890938699665\n",
      "[EPOCH #170] loss: 1.5700209325349872\n",
      "[EPOCH #171] loss: 1.5693539286452993\n",
      "[EPOCH #172] loss: 1.5708880159081515\n",
      "[EPOCH #173] loss: 1.5682128512241562\n",
      "[EPOCH #174] loss: 1.567470369396954\n",
      "[EPOCH #175] loss: 1.5708681688961583\n",
      "[EPOCH #176] loss: 1.568174073121064\n",
      "[EPOCH #177] loss: 1.5677428486556177\n",
      "[EPOCH #178] loss: 1.5681289069101891\n",
      "[EPOCH #179] loss: 1.5692136960386545\n",
      "[EPOCH #180] loss: 1.566452442570062\n",
      "[EPOCH #181] loss: 1.5707868352885133\n",
      "[EPOCH #182] loss: 1.5702163688051953\n",
      "[EPOCH #183] loss: 1.568010602101102\n",
      "[EPOCH #184] loss: 1.568460527552448\n",
      "[EPOCH #185] loss: 1.5717021235272584\n",
      "[EPOCH #186] loss: 1.566639213629129\n",
      "[EPOCH #187] loss: 1.5672403119423415\n",
      "[EPOCH #188] loss: 1.5676299206964952\n",
      "[EPOCH #189] loss: 1.5644120526329035\n",
      "[EPOCH #190] loss: 1.564021228371106\n",
      "[EPOCH #191] loss: 1.5684436469679068\n",
      "[EPOCH #192] loss: 1.5669289233969788\n",
      "[EPOCH #193] loss: 1.5664950296502043\n",
      "[EPOCH #194] loss: 1.5630208876982608\n",
      "[EPOCH #195] loss: 1.5612476306013472\n",
      "[EPOCH #196] loss: 1.5629342169008114\n",
      "[EPOCH #197] loss: 1.565596621233305\n",
      "[EPOCH #198] loss: 1.5665672157944126\n",
      "[EPOCH #199] loss: 1.567084566721608\n",
      "[EPOCH #200] loss: 1.5652436570181576\n"
     ]
    }
   ],
   "source": [
    "model = simple_cnn.SimpleCNN(device)\n",
    "\n",
    "model.train(dataloader.dataset.trainloader, epochs=epochs, lr=learning_rate, wd=weight_decay)"
   ]
  },
  {
   "cell_type": "markdown",
   "id": "2e916e0b",
   "metadata": {},
   "source": [
    "## Test Model"
   ]
  },
  {
   "cell_type": "code",
   "execution_count": 8,
   "id": "ce133ed3",
   "metadata": {},
   "outputs": [],
   "source": [
    "train_result = model.predict(dataloader.dataset.trainloader)\n",
    "train_predictions, train_labels = train_result"
   ]
  },
  {
   "cell_type": "code",
   "execution_count": 9,
   "id": "1510ab2b",
   "metadata": {},
   "outputs": [
    {
     "name": "stdout",
     "output_type": "stream",
     "text": [
      "{'accuracy': 0.9005,\n",
      " 'classification_report': {'0': {'f1-score': 0.9063670411985018,\n",
      "                                 'precision': 0.9176060668169707,\n",
      "                                 'recall': 0.8954,\n",
      "                                 'support': 5000},\n",
      "                           '1': {'f1-score': 0.9471037811745776,\n",
      "                                 'precision': 0.952467637540453,\n",
      "                                 'recall': 0.9418,\n",
      "                                 'support': 5000},\n",
      "                           '2': {'f1-score': 0.8768361581920905,\n",
      "                                 'precision': 0.9013727560718057,\n",
      "                                 'recall': 0.8536,\n",
      "                                 'support': 5000},\n",
      "                           '3': {'f1-score': 0.8336433956721826,\n",
      "                                 'precision': 0.8166123153654326,\n",
      "                                 'recall': 0.8514,\n",
      "                                 'support': 5000},\n",
      "                           '4': {'f1-score': 0.8830136169366862,\n",
      "                                 'precision': 0.8776921557004544,\n",
      "                                 'recall': 0.8884,\n",
      "                                 'support': 5000},\n",
      "                           '5': {'f1-score': 0.8575254970639743,\n",
      "                                 'precision': 0.8842149989377522,\n",
      "                                 'recall': 0.8324,\n",
      "                                 'support': 5000},\n",
      "                           '6': {'f1-score': 0.9142742822846854,\n",
      "                                 'precision': 0.9145487292375425,\n",
      "                                 'recall': 0.914,\n",
      "                                 'support': 5000},\n",
      "                           '7': {'f1-score': 0.9097067647343462,\n",
      "                                 'precision': 0.881305081567598,\n",
      "                                 'recall': 0.94,\n",
      "                                 'support': 5000},\n",
      "                           '8': {'f1-score': 0.9384952229299363,\n",
      "                                 'precision': 0.9340332805071315,\n",
      "                                 'recall': 0.943,\n",
      "                                 'support': 5000},\n",
      "                           '9': {'f1-score': 0.9372210651591788,\n",
      "                                 'precision': 0.9295691520755459,\n",
      "                                 'recall': 0.945,\n",
      "                                 'support': 5000},\n",
      "                           'accuracy': 0.9005,\n",
      "                           'macro avg': {'f1-score': 0.9004186825346159,\n",
      "                                         'precision': 0.9009422173820687,\n",
      "                                         'recall': 0.9005000000000001,\n",
      "                                         'support': 50000},\n",
      "                           'weighted avg': {'f1-score': 0.900418682534616,\n",
      "                                            'precision': 0.9009422173820686,\n",
      "                                            'recall': 0.9005,\n",
      "                                            'support': 50000}}}\n"
     ]
    }
   ],
   "source": [
    "train_eval_result = model.evaluate(train_labels, train_predictions)\n",
    "pprint.pprint(train_eval_result)"
   ]
  },
  {
   "cell_type": "code",
   "execution_count": 10,
   "id": "5715967f",
   "metadata": {},
   "outputs": [],
   "source": [
    "test_result = model.predict(dataloader.dataset.testloader)\n",
    "test_predictions, test_labels = test_result"
   ]
  },
  {
   "cell_type": "code",
   "execution_count": 11,
   "id": "b5c25f0c",
   "metadata": {},
   "outputs": [
    {
     "name": "stdout",
     "output_type": "stream",
     "text": [
      "{'accuracy': 0.8112,\n",
      " 'classification_report': {'0': {'f1-score': 0.8308786185881157,\n",
      "                                 'precision': 0.8441692466460269,\n",
      "                                 'recall': 0.818,\n",
      "                                 'support': 1000},\n",
      "                           '1': {'f1-score': 0.8982456140350876,\n",
      "                                 'precision': 0.9005025125628141,\n",
      "                                 'recall': 0.896,\n",
      "                                 'support': 1000},\n",
      "                           '2': {'f1-score': 0.7479338842975206,\n",
      "                                 'precision': 0.7735042735042735,\n",
      "                                 'recall': 0.724,\n",
      "                                 'support': 1000},\n",
      "                           '3': {'f1-score': 0.6627623230844315,\n",
      "                                 'precision': 0.6472831267874166,\n",
      "                                 'recall': 0.679,\n",
      "                                 'support': 1000},\n",
      "                           '4': {'f1-score': 0.794088669950739,\n",
      "                                 'precision': 0.7825242718446602,\n",
      "                                 'recall': 0.806,\n",
      "                                 'support': 1000},\n",
      "                           '5': {'f1-score': 0.7255813953488371,\n",
      "                                 'precision': 0.7508021390374332,\n",
      "                                 'recall': 0.702,\n",
      "                                 'support': 1000},\n",
      "                           '6': {'f1-score': 0.8462694041061593,\n",
      "                                 'precision': 0.847542627883651,\n",
      "                                 'recall': 0.845,\n",
      "                                 'support': 1000},\n",
      "                           '7': {'f1-score': 0.8429192846785887,\n",
      "                                 'precision': 0.8157156220767072,\n",
      "                                 'recall': 0.872,\n",
      "                                 'support': 1000},\n",
      "                           '8': {'f1-score': 0.8831168831168831,\n",
      "                                 'precision': 0.8822355289421158,\n",
      "                                 'recall': 0.884,\n",
      "                                 'support': 1000},\n",
      "                           '9': {'f1-score': 0.8780971258671953,\n",
      "                                 'precision': 0.8703339882121808,\n",
      "                                 'recall': 0.886,\n",
      "                                 'support': 1000},\n",
      "                           'accuracy': 0.8112,\n",
      "                           'macro avg': {'f1-score': 0.8109893203073557,\n",
      "                                         'precision': 0.8114613337497278,\n",
      "                                         'recall': 0.8112,\n",
      "                                         'support': 10000},\n",
      "                           'weighted avg': {'f1-score': 0.8109893203073558,\n",
      "                                            'precision': 0.811461333749728,\n",
      "                                            'recall': 0.8112,\n",
      "                                            'support': 10000}}}\n"
     ]
    }
   ],
   "source": [
    "test_eval_result = model.evaluate(test_labels, test_predictions)\n",
    "pprint.pprint(test_eval_result)"
   ]
  }
 ],
 "metadata": {
  "kernelspec": {
   "display_name": "Python 3 (ipykernel)",
   "language": "python",
   "name": "python3"
  },
  "language_info": {
   "codemirror_mode": {
    "name": "ipython",
    "version": 3
   },
   "file_extension": ".py",
   "mimetype": "text/x-python",
   "name": "python",
   "nbconvert_exporter": "python",
   "pygments_lexer": "ipython3",
   "version": "3.10.12"
  }
 },
 "nbformat": 4,
 "nbformat_minor": 5
}
