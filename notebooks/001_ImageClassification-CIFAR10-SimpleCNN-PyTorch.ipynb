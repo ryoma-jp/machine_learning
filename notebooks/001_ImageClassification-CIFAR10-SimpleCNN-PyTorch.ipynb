version https://git-lfs.github.com/spec/v1
oid sha256:bbb36acfc6d32bc652200d0553aebfb5c12702327203dfccefe3fbc37d313d9a
size 39840
