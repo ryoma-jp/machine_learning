{
 "cells": [
  {
   "cell_type": "markdown",
   "id": "474b637f",
   "metadata": {},
   "source": [
    "# Image Classification Sample\n",
    "\n",
    "|Item|Description|\n",
    "|---|---|\n",
    "|DeepLearning Framework|PyTorch|\n",
    "|Dataset|CIFAR-10|\n",
    "|Model Architecture|Simple CNN|\n"
   ]
  },
  {
   "cell_type": "code",
   "execution_count": 1,
   "id": "6dc9d0b7",
   "metadata": {},
   "outputs": [],
   "source": [
    "%load_ext autoreload\n",
    "%autoreload 2"
   ]
  },
  {
   "cell_type": "code",
   "execution_count": 2,
   "id": "19c40f93",
   "metadata": {},
   "outputs": [],
   "source": [
    "import random\n",
    "import numpy as np\n",
    "import torch\n",
    "import pprint\n",
    "\n",
    "from data_loader.data_loader import DataLoader\n",
    "from models.pytorch import simple_cnn"
   ]
  },
  {
   "cell_type": "markdown",
   "id": "f080cc78",
   "metadata": {},
   "source": [
    "## Set Random Seed"
   ]
  },
  {
   "cell_type": "code",
   "execution_count": 3,
   "id": "9d245650",
   "metadata": {},
   "outputs": [
    {
     "data": {
      "text/plain": [
       "<torch._C.Generator at 0x7f9c9cd8f6f0>"
      ]
     },
     "execution_count": 3,
     "metadata": {},
     "output_type": "execute_result"
    }
   ],
   "source": [
    "seed=42\n",
    "\n",
    "random.seed(seed)\n",
    "np.random.seed(seed)\n",
    "torch.manual_seed(seed)"
   ]
  },
  {
   "cell_type": "markdown",
   "id": "120b0797",
   "metadata": {},
   "source": [
    "## Device Settings"
   ]
  },
  {
   "cell_type": "code",
   "execution_count": 4,
   "id": "8918ce3b",
   "metadata": {},
   "outputs": [
    {
     "data": {
      "text/plain": [
       "device(type='cuda', index=0)"
      ]
     },
     "execution_count": 4,
     "metadata": {},
     "output_type": "execute_result"
    }
   ],
   "source": [
    "device = torch.device('cuda:0' if torch.cuda.is_available() else 'cpu')\n",
    "device"
   ]
  },
  {
   "cell_type": "markdown",
   "id": "0e2a9692",
   "metadata": {},
   "source": [
    "## Hyperparameters"
   ]
  },
  {
   "cell_type": "code",
   "execution_count": 5,
   "id": "0fa0fb52",
   "metadata": {},
   "outputs": [],
   "source": [
    "epochs = 200\n",
    "batch_size = 512\n",
    "learning_rate = 0.001\n",
    "weight_decay = 0.004"
   ]
  },
  {
   "cell_type": "markdown",
   "id": "60045952",
   "metadata": {},
   "source": [
    "## Load Dataset and Normalize"
   ]
  },
  {
   "cell_type": "code",
   "execution_count": 6,
   "id": "deef041c",
   "metadata": {},
   "outputs": [
    {
     "name": "stdout",
     "output_type": "stream",
     "text": [
      "Files already downloaded and verified\n",
      "Files already downloaded and verified\n"
     ]
    }
   ],
   "source": [
    "dataset_dir = '/tmp/dataset'\n",
    "dataloader = DataLoader('cifar10_pytorch', dataset_dir)"
   ]
  },
  {
   "cell_type": "markdown",
   "id": "ef213c0a",
   "metadata": {},
   "source": [
    "## Training Model"
   ]
  },
  {
   "cell_type": "code",
   "execution_count": 7,
   "id": "b9458841",
   "metadata": {
    "scrolled": true
   },
   "outputs": [
    {
     "name": "stdout",
     "output_type": "stream",
     "text": [
      "==========================================================================================\n",
      "Layer (type:depth-idx)                   Output Shape              Param #\n",
      "==========================================================================================\n",
      "Net                                      [512, 10]                 --\n",
      "├─Conv2d: 1-1                            [512, 64, 32, 32]         1,792\n",
      "├─ReLU: 1-2                              [512, 64, 32, 32]         --\n",
      "├─BatchNorm2d: 1-3                       [512, 64, 32, 32]         128\n",
      "├─Conv2d: 1-4                            [512, 64, 32, 32]         36,928\n",
      "├─ReLU: 1-5                              [512, 64, 32, 32]         --\n",
      "├─BatchNorm2d: 1-6                       [512, 64, 32, 32]         128\n",
      "├─MaxPool2d: 1-7                         [512, 64, 16, 16]         --\n",
      "├─Dropout: 1-8                           [512, 64, 16, 16]         --\n",
      "├─Conv2d: 1-9                            [512, 128, 16, 16]        73,856\n",
      "├─ReLU: 1-10                             [512, 128, 16, 16]        --\n",
      "├─BatchNorm2d: 1-11                      [512, 128, 16, 16]        256\n",
      "├─Conv2d: 1-12                           [512, 128, 16, 16]        147,584\n",
      "├─ReLU: 1-13                             [512, 128, 16, 16]        --\n",
      "├─BatchNorm2d: 1-14                      [512, 128, 16, 16]        256\n",
      "├─MaxPool2d: 1-15                        [512, 128, 8, 8]          --\n",
      "├─Dropout: 1-16                          [512, 128, 8, 8]          --\n",
      "├─Conv2d: 1-17                           [512, 256, 8, 8]          295,168\n",
      "├─ReLU: 1-18                             [512, 256, 8, 8]          --\n",
      "├─BatchNorm2d: 1-19                      [512, 256, 8, 8]          512\n",
      "├─Conv2d: 1-20                           [512, 256, 8, 8]          590,080\n",
      "├─ReLU: 1-21                             [512, 256, 8, 8]          --\n",
      "├─BatchNorm2d: 1-22                      [512, 256, 8, 8]          512\n",
      "├─MaxPool2d: 1-23                        [512, 256, 4, 4]          --\n",
      "├─AdaptiveAvgPool2d: 1-24                [512, 256, 2, 2]          --\n",
      "├─Linear: 1-25                           [512, 512]                524,800\n",
      "├─ReLU: 1-26                             [512, 512]                --\n",
      "├─BatchNorm1d: 1-27                      [512, 512]                1,024\n",
      "├─Dropout: 1-28                          [512, 512]                --\n",
      "├─Linear: 1-29                           [512, 128]                65,664\n",
      "├─ReLU: 1-30                             [512, 128]                --\n",
      "├─BatchNorm1d: 1-31                      [512, 128]                256\n",
      "├─Dropout: 1-32                          [512, 128]                --\n",
      "├─Linear: 1-33                           [512, 10]                 1,290\n",
      "├─Softmax: 1-34                          [512, 10]                 --\n",
      "==========================================================================================\n",
      "Total params: 1,740,234\n",
      "Trainable params: 1,740,234\n",
      "Non-trainable params: 0\n",
      "Total mult-adds (G): 78.64\n",
      "==========================================================================================\n",
      "Input size (MB): 6.29\n",
      "Forward/backward pass size (MB): 1884.33\n",
      "Params size (MB): 6.96\n",
      "Estimated Total Size (MB): 1897.58\n",
      "==========================================================================================\n"
     ]
    }
   ],
   "source": [
    "input_size = (batch_size, 3, 32, 32)\n",
    "num_classes = 10\n",
    "model = simple_cnn.SimpleCNN(device, input_size=input_size, num_classes=num_classes)"
   ]
  },
  {
   "cell_type": "code",
   "execution_count": 8,
   "id": "5c7f9975-c45f-4e79-86c4-6a45c2b3fc0e",
   "metadata": {},
   "outputs": [
    {
     "name": "stdout",
     "output_type": "stream",
     "text": [
      "[EPOCH #0] loss: 2.306330711354984\n",
      "[EPOCH #1] loss: 2.034145789274556\n",
      "[EPOCH #2] loss: 1.90959046318679\n",
      "[EPOCH #3] loss: 1.8554306744156324\n",
      "[EPOCH #4] loss: 1.8251735715628128\n",
      "[EPOCH #5] loss: 1.7918429652315946\n",
      "[EPOCH #6] loss: 1.7702950983572219\n",
      "[EPOCH #7] loss: 1.7556345911263962\n",
      "[EPOCH #8] loss: 1.7474098273446297\n",
      "[EPOCH #9] loss: 1.7343185873117037\n",
      "[EPOCH #10] loss: 1.7346616394612855\n",
      "[EPOCH #11] loss: 1.7199460070482524\n",
      "[EPOCH #12] loss: 1.709724036303378\n",
      "[EPOCH #13] loss: 1.7047728338229373\n",
      "[EPOCH #14] loss: 1.6992923675709173\n",
      "[EPOCH #15] loss: 1.6951553701820545\n",
      "[EPOCH #16] loss: 1.6941723751853996\n",
      "[EPOCH #17] loss: 1.6970388772620348\n",
      "[EPOCH #18] loss: 1.686994088893507\n",
      "[EPOCH #19] loss: 1.6780409048706464\n",
      "[EPOCH #20] loss: 1.6735665315401074\n",
      "[EPOCH #21] loss: 1.6725596011790875\n",
      "[EPOCH #22] loss: 1.667962030119722\n",
      "[EPOCH #23] loss: 1.67372236790294\n",
      "[EPOCH #24] loss: 1.66358117491331\n",
      "[EPOCH #25] loss: 1.6527403128581861\n",
      "[EPOCH #26] loss: 1.6546656942794664\n",
      "[EPOCH #27] loss: 1.6518827151275948\n",
      "[EPOCH #28] loss: 1.6503551364783973\n",
      "[EPOCH #29] loss: 1.6454868022249969\n",
      "[EPOCH #30] loss: 1.644526614337416\n",
      "[EPOCH #31] loss: 1.642700177465428\n",
      "[EPOCH #32] loss: 1.641898353818282\n",
      "[EPOCH #33] loss: 1.6409216059070326\n",
      "[EPOCH #34] loss: 1.6365623667845723\n",
      "[EPOCH #35] loss: 1.635595085448511\n",
      "[EPOCH #36] loss: 1.6317082240805745\n",
      "[EPOCH #37] loss: 1.6289410170880327\n",
      "[EPOCH #38] loss: 1.6280263230652665\n",
      "[EPOCH #39] loss: 1.6275554729133406\n",
      "[EPOCH #40] loss: 1.6241436106839855\n",
      "[EPOCH #41] loss: 1.6249266172629935\n",
      "[EPOCH #42] loss: 1.620220670620753\n",
      "[EPOCH #43] loss: 1.6231195796245348\n",
      "[EPOCH #44] loss: 1.6194712214186187\n",
      "[EPOCH #45] loss: 1.6166719652793382\n",
      "[EPOCH #46] loss: 1.616565561874204\n",
      "[EPOCH #47] loss: 1.6162139344352677\n",
      "[EPOCH #48] loss: 1.6115934288204288\n",
      "[EPOCH #49] loss: 1.6088163476682822\n",
      "[EPOCH #50] loss: 1.6089563573390646\n",
      "[EPOCH #51] loss: 1.610499402688088\n",
      "[EPOCH #52] loss: 1.6065291708581966\n",
      "[EPOCH #53] loss: 1.6035942752927217\n",
      "[EPOCH #54] loss: 1.6042282161084185\n",
      "[EPOCH #55] loss: 1.603522303847266\n",
      "[EPOCH #56] loss: 1.6011611828800965\n",
      "[EPOCH #57] loss: 1.6016578855075214\n",
      "[EPOCH #58] loss: 1.5991673760893097\n",
      "[EPOCH #59] loss: 1.5948180132620013\n",
      "[EPOCH #60] loss: 1.5967354629562973\n",
      "[EPOCH #61] loss: 1.5947831483964194\n",
      "[EPOCH #62] loss: 1.5973117086876683\n",
      "[EPOCH #63] loss: 1.593140199942537\n",
      "[EPOCH #64] loss: 1.5933373662346995\n",
      "[EPOCH #65] loss: 1.5901953368635415\n",
      "[EPOCH #66] loss: 1.58939397914701\n",
      "[EPOCH #67] loss: 1.5894348767805924\n",
      "[EPOCH #68] loss: 1.5887209273879526\n",
      "[EPOCH #69] loss: 1.5872531996578723\n",
      "[EPOCH #70] loss: 1.587138140956637\n",
      "[EPOCH #71] loss: 1.5866233413217927\n",
      "[EPOCH #72] loss: 1.583815313727903\n",
      "[EPOCH #73] loss: 1.584328374722335\n",
      "[EPOCH #74] loss: 1.5844087250630823\n",
      "[EPOCH #75] loss: 1.5830582415378789\n",
      "[EPOCH #76] loss: 1.5796171265081649\n",
      "[EPOCH #77] loss: 1.5822051883277721\n",
      "[EPOCH #78] loss: 1.582950726504213\n",
      "[EPOCH #79] loss: 1.5776517225699935\n",
      "[EPOCH #80] loss: 1.5780517378451346\n",
      "[EPOCH #81] loss: 1.5789979383568693\n",
      "[EPOCH #82] loss: 1.5766205101995536\n",
      "[EPOCH #83] loss: 1.5762715424319833\n",
      "[EPOCH #84] loss: 1.5782218366880412\n",
      "[EPOCH #85] loss: 1.5752700183609702\n",
      "[EPOCH #86] loss: 1.5741778413836038\n",
      "[EPOCH #87] loss: 1.5740781934003532\n",
      "[EPOCH #88] loss: 1.5727111293349751\n",
      "[EPOCH #89] loss: 1.5732153271225424\n",
      "[EPOCH #90] loss: 1.572111067906146\n",
      "[EPOCH #91] loss: 1.5718433307060735\n",
      "[EPOCH #92] loss: 1.5714804516033873\n",
      "[EPOCH #93] loss: 1.570705070224086\n",
      "[EPOCH #94] loss: 1.5686954204958368\n",
      "[EPOCH #95] loss: 1.569040149736313\n",
      "[EPOCH #96] loss: 1.5689239404328115\n",
      "[EPOCH #97] loss: 1.5690519226260926\n",
      "[EPOCH #98] loss: 1.5668956561494316\n",
      "[EPOCH #99] loss: 1.5674709408846104\n",
      "[EPOCH #100] loss: 1.568982485083533\n",
      "[EPOCH #101] loss: 1.5645733746823332\n",
      "[EPOCH #102] loss: 1.5642488984366067\n",
      "[EPOCH #103] loss: 1.5630040093255364\n",
      "[EPOCH #104] loss: 1.5638478602344077\n",
      "[EPOCH #105] loss: 1.5651553814333368\n",
      "[EPOCH #106] loss: 1.5660589371288882\n",
      "[EPOCH #107] loss: 1.5640362854272376\n",
      "[EPOCH #108] loss: 1.5614147039079087\n",
      "[EPOCH #109] loss: 1.5634611099100388\n",
      "[EPOCH #110] loss: 1.564370834514718\n",
      "[EPOCH #111] loss: 1.563075397690366\n",
      "[EPOCH #112] loss: 1.5596867959924943\n",
      "[EPOCH #113] loss: 1.5605189010872722\n",
      "[EPOCH #114] loss: 1.5628096507439153\n",
      "[EPOCH #115] loss: 1.5590256563151257\n",
      "[EPOCH #116] loss: 1.5551082705810753\n",
      "[EPOCH #117] loss: 1.5594695510577485\n",
      "[EPOCH #118] loss: 1.5568796852347337\n",
      "[EPOCH #119] loss: 1.5549650382171893\n",
      "[EPOCH #120] loss: 1.557055802888315\n",
      "[EPOCH #121] loss: 1.5551494798519943\n",
      "[EPOCH #122] loss: 1.5571032011272505\n",
      "[EPOCH #123] loss: 1.5563938972359654\n",
      "[EPOCH #124] loss: 1.5541668780248132\n",
      "[EPOCH #125] loss: 1.5552330500638722\n",
      "[EPOCH #126] loss: 1.5539239743391977\n",
      "[EPOCH #127] loss: 1.5538914210508057\n",
      "[EPOCH #128] loss: 1.5558661368132705\n",
      "[EPOCH #129] loss: 1.5623950108609288\n",
      "[EPOCH #130] loss: 1.5549080354314695\n",
      "[EPOCH #131] loss: 1.554450957727829\n",
      "[EPOCH #132] loss: 1.5537140528055924\n",
      "[EPOCH #133] loss: 1.5512577759784838\n",
      "[EPOCH #134] loss: 1.553041379495988\n",
      "[EPOCH #135] loss: 1.554969055943968\n",
      "[EPOCH #136] loss: 1.5531557596271341\n",
      "[EPOCH #137] loss: 1.5534599215574014\n",
      "[EPOCH #138] loss: 1.554114561925999\n",
      "[EPOCH #139] loss: 1.556037891772948\n",
      "[EPOCH #140] loss: 1.5519721917593547\n",
      "[EPOCH #141] loss: 1.551255138577823\n",
      "[EPOCH #142] loss: 1.549234479799228\n",
      "[EPOCH #143] loss: 1.5537124086631389\n",
      "[EPOCH #144] loss: 1.550879716873169\n",
      "[EPOCH #145] loss: 1.5531266743909526\n",
      "[EPOCH #146] loss: 1.5504287944264086\n",
      "[EPOCH #147] loss: 1.5493724147860086\n",
      "[EPOCH #148] loss: 1.5600100194347721\n",
      "[EPOCH #149] loss: 1.5540466423760755\n",
      "[EPOCH #150] loss: 1.5461375843006606\n",
      "[EPOCH #151] loss: 1.5497754593347024\n",
      "[EPOCH #152] loss: 1.5478870926647712\n",
      "[EPOCH #153] loss: 1.5472836428853998\n",
      "[EPOCH #154] loss: 1.5501632977203155\n",
      "[EPOCH #155] loss: 1.5472271356991447\n",
      "[EPOCH #156] loss: 1.5476335702000408\n",
      "[EPOCH #157] loss: 1.5465162776634622\n",
      "[EPOCH #158] loss: 1.5442540740173594\n",
      "[EPOCH #159] loss: 1.5470299327976034\n",
      "[EPOCH #160] loss: 1.5465916904667898\n",
      "[EPOCH #161] loss: 1.546967431512004\n",
      "[EPOCH #162] loss: 1.5447516114148891\n",
      "[EPOCH #163] loss: 1.5460580633148808\n",
      "[EPOCH #164] loss: 1.5462920792348402\n",
      "[EPOCH #165] loss: 1.5444156355531415\n",
      "[EPOCH #166] loss: 1.5455358099342535\n",
      "[EPOCH #167] loss: 1.544728742146141\n",
      "[EPOCH #168] loss: 1.542442164890902\n",
      "[EPOCH #169] loss: 1.5428023582380397\n",
      "[EPOCH #170] loss: 1.5443399543573058\n",
      "[EPOCH #171] loss: 1.5431868241371745\n",
      "[EPOCH #172] loss: 1.5416988218280647\n",
      "[EPOCH #173] loss: 1.542137349635763\n",
      "[EPOCH #174] loss: 1.5402755034099538\n",
      "[EPOCH #175] loss: 1.5419036014218859\n",
      "[EPOCH #176] loss: 1.542312045167519\n",
      "[EPOCH #177] loss: 1.5398444417799733\n",
      "[EPOCH #178] loss: 1.5411184282540817\n",
      "[EPOCH #179] loss: 1.5404436068129097\n",
      "[EPOCH #180] loss: 1.5414471085530705\n",
      "[EPOCH #181] loss: 1.540822681142059\n",
      "[EPOCH #182] loss: 1.5396214700706174\n",
      "[EPOCH #183] loss: 1.5433015228461853\n",
      "[EPOCH #184] loss: 1.5400040885689772\n",
      "[EPOCH #185] loss: 1.539319495627\n",
      "[EPOCH #186] loss: 1.5417843516332097\n",
      "[EPOCH #187] loss: 1.5385211562774765\n",
      "[EPOCH #188] loss: 1.5369194162555482\n",
      "[EPOCH #189] loss: 1.539331274084456\n",
      "[EPOCH #190] loss: 1.5392300202460603\n",
      "[EPOCH #191] loss: 1.5383334543486855\n",
      "[EPOCH #192] loss: 1.540159827611878\n",
      "[EPOCH #193] loss: 1.5395382718252815\n",
      "[EPOCH #194] loss: 1.5378544068992406\n",
      "[EPOCH #195] loss: 1.539320598637074\n",
      "[EPOCH #196] loss: 1.5382539689045112\n",
      "[EPOCH #197] loss: 1.5383172752150953\n",
      "[EPOCH #198] loss: 1.536143098133768\n",
      "[EPOCH #199] loss: 1.537517951454631\n",
      "[EPOCH #200] loss: 1.5365084109211762\n"
     ]
    }
   ],
   "source": [
    "model.train(dataloader.dataset.trainloader, epochs=epochs, lr=learning_rate, wd=weight_decay)"
   ]
  },
  {
   "cell_type": "markdown",
   "id": "2e916e0b",
   "metadata": {},
   "source": [
    "## Test Model"
   ]
  },
  {
   "cell_type": "code",
   "execution_count": 9,
   "id": "ce133ed3",
   "metadata": {},
   "outputs": [],
   "source": [
    "train_result = model.predict(dataloader.dataset.trainloader)\n",
    "train_predictions, train_labels = train_result"
   ]
  },
  {
   "cell_type": "code",
   "execution_count": 10,
   "id": "1510ab2b",
   "metadata": {},
   "outputs": [
    {
     "name": "stdout",
     "output_type": "stream",
     "text": [
      "{'accuracy': 0.92924,\n",
      " 'classification_report': {'0': {'f1-score': 0.9296950864245483,\n",
      "                                 'precision': 0.9035485088712721,\n",
      "                                 'recall': 0.9574,\n",
      "                                 'support': 5000},\n",
      "                           '1': {'f1-score': 0.9646894068220466,\n",
      "                                 'precision': 0.9649789873924355,\n",
      "                                 'recall': 0.9644,\n",
      "                                 'support': 5000},\n",
      "                           '2': {'f1-score': 0.9082596769277661,\n",
      "                                 'precision': 0.9229816229609746,\n",
      "                                 'recall': 0.894,\n",
      "                                 'support': 5000},\n",
      "                           '3': {'f1-score': 0.8807447329740324,\n",
      "                                 'precision': 0.8634005763688761,\n",
      "                                 'recall': 0.8988,\n",
      "                                 'support': 5000},\n",
      "                           '4': {'f1-score': 0.9144028703229113,\n",
      "                                 'precision': 0.9379600420609885,\n",
      "                                 'recall': 0.892,\n",
      "                                 'support': 5000},\n",
      "                           '5': {'f1-score': 0.8975649023948481,\n",
      "                                 'precision': 0.903199675982179,\n",
      "                                 'recall': 0.892,\n",
      "                                 'support': 5000},\n",
      "                           '6': {'f1-score': 0.9395088840087843,\n",
      "                                 'precision': 0.9378238341968912,\n",
      "                                 'recall': 0.9412,\n",
      "                                 'support': 5000},\n",
      "                           '7': {'f1-score': 0.9423019431988042,\n",
      "                                 'precision': 0.9390268123138034,\n",
      "                                 'recall': 0.9456,\n",
      "                                 'support': 5000},\n",
      "                           '8': {'f1-score': 0.9614494212380473,\n",
      "                                 'precision': 0.9677811550151976,\n",
      "                                 'recall': 0.9552,\n",
      "                                 'support': 5000},\n",
      "                           '9': {'f1-score': 0.9540898155573376,\n",
      "                                 'precision': 0.9563906752411575,\n",
      "                                 'recall': 0.9518,\n",
      "                                 'support': 5000},\n",
      "                           'accuracy': 0.92924,\n",
      "                           'macro avg': {'f1-score': 0.9292706739869125,\n",
      "                                         'precision': 0.9297091890403776,\n",
      "                                         'recall': 0.9292400000000001,\n",
      "                                         'support': 50000},\n",
      "                           'weighted avg': {'f1-score': 0.9292706739869128,\n",
      "                                            'precision': 0.9297091890403777,\n",
      "                                            'recall': 0.92924,\n",
      "                                            'support': 50000}}}\n"
     ]
    }
   ],
   "source": [
    "train_eval_result = model.evaluate(train_labels, train_predictions)\n",
    "pprint.pprint(train_eval_result)"
   ]
  },
  {
   "cell_type": "code",
   "execution_count": 11,
   "id": "5715967f",
   "metadata": {},
   "outputs": [],
   "source": [
    "test_result = model.predict(dataloader.dataset.testloader)\n",
    "test_predictions, test_labels = test_result"
   ]
  },
  {
   "cell_type": "code",
   "execution_count": 12,
   "id": "b5c25f0c",
   "metadata": {},
   "outputs": [
    {
     "name": "stdout",
     "output_type": "stream",
     "text": [
      "{'accuracy': 0.8117,\n",
      " 'classification_report': {'0': {'f1-score': 0.8277511961722489,\n",
      "                                 'precision': 0.7935779816513762,\n",
      "                                 'recall': 0.865,\n",
      "                                 'support': 1000},\n",
      "                           '1': {'f1-score': 0.8970661362506216,\n",
      "                                 'precision': 0.8921859545004945,\n",
      "                                 'recall': 0.902,\n",
      "                                 'support': 1000},\n",
      "                           '2': {'f1-score': 0.7265264238070804,\n",
      "                                 'precision': 0.7460484720758693,\n",
      "                                 'recall': 0.708,\n",
      "                                 'support': 1000},\n",
      "                           '3': {'f1-score': 0.6750250752256771,\n",
      "                                 'precision': 0.6770623742454729,\n",
      "                                 'recall': 0.673,\n",
      "                                 'support': 1000},\n",
      "                           '4': {'f1-score': 0.7886597938144329,\n",
      "                                 'precision': 0.8138297872340425,\n",
      "                                 'recall': 0.765,\n",
      "                                 'support': 1000},\n",
      "                           '5': {'f1-score': 0.7290836653386455,\n",
      "                                 'precision': 0.7261904761904762,\n",
      "                                 'recall': 0.732,\n",
      "                                 'support': 1000},\n",
      "                           '6': {'f1-score': 0.85546875,\n",
      "                                 'precision': 0.8358778625954199,\n",
      "                                 'recall': 0.876,\n",
      "                                 'support': 1000},\n",
      "                           '7': {'f1-score': 0.8551587301587302,\n",
      "                                 'precision': 0.8484251968503937,\n",
      "                                 'recall': 0.862,\n",
      "                                 'support': 1000},\n",
      "                           '8': {'f1-score': 0.8778004073319756,\n",
      "                                 'precision': 0.8941908713692946,\n",
      "                                 'recall': 0.862,\n",
      "                                 'support': 1000},\n",
      "                           '9': {'f1-score': 0.8808080808080808,\n",
      "                                 'precision': 0.889795918367347,\n",
      "                                 'recall': 0.872,\n",
      "                                 'support': 1000},\n",
      "                           'accuracy': 0.8117,\n",
      "                           'macro avg': {'f1-score': 0.8113348258907493,\n",
      "                                         'precision': 0.8117184895080186,\n",
      "                                         'recall': 0.8116999999999999,\n",
      "                                         'support': 10000},\n",
      "                           'weighted avg': {'f1-score': 0.8113348258907493,\n",
      "                                            'precision': 0.8117184895080187,\n",
      "                                            'recall': 0.8117,\n",
      "                                            'support': 10000}}}\n"
     ]
    }
   ],
   "source": [
    "test_eval_result = model.evaluate(test_labels, test_predictions)\n",
    "pprint.pprint(test_eval_result)"
   ]
  }
 ],
 "metadata": {
  "kernelspec": {
   "display_name": "Python 3 (ipykernel)",
   "language": "python",
   "name": "python3"
  },
  "language_info": {
   "codemirror_mode": {
    "name": "ipython",
    "version": 3
   },
   "file_extension": ".py",
   "mimetype": "text/x-python",
   "name": "python",
   "nbconvert_exporter": "python",
   "pygments_lexer": "ipython3",
   "version": "3.10.12"
  }
 },
 "nbformat": 4,
 "nbformat_minor": 5
}
