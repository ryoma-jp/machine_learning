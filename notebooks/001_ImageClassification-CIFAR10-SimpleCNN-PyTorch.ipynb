version https://git-lfs.github.com/spec/v1
oid sha256:8900fc87c1c94468fb6f3e9208e1fc1b9b29f8f2aecf90cb4704bf80994430a8
size 31968
