version https://git-lfs.github.com/spec/v1
oid sha256:a3ea5a68ab122faca684de4abfc3ffa793db5fc1e454511032b036b10d134d98
size 313158
