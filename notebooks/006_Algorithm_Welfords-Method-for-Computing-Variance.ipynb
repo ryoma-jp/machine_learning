{
 "cells": [
  {
   "cell_type": "markdown",
   "id": "2ca16608-8b82-43e6-ab14-f0aefdd6e5ef",
   "metadata": {},
   "source": [
    "# Welford's Method for Computing Variance\n",
    "\n",
    "[Welford’s method for computing variance](https://jonisalonen.com/2013/deriving-welfords-method-for-computing-variance/ shows single-pass method for computing the variance. This notebook shows computing method variance using batch-separated datasets."
   ]
  },
  {
   "cell_type": "code",
   "execution_count": 1,
   "id": "39c176e2-9d61-4c16-8eda-350e4d568dd8",
   "metadata": {},
   "outputs": [],
   "source": [
    "import numpy as np"
   ]
  },
  {
   "cell_type": "code",
   "execution_count": 2,
   "id": "f4f53ef3-f018-43f6-8bbd-ee58d79c075e",
   "metadata": {},
   "outputs": [
    {
     "name": "stdout",
     "output_type": "stream",
     "text": [
      "len(samples) =10000\n",
      "samples.mean() =4.969250373757966\n",
      "samples.std() =3.018857305611123\n"
     ]
    }
   ],
   "source": [
    "seed = 42\n",
    "\n",
    "generator = np.random.default_rng(seed=seed)\n",
    "samples = generator.normal(loc=5, scale=3, size=10000)\n",
    "\n",
    "print(f'{len(samples) =}')\n",
    "print(f'{samples.mean() =}')\n",
    "print(f'{samples.std() =}')"
   ]
  },
  {
   "cell_type": "markdown",
   "id": "6ae2f78a-038c-42cc-a934-d0a169e75a05",
   "metadata": {},
   "source": [
    "## One-pass Variance Computation\n",
    "\n",
    "Given a sample $x_1, ..., x_N$, the variance of the sample is defined as:\n",
    "$$\n",
    "s^2 = \\frac{\\sum_{i=1}^{N}(x_i-\\bar{x})^2}{N-1}\n",
    "$$\n",
    "Here $\\bar{x}$ is the mean of the sample: $\\bar{x} = \\frac{1}{N}\\sum_{i=1}^{N}x_i $.\n",
    "\n",
    "$$\n",
    "\\begin{eqnarray}\n",
    "s^2 &=& \\frac{\\sum_{i=1}^{N}(x_i-\\bar{x})^2}{N-1} \\\\\n",
    "&=& \\frac{\\sum_{i=1}^{N}(x_i^2-2\\bar{x}x_i+N\\bar{x}^2)}{N-1} \\\\\n",
    "&=& \\frac{\\sum_{i=1}^{N}x_i^2-2N\\bar{x}^2+N\\bar{x}^2}{N-1} \\\\\n",
    "&=& \\frac{\\sum_{i=1}^{N}x_i^2-N\\bar{x}^2}{N-1}\n",
    "\\end{eqnarray}\n",
    "$$\n",
    "\n",
    "$$\n",
    "\\begin{eqnarray}\n",
    "\\because \\bar{x} &=& \\frac{1}{N}\\sum_{i=1}^{N}x_i \\\\\n",
    "\\sum_{i=1}^{N}x_i &=& N\\bar{x}\n",
    "\\end{eqnarray}\n",
    "$$\n",
    "\n",
    "\n",
    "```\n",
    "variance(samples):\n",
    "  sum := 0\n",
    "  sumsq := 0\n",
    "  for x in samples:\n",
    "    sum := sum + x\n",
    "    sumsq := sumsq + x**2\n",
    "  mean := sum/N \n",
    "  return (sumsq - N*mean**2)/(N-1)\n",
    "```"
   ]
  },
  {
   "cell_type": "code",
   "execution_count": 3,
   "id": "3c0d5e18-2304-4184-9631-92718a673e8f",
   "metadata": {},
   "outputs": [],
   "source": [
    "def onepass_variance(samples):\n",
    "    sum = 0\n",
    "    sumsq = 0\n",
    "    N = len(samples)\n",
    "    \n",
    "    for x in samples:\n",
    "        sum = sum + x\n",
    "        sumsq = sumsq + x**2\n",
    "    mean = sum / N\n",
    "    var = (sumsq - N*mean**2) / (N-1)\n",
    "\n",
    "    return var"
   ]
  },
  {
   "cell_type": "code",
   "execution_count": 4,
   "id": "f8b48e62-3851-4079-ab95-29a9ef4824c6",
   "metadata": {},
   "outputs": [
    {
     "name": "stdout",
     "output_type": "stream",
     "text": [
      "std =3.0190082597980794\n"
     ]
    }
   ],
   "source": [
    "var = onepass_variance(samples)\n",
    "std = np.sqrt(var)\n",
    "\n",
    "print(f'{std =}')"
   ]
  },
  {
   "cell_type": "markdown",
   "id": "b219d142-e953-4a6d-b810-bab107dd4734",
   "metadata": {},
   "source": [
    "## Single-pass Variance Computation\n",
    "\n",
    "The sum of squared differences for $N$ and $N-1$ samples is:\n",
    "\n",
    "$$\n",
    "\\begin{eqnarray}\n",
    "\\sum_{i=1}^N(x_i-\\bar{x}_N)^2 - \\sum_{i=1}^{N-1}(x_i-\\bar{x}_{N-1})^2 &=& (x_N-\\bar{x}_N)^2 + \\sum_{i=1}^{N-1}((x_i-\\bar{x}_N)^2-(x_i-\\bar{x}_{N-1})^2) \\\\\n",
    "&=& (x_N-\\bar{x}_N)^2 + \\sum_{i=1}^{N-1}(x_i^2-2x_i\\bar{x}_N+\\bar{x}_N^2-x_i^2+2x_i\\bar{x}_{N-1}-\\bar{x}_{N-1}^2) \\\\\n",
    "&=& (x_N-\\bar{x}_N)^2 + \\sum_{i=1}^{N-1}(-2x_i\\bar{x}_N+\\bar{x}_N^2+2x_i\\bar{x}_{N-1}-\\bar{x}_{N-1}^2) \\\\\n",
    "&=& (x_N-\\bar{x}_N)^2 + \\sum_{i=1}^{N-1}(\\bar{x}_N^2-\\bar{x}_{N-1}^2+2x_i\\bar{x}_{N-1}-2x_i\\bar{x}_N) \\\\\n",
    "&=& (x_N-\\bar{x}_N)^2 + \\sum_{i=1}^{N-1}((\\bar{x}_N+\\bar{x}_{N-1})(\\bar{x}_N-\\bar{x}_{N-1})-2x_i(\\bar{x}_N-\\bar{x}_{N-1})) \\\\\n",
    "&=& (x_N-\\bar{x}_N)^2 + \\sum_{i=1}^{N-1}((\\bar{x}_N+\\bar{x}_{N-1}-2x_i)(\\bar{x}_N-\\bar{x}_{N-1})) \\\\\n",
    "&=& (x_N-\\bar{x}_N)^2 + (\\bar{x}_N-\\bar{x}_{N-1})\\sum_{i=1}^{N-1}(\\bar{x}_N+\\bar{x}_{N-1}-2x_i) \\\\\n",
    "&=& (x_N-\\bar{x}_N)^2 + (\\bar{x}_N-\\bar{x}_{N-1})((N-1)\\bar{x}_N+(N-1)\\bar{x}_{N-1}-2\\sum_{i=1}^{N-1}x_i) \\\\\n",
    "&=& (x_N-\\bar{x}_N)^2 + (\\bar{x}_N-\\bar{x}_{N-1})((N-1)\\frac{1}{N}\\sum_{i=1}^{N}x_i+(N-1)\\frac{1}{N-1}\\sum_{i=1}^{N-1}x_i-2\\sum_{i=1}^{N-1}x_i) \\\\\n",
    "&=& (x_N-\\bar{x}_N)^2 + (\\bar{x}_N-\\bar{x}_{N-1})(\\sum_{i=1}^{N}x_i-\\frac{1}{N}\\sum_{i=1}^{N}x_i-\\sum_{i=1}^{N-1}x_i) \\\\\n",
    "&=& (x_N-\\bar{x}_N)^2 + (\\bar{x}_N-\\bar{x}_{N-1})(x_N-\\bar{x}_N) \\qquad \\because \\sum_{i=1}^{N}x_i-\\sum_{i=1}^{N-1}x_i=x_N \\\\\n",
    "&=& (x_N-\\bar{x}_N)(x_N-\\bar{x}_N+\\bar{x}_N-\\bar{x}_{N-1}) \\\\\n",
    "&=& (x_N-\\bar{x}_N)(x_N-\\bar{x}_{N-1})\n",
    "\\end{eqnarray}\n",
    "$$\n",
    "\n",
    "\n",
    "```\n",
    "variance(samples):\n",
    "  M := 0\n",
    "  S := 0\n",
    "  for k from 1 to N:\n",
    "    x := samples[k]\n",
    "    oldM := M\n",
    "    M := M + (x-M)/k\n",
    "    S := S + (x-M)*(x-oldM)\n",
    "  return S/(N-1)\n",
    "```"
   ]
  },
  {
   "cell_type": "code",
   "execution_count": 5,
   "id": "9db197c9-8b00-4707-be09-09be06c0b4b4",
   "metadata": {},
   "outputs": [],
   "source": [
    "def singlepass_variance(samples):\n",
    "    M = 0\n",
    "    S = 0\n",
    "    \n",
    "    for k in range(len(samples)):\n",
    "        x = samples[k]\n",
    "        oldM = M\n",
    "        M = M + (x-M) / (k+1)\n",
    "        S = S + (x-M) * (x-oldM)\n",
    "    \n",
    "    var = S / (len(samples)-1)\n",
    "    return var"
   ]
  },
  {
   "cell_type": "code",
   "execution_count": 6,
   "id": "ee1b1e6c-74f0-4fda-b8bc-235766b20207",
   "metadata": {},
   "outputs": [
    {
     "name": "stdout",
     "output_type": "stream",
     "text": [
      "std =3.019008259798068\n"
     ]
    }
   ],
   "source": [
    "var = singlepass_variance(samples)\n",
    "std = np.sqrt(var)\n",
    "\n",
    "print(f'{std =}')"
   ]
  },
  {
   "cell_type": "markdown",
   "id": "a59fa924-ecd4-416e-b685-eece233206e6",
   "metadata": {},
   "source": [
    "## Single-pass Variance Computation for Batched-separated Dataset"
   ]
  },
  {
   "cell_type": "code",
   "execution_count": 7,
   "id": "75ffea85-9f7f-4653-807b-ab8abcb5eb85",
   "metadata": {},
   "outputs": [],
   "source": [
    "class SinglePassVarianceComputation():\n",
    "    def __init__(self):\n",
    "        self.M = 0\n",
    "        self.S = 0\n",
    "        self.N = 0\n",
    "\n",
    "    def __call__(self, batch):\n",
    "        for k in range(len(batch)):\n",
    "            x = batch[k]\n",
    "            oldM = self.M\n",
    "            self.N = self.N + 1\n",
    "            self.M = self.M + (x-self.M) / self.N\n",
    "            self.S = self.S + (x-self.M) * (x-oldM)\n",
    "\n",
    "        var = self.S / (self.N-1)\n",
    "        return var"
   ]
  },
  {
   "cell_type": "code",
   "execution_count": 8,
   "id": "d5fc40bc-0773-48b0-91d4-d5684dc7233c",
   "metadata": {},
   "outputs": [
    {
     "name": "stdout",
     "output_type": "stream",
     "text": [
      "std =3.019008259798068\n"
     ]
    }
   ],
   "source": [
    "batch_size = 100\n",
    "\n",
    "spvc = SinglePassVarianceComputation()\n",
    "for i in range(0, len(samples), batch_size):\n",
    "    var = spvc(samples[i:i+batch_size])\n",
    "std = np.sqrt(var)\n",
    "\n",
    "print(f'{std =}')"
   ]
  }
 ],
 "metadata": {
  "kernelspec": {
   "display_name": "Python 3 (ipykernel)",
   "language": "python",
   "name": "python3"
  },
  "language_info": {
   "codemirror_mode": {
    "name": "ipython",
    "version": 3
   },
   "file_extension": ".py",
   "mimetype": "text/x-python",
   "name": "python",
   "nbconvert_exporter": "python",
   "pygments_lexer": "ipython3",
   "version": "3.10.12"
  }
 },
 "nbformat": 4,
 "nbformat_minor": 5
}
