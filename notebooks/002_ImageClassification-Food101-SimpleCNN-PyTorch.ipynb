{
 "cells": [
  {
   "cell_type": "markdown",
   "id": "474b637f",
   "metadata": {},
   "source": [
    "# Image Classification Sample\n",
    "\n",
    "|Item|Description|\n",
    "|---|---|\n",
    "|DeepLearning Framework|PyTorch|\n",
    "|Dataset|Food-101|\n",
    "|Model Architecture|Simple CNN|\n"
   ]
  },
  {
   "cell_type": "code",
   "execution_count": 1,
   "id": "6dc9d0b7",
   "metadata": {},
   "outputs": [],
   "source": [
    "%load_ext autoreload\n",
    "%autoreload 2"
   ]
  },
  {
   "cell_type": "code",
   "execution_count": 2,
   "id": "19c40f93",
   "metadata": {},
   "outputs": [],
   "source": [
    "import random\n",
    "import numpy as np\n",
    "import torch\n",
    "import pprint\n",
    "\n",
    "from data_loader.data_loader import DataLoader\n",
    "from models.pytorch import simple_cnn"
   ]
  },
  {
   "cell_type": "markdown",
   "id": "f080cc78",
   "metadata": {},
   "source": [
    "## Set Random Seed"
   ]
  },
  {
   "cell_type": "code",
   "execution_count": 3,
   "id": "9d245650",
   "metadata": {},
   "outputs": [
    {
     "data": {
      "text/plain": [
       "<torch._C.Generator at 0x7f79a44376d0>"
      ]
     },
     "execution_count": 3,
     "metadata": {},
     "output_type": "execute_result"
    }
   ],
   "source": [
    "seed=42\n",
    "\n",
    "random.seed(seed)\n",
    "np.random.seed(seed)\n",
    "torch.manual_seed(seed)"
   ]
  },
  {
   "cell_type": "markdown",
   "id": "120b0797",
   "metadata": {},
   "source": [
    "## Device Settings"
   ]
  },
  {
   "cell_type": "code",
   "execution_count": 4,
   "id": "8918ce3b",
   "metadata": {},
   "outputs": [
    {
     "data": {
      "text/plain": [
       "device(type='cuda', index=0)"
      ]
     },
     "execution_count": 4,
     "metadata": {},
     "output_type": "execute_result"
    }
   ],
   "source": [
    "device = torch.device('cuda:0' if torch.cuda.is_available() else 'cpu')\n",
    "device"
   ]
  },
  {
   "cell_type": "markdown",
   "id": "0e2a9692",
   "metadata": {},
   "source": [
    "## Hyperparameters"
   ]
  },
  {
   "cell_type": "code",
   "execution_count": 5,
   "id": "0fa0fb52",
   "metadata": {},
   "outputs": [],
   "source": [
    "epochs = 50\n",
    "batch_size = 32\n",
    "learning_rate = 0.001\n",
    "weight_decay = 0.004"
   ]
  },
  {
   "cell_type": "markdown",
   "id": "60045952",
   "metadata": {},
   "source": [
    "## Load Dataset and Normalize"
   ]
  },
  {
   "cell_type": "code",
   "execution_count": 6,
   "id": "deef041c",
   "metadata": {
    "scrolled": true
   },
   "outputs": [],
   "source": [
    "dataset_dir = '/tmp/dataset'\n",
    "dataloader = DataLoader('food101_pytorch', dataset_dir, batch_size=batch_size)"
   ]
  },
  {
   "cell_type": "code",
   "execution_count": 7,
   "id": "6d4b5bda",
   "metadata": {
    "scrolled": true
   },
   "outputs": [
    {
     "data": {
      "text/plain": [
       "['apple_pie',\n",
       " 'baby_back_ribs',\n",
       " 'baklava',\n",
       " 'beef_carpaccio',\n",
       " 'beef_tartare',\n",
       " 'beet_salad',\n",
       " 'beignets',\n",
       " 'bibimbap',\n",
       " 'bread_pudding',\n",
       " 'breakfast_burrito',\n",
       " 'bruschetta',\n",
       " 'caesar_salad',\n",
       " 'cannoli',\n",
       " 'caprese_salad',\n",
       " 'carrot_cake',\n",
       " 'ceviche',\n",
       " 'cheese_plate',\n",
       " 'cheesecake',\n",
       " 'chicken_curry',\n",
       " 'chicken_quesadilla',\n",
       " 'chicken_wings',\n",
       " 'chocolate_cake',\n",
       " 'chocolate_mousse',\n",
       " 'churros',\n",
       " 'clam_chowder',\n",
       " 'club_sandwich',\n",
       " 'crab_cakes',\n",
       " 'creme_brulee',\n",
       " 'croque_madame',\n",
       " 'cup_cakes',\n",
       " 'deviled_eggs',\n",
       " 'donuts',\n",
       " 'dumplings',\n",
       " 'edamame',\n",
       " 'eggs_benedict',\n",
       " 'escargots',\n",
       " 'falafel',\n",
       " 'filet_mignon',\n",
       " 'fish_and_chips',\n",
       " 'foie_gras',\n",
       " 'french_fries',\n",
       " 'french_onion_soup',\n",
       " 'french_toast',\n",
       " 'fried_calamari',\n",
       " 'fried_rice',\n",
       " 'frozen_yogurt',\n",
       " 'garlic_bread',\n",
       " 'gnocchi',\n",
       " 'greek_salad',\n",
       " 'grilled_cheese_sandwich',\n",
       " 'grilled_salmon',\n",
       " 'guacamole',\n",
       " 'gyoza',\n",
       " 'hamburger',\n",
       " 'hot_and_sour_soup',\n",
       " 'hot_dog',\n",
       " 'huevos_rancheros',\n",
       " 'hummus',\n",
       " 'ice_cream',\n",
       " 'lasagna',\n",
       " 'lobster_bisque',\n",
       " 'lobster_roll_sandwich',\n",
       " 'macaroni_and_cheese',\n",
       " 'macarons',\n",
       " 'miso_soup',\n",
       " 'mussels',\n",
       " 'nachos',\n",
       " 'omelette',\n",
       " 'onion_rings',\n",
       " 'oysters',\n",
       " 'pad_thai',\n",
       " 'paella',\n",
       " 'pancakes',\n",
       " 'panna_cotta',\n",
       " 'peking_duck',\n",
       " 'pho',\n",
       " 'pizza',\n",
       " 'pork_chop',\n",
       " 'poutine',\n",
       " 'prime_rib',\n",
       " 'pulled_pork_sandwich',\n",
       " 'ramen',\n",
       " 'ravioli',\n",
       " 'red_velvet_cake',\n",
       " 'risotto',\n",
       " 'samosa',\n",
       " 'sashimi',\n",
       " 'scallops',\n",
       " 'seaweed_salad',\n",
       " 'shrimp_and_grits',\n",
       " 'spaghetti_bolognese',\n",
       " 'spaghetti_carbonara',\n",
       " 'spring_rolls',\n",
       " 'steak',\n",
       " 'strawberry_shortcake',\n",
       " 'sushi',\n",
       " 'tacos',\n",
       " 'takoyaki',\n",
       " 'tiramisu',\n",
       " 'tuna_tartare',\n",
       " 'waffles']"
      ]
     },
     "execution_count": 7,
     "metadata": {},
     "output_type": "execute_result"
    }
   ],
   "source": [
    "dataloader.dataset.class_name"
   ]
  },
  {
   "cell_type": "markdown",
   "id": "ef213c0a",
   "metadata": {},
   "source": [
    "## Training Model"
   ]
  },
  {
   "cell_type": "code",
   "execution_count": 8,
   "id": "b9458841",
   "metadata": {
    "scrolled": true
   },
   "outputs": [
    {
     "name": "stdout",
     "output_type": "stream",
     "text": [
      "==========================================================================================\n",
      "Layer (type:depth-idx)                   Output Shape              Param #\n",
      "==========================================================================================\n",
      "Net                                      [32, 101]                 --\n",
      "├─Conv2d: 1-1                            [32, 64, 128, 128]        1,792\n",
      "├─ReLU: 1-2                              [32, 64, 128, 128]        --\n",
      "├─BatchNorm2d: 1-3                       [32, 64, 128, 128]        128\n",
      "├─Conv2d: 1-4                            [32, 64, 128, 128]        36,928\n",
      "├─ReLU: 1-5                              [32, 64, 128, 128]        --\n",
      "├─BatchNorm2d: 1-6                       [32, 64, 128, 128]        128\n",
      "├─MaxPool2d: 1-7                         [32, 64, 64, 64]          --\n",
      "├─Dropout: 1-8                           [32, 64, 64, 64]          --\n",
      "├─Conv2d: 1-9                            [32, 128, 64, 64]         73,856\n",
      "├─ReLU: 1-10                             [32, 128, 64, 64]         --\n",
      "├─BatchNorm2d: 1-11                      [32, 128, 64, 64]         256\n",
      "├─Conv2d: 1-12                           [32, 128, 64, 64]         147,584\n",
      "├─ReLU: 1-13                             [32, 128, 64, 64]         --\n",
      "├─BatchNorm2d: 1-14                      [32, 128, 64, 64]         256\n",
      "├─MaxPool2d: 1-15                        [32, 128, 32, 32]         --\n",
      "├─Dropout: 1-16                          [32, 128, 32, 32]         --\n",
      "├─Conv2d: 1-17                           [32, 256, 32, 32]         295,168\n",
      "├─ReLU: 1-18                             [32, 256, 32, 32]         --\n",
      "├─BatchNorm2d: 1-19                      [32, 256, 32, 32]         512\n",
      "├─Conv2d: 1-20                           [32, 256, 32, 32]         590,080\n",
      "├─ReLU: 1-21                             [32, 256, 32, 32]         --\n",
      "├─BatchNorm2d: 1-22                      [32, 256, 32, 32]         512\n",
      "├─MaxPool2d: 1-23                        [32, 256, 16, 16]         --\n",
      "├─AdaptiveAvgPool2d: 1-24                [32, 256, 8, 8]           --\n",
      "├─Linear: 1-25                           [32, 512]                 8,389,120\n",
      "├─ReLU: 1-26                             [32, 512]                 --\n",
      "├─BatchNorm1d: 1-27                      [32, 512]                 1,024\n",
      "├─Dropout: 1-28                          [32, 512]                 --\n",
      "├─Linear: 1-29                           [32, 128]                 65,664\n",
      "├─ReLU: 1-30                             [32, 128]                 --\n",
      "├─BatchNorm1d: 1-31                      [32, 128]                 256\n",
      "├─Dropout: 1-32                          [32, 128]                 --\n",
      "├─Linear: 1-33                           [32, 101]                 13,029\n",
      "├─Softmax: 1-34                          [32, 101]                 --\n",
      "==========================================================================================\n",
      "Total params: 9,616,293\n",
      "Trainable params: 9,616,293\n",
      "Non-trainable params: 0\n",
      "Total mult-adds (G): 78.60\n",
      "==========================================================================================\n",
      "Input size (MB): 6.29\n",
      "Forward/backward pass size (MB): 1879.40\n",
      "Params size (MB): 38.47\n",
      "Estimated Total Size (MB): 1924.16\n",
      "==========================================================================================\n"
     ]
    }
   ],
   "source": [
    "input_size = (batch_size, 3, 128, 128)\n",
    "num_classes = len(dataloader.dataset.class_name)\n",
    "model = simple_cnn.SimpleCNN(device, input_size=input_size, num_classes=num_classes)"
   ]
  },
  {
   "cell_type": "code",
   "execution_count": 9,
   "id": "f21dcead",
   "metadata": {
    "scrolled": true
   },
   "outputs": [
    {
     "name": "stdout",
     "output_type": "stream",
     "text": [
      "[EPOCH #0] loss: 4.615136883928687\n",
      "[EPOCH #1] loss: 4.593236638354017\n",
      "[EPOCH #2] loss: 4.574860666913627\n",
      "[EPOCH #3] loss: 4.564651367669623\n",
      "[EPOCH #4] loss: 4.554867765591573\n",
      "[EPOCH #5] loss: 4.544608266889048\n",
      "[EPOCH #6] loss: 4.536829454067353\n",
      "[EPOCH #7] loss: 4.52692948031131\n",
      "[EPOCH #8] loss: 4.520595714718925\n",
      "[EPOCH #9] loss: 4.515508080797555\n",
      "[EPOCH #10] loss: 4.509352262918052\n",
      "[EPOCH #11] loss: 4.507618751260046\n",
      "[EPOCH #12] loss: 4.500210835732045\n",
      "[EPOCH #13] loss: 4.49466412121033\n",
      "[EPOCH #14] loss: 4.489608199603202\n",
      "[EPOCH #15] loss: 4.485253643982011\n",
      "[EPOCH #16] loss: 4.478828829377748\n",
      "[EPOCH #17] loss: 4.478018446213315\n",
      "[EPOCH #18] loss: 4.470944027754186\n",
      "[EPOCH #19] loss: 4.472034318106515\n",
      "[EPOCH #20] loss: 4.462085097357938\n",
      "[EPOCH #21] loss: 4.458305983140116\n",
      "[EPOCH #22] loss: 4.455344742372287\n",
      "[EPOCH #23] loss: 4.447868882004959\n",
      "[EPOCH #24] loss: 4.443697175686594\n",
      "[EPOCH #25] loss: 4.4377810445283465\n",
      "[EPOCH #26] loss: 4.431922535900832\n",
      "[EPOCH #27] loss: 4.43029951014623\n",
      "[EPOCH #28] loss: 4.450354891635966\n",
      "[EPOCH #29] loss: 4.426561640605619\n",
      "[EPOCH #30] loss: 4.41695912049698\n",
      "[EPOCH #31] loss: 4.414521620022106\n",
      "[EPOCH #32] loss: 4.412277433590531\n",
      "[EPOCH #33] loss: 4.405274342236958\n",
      "[EPOCH #34] loss: 4.402177201066547\n",
      "[EPOCH #35] loss: 4.396446252344981\n",
      "[EPOCH #36] loss: 4.3982188867019785\n",
      "[EPOCH #37] loss: 4.38861707361733\n",
      "[EPOCH #38] loss: 4.389088072881013\n",
      "[EPOCH #39] loss: 4.381122248815441\n",
      "[EPOCH #40] loss: 4.381498648692129\n",
      "[EPOCH #41] loss: 4.375701443319046\n",
      "[EPOCH #42] loss: 4.370852400012737\n",
      "[EPOCH #43] loss: 4.366886930674135\n",
      "[EPOCH #44] loss: 4.373714247042898\n",
      "[EPOCH #45] loss: 4.3595192412012995\n",
      "[EPOCH #46] loss: 4.35837736951425\n",
      "[EPOCH #47] loss: 4.353116882198552\n",
      "[EPOCH #48] loss: 4.349685722564948\n",
      "[EPOCH #49] loss: 4.348609158235296\n",
      "[EPOCH #50] loss: 4.354101966142579\n"
     ]
    }
   ],
   "source": [
    "model.train(dataloader.dataset.trainloader, epochs=epochs, lr=learning_rate, wd=weight_decay)"
   ]
  },
  {
   "cell_type": "markdown",
   "id": "2e916e0b",
   "metadata": {},
   "source": [
    "## Test Model"
   ]
  },
  {
   "cell_type": "code",
   "execution_count": null,
   "id": "ce133ed3",
   "metadata": {},
   "outputs": [],
   "source": [
    "train_result = model.predict(dataloader.dataset.trainloader)\n",
    "train_predictions, train_labels = train_result"
   ]
  },
  {
   "cell_type": "code",
   "execution_count": null,
   "id": "1510ab2b",
   "metadata": {},
   "outputs": [],
   "source": [
    "train_eval_result = model.evaluate(train_labels, train_predictions)\n",
    "pprint.pprint(train_eval_result)"
   ]
  },
  {
   "cell_type": "code",
   "execution_count": null,
   "id": "5715967f",
   "metadata": {},
   "outputs": [],
   "source": [
    "test_result = model.predict(dataloader.dataset.testloader)\n",
    "test_predictions, test_labels = test_result"
   ]
  },
  {
   "cell_type": "code",
   "execution_count": null,
   "id": "b5c25f0c",
   "metadata": {},
   "outputs": [],
   "source": [
    "test_eval_result = model.evaluate(test_labels, test_predictions)\n",
    "pprint.pprint(test_eval_result)"
   ]
  }
 ],
 "metadata": {
  "kernelspec": {
   "display_name": "Python 3 (ipykernel)",
   "language": "python",
   "name": "python3"
  },
  "language_info": {
   "codemirror_mode": {
    "name": "ipython",
    "version": 3
   },
   "file_extension": ".py",
   "mimetype": "text/x-python",
   "name": "python",
   "nbconvert_exporter": "python",
   "pygments_lexer": "ipython3",
   "version": "3.10.12"
  }
 },
 "nbformat": 4,
 "nbformat_minor": 5
}
