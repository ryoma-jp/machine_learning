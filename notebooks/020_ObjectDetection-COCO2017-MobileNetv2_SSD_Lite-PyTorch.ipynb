version https://git-lfs.github.com/spec/v1
oid sha256:7b1553e4f608e9c4586babf256f5b486493e6459fac245326e78400536a5178f
size 14692
