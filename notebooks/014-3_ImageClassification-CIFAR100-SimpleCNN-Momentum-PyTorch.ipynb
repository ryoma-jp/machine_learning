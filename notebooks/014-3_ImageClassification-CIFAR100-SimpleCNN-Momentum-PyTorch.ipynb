{
 "cells": [
  {
   "cell_type": "markdown",
   "id": "474b637f",
   "metadata": {},
   "source": [
    "# Training Image Classification Model with SGD\n",
    "\n",
    "|Item|Description|\n",
    "|---|---|\n",
    "|DeepLearning Framework|PyTorch|\n",
    "|Dataset|CIFAR-100|\n",
    "|Model Architecture|Simple CNN|\n",
    "|Optimizer|SGD|\n"
   ]
  },
  {
   "cell_type": "code",
   "execution_count": 1,
   "id": "6dc9d0b7",
   "metadata": {},
   "outputs": [],
   "source": [
    "%load_ext autoreload\n",
    "%autoreload 2"
   ]
  },
  {
   "cell_type": "code",
   "execution_count": 2,
   "id": "19c40f93",
   "metadata": {},
   "outputs": [
    {
     "name": "stderr",
     "output_type": "stream",
     "text": [
      "/usr/local/lib/python3.10/dist-packages/tqdm/auto.py:21: TqdmWarning: IProgress not found. Please update jupyter and ipywidgets. See https://ipywidgets.readthedocs.io/en/stable/user_install.html\n",
      "  from .autonotebook import tqdm as notebook_tqdm\n"
     ]
    }
   ],
   "source": [
    "import pickle\n",
    "import random\n",
    "import numpy as np\n",
    "import torch\n",
    "import pprint\n",
    "import matplotlib.pyplot as plt\n",
    "import optuna\n",
    "import pandas as pd\n",
    "from pathlib import Path\n",
    "\n",
    "from data_loader.data_loader import DataLoader\n",
    "from models.pytorch import simple_cnn"
   ]
  },
  {
   "cell_type": "markdown",
   "id": "f080cc78",
   "metadata": {},
   "source": [
    "## Set Random Seed"
   ]
  },
  {
   "cell_type": "code",
   "execution_count": 3,
   "id": "9d245650",
   "metadata": {},
   "outputs": [
    {
     "data": {
      "text/plain": [
       "<torch._C.Generator at 0x7f93cc11ba30>"
      ]
     },
     "execution_count": 3,
     "metadata": {},
     "output_type": "execute_result"
    }
   ],
   "source": [
    "seed=42\n",
    "\n",
    "random.seed(seed)\n",
    "np.random.seed(seed)\n",
    "torch.manual_seed(seed)"
   ]
  },
  {
   "cell_type": "markdown",
   "id": "120b0797",
   "metadata": {},
   "source": [
    "## Device Settings"
   ]
  },
  {
   "cell_type": "code",
   "execution_count": 4,
   "id": "8918ce3b",
   "metadata": {},
   "outputs": [
    {
     "data": {
      "text/plain": [
       "device(type='cuda', index=0)"
      ]
     },
     "execution_count": 4,
     "metadata": {},
     "output_type": "execute_result"
    }
   ],
   "source": [
    "device = torch.device('cuda:0' if torch.cuda.is_available() else 'cpu')\n",
    "device"
   ]
  },
  {
   "cell_type": "markdown",
   "id": "0e2a9692",
   "metadata": {},
   "source": [
    "## Hyperparameters"
   ]
  },
  {
   "cell_type": "code",
   "execution_count": 5,
   "id": "0fa0fb52",
   "metadata": {},
   "outputs": [],
   "source": [
    "#epochs = 200\n",
    "epochs = 3\n",
    "batch_size = 128\n",
    "n_trials = 20"
   ]
  },
  {
   "cell_type": "markdown",
   "id": "bb795be9-94f6-47ea-834c-049db0d6a1e7",
   "metadata": {},
   "source": [
    "## Other parameters"
   ]
  },
  {
   "cell_type": "code",
   "execution_count": 6,
   "id": "f1a1a56f-8c3e-4a6a-9eaf-05f759a442e3",
   "metadata": {},
   "outputs": [],
   "source": [
    "input_size = (batch_size, 3, 32, 32)\n",
    "num_classes = 100\n",
    "\n",
    "dataset_dir = '/tmp/dataset'\n",
    "model_name = 'cifar-100_model'\n",
    "output_dir = './014-3_ImageClassification-CIFAR100-SimpleCNN-Momentum-PyTorch'"
   ]
  },
  {
   "cell_type": "code",
   "execution_count": 7,
   "id": "324102d9-d3f9-4d97-b490-2e104302143e",
   "metadata": {},
   "outputs": [],
   "source": [
    "Path(dataset_dir).mkdir(exist_ok=True)\n",
    "Path(output_dir).mkdir(exist_ok=True)"
   ]
  },
  {
   "cell_type": "markdown",
   "id": "60045952",
   "metadata": {},
   "source": [
    "## Load Dataset and Normalize"
   ]
  },
  {
   "cell_type": "code",
   "execution_count": 8,
   "id": "deef041c",
   "metadata": {},
   "outputs": [
    {
     "name": "stdout",
     "output_type": "stream",
     "text": [
      "Downloading https://www.cs.toronto.edu/~kriz/cifar-100-python.tar.gz to /tmp/dataset/cifar-100-python.tar.gz\n"
     ]
    },
    {
     "name": "stderr",
     "output_type": "stream",
     "text": [
      "100% 169001437/169001437 [00:11<00:00, 15193853.45it/s]\n"
     ]
    },
    {
     "name": "stdout",
     "output_type": "stream",
     "text": [
      "Extracting /tmp/dataset/cifar-100-python.tar.gz to /tmp/dataset\n",
      "Files already downloaded and verified\n"
     ]
    }
   ],
   "source": [
    "dataloader = DataLoader(dataset_name='cifar100_pytorch', dataset_dir=dataset_dir)"
   ]
  },
  {
   "cell_type": "markdown",
   "id": "ef213c0a",
   "metadata": {},
   "source": [
    "## Training Model"
   ]
  },
  {
   "cell_type": "code",
   "execution_count": 10,
   "id": "5c7f9975-c45f-4e79-86c4-6a45c2b3fc0e",
   "metadata": {
    "scrolled": true
   },
   "outputs": [
    {
     "name": "stderr",
     "output_type": "stream",
     "text": [
      "[I 2024-05-12 00:07:39,232] A new study created in memory with name: no-name-d8899983-71be-4bcc-b4ae-53bd7e517525\n"
     ]
    },
    {
     "name": "stdout",
     "output_type": "stream",
     "text": [
      "==========================================================================================\n",
      "Layer (type:depth-idx)                   Output Shape              Param #\n",
      "==========================================================================================\n",
      "Net                                      [128, 100]                --\n",
      "├─Conv2d: 1-1                            [128, 64, 32, 32]         1,792\n",
      "├─ReLU: 1-2                              [128, 64, 32, 32]         --\n",
      "├─BatchNorm2d: 1-3                       [128, 64, 32, 32]         128\n",
      "├─Conv2d: 1-4                            [128, 64, 32, 32]         36,928\n",
      "├─ReLU: 1-5                              [128, 64, 32, 32]         --\n",
      "├─BatchNorm2d: 1-6                       [128, 64, 32, 32]         128\n",
      "├─MaxPool2d: 1-7                         [128, 64, 16, 16]         --\n",
      "├─Dropout: 1-8                           [128, 64, 16, 16]         --\n",
      "├─Conv2d: 1-9                            [128, 128, 16, 16]        73,856\n",
      "├─ReLU: 1-10                             [128, 128, 16, 16]        --\n",
      "├─BatchNorm2d: 1-11                      [128, 128, 16, 16]        256\n",
      "├─Conv2d: 1-12                           [128, 128, 16, 16]        147,584\n",
      "├─ReLU: 1-13                             [128, 128, 16, 16]        --\n",
      "├─BatchNorm2d: 1-14                      [128, 128, 16, 16]        256\n",
      "├─MaxPool2d: 1-15                        [128, 128, 8, 8]          --\n",
      "├─Dropout: 1-16                          [128, 128, 8, 8]          --\n",
      "├─Conv2d: 1-17                           [128, 256, 8, 8]          295,168\n",
      "├─ReLU: 1-18                             [128, 256, 8, 8]          --\n",
      "├─BatchNorm2d: 1-19                      [128, 256, 8, 8]          512\n",
      "├─Conv2d: 1-20                           [128, 256, 8, 8]          590,080\n",
      "├─ReLU: 1-21                             [128, 256, 8, 8]          --\n",
      "├─BatchNorm2d: 1-22                      [128, 256, 8, 8]          512\n",
      "├─MaxPool2d: 1-23                        [128, 256, 4, 4]          --\n",
      "├─AdaptiveAvgPool2d: 1-24                [128, 256, 2, 2]          --\n",
      "├─Linear: 1-25                           [128, 512]                524,800\n",
      "├─ReLU: 1-26                             [128, 512]                --\n",
      "├─BatchNorm1d: 1-27                      [128, 512]                1,024\n",
      "├─Dropout: 1-28                          [128, 512]                --\n",
      "├─Linear: 1-29                           [128, 128]                65,664\n",
      "├─ReLU: 1-30                             [128, 128]                --\n",
      "├─BatchNorm1d: 1-31                      [128, 128]                256\n",
      "├─Dropout: 1-32                          [128, 128]                --\n",
      "├─Linear: 1-33                           [128, 100]                12,900\n",
      "├─Softmax: 1-34                          [128, 100]                --\n",
      "==========================================================================================\n",
      "Total params: 1,751,844\n",
      "Trainable params: 1,751,844\n",
      "Non-trainable params: 0\n",
      "Total mult-adds (G): 19.66\n",
      "==========================================================================================\n",
      "Input size (MB): 1.57\n",
      "Forward/backward pass size (MB): 471.18\n",
      "Params size (MB): 7.01\n",
      "Estimated Total Size (MB): 479.76\n",
      "==========================================================================================\n",
      "[EPOCH #0] loss: 4.605158723781144\n",
      "[EPOCH #1, elapsed time: 14.860[sec]] loss: 4.605132259166324\n",
      "[EPOCH #2, elapsed time: 26.896[sec]] loss: 4.605065178581331\n",
      "[EPOCH #3, elapsed time: 38.447[sec]] loss: 4.605007108479681\n"
     ]
    },
    {
     "name": "stderr",
     "output_type": "stream",
     "text": [
      "/usr/local/lib/python3.10/dist-packages/sklearn/metrics/_classification.py:1344: UndefinedMetricWarning: Precision and F-score are ill-defined and being set to 0.0 in labels with no predicted samples. Use `zero_division` parameter to control this behavior.\n",
      "  _warn_prf(average, modifier, msg_start, len(result))\n",
      "/usr/local/lib/python3.10/dist-packages/sklearn/metrics/_classification.py:1344: UndefinedMetricWarning: Precision and F-score are ill-defined and being set to 0.0 in labels with no predicted samples. Use `zero_division` parameter to control this behavior.\n",
      "  _warn_prf(average, modifier, msg_start, len(result))\n",
      "/usr/local/lib/python3.10/dist-packages/sklearn/metrics/_classification.py:1344: UndefinedMetricWarning: Precision and F-score are ill-defined and being set to 0.0 in labels with no predicted samples. Use `zero_division` parameter to control this behavior.\n",
      "  _warn_prf(average, modifier, msg_start, len(result))\n",
      "/usr/local/lib/python3.10/dist-packages/sklearn/metrics/_classification.py:1344: UndefinedMetricWarning: Precision and F-score are ill-defined and being set to 0.0 in labels with no predicted samples. Use `zero_division` parameter to control this behavior.\n",
      "  _warn_prf(average, modifier, msg_start, len(result))\n",
      "/usr/local/lib/python3.10/dist-packages/sklearn/metrics/_classification.py:1344: UndefinedMetricWarning: Precision and F-score are ill-defined and being set to 0.0 in labels with no predicted samples. Use `zero_division` parameter to control this behavior.\n",
      "  _warn_prf(average, modifier, msg_start, len(result))\n",
      "/usr/local/lib/python3.10/dist-packages/sklearn/metrics/_classification.py:1344: UndefinedMetricWarning: Precision and F-score are ill-defined and being set to 0.0 in labels with no predicted samples. Use `zero_division` parameter to control this behavior.\n",
      "  _warn_prf(average, modifier, msg_start, len(result))\n",
      "[I 2024-05-12 00:08:38,629] Trial 0 finished with value: 0.01106 and parameters: {'learning_rate': 0.0032836320278505178, 'momentum': 0.30106677994740505}. Best is trial 0 with value: 0.01106.\n"
     ]
    },
    {
     "name": "stdout",
     "output_type": "stream",
     "text": [
      "==========================================================================================\n",
      "Layer (type:depth-idx)                   Output Shape              Param #\n",
      "==========================================================================================\n",
      "Net                                      [128, 100]                --\n",
      "├─Conv2d: 1-1                            [128, 64, 32, 32]         1,792\n",
      "├─ReLU: 1-2                              [128, 64, 32, 32]         --\n",
      "├─BatchNorm2d: 1-3                       [128, 64, 32, 32]         128\n",
      "├─Conv2d: 1-4                            [128, 64, 32, 32]         36,928\n",
      "├─ReLU: 1-5                              [128, 64, 32, 32]         --\n",
      "├─BatchNorm2d: 1-6                       [128, 64, 32, 32]         128\n",
      "├─MaxPool2d: 1-7                         [128, 64, 16, 16]         --\n",
      "├─Dropout: 1-8                           [128, 64, 16, 16]         --\n",
      "├─Conv2d: 1-9                            [128, 128, 16, 16]        73,856\n",
      "├─ReLU: 1-10                             [128, 128, 16, 16]        --\n",
      "├─BatchNorm2d: 1-11                      [128, 128, 16, 16]        256\n",
      "├─Conv2d: 1-12                           [128, 128, 16, 16]        147,584\n",
      "├─ReLU: 1-13                             [128, 128, 16, 16]        --\n",
      "├─BatchNorm2d: 1-14                      [128, 128, 16, 16]        256\n",
      "├─MaxPool2d: 1-15                        [128, 128, 8, 8]          --\n",
      "├─Dropout: 1-16                          [128, 128, 8, 8]          --\n",
      "├─Conv2d: 1-17                           [128, 256, 8, 8]          295,168\n",
      "├─ReLU: 1-18                             [128, 256, 8, 8]          --\n",
      "├─BatchNorm2d: 1-19                      [128, 256, 8, 8]          512\n",
      "├─Conv2d: 1-20                           [128, 256, 8, 8]          590,080\n",
      "├─ReLU: 1-21                             [128, 256, 8, 8]          --\n",
      "├─BatchNorm2d: 1-22                      [128, 256, 8, 8]          512\n",
      "├─MaxPool2d: 1-23                        [128, 256, 4, 4]          --\n",
      "├─AdaptiveAvgPool2d: 1-24                [128, 256, 2, 2]          --\n",
      "├─Linear: 1-25                           [128, 512]                524,800\n",
      "├─ReLU: 1-26                             [128, 512]                --\n",
      "├─BatchNorm1d: 1-27                      [128, 512]                1,024\n",
      "├─Dropout: 1-28                          [128, 512]                --\n",
      "├─Linear: 1-29                           [128, 128]                65,664\n",
      "├─ReLU: 1-30                             [128, 128]                --\n",
      "├─BatchNorm1d: 1-31                      [128, 128]                256\n",
      "├─Dropout: 1-32                          [128, 128]                --\n",
      "├─Linear: 1-33                           [128, 100]                12,900\n",
      "├─Softmax: 1-34                          [128, 100]                --\n",
      "==========================================================================================\n",
      "Total params: 1,751,844\n",
      "Trainable params: 1,751,844\n",
      "Non-trainable params: 0\n",
      "Total mult-adds (G): 19.66\n",
      "==========================================================================================\n",
      "Input size (MB): 1.57\n",
      "Forward/backward pass size (MB): 471.18\n",
      "Params size (MB): 7.01\n",
      "Estimated Total Size (MB): 479.76\n",
      "==========================================================================================\n",
      "[EPOCH #0] loss: 4.605167306544914\n",
      "[EPOCH #1, elapsed time: 11.387[sec]] loss: 4.6051714992340145\n",
      "[EPOCH #2, elapsed time: 22.544[sec]] loss: 4.605168473468861\n",
      "[EPOCH #3, elapsed time: 33.554[sec]] loss: 4.605162213265095\n"
     ]
    },
    {
     "name": "stderr",
     "output_type": "stream",
     "text": [
      "/usr/local/lib/python3.10/dist-packages/sklearn/metrics/_classification.py:1344: UndefinedMetricWarning: Precision and F-score are ill-defined and being set to 0.0 in labels with no predicted samples. Use `zero_division` parameter to control this behavior.\n",
      "  _warn_prf(average, modifier, msg_start, len(result))\n",
      "/usr/local/lib/python3.10/dist-packages/sklearn/metrics/_classification.py:1344: UndefinedMetricWarning: Precision and F-score are ill-defined and being set to 0.0 in labels with no predicted samples. Use `zero_division` parameter to control this behavior.\n",
      "  _warn_prf(average, modifier, msg_start, len(result))\n",
      "/usr/local/lib/python3.10/dist-packages/sklearn/metrics/_classification.py:1344: UndefinedMetricWarning: Precision and F-score are ill-defined and being set to 0.0 in labels with no predicted samples. Use `zero_division` parameter to control this behavior.\n",
      "  _warn_prf(average, modifier, msg_start, len(result))\n",
      "/usr/local/lib/python3.10/dist-packages/sklearn/metrics/_classification.py:1344: UndefinedMetricWarning: Precision and F-score are ill-defined and being set to 0.0 in labels with no predicted samples. Use `zero_division` parameter to control this behavior.\n",
      "  _warn_prf(average, modifier, msg_start, len(result))\n",
      "/usr/local/lib/python3.10/dist-packages/sklearn/metrics/_classification.py:1344: UndefinedMetricWarning: Precision and F-score are ill-defined and being set to 0.0 in labels with no predicted samples. Use `zero_division` parameter to control this behavior.\n",
      "  _warn_prf(average, modifier, msg_start, len(result))\n",
      "/usr/local/lib/python3.10/dist-packages/sklearn/metrics/_classification.py:1344: UndefinedMetricWarning: Precision and F-score are ill-defined and being set to 0.0 in labels with no predicted samples. Use `zero_division` parameter to control this behavior.\n",
      "  _warn_prf(average, modifier, msg_start, len(result))\n",
      "[I 2024-05-12 00:09:26,410] Trial 1 finished with value: 0.00732 and parameters: {'learning_rate': 7.926720107392387e-05, 'momentum': 0.7875451642507962}. Best is trial 0 with value: 0.01106.\n"
     ]
    },
    {
     "name": "stdout",
     "output_type": "stream",
     "text": [
      "==========================================================================================\n",
      "Layer (type:depth-idx)                   Output Shape              Param #\n",
      "==========================================================================================\n",
      "Net                                      [128, 100]                --\n",
      "├─Conv2d: 1-1                            [128, 64, 32, 32]         1,792\n",
      "├─ReLU: 1-2                              [128, 64, 32, 32]         --\n",
      "├─BatchNorm2d: 1-3                       [128, 64, 32, 32]         128\n",
      "├─Conv2d: 1-4                            [128, 64, 32, 32]         36,928\n",
      "├─ReLU: 1-5                              [128, 64, 32, 32]         --\n",
      "├─BatchNorm2d: 1-6                       [128, 64, 32, 32]         128\n",
      "├─MaxPool2d: 1-7                         [128, 64, 16, 16]         --\n",
      "├─Dropout: 1-8                           [128, 64, 16, 16]         --\n",
      "├─Conv2d: 1-9                            [128, 128, 16, 16]        73,856\n",
      "├─ReLU: 1-10                             [128, 128, 16, 16]        --\n",
      "├─BatchNorm2d: 1-11                      [128, 128, 16, 16]        256\n",
      "├─Conv2d: 1-12                           [128, 128, 16, 16]        147,584\n",
      "├─ReLU: 1-13                             [128, 128, 16, 16]        --\n",
      "├─BatchNorm2d: 1-14                      [128, 128, 16, 16]        256\n",
      "├─MaxPool2d: 1-15                        [128, 128, 8, 8]          --\n",
      "├─Dropout: 1-16                          [128, 128, 8, 8]          --\n",
      "├─Conv2d: 1-17                           [128, 256, 8, 8]          295,168\n",
      "├─ReLU: 1-18                             [128, 256, 8, 8]          --\n",
      "├─BatchNorm2d: 1-19                      [128, 256, 8, 8]          512\n",
      "├─Conv2d: 1-20                           [128, 256, 8, 8]          590,080\n",
      "├─ReLU: 1-21                             [128, 256, 8, 8]          --\n",
      "├─BatchNorm2d: 1-22                      [128, 256, 8, 8]          512\n",
      "├─MaxPool2d: 1-23                        [128, 256, 4, 4]          --\n",
      "├─AdaptiveAvgPool2d: 1-24                [128, 256, 2, 2]          --\n",
      "├─Linear: 1-25                           [128, 512]                524,800\n",
      "├─ReLU: 1-26                             [128, 512]                --\n",
      "├─BatchNorm1d: 1-27                      [128, 512]                1,024\n",
      "├─Dropout: 1-28                          [128, 512]                --\n",
      "├─Linear: 1-29                           [128, 128]                65,664\n",
      "├─ReLU: 1-30                             [128, 128]                --\n",
      "├─BatchNorm1d: 1-31                      [128, 128]                256\n",
      "├─Dropout: 1-32                          [128, 128]                --\n",
      "├─Linear: 1-33                           [128, 100]                12,900\n",
      "├─Softmax: 1-34                          [128, 100]                --\n",
      "==========================================================================================\n",
      "Total params: 1,751,844\n",
      "Trainable params: 1,751,844\n",
      "Non-trainable params: 0\n",
      "Total mult-adds (G): 19.66\n",
      "==========================================================================================\n",
      "Input size (MB): 1.57\n",
      "Forward/backward pass size (MB): 471.18\n",
      "Params size (MB): 7.01\n",
      "Estimated Total Size (MB): 479.76\n",
      "==========================================================================================\n",
      "[EPOCH #0] loss: 4.6051908167828675\n",
      "[EPOCH #1, elapsed time: 12.087[sec]] loss: 4.605178296680414\n",
      "[EPOCH #2, elapsed time: 23.801[sec]] loss: 4.60518063357909\n",
      "[EPOCH #3, elapsed time: 35.306[sec]] loss: 4.6051821232757275\n"
     ]
    },
    {
     "name": "stderr",
     "output_type": "stream",
     "text": [
      "/usr/local/lib/python3.10/dist-packages/sklearn/metrics/_classification.py:1344: UndefinedMetricWarning: Precision and F-score are ill-defined and being set to 0.0 in labels with no predicted samples. Use `zero_division` parameter to control this behavior.\n",
      "  _warn_prf(average, modifier, msg_start, len(result))\n",
      "/usr/local/lib/python3.10/dist-packages/sklearn/metrics/_classification.py:1344: UndefinedMetricWarning: Precision and F-score are ill-defined and being set to 0.0 in labels with no predicted samples. Use `zero_division` parameter to control this behavior.\n",
      "  _warn_prf(average, modifier, msg_start, len(result))\n",
      "/usr/local/lib/python3.10/dist-packages/sklearn/metrics/_classification.py:1344: UndefinedMetricWarning: Precision and F-score are ill-defined and being set to 0.0 in labels with no predicted samples. Use `zero_division` parameter to control this behavior.\n",
      "  _warn_prf(average, modifier, msg_start, len(result))\n",
      "/usr/local/lib/python3.10/dist-packages/sklearn/metrics/_classification.py:1344: UndefinedMetricWarning: Precision and F-score are ill-defined and being set to 0.0 in labels with no predicted samples. Use `zero_division` parameter to control this behavior.\n",
      "  _warn_prf(average, modifier, msg_start, len(result))\n",
      "/usr/local/lib/python3.10/dist-packages/sklearn/metrics/_classification.py:1344: UndefinedMetricWarning: Precision and F-score are ill-defined and being set to 0.0 in labels with no predicted samples. Use `zero_division` parameter to control this behavior.\n",
      "  _warn_prf(average, modifier, msg_start, len(result))\n",
      "/usr/local/lib/python3.10/dist-packages/sklearn/metrics/_classification.py:1344: UndefinedMetricWarning: Precision and F-score are ill-defined and being set to 0.0 in labels with no predicted samples. Use `zero_division` parameter to control this behavior.\n",
      "  _warn_prf(average, modifier, msg_start, len(result))\n",
      "[I 2024-05-12 00:10:18,957] Trial 2 finished with value: 0.01036 and parameters: {'learning_rate': 1.7266877929829834e-05, 'momentum': 0.8649995479109527}. Best is trial 0 with value: 0.01106.\n"
     ]
    },
    {
     "name": "stdout",
     "output_type": "stream",
     "text": [
      "==========================================================================================\n",
      "Layer (type:depth-idx)                   Output Shape              Param #\n",
      "==========================================================================================\n",
      "Net                                      [128, 100]                --\n",
      "├─Conv2d: 1-1                            [128, 64, 32, 32]         1,792\n",
      "├─ReLU: 1-2                              [128, 64, 32, 32]         --\n",
      "├─BatchNorm2d: 1-3                       [128, 64, 32, 32]         128\n",
      "├─Conv2d: 1-4                            [128, 64, 32, 32]         36,928\n",
      "├─ReLU: 1-5                              [128, 64, 32, 32]         --\n",
      "├─BatchNorm2d: 1-6                       [128, 64, 32, 32]         128\n",
      "├─MaxPool2d: 1-7                         [128, 64, 16, 16]         --\n",
      "├─Dropout: 1-8                           [128, 64, 16, 16]         --\n",
      "├─Conv2d: 1-9                            [128, 128, 16, 16]        73,856\n",
      "├─ReLU: 1-10                             [128, 128, 16, 16]        --\n",
      "├─BatchNorm2d: 1-11                      [128, 128, 16, 16]        256\n",
      "├─Conv2d: 1-12                           [128, 128, 16, 16]        147,584\n",
      "├─ReLU: 1-13                             [128, 128, 16, 16]        --\n",
      "├─BatchNorm2d: 1-14                      [128, 128, 16, 16]        256\n",
      "├─MaxPool2d: 1-15                        [128, 128, 8, 8]          --\n",
      "├─Dropout: 1-16                          [128, 128, 8, 8]          --\n",
      "├─Conv2d: 1-17                           [128, 256, 8, 8]          295,168\n",
      "├─ReLU: 1-18                             [128, 256, 8, 8]          --\n",
      "├─BatchNorm2d: 1-19                      [128, 256, 8, 8]          512\n",
      "├─Conv2d: 1-20                           [128, 256, 8, 8]          590,080\n",
      "├─ReLU: 1-21                             [128, 256, 8, 8]          --\n",
      "├─BatchNorm2d: 1-22                      [128, 256, 8, 8]          512\n",
      "├─MaxPool2d: 1-23                        [128, 256, 4, 4]          --\n",
      "├─AdaptiveAvgPool2d: 1-24                [128, 256, 2, 2]          --\n",
      "├─Linear: 1-25                           [128, 512]                524,800\n",
      "├─ReLU: 1-26                             [128, 512]                --\n",
      "├─BatchNorm1d: 1-27                      [128, 512]                1,024\n",
      "├─Dropout: 1-28                          [128, 512]                --\n",
      "├─Linear: 1-29                           [128, 128]                65,664\n",
      "├─ReLU: 1-30                             [128, 128]                --\n",
      "├─BatchNorm1d: 1-31                      [128, 128]                256\n",
      "├─Dropout: 1-32                          [128, 128]                --\n",
      "├─Linear: 1-33                           [128, 100]                12,900\n",
      "├─Softmax: 1-34                          [128, 100]                --\n",
      "==========================================================================================\n",
      "Total params: 1,751,844\n",
      "Trainable params: 1,751,844\n",
      "Non-trainable params: 0\n",
      "Total mult-adds (G): 19.66\n",
      "==========================================================================================\n",
      "Input size (MB): 1.57\n",
      "Forward/backward pass size (MB): 471.18\n",
      "Params size (MB): 7.01\n",
      "Estimated Total Size (MB): 479.76\n",
      "==========================================================================================\n",
      "[EPOCH #0] loss: 4.605172621921629\n",
      "[EPOCH #1, elapsed time: 11.737[sec]] loss: 4.604070851685371\n",
      "[EPOCH #2, elapsed time: 23.817[sec]] loss: 4.593864169093331\n",
      "[EPOCH #3, elapsed time: 37.688[sec]] loss: 4.587893871946817\n"
     ]
    },
    {
     "name": "stderr",
     "output_type": "stream",
     "text": [
      "/usr/local/lib/python3.10/dist-packages/sklearn/metrics/_classification.py:1344: UndefinedMetricWarning: Precision and F-score are ill-defined and being set to 0.0 in labels with no predicted samples. Use `zero_division` parameter to control this behavior.\n",
      "  _warn_prf(average, modifier, msg_start, len(result))\n",
      "/usr/local/lib/python3.10/dist-packages/sklearn/metrics/_classification.py:1344: UndefinedMetricWarning: Precision and F-score are ill-defined and being set to 0.0 in labels with no predicted samples. Use `zero_division` parameter to control this behavior.\n",
      "  _warn_prf(average, modifier, msg_start, len(result))\n",
      "/usr/local/lib/python3.10/dist-packages/sklearn/metrics/_classification.py:1344: UndefinedMetricWarning: Precision and F-score are ill-defined and being set to 0.0 in labels with no predicted samples. Use `zero_division` parameter to control this behavior.\n",
      "  _warn_prf(average, modifier, msg_start, len(result))\n",
      "/usr/local/lib/python3.10/dist-packages/sklearn/metrics/_classification.py:1344: UndefinedMetricWarning: Precision and F-score are ill-defined and being set to 0.0 in labels with no predicted samples. Use `zero_division` parameter to control this behavior.\n",
      "  _warn_prf(average, modifier, msg_start, len(result))\n",
      "/usr/local/lib/python3.10/dist-packages/sklearn/metrics/_classification.py:1344: UndefinedMetricWarning: Precision and F-score are ill-defined and being set to 0.0 in labels with no predicted samples. Use `zero_division` parameter to control this behavior.\n",
      "  _warn_prf(average, modifier, msg_start, len(result))\n",
      "/usr/local/lib/python3.10/dist-packages/sklearn/metrics/_classification.py:1344: UndefinedMetricWarning: Precision and F-score are ill-defined and being set to 0.0 in labels with no predicted samples. Use `zero_division` parameter to control this behavior.\n",
      "  _warn_prf(average, modifier, msg_start, len(result))\n",
      "[I 2024-05-12 00:11:11,575] Trial 3 finished with value: 0.02306 and parameters: {'learning_rate': 0.025008192565020314, 'momentum': 0.6306113770099678}. Best is trial 3 with value: 0.02306.\n"
     ]
    },
    {
     "name": "stdout",
     "output_type": "stream",
     "text": [
      "==========================================================================================\n",
      "Layer (type:depth-idx)                   Output Shape              Param #\n",
      "==========================================================================================\n",
      "Net                                      [128, 100]                --\n",
      "├─Conv2d: 1-1                            [128, 64, 32, 32]         1,792\n",
      "├─ReLU: 1-2                              [128, 64, 32, 32]         --\n",
      "├─BatchNorm2d: 1-3                       [128, 64, 32, 32]         128\n",
      "├─Conv2d: 1-4                            [128, 64, 32, 32]         36,928\n",
      "├─ReLU: 1-5                              [128, 64, 32, 32]         --\n",
      "├─BatchNorm2d: 1-6                       [128, 64, 32, 32]         128\n",
      "├─MaxPool2d: 1-7                         [128, 64, 16, 16]         --\n",
      "├─Dropout: 1-8                           [128, 64, 16, 16]         --\n",
      "├─Conv2d: 1-9                            [128, 128, 16, 16]        73,856\n",
      "├─ReLU: 1-10                             [128, 128, 16, 16]        --\n",
      "├─BatchNorm2d: 1-11                      [128, 128, 16, 16]        256\n",
      "├─Conv2d: 1-12                           [128, 128, 16, 16]        147,584\n",
      "├─ReLU: 1-13                             [128, 128, 16, 16]        --\n",
      "├─BatchNorm2d: 1-14                      [128, 128, 16, 16]        256\n",
      "├─MaxPool2d: 1-15                        [128, 128, 8, 8]          --\n",
      "├─Dropout: 1-16                          [128, 128, 8, 8]          --\n",
      "├─Conv2d: 1-17                           [128, 256, 8, 8]          295,168\n",
      "├─ReLU: 1-18                             [128, 256, 8, 8]          --\n",
      "├─BatchNorm2d: 1-19                      [128, 256, 8, 8]          512\n",
      "├─Conv2d: 1-20                           [128, 256, 8, 8]          590,080\n",
      "├─ReLU: 1-21                             [128, 256, 8, 8]          --\n",
      "├─BatchNorm2d: 1-22                      [128, 256, 8, 8]          512\n",
      "├─MaxPool2d: 1-23                        [128, 256, 4, 4]          --\n",
      "├─AdaptiveAvgPool2d: 1-24                [128, 256, 2, 2]          --\n",
      "├─Linear: 1-25                           [128, 512]                524,800\n",
      "├─ReLU: 1-26                             [128, 512]                --\n",
      "├─BatchNorm1d: 1-27                      [128, 512]                1,024\n",
      "├─Dropout: 1-28                          [128, 512]                --\n",
      "├─Linear: 1-29                           [128, 128]                65,664\n",
      "├─ReLU: 1-30                             [128, 128]                --\n",
      "├─BatchNorm1d: 1-31                      [128, 128]                256\n",
      "├─Dropout: 1-32                          [128, 128]                --\n",
      "├─Linear: 1-33                           [128, 100]                12,900\n",
      "├─Softmax: 1-34                          [128, 100]                --\n",
      "==========================================================================================\n",
      "Total params: 1,751,844\n",
      "Trainable params: 1,751,844\n",
      "Non-trainable params: 0\n",
      "Total mult-adds (G): 19.66\n",
      "==========================================================================================\n",
      "Input size (MB): 1.57\n",
      "Forward/backward pass size (MB): 471.18\n",
      "Params size (MB): 7.01\n",
      "Estimated Total Size (MB): 479.76\n",
      "==========================================================================================\n",
      "[EPOCH #0] loss: 4.605175625110999\n",
      "[EPOCH #1, elapsed time: 13.592[sec]] loss: 4.604862914814525\n",
      "[EPOCH #2, elapsed time: 26.490[sec]] loss: 4.602984084277601\n",
      "[EPOCH #3, elapsed time: 37.988[sec]] loss: 4.592411594366463\n"
     ]
    },
    {
     "name": "stderr",
     "output_type": "stream",
     "text": [
      "/usr/local/lib/python3.10/dist-packages/sklearn/metrics/_classification.py:1344: UndefinedMetricWarning: Precision and F-score are ill-defined and being set to 0.0 in labels with no predicted samples. Use `zero_division` parameter to control this behavior.\n",
      "  _warn_prf(average, modifier, msg_start, len(result))\n",
      "/usr/local/lib/python3.10/dist-packages/sklearn/metrics/_classification.py:1344: UndefinedMetricWarning: Precision and F-score are ill-defined and being set to 0.0 in labels with no predicted samples. Use `zero_division` parameter to control this behavior.\n",
      "  _warn_prf(average, modifier, msg_start, len(result))\n",
      "/usr/local/lib/python3.10/dist-packages/sklearn/metrics/_classification.py:1344: UndefinedMetricWarning: Precision and F-score are ill-defined and being set to 0.0 in labels with no predicted samples. Use `zero_division` parameter to control this behavior.\n",
      "  _warn_prf(average, modifier, msg_start, len(result))\n",
      "/usr/local/lib/python3.10/dist-packages/sklearn/metrics/_classification.py:1344: UndefinedMetricWarning: Precision and F-score are ill-defined and being set to 0.0 in labels with no predicted samples. Use `zero_division` parameter to control this behavior.\n",
      "  _warn_prf(average, modifier, msg_start, len(result))\n",
      "/usr/local/lib/python3.10/dist-packages/sklearn/metrics/_classification.py:1344: UndefinedMetricWarning: Precision and F-score are ill-defined and being set to 0.0 in labels with no predicted samples. Use `zero_division` parameter to control this behavior.\n",
      "  _warn_prf(average, modifier, msg_start, len(result))\n",
      "/usr/local/lib/python3.10/dist-packages/sklearn/metrics/_classification.py:1344: UndefinedMetricWarning: Precision and F-score are ill-defined and being set to 0.0 in labels with no predicted samples. Use `zero_division` parameter to control this behavior.\n",
      "  _warn_prf(average, modifier, msg_start, len(result))\n",
      "[I 2024-05-12 00:12:08,351] Trial 4 finished with value: 0.01258 and parameters: {'learning_rate': 0.008154138433502624, 'momentum': 0.8088812703040751}. Best is trial 3 with value: 0.02306.\n"
     ]
    },
    {
     "name": "stdout",
     "output_type": "stream",
     "text": [
      "==========================================================================================\n",
      "Layer (type:depth-idx)                   Output Shape              Param #\n",
      "==========================================================================================\n",
      "Net                                      [128, 100]                --\n",
      "├─Conv2d: 1-1                            [128, 64, 32, 32]         1,792\n",
      "├─ReLU: 1-2                              [128, 64, 32, 32]         --\n",
      "├─BatchNorm2d: 1-3                       [128, 64, 32, 32]         128\n",
      "├─Conv2d: 1-4                            [128, 64, 32, 32]         36,928\n",
      "├─ReLU: 1-5                              [128, 64, 32, 32]         --\n",
      "├─BatchNorm2d: 1-6                       [128, 64, 32, 32]         128\n",
      "├─MaxPool2d: 1-7                         [128, 64, 16, 16]         --\n",
      "├─Dropout: 1-8                           [128, 64, 16, 16]         --\n",
      "├─Conv2d: 1-9                            [128, 128, 16, 16]        73,856\n",
      "├─ReLU: 1-10                             [128, 128, 16, 16]        --\n",
      "├─BatchNorm2d: 1-11                      [128, 128, 16, 16]        256\n",
      "├─Conv2d: 1-12                           [128, 128, 16, 16]        147,584\n",
      "├─ReLU: 1-13                             [128, 128, 16, 16]        --\n",
      "├─BatchNorm2d: 1-14                      [128, 128, 16, 16]        256\n",
      "├─MaxPool2d: 1-15                        [128, 128, 8, 8]          --\n",
      "├─Dropout: 1-16                          [128, 128, 8, 8]          --\n",
      "├─Conv2d: 1-17                           [128, 256, 8, 8]          295,168\n",
      "├─ReLU: 1-18                             [128, 256, 8, 8]          --\n",
      "├─BatchNorm2d: 1-19                      [128, 256, 8, 8]          512\n",
      "├─Conv2d: 1-20                           [128, 256, 8, 8]          590,080\n",
      "├─ReLU: 1-21                             [128, 256, 8, 8]          --\n",
      "├─BatchNorm2d: 1-22                      [128, 256, 8, 8]          512\n",
      "├─MaxPool2d: 1-23                        [128, 256, 4, 4]          --\n",
      "├─AdaptiveAvgPool2d: 1-24                [128, 256, 2, 2]          --\n",
      "├─Linear: 1-25                           [128, 512]                524,800\n",
      "├─ReLU: 1-26                             [128, 512]                --\n",
      "├─BatchNorm1d: 1-27                      [128, 512]                1,024\n",
      "├─Dropout: 1-28                          [128, 512]                --\n",
      "├─Linear: 1-29                           [128, 128]                65,664\n",
      "├─ReLU: 1-30                             [128, 128]                --\n",
      "├─BatchNorm1d: 1-31                      [128, 128]                256\n",
      "├─Dropout: 1-32                          [128, 128]                --\n",
      "├─Linear: 1-33                           [128, 100]                12,900\n",
      "├─Softmax: 1-34                          [128, 100]                --\n",
      "==========================================================================================\n",
      "Total params: 1,751,844\n",
      "Trainable params: 1,751,844\n",
      "Non-trainable params: 0\n",
      "Total mult-adds (G): 19.66\n",
      "==========================================================================================\n",
      "Input size (MB): 1.57\n",
      "Forward/backward pass size (MB): 471.18\n",
      "Params size (MB): 7.01\n",
      "Estimated Total Size (MB): 479.76\n",
      "==========================================================================================\n",
      "[EPOCH #0] loss: 4.6051899488355135\n",
      "[EPOCH #1, elapsed time: 12.194[sec]] loss: 4.605187287943835\n",
      "[EPOCH #2, elapsed time: 23.660[sec]] loss: 4.605182317915591\n",
      "[EPOCH #3, elapsed time: 35.620[sec]] loss: 4.6051899909362985\n"
     ]
    },
    {
     "name": "stderr",
     "output_type": "stream",
     "text": [
      "/usr/local/lib/python3.10/dist-packages/sklearn/metrics/_classification.py:1344: UndefinedMetricWarning: Precision and F-score are ill-defined and being set to 0.0 in labels with no predicted samples. Use `zero_division` parameter to control this behavior.\n",
      "  _warn_prf(average, modifier, msg_start, len(result))\n",
      "/usr/local/lib/python3.10/dist-packages/sklearn/metrics/_classification.py:1344: UndefinedMetricWarning: Precision and F-score are ill-defined and being set to 0.0 in labels with no predicted samples. Use `zero_division` parameter to control this behavior.\n",
      "  _warn_prf(average, modifier, msg_start, len(result))\n",
      "/usr/local/lib/python3.10/dist-packages/sklearn/metrics/_classification.py:1344: UndefinedMetricWarning: Precision and F-score are ill-defined and being set to 0.0 in labels with no predicted samples. Use `zero_division` parameter to control this behavior.\n",
      "  _warn_prf(average, modifier, msg_start, len(result))\n",
      "/usr/local/lib/python3.10/dist-packages/sklearn/metrics/_classification.py:1344: UndefinedMetricWarning: Precision and F-score are ill-defined and being set to 0.0 in labels with no predicted samples. Use `zero_division` parameter to control this behavior.\n",
      "  _warn_prf(average, modifier, msg_start, len(result))\n",
      "/usr/local/lib/python3.10/dist-packages/sklearn/metrics/_classification.py:1344: UndefinedMetricWarning: Precision and F-score are ill-defined and being set to 0.0 in labels with no predicted samples. Use `zero_division` parameter to control this behavior.\n",
      "  _warn_prf(average, modifier, msg_start, len(result))\n",
      "/usr/local/lib/python3.10/dist-packages/sklearn/metrics/_classification.py:1344: UndefinedMetricWarning: Precision and F-score are ill-defined and being set to 0.0 in labels with no predicted samples. Use `zero_division` parameter to control this behavior.\n",
      "  _warn_prf(average, modifier, msg_start, len(result))\n",
      "[I 2024-05-12 00:13:00,748] Trial 5 finished with value: 0.00792 and parameters: {'learning_rate': 2.7448296897294305e-05, 'momentum': 0.47239214736973123}. Best is trial 3 with value: 0.02306.\n"
     ]
    },
    {
     "name": "stdout",
     "output_type": "stream",
     "text": [
      "==========================================================================================\n",
      "Layer (type:depth-idx)                   Output Shape              Param #\n",
      "==========================================================================================\n",
      "Net                                      [128, 100]                --\n",
      "├─Conv2d: 1-1                            [128, 64, 32, 32]         1,792\n",
      "├─ReLU: 1-2                              [128, 64, 32, 32]         --\n",
      "├─BatchNorm2d: 1-3                       [128, 64, 32, 32]         128\n",
      "├─Conv2d: 1-4                            [128, 64, 32, 32]         36,928\n",
      "├─ReLU: 1-5                              [128, 64, 32, 32]         --\n",
      "├─BatchNorm2d: 1-6                       [128, 64, 32, 32]         128\n",
      "├─MaxPool2d: 1-7                         [128, 64, 16, 16]         --\n",
      "├─Dropout: 1-8                           [128, 64, 16, 16]         --\n",
      "├─Conv2d: 1-9                            [128, 128, 16, 16]        73,856\n",
      "├─ReLU: 1-10                             [128, 128, 16, 16]        --\n",
      "├─BatchNorm2d: 1-11                      [128, 128, 16, 16]        256\n",
      "├─Conv2d: 1-12                           [128, 128, 16, 16]        147,584\n",
      "├─ReLU: 1-13                             [128, 128, 16, 16]        --\n",
      "├─BatchNorm2d: 1-14                      [128, 128, 16, 16]        256\n",
      "├─MaxPool2d: 1-15                        [128, 128, 8, 8]          --\n",
      "├─Dropout: 1-16                          [128, 128, 8, 8]          --\n",
      "├─Conv2d: 1-17                           [128, 256, 8, 8]          295,168\n",
      "├─ReLU: 1-18                             [128, 256, 8, 8]          --\n",
      "├─BatchNorm2d: 1-19                      [128, 256, 8, 8]          512\n",
      "├─Conv2d: 1-20                           [128, 256, 8, 8]          590,080\n",
      "├─ReLU: 1-21                             [128, 256, 8, 8]          --\n",
      "├─BatchNorm2d: 1-22                      [128, 256, 8, 8]          512\n",
      "├─MaxPool2d: 1-23                        [128, 256, 4, 4]          --\n",
      "├─AdaptiveAvgPool2d: 1-24                [128, 256, 2, 2]          --\n",
      "├─Linear: 1-25                           [128, 512]                524,800\n",
      "├─ReLU: 1-26                             [128, 512]                --\n",
      "├─BatchNorm1d: 1-27                      [128, 512]                1,024\n",
      "├─Dropout: 1-28                          [128, 512]                --\n",
      "├─Linear: 1-29                           [128, 128]                65,664\n",
      "├─ReLU: 1-30                             [128, 128]                --\n",
      "├─BatchNorm1d: 1-31                      [128, 128]                256\n",
      "├─Dropout: 1-32                          [128, 128]                --\n",
      "├─Linear: 1-33                           [128, 100]                12,900\n",
      "├─Softmax: 1-34                          [128, 100]                --\n",
      "==========================================================================================\n",
      "Total params: 1,751,844\n",
      "Trainable params: 1,751,844\n",
      "Non-trainable params: 0\n",
      "Total mult-adds (G): 19.66\n",
      "==========================================================================================\n",
      "Input size (MB): 1.57\n",
      "Forward/backward pass size (MB): 471.18\n",
      "Params size (MB): 7.01\n",
      "Estimated Total Size (MB): 479.76\n",
      "==========================================================================================\n",
      "[EPOCH #0] loss: 4.605155399039397\n",
      "[EPOCH #1, elapsed time: 11.894[sec]] loss: 4.6051244372674764\n",
      "[EPOCH #2, elapsed time: 23.011[sec]] loss: 4.605078780490927\n",
      "[EPOCH #3, elapsed time: 34.167[sec]] loss: 4.605034347993017\n"
     ]
    },
    {
     "name": "stderr",
     "output_type": "stream",
     "text": [
      "/usr/local/lib/python3.10/dist-packages/sklearn/metrics/_classification.py:1344: UndefinedMetricWarning: Precision and F-score are ill-defined and being set to 0.0 in labels with no predicted samples. Use `zero_division` parameter to control this behavior.\n",
      "  _warn_prf(average, modifier, msg_start, len(result))\n",
      "/usr/local/lib/python3.10/dist-packages/sklearn/metrics/_classification.py:1344: UndefinedMetricWarning: Precision and F-score are ill-defined and being set to 0.0 in labels with no predicted samples. Use `zero_division` parameter to control this behavior.\n",
      "  _warn_prf(average, modifier, msg_start, len(result))\n",
      "/usr/local/lib/python3.10/dist-packages/sklearn/metrics/_classification.py:1344: UndefinedMetricWarning: Precision and F-score are ill-defined and being set to 0.0 in labels with no predicted samples. Use `zero_division` parameter to control this behavior.\n",
      "  _warn_prf(average, modifier, msg_start, len(result))\n",
      "/usr/local/lib/python3.10/dist-packages/sklearn/metrics/_classification.py:1344: UndefinedMetricWarning: Precision and F-score are ill-defined and being set to 0.0 in labels with no predicted samples. Use `zero_division` parameter to control this behavior.\n",
      "  _warn_prf(average, modifier, msg_start, len(result))\n",
      "/usr/local/lib/python3.10/dist-packages/sklearn/metrics/_classification.py:1344: UndefinedMetricWarning: Precision and F-score are ill-defined and being set to 0.0 in labels with no predicted samples. Use `zero_division` parameter to control this behavior.\n",
      "  _warn_prf(average, modifier, msg_start, len(result))\n",
      "/usr/local/lib/python3.10/dist-packages/sklearn/metrics/_classification.py:1344: UndefinedMetricWarning: Precision and F-score are ill-defined and being set to 0.0 in labels with no predicted samples. Use `zero_division` parameter to control this behavior.\n",
      "  _warn_prf(average, modifier, msg_start, len(result))\n",
      "[I 2024-05-12 00:13:52,302] Trial 6 finished with value: 0.00936 and parameters: {'learning_rate': 0.0005395639031974406, 'momentum': 0.8355577891258041}. Best is trial 3 with value: 0.02306.\n"
     ]
    },
    {
     "name": "stdout",
     "output_type": "stream",
     "text": [
      "==========================================================================================\n",
      "Layer (type:depth-idx)                   Output Shape              Param #\n",
      "==========================================================================================\n",
      "Net                                      [128, 100]                --\n",
      "├─Conv2d: 1-1                            [128, 64, 32, 32]         1,792\n",
      "├─ReLU: 1-2                              [128, 64, 32, 32]         --\n",
      "├─BatchNorm2d: 1-3                       [128, 64, 32, 32]         128\n",
      "├─Conv2d: 1-4                            [128, 64, 32, 32]         36,928\n",
      "├─ReLU: 1-5                              [128, 64, 32, 32]         --\n",
      "├─BatchNorm2d: 1-6                       [128, 64, 32, 32]         128\n",
      "├─MaxPool2d: 1-7                         [128, 64, 16, 16]         --\n",
      "├─Dropout: 1-8                           [128, 64, 16, 16]         --\n",
      "├─Conv2d: 1-9                            [128, 128, 16, 16]        73,856\n",
      "├─ReLU: 1-10                             [128, 128, 16, 16]        --\n",
      "├─BatchNorm2d: 1-11                      [128, 128, 16, 16]        256\n",
      "├─Conv2d: 1-12                           [128, 128, 16, 16]        147,584\n",
      "├─ReLU: 1-13                             [128, 128, 16, 16]        --\n",
      "├─BatchNorm2d: 1-14                      [128, 128, 16, 16]        256\n",
      "├─MaxPool2d: 1-15                        [128, 128, 8, 8]          --\n",
      "├─Dropout: 1-16                          [128, 128, 8, 8]          --\n",
      "├─Conv2d: 1-17                           [128, 256, 8, 8]          295,168\n",
      "├─ReLU: 1-18                             [128, 256, 8, 8]          --\n",
      "├─BatchNorm2d: 1-19                      [128, 256, 8, 8]          512\n",
      "├─Conv2d: 1-20                           [128, 256, 8, 8]          590,080\n",
      "├─ReLU: 1-21                             [128, 256, 8, 8]          --\n",
      "├─BatchNorm2d: 1-22                      [128, 256, 8, 8]          512\n",
      "├─MaxPool2d: 1-23                        [128, 256, 4, 4]          --\n",
      "├─AdaptiveAvgPool2d: 1-24                [128, 256, 2, 2]          --\n",
      "├─Linear: 1-25                           [128, 512]                524,800\n",
      "├─ReLU: 1-26                             [128, 512]                --\n",
      "├─BatchNorm1d: 1-27                      [128, 512]                1,024\n",
      "├─Dropout: 1-28                          [128, 512]                --\n",
      "├─Linear: 1-29                           [128, 128]                65,664\n",
      "├─ReLU: 1-30                             [128, 128]                --\n",
      "├─BatchNorm1d: 1-31                      [128, 128]                256\n",
      "├─Dropout: 1-32                          [128, 128]                --\n",
      "├─Linear: 1-33                           [128, 100]                12,900\n",
      "├─Softmax: 1-34                          [128, 100]                --\n",
      "==========================================================================================\n",
      "Total params: 1,751,844\n",
      "Trainable params: 1,751,844\n",
      "Non-trainable params: 0\n",
      "Total mult-adds (G): 19.66\n",
      "==========================================================================================\n",
      "Input size (MB): 1.57\n",
      "Forward/backward pass size (MB): 471.18\n",
      "Params size (MB): 7.01\n",
      "Estimated Total Size (MB): 479.76\n",
      "==========================================================================================\n",
      "[EPOCH #0] loss: 4.605143031170943\n",
      "[EPOCH #1, elapsed time: 11.770[sec]] loss: 4.597434870341003\n",
      "[EPOCH #2, elapsed time: 23.624[sec]] loss: 4.58642088352528\n",
      "[EPOCH #3, elapsed time: 35.476[sec]] loss: 4.579012335071332\n"
     ]
    },
    {
     "name": "stderr",
     "output_type": "stream",
     "text": [
      "/usr/local/lib/python3.10/dist-packages/sklearn/metrics/_classification.py:1344: UndefinedMetricWarning: Precision and F-score are ill-defined and being set to 0.0 in labels with no predicted samples. Use `zero_division` parameter to control this behavior.\n",
      "  _warn_prf(average, modifier, msg_start, len(result))\n",
      "/usr/local/lib/python3.10/dist-packages/sklearn/metrics/_classification.py:1344: UndefinedMetricWarning: Precision and F-score are ill-defined and being set to 0.0 in labels with no predicted samples. Use `zero_division` parameter to control this behavior.\n",
      "  _warn_prf(average, modifier, msg_start, len(result))\n",
      "/usr/local/lib/python3.10/dist-packages/sklearn/metrics/_classification.py:1344: UndefinedMetricWarning: Precision and F-score are ill-defined and being set to 0.0 in labels with no predicted samples. Use `zero_division` parameter to control this behavior.\n",
      "  _warn_prf(average, modifier, msg_start, len(result))\n",
      "/usr/local/lib/python3.10/dist-packages/sklearn/metrics/_classification.py:1344: UndefinedMetricWarning: Precision and F-score are ill-defined and being set to 0.0 in labels with no predicted samples. Use `zero_division` parameter to control this behavior.\n",
      "  _warn_prf(average, modifier, msg_start, len(result))\n",
      "/usr/local/lib/python3.10/dist-packages/sklearn/metrics/_classification.py:1344: UndefinedMetricWarning: Precision and F-score are ill-defined and being set to 0.0 in labels with no predicted samples. Use `zero_division` parameter to control this behavior.\n",
      "  _warn_prf(average, modifier, msg_start, len(result))\n",
      "/usr/local/lib/python3.10/dist-packages/sklearn/metrics/_classification.py:1344: UndefinedMetricWarning: Precision and F-score are ill-defined and being set to 0.0 in labels with no predicted samples. Use `zero_division` parameter to control this behavior.\n",
      "  _warn_prf(average, modifier, msg_start, len(result))\n",
      "[I 2024-05-12 00:14:44,390] Trial 7 finished with value: 0.03582 and parameters: {'learning_rate': 0.015372785686685734, 'momentum': 0.8780516008799264}. Best is trial 7 with value: 0.03582.\n"
     ]
    },
    {
     "name": "stdout",
     "output_type": "stream",
     "text": [
      "==========================================================================================\n",
      "Layer (type:depth-idx)                   Output Shape              Param #\n",
      "==========================================================================================\n",
      "Net                                      [128, 100]                --\n",
      "├─Conv2d: 1-1                            [128, 64, 32, 32]         1,792\n",
      "├─ReLU: 1-2                              [128, 64, 32, 32]         --\n",
      "├─BatchNorm2d: 1-3                       [128, 64, 32, 32]         128\n",
      "├─Conv2d: 1-4                            [128, 64, 32, 32]         36,928\n",
      "├─ReLU: 1-5                              [128, 64, 32, 32]         --\n",
      "├─BatchNorm2d: 1-6                       [128, 64, 32, 32]         128\n",
      "├─MaxPool2d: 1-7                         [128, 64, 16, 16]         --\n",
      "├─Dropout: 1-8                           [128, 64, 16, 16]         --\n",
      "├─Conv2d: 1-9                            [128, 128, 16, 16]        73,856\n",
      "├─ReLU: 1-10                             [128, 128, 16, 16]        --\n",
      "├─BatchNorm2d: 1-11                      [128, 128, 16, 16]        256\n",
      "├─Conv2d: 1-12                           [128, 128, 16, 16]        147,584\n",
      "├─ReLU: 1-13                             [128, 128, 16, 16]        --\n",
      "├─BatchNorm2d: 1-14                      [128, 128, 16, 16]        256\n",
      "├─MaxPool2d: 1-15                        [128, 128, 8, 8]          --\n",
      "├─Dropout: 1-16                          [128, 128, 8, 8]          --\n",
      "├─Conv2d: 1-17                           [128, 256, 8, 8]          295,168\n",
      "├─ReLU: 1-18                             [128, 256, 8, 8]          --\n",
      "├─BatchNorm2d: 1-19                      [128, 256, 8, 8]          512\n",
      "├─Conv2d: 1-20                           [128, 256, 8, 8]          590,080\n",
      "├─ReLU: 1-21                             [128, 256, 8, 8]          --\n",
      "├─BatchNorm2d: 1-22                      [128, 256, 8, 8]          512\n",
      "├─MaxPool2d: 1-23                        [128, 256, 4, 4]          --\n",
      "├─AdaptiveAvgPool2d: 1-24                [128, 256, 2, 2]          --\n",
      "├─Linear: 1-25                           [128, 512]                524,800\n",
      "├─ReLU: 1-26                             [128, 512]                --\n",
      "├─BatchNorm1d: 1-27                      [128, 512]                1,024\n",
      "├─Dropout: 1-28                          [128, 512]                --\n",
      "├─Linear: 1-29                           [128, 128]                65,664\n",
      "├─ReLU: 1-30                             [128, 128]                --\n",
      "├─BatchNorm1d: 1-31                      [128, 128]                256\n",
      "├─Dropout: 1-32                          [128, 128]                --\n",
      "├─Linear: 1-33                           [128, 100]                12,900\n",
      "├─Softmax: 1-34                          [128, 100]                --\n",
      "==========================================================================================\n",
      "Total params: 1,751,844\n",
      "Trainable params: 1,751,844\n",
      "Non-trainable params: 0\n",
      "Total mult-adds (G): 19.66\n",
      "==========================================================================================\n",
      "Input size (MB): 1.57\n",
      "Forward/backward pass size (MB): 471.18\n",
      "Params size (MB): 7.01\n",
      "Estimated Total Size (MB): 479.76\n",
      "==========================================================================================\n",
      "[EPOCH #0] loss: 4.605154864237389\n",
      "[EPOCH #1, elapsed time: 14.686[sec]] loss: 4.59254513683795\n",
      "[EPOCH #2, elapsed time: 31.053[sec]] loss: 4.574417679262558\n",
      "[EPOCH #3, elapsed time: 45.717[sec]] loss: 4.563018811641408\n"
     ]
    },
    {
     "name": "stderr",
     "output_type": "stream",
     "text": [
      "/usr/local/lib/python3.10/dist-packages/sklearn/metrics/_classification.py:1344: UndefinedMetricWarning: Precision and F-score are ill-defined and being set to 0.0 in labels with no predicted samples. Use `zero_division` parameter to control this behavior.\n",
      "  _warn_prf(average, modifier, msg_start, len(result))\n",
      "/usr/local/lib/python3.10/dist-packages/sklearn/metrics/_classification.py:1344: UndefinedMetricWarning: Precision and F-score are ill-defined and being set to 0.0 in labels with no predicted samples. Use `zero_division` parameter to control this behavior.\n",
      "  _warn_prf(average, modifier, msg_start, len(result))\n",
      "/usr/local/lib/python3.10/dist-packages/sklearn/metrics/_classification.py:1344: UndefinedMetricWarning: Precision and F-score are ill-defined and being set to 0.0 in labels with no predicted samples. Use `zero_division` parameter to control this behavior.\n",
      "  _warn_prf(average, modifier, msg_start, len(result))\n",
      "/usr/local/lib/python3.10/dist-packages/sklearn/metrics/_classification.py:1344: UndefinedMetricWarning: Precision and F-score are ill-defined and being set to 0.0 in labels with no predicted samples. Use `zero_division` parameter to control this behavior.\n",
      "  _warn_prf(average, modifier, msg_start, len(result))\n",
      "/usr/local/lib/python3.10/dist-packages/sklearn/metrics/_classification.py:1344: UndefinedMetricWarning: Precision and F-score are ill-defined and being set to 0.0 in labels with no predicted samples. Use `zero_division` parameter to control this behavior.\n",
      "  _warn_prf(average, modifier, msg_start, len(result))\n",
      "/usr/local/lib/python3.10/dist-packages/sklearn/metrics/_classification.py:1344: UndefinedMetricWarning: Precision and F-score are ill-defined and being set to 0.0 in labels with no predicted samples. Use `zero_division` parameter to control this behavior.\n",
      "  _warn_prf(average, modifier, msg_start, len(result))\n",
      "[I 2024-05-12 00:15:45,041] Trial 8 finished with value: 0.0625 and parameters: {'learning_rate': 0.0921222185855603, 'momentum': 0.8076914801473221}. Best is trial 8 with value: 0.0625.\n"
     ]
    },
    {
     "name": "stdout",
     "output_type": "stream",
     "text": [
      "==========================================================================================\n",
      "Layer (type:depth-idx)                   Output Shape              Param #\n",
      "==========================================================================================\n",
      "Net                                      [128, 100]                --\n",
      "├─Conv2d: 1-1                            [128, 64, 32, 32]         1,792\n",
      "├─ReLU: 1-2                              [128, 64, 32, 32]         --\n",
      "├─BatchNorm2d: 1-3                       [128, 64, 32, 32]         128\n",
      "├─Conv2d: 1-4                            [128, 64, 32, 32]         36,928\n",
      "├─ReLU: 1-5                              [128, 64, 32, 32]         --\n",
      "├─BatchNorm2d: 1-6                       [128, 64, 32, 32]         128\n",
      "├─MaxPool2d: 1-7                         [128, 64, 16, 16]         --\n",
      "├─Dropout: 1-8                           [128, 64, 16, 16]         --\n",
      "├─Conv2d: 1-9                            [128, 128, 16, 16]        73,856\n",
      "├─ReLU: 1-10                             [128, 128, 16, 16]        --\n",
      "├─BatchNorm2d: 1-11                      [128, 128, 16, 16]        256\n",
      "├─Conv2d: 1-12                           [128, 128, 16, 16]        147,584\n",
      "├─ReLU: 1-13                             [128, 128, 16, 16]        --\n",
      "├─BatchNorm2d: 1-14                      [128, 128, 16, 16]        256\n",
      "├─MaxPool2d: 1-15                        [128, 128, 8, 8]          --\n",
      "├─Dropout: 1-16                          [128, 128, 8, 8]          --\n",
      "├─Conv2d: 1-17                           [128, 256, 8, 8]          295,168\n",
      "├─ReLU: 1-18                             [128, 256, 8, 8]          --\n",
      "├─BatchNorm2d: 1-19                      [128, 256, 8, 8]          512\n",
      "├─Conv2d: 1-20                           [128, 256, 8, 8]          590,080\n",
      "├─ReLU: 1-21                             [128, 256, 8, 8]          --\n",
      "├─BatchNorm2d: 1-22                      [128, 256, 8, 8]          512\n",
      "├─MaxPool2d: 1-23                        [128, 256, 4, 4]          --\n",
      "├─AdaptiveAvgPool2d: 1-24                [128, 256, 2, 2]          --\n",
      "├─Linear: 1-25                           [128, 512]                524,800\n",
      "├─ReLU: 1-26                             [128, 512]                --\n",
      "├─BatchNorm1d: 1-27                      [128, 512]                1,024\n",
      "├─Dropout: 1-28                          [128, 512]                --\n",
      "├─Linear: 1-29                           [128, 128]                65,664\n",
      "├─ReLU: 1-30                             [128, 128]                --\n",
      "├─BatchNorm1d: 1-31                      [128, 128]                256\n",
      "├─Dropout: 1-32                          [128, 128]                --\n",
      "├─Linear: 1-33                           [128, 100]                12,900\n",
      "├─Softmax: 1-34                          [128, 100]                --\n",
      "==========================================================================================\n",
      "Total params: 1,751,844\n",
      "Trainable params: 1,751,844\n",
      "Non-trainable params: 0\n",
      "Total mult-adds (G): 19.66\n",
      "==========================================================================================\n",
      "Input size (MB): 1.57\n",
      "Forward/backward pass size (MB): 471.18\n",
      "Params size (MB): 7.01\n",
      "Estimated Total Size (MB): 479.76\n",
      "==========================================================================================\n",
      "[EPOCH #0] loss: 4.605158522429561\n",
      "[EPOCH #1, elapsed time: 14.058[sec]] loss: 4.605081237285319\n",
      "[EPOCH #2, elapsed time: 28.120[sec]] loss: 4.60490592503807\n",
      "[EPOCH #3, elapsed time: 38.264[sec]] loss: 4.604675592555499\n"
     ]
    },
    {
     "name": "stderr",
     "output_type": "stream",
     "text": [
      "/usr/local/lib/python3.10/dist-packages/sklearn/metrics/_classification.py:1344: UndefinedMetricWarning: Precision and F-score are ill-defined and being set to 0.0 in labels with no predicted samples. Use `zero_division` parameter to control this behavior.\n",
      "  _warn_prf(average, modifier, msg_start, len(result))\n",
      "/usr/local/lib/python3.10/dist-packages/sklearn/metrics/_classification.py:1344: UndefinedMetricWarning: Precision and F-score are ill-defined and being set to 0.0 in labels with no predicted samples. Use `zero_division` parameter to control this behavior.\n",
      "  _warn_prf(average, modifier, msg_start, len(result))\n",
      "/usr/local/lib/python3.10/dist-packages/sklearn/metrics/_classification.py:1344: UndefinedMetricWarning: Precision and F-score are ill-defined and being set to 0.0 in labels with no predicted samples. Use `zero_division` parameter to control this behavior.\n",
      "  _warn_prf(average, modifier, msg_start, len(result))\n",
      "/usr/local/lib/python3.10/dist-packages/sklearn/metrics/_classification.py:1344: UndefinedMetricWarning: Precision and F-score are ill-defined and being set to 0.0 in labels with no predicted samples. Use `zero_division` parameter to control this behavior.\n",
      "  _warn_prf(average, modifier, msg_start, len(result))\n",
      "/usr/local/lib/python3.10/dist-packages/sklearn/metrics/_classification.py:1344: UndefinedMetricWarning: Precision and F-score are ill-defined and being set to 0.0 in labels with no predicted samples. Use `zero_division` parameter to control this behavior.\n",
      "  _warn_prf(average, modifier, msg_start, len(result))\n",
      "/usr/local/lib/python3.10/dist-packages/sklearn/metrics/_classification.py:1344: UndefinedMetricWarning: Precision and F-score are ill-defined and being set to 0.0 in labels with no predicted samples. Use `zero_division` parameter to control this behavior.\n",
      "  _warn_prf(average, modifier, msg_start, len(result))\n",
      "[I 2024-05-12 00:16:38,726] Trial 9 finished with value: 0.0097 and parameters: {'learning_rate': 0.0058581166086852515, 'momentum': 0.47846175319198436}. Best is trial 8 with value: 0.0625.\n"
     ]
    },
    {
     "name": "stdout",
     "output_type": "stream",
     "text": [
      "==========================================================================================\n",
      "Layer (type:depth-idx)                   Output Shape              Param #\n",
      "==========================================================================================\n",
      "Net                                      [128, 100]                --\n",
      "├─Conv2d: 1-1                            [128, 64, 32, 32]         1,792\n",
      "├─ReLU: 1-2                              [128, 64, 32, 32]         --\n",
      "├─BatchNorm2d: 1-3                       [128, 64, 32, 32]         128\n",
      "├─Conv2d: 1-4                            [128, 64, 32, 32]         36,928\n",
      "├─ReLU: 1-5                              [128, 64, 32, 32]         --\n",
      "├─BatchNorm2d: 1-6                       [128, 64, 32, 32]         128\n",
      "├─MaxPool2d: 1-7                         [128, 64, 16, 16]         --\n",
      "├─Dropout: 1-8                           [128, 64, 16, 16]         --\n",
      "├─Conv2d: 1-9                            [128, 128, 16, 16]        73,856\n",
      "├─ReLU: 1-10                             [128, 128, 16, 16]        --\n",
      "├─BatchNorm2d: 1-11                      [128, 128, 16, 16]        256\n",
      "├─Conv2d: 1-12                           [128, 128, 16, 16]        147,584\n",
      "├─ReLU: 1-13                             [128, 128, 16, 16]        --\n",
      "├─BatchNorm2d: 1-14                      [128, 128, 16, 16]        256\n",
      "├─MaxPool2d: 1-15                        [128, 128, 8, 8]          --\n",
      "├─Dropout: 1-16                          [128, 128, 8, 8]          --\n",
      "├─Conv2d: 1-17                           [128, 256, 8, 8]          295,168\n",
      "├─ReLU: 1-18                             [128, 256, 8, 8]          --\n",
      "├─BatchNorm2d: 1-19                      [128, 256, 8, 8]          512\n",
      "├─Conv2d: 1-20                           [128, 256, 8, 8]          590,080\n",
      "├─ReLU: 1-21                             [128, 256, 8, 8]          --\n",
      "├─BatchNorm2d: 1-22                      [128, 256, 8, 8]          512\n",
      "├─MaxPool2d: 1-23                        [128, 256, 4, 4]          --\n",
      "├─AdaptiveAvgPool2d: 1-24                [128, 256, 2, 2]          --\n",
      "├─Linear: 1-25                           [128, 512]                524,800\n",
      "├─ReLU: 1-26                             [128, 512]                --\n",
      "├─BatchNorm1d: 1-27                      [128, 512]                1,024\n",
      "├─Dropout: 1-28                          [128, 512]                --\n",
      "├─Linear: 1-29                           [128, 128]                65,664\n",
      "├─ReLU: 1-30                             [128, 128]                --\n",
      "├─BatchNorm1d: 1-31                      [128, 128]                256\n",
      "├─Dropout: 1-32                          [128, 128]                --\n",
      "├─Linear: 1-33                           [128, 100]                12,900\n",
      "├─Softmax: 1-34                          [128, 100]                --\n",
      "==========================================================================================\n",
      "Total params: 1,751,844\n",
      "Trainable params: 1,751,844\n",
      "Non-trainable params: 0\n",
      "Total mult-adds (G): 19.66\n",
      "==========================================================================================\n",
      "Input size (MB): 1.57\n",
      "Forward/backward pass size (MB): 471.18\n",
      "Params size (MB): 7.01\n",
      "Estimated Total Size (MB): 479.76\n",
      "==========================================================================================\n",
      "[EPOCH #0] loss: 4.605163355172634\n",
      "[EPOCH #1, elapsed time: 11.478[sec]] loss: 4.595797856038606\n",
      "[EPOCH #2, elapsed time: 23.518[sec]] loss: 4.583343388099206\n",
      "[EPOCH #3, elapsed time: 34.305[sec]] loss: 4.577484561019575\n"
     ]
    },
    {
     "name": "stderr",
     "output_type": "stream",
     "text": [
      "/usr/local/lib/python3.10/dist-packages/sklearn/metrics/_classification.py:1344: UndefinedMetricWarning: Precision and F-score are ill-defined and being set to 0.0 in labels with no predicted samples. Use `zero_division` parameter to control this behavior.\n",
      "  _warn_prf(average, modifier, msg_start, len(result))\n",
      "/usr/local/lib/python3.10/dist-packages/sklearn/metrics/_classification.py:1344: UndefinedMetricWarning: Precision and F-score are ill-defined and being set to 0.0 in labels with no predicted samples. Use `zero_division` parameter to control this behavior.\n",
      "  _warn_prf(average, modifier, msg_start, len(result))\n",
      "/usr/local/lib/python3.10/dist-packages/sklearn/metrics/_classification.py:1344: UndefinedMetricWarning: Precision and F-score are ill-defined and being set to 0.0 in labels with no predicted samples. Use `zero_division` parameter to control this behavior.\n",
      "  _warn_prf(average, modifier, msg_start, len(result))\n",
      "/usr/local/lib/python3.10/dist-packages/sklearn/metrics/_classification.py:1344: UndefinedMetricWarning: Precision and F-score are ill-defined and being set to 0.0 in labels with no predicted samples. Use `zero_division` parameter to control this behavior.\n",
      "  _warn_prf(average, modifier, msg_start, len(result))\n",
      "/usr/local/lib/python3.10/dist-packages/sklearn/metrics/_classification.py:1344: UndefinedMetricWarning: Precision and F-score are ill-defined and being set to 0.0 in labels with no predicted samples. Use `zero_division` parameter to control this behavior.\n",
      "  _warn_prf(average, modifier, msg_start, len(result))\n",
      "/usr/local/lib/python3.10/dist-packages/sklearn/metrics/_classification.py:1344: UndefinedMetricWarning: Precision and F-score are ill-defined and being set to 0.0 in labels with no predicted samples. Use `zero_division` parameter to control this behavior.\n",
      "  _warn_prf(average, modifier, msg_start, len(result))\n",
      "[I 2024-05-12 00:17:27,760] Trial 10 finished with value: 0.03574 and parameters: {'learning_rate': 0.09127721118646621, 'momentum': 0.6965512468301884}. Best is trial 8 with value: 0.0625.\n"
     ]
    },
    {
     "name": "stdout",
     "output_type": "stream",
     "text": [
      "==========================================================================================\n",
      "Layer (type:depth-idx)                   Output Shape              Param #\n",
      "==========================================================================================\n",
      "Net                                      [128, 100]                --\n",
      "├─Conv2d: 1-1                            [128, 64, 32, 32]         1,792\n",
      "├─ReLU: 1-2                              [128, 64, 32, 32]         --\n",
      "├─BatchNorm2d: 1-3                       [128, 64, 32, 32]         128\n",
      "├─Conv2d: 1-4                            [128, 64, 32, 32]         36,928\n",
      "├─ReLU: 1-5                              [128, 64, 32, 32]         --\n",
      "├─BatchNorm2d: 1-6                       [128, 64, 32, 32]         128\n",
      "├─MaxPool2d: 1-7                         [128, 64, 16, 16]         --\n",
      "├─Dropout: 1-8                           [128, 64, 16, 16]         --\n",
      "├─Conv2d: 1-9                            [128, 128, 16, 16]        73,856\n",
      "├─ReLU: 1-10                             [128, 128, 16, 16]        --\n",
      "├─BatchNorm2d: 1-11                      [128, 128, 16, 16]        256\n",
      "├─Conv2d: 1-12                           [128, 128, 16, 16]        147,584\n",
      "├─ReLU: 1-13                             [128, 128, 16, 16]        --\n",
      "├─BatchNorm2d: 1-14                      [128, 128, 16, 16]        256\n",
      "├─MaxPool2d: 1-15                        [128, 128, 8, 8]          --\n",
      "├─Dropout: 1-16                          [128, 128, 8, 8]          --\n",
      "├─Conv2d: 1-17                           [128, 256, 8, 8]          295,168\n",
      "├─ReLU: 1-18                             [128, 256, 8, 8]          --\n",
      "├─BatchNorm2d: 1-19                      [128, 256, 8, 8]          512\n",
      "├─Conv2d: 1-20                           [128, 256, 8, 8]          590,080\n",
      "├─ReLU: 1-21                             [128, 256, 8, 8]          --\n",
      "├─BatchNorm2d: 1-22                      [128, 256, 8, 8]          512\n",
      "├─MaxPool2d: 1-23                        [128, 256, 4, 4]          --\n",
      "├─AdaptiveAvgPool2d: 1-24                [128, 256, 2, 2]          --\n",
      "├─Linear: 1-25                           [128, 512]                524,800\n",
      "├─ReLU: 1-26                             [128, 512]                --\n",
      "├─BatchNorm1d: 1-27                      [128, 512]                1,024\n",
      "├─Dropout: 1-28                          [128, 512]                --\n",
      "├─Linear: 1-29                           [128, 128]                65,664\n",
      "├─ReLU: 1-30                             [128, 128]                --\n",
      "├─BatchNorm1d: 1-31                      [128, 128]                256\n",
      "├─Dropout: 1-32                          [128, 128]                --\n",
      "├─Linear: 1-33                           [128, 100]                12,900\n",
      "├─Softmax: 1-34                          [128, 100]                --\n",
      "==========================================================================================\n",
      "Total params: 1,751,844\n",
      "Trainable params: 1,751,844\n",
      "Non-trainable params: 0\n",
      "Total mult-adds (G): 19.66\n",
      "==========================================================================================\n",
      "Input size (MB): 1.57\n",
      "Forward/backward pass size (MB): 471.18\n",
      "Params size (MB): 7.01\n",
      "Estimated Total Size (MB): 479.76\n",
      "==========================================================================================\n",
      "[EPOCH #0] loss: 4.605182180935499\n",
      "[EPOCH #1, elapsed time: 10.495[sec]] loss: 4.586057756012705\n",
      "[EPOCH #2, elapsed time: 21.162[sec]] loss: 4.572475534025401\n",
      "[EPOCH #3, elapsed time: 31.692[sec]] loss: 4.561949871475698\n"
     ]
    },
    {
     "name": "stderr",
     "output_type": "stream",
     "text": [
      "/usr/local/lib/python3.10/dist-packages/sklearn/metrics/_classification.py:1344: UndefinedMetricWarning: Precision and F-score are ill-defined and being set to 0.0 in labels with no predicted samples. Use `zero_division` parameter to control this behavior.\n",
      "  _warn_prf(average, modifier, msg_start, len(result))\n",
      "/usr/local/lib/python3.10/dist-packages/sklearn/metrics/_classification.py:1344: UndefinedMetricWarning: Precision and F-score are ill-defined and being set to 0.0 in labels with no predicted samples. Use `zero_division` parameter to control this behavior.\n",
      "  _warn_prf(average, modifier, msg_start, len(result))\n",
      "/usr/local/lib/python3.10/dist-packages/sklearn/metrics/_classification.py:1344: UndefinedMetricWarning: Precision and F-score are ill-defined and being set to 0.0 in labels with no predicted samples. Use `zero_division` parameter to control this behavior.\n",
      "  _warn_prf(average, modifier, msg_start, len(result))\n",
      "/usr/local/lib/python3.10/dist-packages/sklearn/metrics/_classification.py:1344: UndefinedMetricWarning: Precision and F-score are ill-defined and being set to 0.0 in labels with no predicted samples. Use `zero_division` parameter to control this behavior.\n",
      "  _warn_prf(average, modifier, msg_start, len(result))\n",
      "/usr/local/lib/python3.10/dist-packages/sklearn/metrics/_classification.py:1344: UndefinedMetricWarning: Precision and F-score are ill-defined and being set to 0.0 in labels with no predicted samples. Use `zero_division` parameter to control this behavior.\n",
      "  _warn_prf(average, modifier, msg_start, len(result))\n",
      "/usr/local/lib/python3.10/dist-packages/sklearn/metrics/_classification.py:1344: UndefinedMetricWarning: Precision and F-score are ill-defined and being set to 0.0 in labels with no predicted samples. Use `zero_division` parameter to control this behavior.\n",
      "  _warn_prf(average, modifier, msg_start, len(result))\n",
      "[I 2024-05-12 00:18:14,751] Trial 11 finished with value: 0.0681 and parameters: {'learning_rate': 0.09780502996212616, 'momentum': 0.8912577725515343}. Best is trial 11 with value: 0.0681.\n"
     ]
    },
    {
     "name": "stdout",
     "output_type": "stream",
     "text": [
      "==========================================================================================\n",
      "Layer (type:depth-idx)                   Output Shape              Param #\n",
      "==========================================================================================\n",
      "Net                                      [128, 100]                --\n",
      "├─Conv2d: 1-1                            [128, 64, 32, 32]         1,792\n",
      "├─ReLU: 1-2                              [128, 64, 32, 32]         --\n",
      "├─BatchNorm2d: 1-3                       [128, 64, 32, 32]         128\n",
      "├─Conv2d: 1-4                            [128, 64, 32, 32]         36,928\n",
      "├─ReLU: 1-5                              [128, 64, 32, 32]         --\n",
      "├─BatchNorm2d: 1-6                       [128, 64, 32, 32]         128\n",
      "├─MaxPool2d: 1-7                         [128, 64, 16, 16]         --\n",
      "├─Dropout: 1-8                           [128, 64, 16, 16]         --\n",
      "├─Conv2d: 1-9                            [128, 128, 16, 16]        73,856\n",
      "├─ReLU: 1-10                             [128, 128, 16, 16]        --\n",
      "├─BatchNorm2d: 1-11                      [128, 128, 16, 16]        256\n",
      "├─Conv2d: 1-12                           [128, 128, 16, 16]        147,584\n",
      "├─ReLU: 1-13                             [128, 128, 16, 16]        --\n",
      "├─BatchNorm2d: 1-14                      [128, 128, 16, 16]        256\n",
      "├─MaxPool2d: 1-15                        [128, 128, 8, 8]          --\n",
      "├─Dropout: 1-16                          [128, 128, 8, 8]          --\n",
      "├─Conv2d: 1-17                           [128, 256, 8, 8]          295,168\n",
      "├─ReLU: 1-18                             [128, 256, 8, 8]          --\n",
      "├─BatchNorm2d: 1-19                      [128, 256, 8, 8]          512\n",
      "├─Conv2d: 1-20                           [128, 256, 8, 8]          590,080\n",
      "├─ReLU: 1-21                             [128, 256, 8, 8]          --\n",
      "├─BatchNorm2d: 1-22                      [128, 256, 8, 8]          512\n",
      "├─MaxPool2d: 1-23                        [128, 256, 4, 4]          --\n",
      "├─AdaptiveAvgPool2d: 1-24                [128, 256, 2, 2]          --\n",
      "├─Linear: 1-25                           [128, 512]                524,800\n",
      "├─ReLU: 1-26                             [128, 512]                --\n",
      "├─BatchNorm1d: 1-27                      [128, 512]                1,024\n",
      "├─Dropout: 1-28                          [128, 512]                --\n",
      "├─Linear: 1-29                           [128, 128]                65,664\n",
      "├─ReLU: 1-30                             [128, 128]                --\n",
      "├─BatchNorm1d: 1-31                      [128, 128]                256\n",
      "├─Dropout: 1-32                          [128, 128]                --\n",
      "├─Linear: 1-33                           [128, 100]                12,900\n",
      "├─Softmax: 1-34                          [128, 100]                --\n",
      "==========================================================================================\n",
      "Total params: 1,751,844\n",
      "Trainable params: 1,751,844\n",
      "Non-trainable params: 0\n",
      "Total mult-adds (G): 19.66\n",
      "==========================================================================================\n",
      "Input size (MB): 1.57\n",
      "Forward/backward pass size (MB): 471.18\n",
      "Params size (MB): 7.01\n",
      "Estimated Total Size (MB): 479.76\n",
      "==========================================================================================\n",
      "[EPOCH #0] loss: 4.605195001845015\n",
      "[EPOCH #1, elapsed time: 10.125[sec]] loss: 4.5923643594206105\n",
      "[EPOCH #2, elapsed time: 20.433[sec]] loss: 4.575890445282119\n",
      "[EPOCH #3, elapsed time: 31.993[sec]] loss: 4.564982151878391\n"
     ]
    },
    {
     "name": "stderr",
     "output_type": "stream",
     "text": [
      "/usr/local/lib/python3.10/dist-packages/sklearn/metrics/_classification.py:1344: UndefinedMetricWarning: Precision and F-score are ill-defined and being set to 0.0 in labels with no predicted samples. Use `zero_division` parameter to control this behavior.\n",
      "  _warn_prf(average, modifier, msg_start, len(result))\n",
      "/usr/local/lib/python3.10/dist-packages/sklearn/metrics/_classification.py:1344: UndefinedMetricWarning: Precision and F-score are ill-defined and being set to 0.0 in labels with no predicted samples. Use `zero_division` parameter to control this behavior.\n",
      "  _warn_prf(average, modifier, msg_start, len(result))\n",
      "/usr/local/lib/python3.10/dist-packages/sklearn/metrics/_classification.py:1344: UndefinedMetricWarning: Precision and F-score are ill-defined and being set to 0.0 in labels with no predicted samples. Use `zero_division` parameter to control this behavior.\n",
      "  _warn_prf(average, modifier, msg_start, len(result))\n",
      "/usr/local/lib/python3.10/dist-packages/sklearn/metrics/_classification.py:1344: UndefinedMetricWarning: Precision and F-score are ill-defined and being set to 0.0 in labels with no predicted samples. Use `zero_division` parameter to control this behavior.\n",
      "  _warn_prf(average, modifier, msg_start, len(result))\n",
      "/usr/local/lib/python3.10/dist-packages/sklearn/metrics/_classification.py:1344: UndefinedMetricWarning: Precision and F-score are ill-defined and being set to 0.0 in labels with no predicted samples. Use `zero_division` parameter to control this behavior.\n",
      "  _warn_prf(average, modifier, msg_start, len(result))\n",
      "/usr/local/lib/python3.10/dist-packages/sklearn/metrics/_classification.py:1344: UndefinedMetricWarning: Precision and F-score are ill-defined and being set to 0.0 in labels with no predicted samples. Use `zero_division` parameter to control this behavior.\n",
      "  _warn_prf(average, modifier, msg_start, len(result))\n",
      "[I 2024-05-12 00:19:04,075] Trial 12 finished with value: 0.05528 and parameters: {'learning_rate': 0.08812826033102203, 'momentum': 0.7467212218810378}. Best is trial 11 with value: 0.0681.\n"
     ]
    },
    {
     "name": "stdout",
     "output_type": "stream",
     "text": [
      "==========================================================================================\n",
      "Layer (type:depth-idx)                   Output Shape              Param #\n",
      "==========================================================================================\n",
      "Net                                      [128, 100]                --\n",
      "├─Conv2d: 1-1                            [128, 64, 32, 32]         1,792\n",
      "├─ReLU: 1-2                              [128, 64, 32, 32]         --\n",
      "├─BatchNorm2d: 1-3                       [128, 64, 32, 32]         128\n",
      "├─Conv2d: 1-4                            [128, 64, 32, 32]         36,928\n",
      "├─ReLU: 1-5                              [128, 64, 32, 32]         --\n",
      "├─BatchNorm2d: 1-6                       [128, 64, 32, 32]         128\n",
      "├─MaxPool2d: 1-7                         [128, 64, 16, 16]         --\n",
      "├─Dropout: 1-8                           [128, 64, 16, 16]         --\n",
      "├─Conv2d: 1-9                            [128, 128, 16, 16]        73,856\n",
      "├─ReLU: 1-10                             [128, 128, 16, 16]        --\n",
      "├─BatchNorm2d: 1-11                      [128, 128, 16, 16]        256\n",
      "├─Conv2d: 1-12                           [128, 128, 16, 16]        147,584\n",
      "├─ReLU: 1-13                             [128, 128, 16, 16]        --\n",
      "├─BatchNorm2d: 1-14                      [128, 128, 16, 16]        256\n",
      "├─MaxPool2d: 1-15                        [128, 128, 8, 8]          --\n",
      "├─Dropout: 1-16                          [128, 128, 8, 8]          --\n",
      "├─Conv2d: 1-17                           [128, 256, 8, 8]          295,168\n",
      "├─ReLU: 1-18                             [128, 256, 8, 8]          --\n",
      "├─BatchNorm2d: 1-19                      [128, 256, 8, 8]          512\n",
      "├─Conv2d: 1-20                           [128, 256, 8, 8]          590,080\n",
      "├─ReLU: 1-21                             [128, 256, 8, 8]          --\n",
      "├─BatchNorm2d: 1-22                      [128, 256, 8, 8]          512\n",
      "├─MaxPool2d: 1-23                        [128, 256, 4, 4]          --\n",
      "├─AdaptiveAvgPool2d: 1-24                [128, 256, 2, 2]          --\n",
      "├─Linear: 1-25                           [128, 512]                524,800\n",
      "├─ReLU: 1-26                             [128, 512]                --\n",
      "├─BatchNorm1d: 1-27                      [128, 512]                1,024\n",
      "├─Dropout: 1-28                          [128, 512]                --\n",
      "├─Linear: 1-29                           [128, 128]                65,664\n",
      "├─ReLU: 1-30                             [128, 128]                --\n",
      "├─BatchNorm1d: 1-31                      [128, 128]                256\n",
      "├─Dropout: 1-32                          [128, 128]                --\n",
      "├─Linear: 1-33                           [128, 100]                12,900\n",
      "├─Softmax: 1-34                          [128, 100]                --\n",
      "==========================================================================================\n",
      "Total params: 1,751,844\n",
      "Trainable params: 1,751,844\n",
      "Non-trainable params: 0\n",
      "Total mult-adds (G): 19.66\n",
      "==========================================================================================\n",
      "Input size (MB): 1.57\n",
      "Forward/backward pass size (MB): 471.18\n",
      "Params size (MB): 7.01\n",
      "Estimated Total Size (MB): 479.76\n",
      "==========================================================================================\n",
      "[EPOCH #0] loss: 4.6051814582053465\n",
      "[EPOCH #1, elapsed time: 14.940[sec]] loss: 4.605164534299708\n",
      "[EPOCH #2, elapsed time: 24.969[sec]] loss: 4.605124017479934\n",
      "[EPOCH #3, elapsed time: 36.150[sec]] loss: 4.605111674627889\n"
     ]
    },
    {
     "name": "stderr",
     "output_type": "stream",
     "text": [
      "/usr/local/lib/python3.10/dist-packages/sklearn/metrics/_classification.py:1344: UndefinedMetricWarning: Precision and F-score are ill-defined and being set to 0.0 in labels with no predicted samples. Use `zero_division` parameter to control this behavior.\n",
      "  _warn_prf(average, modifier, msg_start, len(result))\n",
      "/usr/local/lib/python3.10/dist-packages/sklearn/metrics/_classification.py:1344: UndefinedMetricWarning: Precision and F-score are ill-defined and being set to 0.0 in labels with no predicted samples. Use `zero_division` parameter to control this behavior.\n",
      "  _warn_prf(average, modifier, msg_start, len(result))\n",
      "/usr/local/lib/python3.10/dist-packages/sklearn/metrics/_classification.py:1344: UndefinedMetricWarning: Precision and F-score are ill-defined and being set to 0.0 in labels with no predicted samples. Use `zero_division` parameter to control this behavior.\n",
      "  _warn_prf(average, modifier, msg_start, len(result))\n",
      "/usr/local/lib/python3.10/dist-packages/sklearn/metrics/_classification.py:1344: UndefinedMetricWarning: Precision and F-score are ill-defined and being set to 0.0 in labels with no predicted samples. Use `zero_division` parameter to control this behavior.\n",
      "  _warn_prf(average, modifier, msg_start, len(result))\n",
      "/usr/local/lib/python3.10/dist-packages/sklearn/metrics/_classification.py:1344: UndefinedMetricWarning: Precision and F-score are ill-defined and being set to 0.0 in labels with no predicted samples. Use `zero_division` parameter to control this behavior.\n",
      "  _warn_prf(average, modifier, msg_start, len(result))\n",
      "/usr/local/lib/python3.10/dist-packages/sklearn/metrics/_classification.py:1344: UndefinedMetricWarning: Precision and F-score are ill-defined and being set to 0.0 in labels with no predicted samples. Use `zero_division` parameter to control this behavior.\n",
      "  _warn_prf(average, modifier, msg_start, len(result))\n",
      "[I 2024-05-12 00:19:54,203] Trial 13 finished with value: 0.01092 and parameters: {'learning_rate': 0.00076561499267525, 'momentum': 0.6706586395351547}. Best is trial 11 with value: 0.0681.\n"
     ]
    },
    {
     "name": "stdout",
     "output_type": "stream",
     "text": [
      "==========================================================================================\n",
      "Layer (type:depth-idx)                   Output Shape              Param #\n",
      "==========================================================================================\n",
      "Net                                      [128, 100]                --\n",
      "├─Conv2d: 1-1                            [128, 64, 32, 32]         1,792\n",
      "├─ReLU: 1-2                              [128, 64, 32, 32]         --\n",
      "├─BatchNorm2d: 1-3                       [128, 64, 32, 32]         128\n",
      "├─Conv2d: 1-4                            [128, 64, 32, 32]         36,928\n",
      "├─ReLU: 1-5                              [128, 64, 32, 32]         --\n",
      "├─BatchNorm2d: 1-6                       [128, 64, 32, 32]         128\n",
      "├─MaxPool2d: 1-7                         [128, 64, 16, 16]         --\n",
      "├─Dropout: 1-8                           [128, 64, 16, 16]         --\n",
      "├─Conv2d: 1-9                            [128, 128, 16, 16]        73,856\n",
      "├─ReLU: 1-10                             [128, 128, 16, 16]        --\n",
      "├─BatchNorm2d: 1-11                      [128, 128, 16, 16]        256\n",
      "├─Conv2d: 1-12                           [128, 128, 16, 16]        147,584\n",
      "├─ReLU: 1-13                             [128, 128, 16, 16]        --\n",
      "├─BatchNorm2d: 1-14                      [128, 128, 16, 16]        256\n",
      "├─MaxPool2d: 1-15                        [128, 128, 8, 8]          --\n",
      "├─Dropout: 1-16                          [128, 128, 8, 8]          --\n",
      "├─Conv2d: 1-17                           [128, 256, 8, 8]          295,168\n",
      "├─ReLU: 1-18                             [128, 256, 8, 8]          --\n",
      "├─BatchNorm2d: 1-19                      [128, 256, 8, 8]          512\n",
      "├─Conv2d: 1-20                           [128, 256, 8, 8]          590,080\n",
      "├─ReLU: 1-21                             [128, 256, 8, 8]          --\n",
      "├─BatchNorm2d: 1-22                      [128, 256, 8, 8]          512\n",
      "├─MaxPool2d: 1-23                        [128, 256, 4, 4]          --\n",
      "├─AdaptiveAvgPool2d: 1-24                [128, 256, 2, 2]          --\n",
      "├─Linear: 1-25                           [128, 512]                524,800\n",
      "├─ReLU: 1-26                             [128, 512]                --\n",
      "├─BatchNorm1d: 1-27                      [128, 512]                1,024\n",
      "├─Dropout: 1-28                          [128, 512]                --\n",
      "├─Linear: 1-29                           [128, 128]                65,664\n",
      "├─ReLU: 1-30                             [128, 128]                --\n",
      "├─BatchNorm1d: 1-31                      [128, 128]                256\n",
      "├─Dropout: 1-32                          [128, 128]                --\n",
      "├─Linear: 1-33                           [128, 100]                12,900\n",
      "├─Softmax: 1-34                          [128, 100]                --\n",
      "==========================================================================================\n",
      "Total params: 1,751,844\n",
      "Trainable params: 1,751,844\n",
      "Non-trainable params: 0\n",
      "Total mult-adds (G): 19.66\n",
      "==========================================================================================\n",
      "Input size (MB): 1.57\n",
      "Forward/backward pass size (MB): 471.18\n",
      "Params size (MB): 7.01\n",
      "Estimated Total Size (MB): 479.76\n",
      "==========================================================================================\n",
      "[EPOCH #0] loss: 4.60518208636127\n",
      "[EPOCH #1, elapsed time: 11.982[sec]] loss: 4.601626818407367\n",
      "[EPOCH #2, elapsed time: 22.163[sec]] loss: 4.591308653850397\n",
      "[EPOCH #3, elapsed time: 33.223[sec]] loss: 4.584672608744694\n"
     ]
    },
    {
     "name": "stderr",
     "output_type": "stream",
     "text": [
      "/usr/local/lib/python3.10/dist-packages/sklearn/metrics/_classification.py:1344: UndefinedMetricWarning: Precision and F-score are ill-defined and being set to 0.0 in labels with no predicted samples. Use `zero_division` parameter to control this behavior.\n",
      "  _warn_prf(average, modifier, msg_start, len(result))\n",
      "/usr/local/lib/python3.10/dist-packages/sklearn/metrics/_classification.py:1344: UndefinedMetricWarning: Precision and F-score are ill-defined and being set to 0.0 in labels with no predicted samples. Use `zero_division` parameter to control this behavior.\n",
      "  _warn_prf(average, modifier, msg_start, len(result))\n",
      "/usr/local/lib/python3.10/dist-packages/sklearn/metrics/_classification.py:1344: UndefinedMetricWarning: Precision and F-score are ill-defined and being set to 0.0 in labels with no predicted samples. Use `zero_division` parameter to control this behavior.\n",
      "  _warn_prf(average, modifier, msg_start, len(result))\n",
      "/usr/local/lib/python3.10/dist-packages/sklearn/metrics/_classification.py:1344: UndefinedMetricWarning: Precision and F-score are ill-defined and being set to 0.0 in labels with no predicted samples. Use `zero_division` parameter to control this behavior.\n",
      "  _warn_prf(average, modifier, msg_start, len(result))\n",
      "/usr/local/lib/python3.10/dist-packages/sklearn/metrics/_classification.py:1344: UndefinedMetricWarning: Precision and F-score are ill-defined and being set to 0.0 in labels with no predicted samples. Use `zero_division` parameter to control this behavior.\n",
      "  _warn_prf(average, modifier, msg_start, len(result))\n",
      "/usr/local/lib/python3.10/dist-packages/sklearn/metrics/_classification.py:1344: UndefinedMetricWarning: Precision and F-score are ill-defined and being set to 0.0 in labels with no predicted samples. Use `zero_division` parameter to control this behavior.\n",
      "  _warn_prf(average, modifier, msg_start, len(result))\n",
      "[I 2024-05-12 00:20:42,318] Trial 14 finished with value: 0.02298 and parameters: {'learning_rate': 0.03560613901965581, 'momentum': 0.5483519604300299}. Best is trial 11 with value: 0.0681.\n"
     ]
    },
    {
     "name": "stdout",
     "output_type": "stream",
     "text": [
      "==========================================================================================\n",
      "Layer (type:depth-idx)                   Output Shape              Param #\n",
      "==========================================================================================\n",
      "Net                                      [128, 100]                --\n",
      "├─Conv2d: 1-1                            [128, 64, 32, 32]         1,792\n",
      "├─ReLU: 1-2                              [128, 64, 32, 32]         --\n",
      "├─BatchNorm2d: 1-3                       [128, 64, 32, 32]         128\n",
      "├─Conv2d: 1-4                            [128, 64, 32, 32]         36,928\n",
      "├─ReLU: 1-5                              [128, 64, 32, 32]         --\n",
      "├─BatchNorm2d: 1-6                       [128, 64, 32, 32]         128\n",
      "├─MaxPool2d: 1-7                         [128, 64, 16, 16]         --\n",
      "├─Dropout: 1-8                           [128, 64, 16, 16]         --\n",
      "├─Conv2d: 1-9                            [128, 128, 16, 16]        73,856\n",
      "├─ReLU: 1-10                             [128, 128, 16, 16]        --\n",
      "├─BatchNorm2d: 1-11                      [128, 128, 16, 16]        256\n",
      "├─Conv2d: 1-12                           [128, 128, 16, 16]        147,584\n",
      "├─ReLU: 1-13                             [128, 128, 16, 16]        --\n",
      "├─BatchNorm2d: 1-14                      [128, 128, 16, 16]        256\n",
      "├─MaxPool2d: 1-15                        [128, 128, 8, 8]          --\n",
      "├─Dropout: 1-16                          [128, 128, 8, 8]          --\n",
      "├─Conv2d: 1-17                           [128, 256, 8, 8]          295,168\n",
      "├─ReLU: 1-18                             [128, 256, 8, 8]          --\n",
      "├─BatchNorm2d: 1-19                      [128, 256, 8, 8]          512\n",
      "├─Conv2d: 1-20                           [128, 256, 8, 8]          590,080\n",
      "├─ReLU: 1-21                             [128, 256, 8, 8]          --\n",
      "├─BatchNorm2d: 1-22                      [128, 256, 8, 8]          512\n",
      "├─MaxPool2d: 1-23                        [128, 256, 4, 4]          --\n",
      "├─AdaptiveAvgPool2d: 1-24                [128, 256, 2, 2]          --\n",
      "├─Linear: 1-25                           [128, 512]                524,800\n",
      "├─ReLU: 1-26                             [128, 512]                --\n",
      "├─BatchNorm1d: 1-27                      [128, 512]                1,024\n",
      "├─Dropout: 1-28                          [128, 512]                --\n",
      "├─Linear: 1-29                           [128, 128]                65,664\n",
      "├─ReLU: 1-30                             [128, 128]                --\n",
      "├─BatchNorm1d: 1-31                      [128, 128]                256\n",
      "├─Dropout: 1-32                          [128, 128]                --\n",
      "├─Linear: 1-33                           [128, 100]                12,900\n",
      "├─Softmax: 1-34                          [128, 100]                --\n",
      "==========================================================================================\n",
      "Total params: 1,751,844\n",
      "Trainable params: 1,751,844\n",
      "Non-trainable params: 0\n",
      "Total mult-adds (G): 19.66\n",
      "==========================================================================================\n",
      "Input size (MB): 1.57\n",
      "Forward/backward pass size (MB): 471.18\n",
      "Params size (MB): 7.01\n",
      "Estimated Total Size (MB): 479.76\n",
      "==========================================================================================\n",
      "[EPOCH #0] loss: 4.605157229813413\n",
      "[EPOCH #1, elapsed time: 12.552[sec]] loss: 4.605011120867592\n",
      "[EPOCH #2, elapsed time: 25.719[sec]] loss: 4.60468168313581\n",
      "[EPOCH #3, elapsed time: 38.075[sec]] loss: 4.60404126337531\n"
     ]
    },
    {
     "name": "stderr",
     "output_type": "stream",
     "text": [
      "/usr/local/lib/python3.10/dist-packages/sklearn/metrics/_classification.py:1344: UndefinedMetricWarning: Precision and F-score are ill-defined and being set to 0.0 in labels with no predicted samples. Use `zero_division` parameter to control this behavior.\n",
      "  _warn_prf(average, modifier, msg_start, len(result))\n",
      "/usr/local/lib/python3.10/dist-packages/sklearn/metrics/_classification.py:1344: UndefinedMetricWarning: Precision and F-score are ill-defined and being set to 0.0 in labels with no predicted samples. Use `zero_division` parameter to control this behavior.\n",
      "  _warn_prf(average, modifier, msg_start, len(result))\n",
      "/usr/local/lib/python3.10/dist-packages/sklearn/metrics/_classification.py:1344: UndefinedMetricWarning: Precision and F-score are ill-defined and being set to 0.0 in labels with no predicted samples. Use `zero_division` parameter to control this behavior.\n",
      "  _warn_prf(average, modifier, msg_start, len(result))\n",
      "/usr/local/lib/python3.10/dist-packages/sklearn/metrics/_classification.py:1344: UndefinedMetricWarning: Precision and F-score are ill-defined and being set to 0.0 in labels with no predicted samples. Use `zero_division` parameter to control this behavior.\n",
      "  _warn_prf(average, modifier, msg_start, len(result))\n",
      "/usr/local/lib/python3.10/dist-packages/sklearn/metrics/_classification.py:1344: UndefinedMetricWarning: Precision and F-score are ill-defined and being set to 0.0 in labels with no predicted samples. Use `zero_division` parameter to control this behavior.\n",
      "  _warn_prf(average, modifier, msg_start, len(result))\n",
      "/usr/local/lib/python3.10/dist-packages/sklearn/metrics/_classification.py:1344: UndefinedMetricWarning: Precision and F-score are ill-defined and being set to 0.0 in labels with no predicted samples. Use `zero_division` parameter to control this behavior.\n",
      "  _warn_prf(average, modifier, msg_start, len(result))\n",
      "[I 2024-05-12 00:21:37,283] Trial 15 finished with value: 0.01276 and parameters: {'learning_rate': 0.0022469509567340086, 'momentum': 0.8904886461879522}. Best is trial 11 with value: 0.0681.\n"
     ]
    },
    {
     "name": "stdout",
     "output_type": "stream",
     "text": [
      "==========================================================================================\n",
      "Layer (type:depth-idx)                   Output Shape              Param #\n",
      "==========================================================================================\n",
      "Net                                      [128, 100]                --\n",
      "├─Conv2d: 1-1                            [128, 64, 32, 32]         1,792\n",
      "├─ReLU: 1-2                              [128, 64, 32, 32]         --\n",
      "├─BatchNorm2d: 1-3                       [128, 64, 32, 32]         128\n",
      "├─Conv2d: 1-4                            [128, 64, 32, 32]         36,928\n",
      "├─ReLU: 1-5                              [128, 64, 32, 32]         --\n",
      "├─BatchNorm2d: 1-6                       [128, 64, 32, 32]         128\n",
      "├─MaxPool2d: 1-7                         [128, 64, 16, 16]         --\n",
      "├─Dropout: 1-8                           [128, 64, 16, 16]         --\n",
      "├─Conv2d: 1-9                            [128, 128, 16, 16]        73,856\n",
      "├─ReLU: 1-10                             [128, 128, 16, 16]        --\n",
      "├─BatchNorm2d: 1-11                      [128, 128, 16, 16]        256\n",
      "├─Conv2d: 1-12                           [128, 128, 16, 16]        147,584\n",
      "├─ReLU: 1-13                             [128, 128, 16, 16]        --\n",
      "├─BatchNorm2d: 1-14                      [128, 128, 16, 16]        256\n",
      "├─MaxPool2d: 1-15                        [128, 128, 8, 8]          --\n",
      "├─Dropout: 1-16                          [128, 128, 8, 8]          --\n",
      "├─Conv2d: 1-17                           [128, 256, 8, 8]          295,168\n",
      "├─ReLU: 1-18                             [128, 256, 8, 8]          --\n",
      "├─BatchNorm2d: 1-19                      [128, 256, 8, 8]          512\n",
      "├─Conv2d: 1-20                           [128, 256, 8, 8]          590,080\n",
      "├─ReLU: 1-21                             [128, 256, 8, 8]          --\n",
      "├─BatchNorm2d: 1-22                      [128, 256, 8, 8]          512\n",
      "├─MaxPool2d: 1-23                        [128, 256, 4, 4]          --\n",
      "├─AdaptiveAvgPool2d: 1-24                [128, 256, 2, 2]          --\n",
      "├─Linear: 1-25                           [128, 512]                524,800\n",
      "├─ReLU: 1-26                             [128, 512]                --\n",
      "├─BatchNorm1d: 1-27                      [128, 512]                1,024\n",
      "├─Dropout: 1-28                          [128, 512]                --\n",
      "├─Linear: 1-29                           [128, 128]                65,664\n",
      "├─ReLU: 1-30                             [128, 128]                --\n",
      "├─BatchNorm1d: 1-31                      [128, 128]                256\n",
      "├─Dropout: 1-32                          [128, 128]                --\n",
      "├─Linear: 1-33                           [128, 100]                12,900\n",
      "├─Softmax: 1-34                          [128, 100]                --\n",
      "==========================================================================================\n",
      "Total params: 1,751,844\n",
      "Trainable params: 1,751,844\n",
      "Non-trainable params: 0\n",
      "Total mult-adds (G): 19.66\n",
      "==========================================================================================\n",
      "Input size (MB): 1.57\n",
      "Forward/backward pass size (MB): 471.18\n",
      "Params size (MB): 7.01\n",
      "Estimated Total Size (MB): 479.76\n",
      "==========================================================================================\n",
      "[EPOCH #0] loss: 4.60519723318665\n",
      "[EPOCH #1, elapsed time: 10.428[sec]] loss: 4.6051990850110585\n",
      "[EPOCH #2, elapsed time: 20.638[sec]] loss: 4.605188888383842\n",
      "[EPOCH #3, elapsed time: 31.006[sec]] loss: 4.605178674062093\n"
     ]
    },
    {
     "name": "stderr",
     "output_type": "stream",
     "text": [
      "/usr/local/lib/python3.10/dist-packages/sklearn/metrics/_classification.py:1344: UndefinedMetricWarning: Precision and F-score are ill-defined and being set to 0.0 in labels with no predicted samples. Use `zero_division` parameter to control this behavior.\n",
      "  _warn_prf(average, modifier, msg_start, len(result))\n",
      "/usr/local/lib/python3.10/dist-packages/sklearn/metrics/_classification.py:1344: UndefinedMetricWarning: Precision and F-score are ill-defined and being set to 0.0 in labels with no predicted samples. Use `zero_division` parameter to control this behavior.\n",
      "  _warn_prf(average, modifier, msg_start, len(result))\n",
      "/usr/local/lib/python3.10/dist-packages/sklearn/metrics/_classification.py:1344: UndefinedMetricWarning: Precision and F-score are ill-defined and being set to 0.0 in labels with no predicted samples. Use `zero_division` parameter to control this behavior.\n",
      "  _warn_prf(average, modifier, msg_start, len(result))\n",
      "/usr/local/lib/python3.10/dist-packages/sklearn/metrics/_classification.py:1344: UndefinedMetricWarning: Precision and F-score are ill-defined and being set to 0.0 in labels with no predicted samples. Use `zero_division` parameter to control this behavior.\n",
      "  _warn_prf(average, modifier, msg_start, len(result))\n",
      "/usr/local/lib/python3.10/dist-packages/sklearn/metrics/_classification.py:1344: UndefinedMetricWarning: Precision and F-score are ill-defined and being set to 0.0 in labels with no predicted samples. Use `zero_division` parameter to control this behavior.\n",
      "  _warn_prf(average, modifier, msg_start, len(result))\n",
      "/usr/local/lib/python3.10/dist-packages/sklearn/metrics/_classification.py:1344: UndefinedMetricWarning: Precision and F-score are ill-defined and being set to 0.0 in labels with no predicted samples. Use `zero_division` parameter to control this behavior.\n",
      "  _warn_prf(average, modifier, msg_start, len(result))\n",
      "[I 2024-05-12 00:22:22,225] Trial 16 finished with value: 0.00666 and parameters: {'learning_rate': 0.00020626175830863302, 'momentum': 0.7448669209136307}. Best is trial 11 with value: 0.0681.\n"
     ]
    },
    {
     "name": "stdout",
     "output_type": "stream",
     "text": [
      "==========================================================================================\n",
      "Layer (type:depth-idx)                   Output Shape              Param #\n",
      "==========================================================================================\n",
      "Net                                      [128, 100]                --\n",
      "├─Conv2d: 1-1                            [128, 64, 32, 32]         1,792\n",
      "├─ReLU: 1-2                              [128, 64, 32, 32]         --\n",
      "├─BatchNorm2d: 1-3                       [128, 64, 32, 32]         128\n",
      "├─Conv2d: 1-4                            [128, 64, 32, 32]         36,928\n",
      "├─ReLU: 1-5                              [128, 64, 32, 32]         --\n",
      "├─BatchNorm2d: 1-6                       [128, 64, 32, 32]         128\n",
      "├─MaxPool2d: 1-7                         [128, 64, 16, 16]         --\n",
      "├─Dropout: 1-8                           [128, 64, 16, 16]         --\n",
      "├─Conv2d: 1-9                            [128, 128, 16, 16]        73,856\n",
      "├─ReLU: 1-10                             [128, 128, 16, 16]        --\n",
      "├─BatchNorm2d: 1-11                      [128, 128, 16, 16]        256\n",
      "├─Conv2d: 1-12                           [128, 128, 16, 16]        147,584\n",
      "├─ReLU: 1-13                             [128, 128, 16, 16]        --\n",
      "├─BatchNorm2d: 1-14                      [128, 128, 16, 16]        256\n",
      "├─MaxPool2d: 1-15                        [128, 128, 8, 8]          --\n",
      "├─Dropout: 1-16                          [128, 128, 8, 8]          --\n",
      "├─Conv2d: 1-17                           [128, 256, 8, 8]          295,168\n",
      "├─ReLU: 1-18                             [128, 256, 8, 8]          --\n",
      "├─BatchNorm2d: 1-19                      [128, 256, 8, 8]          512\n",
      "├─Conv2d: 1-20                           [128, 256, 8, 8]          590,080\n",
      "├─ReLU: 1-21                             [128, 256, 8, 8]          --\n",
      "├─BatchNorm2d: 1-22                      [128, 256, 8, 8]          512\n",
      "├─MaxPool2d: 1-23                        [128, 256, 4, 4]          --\n",
      "├─AdaptiveAvgPool2d: 1-24                [128, 256, 2, 2]          --\n",
      "├─Linear: 1-25                           [128, 512]                524,800\n",
      "├─ReLU: 1-26                             [128, 512]                --\n",
      "├─BatchNorm1d: 1-27                      [128, 512]                1,024\n",
      "├─Dropout: 1-28                          [128, 512]                --\n",
      "├─Linear: 1-29                           [128, 128]                65,664\n",
      "├─ReLU: 1-30                             [128, 128]                --\n",
      "├─BatchNorm1d: 1-31                      [128, 128]                256\n",
      "├─Dropout: 1-32                          [128, 128]                --\n",
      "├─Linear: 1-33                           [128, 100]                12,900\n",
      "├─Softmax: 1-34                          [128, 100]                --\n",
      "==========================================================================================\n",
      "Total params: 1,751,844\n",
      "Trainable params: 1,751,844\n",
      "Non-trainable params: 0\n",
      "Total mult-adds (G): 19.66\n",
      "==========================================================================================\n",
      "Input size (MB): 1.57\n",
      "Forward/backward pass size (MB): 471.18\n",
      "Params size (MB): 7.01\n",
      "Estimated Total Size (MB): 479.76\n",
      "==========================================================================================\n",
      "[EPOCH #0] loss: 4.60515555249371\n",
      "[EPOCH #1, elapsed time: 10.906[sec]] loss: 4.599313061434111\n",
      "[EPOCH #2, elapsed time: 23.841[sec]] loss: 4.584639846706573\n",
      "[EPOCH #3, elapsed time: 37.975[sec]] loss: 4.571283587872486\n"
     ]
    },
    {
     "name": "stderr",
     "output_type": "stream",
     "text": [
      "/usr/local/lib/python3.10/dist-packages/sklearn/metrics/_classification.py:1344: UndefinedMetricWarning: Precision and F-score are ill-defined and being set to 0.0 in labels with no predicted samples. Use `zero_division` parameter to control this behavior.\n",
      "  _warn_prf(average, modifier, msg_start, len(result))\n",
      "/usr/local/lib/python3.10/dist-packages/sklearn/metrics/_classification.py:1344: UndefinedMetricWarning: Precision and F-score are ill-defined and being set to 0.0 in labels with no predicted samples. Use `zero_division` parameter to control this behavior.\n",
      "  _warn_prf(average, modifier, msg_start, len(result))\n",
      "/usr/local/lib/python3.10/dist-packages/sklearn/metrics/_classification.py:1344: UndefinedMetricWarning: Precision and F-score are ill-defined and being set to 0.0 in labels with no predicted samples. Use `zero_division` parameter to control this behavior.\n",
      "  _warn_prf(average, modifier, msg_start, len(result))\n",
      "/usr/local/lib/python3.10/dist-packages/sklearn/metrics/_classification.py:1344: UndefinedMetricWarning: Precision and F-score are ill-defined and being set to 0.0 in labels with no predicted samples. Use `zero_division` parameter to control this behavior.\n",
      "  _warn_prf(average, modifier, msg_start, len(result))\n",
      "/usr/local/lib/python3.10/dist-packages/sklearn/metrics/_classification.py:1344: UndefinedMetricWarning: Precision and F-score are ill-defined and being set to 0.0 in labels with no predicted samples. Use `zero_division` parameter to control this behavior.\n",
      "  _warn_prf(average, modifier, msg_start, len(result))\n",
      "/usr/local/lib/python3.10/dist-packages/sklearn/metrics/_classification.py:1344: UndefinedMetricWarning: Precision and F-score are ill-defined and being set to 0.0 in labels with no predicted samples. Use `zero_division` parameter to control this behavior.\n",
      "  _warn_prf(average, modifier, msg_start, len(result))\n",
      "[I 2024-05-12 00:23:15,564] Trial 17 finished with value: 0.04214 and parameters: {'learning_rate': 0.03679162717171177, 'momentum': 0.7296097227188296}. Best is trial 11 with value: 0.0681.\n"
     ]
    },
    {
     "name": "stdout",
     "output_type": "stream",
     "text": [
      "==========================================================================================\n",
      "Layer (type:depth-idx)                   Output Shape              Param #\n",
      "==========================================================================================\n",
      "Net                                      [128, 100]                --\n",
      "├─Conv2d: 1-1                            [128, 64, 32, 32]         1,792\n",
      "├─ReLU: 1-2                              [128, 64, 32, 32]         --\n",
      "├─BatchNorm2d: 1-3                       [128, 64, 32, 32]         128\n",
      "├─Conv2d: 1-4                            [128, 64, 32, 32]         36,928\n",
      "├─ReLU: 1-5                              [128, 64, 32, 32]         --\n",
      "├─BatchNorm2d: 1-6                       [128, 64, 32, 32]         128\n",
      "├─MaxPool2d: 1-7                         [128, 64, 16, 16]         --\n",
      "├─Dropout: 1-8                           [128, 64, 16, 16]         --\n",
      "├─Conv2d: 1-9                            [128, 128, 16, 16]        73,856\n",
      "├─ReLU: 1-10                             [128, 128, 16, 16]        --\n",
      "├─BatchNorm2d: 1-11                      [128, 128, 16, 16]        256\n",
      "├─Conv2d: 1-12                           [128, 128, 16, 16]        147,584\n",
      "├─ReLU: 1-13                             [128, 128, 16, 16]        --\n",
      "├─BatchNorm2d: 1-14                      [128, 128, 16, 16]        256\n",
      "├─MaxPool2d: 1-15                        [128, 128, 8, 8]          --\n",
      "├─Dropout: 1-16                          [128, 128, 8, 8]          --\n",
      "├─Conv2d: 1-17                           [128, 256, 8, 8]          295,168\n",
      "├─ReLU: 1-18                             [128, 256, 8, 8]          --\n",
      "├─BatchNorm2d: 1-19                      [128, 256, 8, 8]          512\n",
      "├─Conv2d: 1-20                           [128, 256, 8, 8]          590,080\n",
      "├─ReLU: 1-21                             [128, 256, 8, 8]          --\n",
      "├─BatchNorm2d: 1-22                      [128, 256, 8, 8]          512\n",
      "├─MaxPool2d: 1-23                        [128, 256, 4, 4]          --\n",
      "├─AdaptiveAvgPool2d: 1-24                [128, 256, 2, 2]          --\n",
      "├─Linear: 1-25                           [128, 512]                524,800\n",
      "├─ReLU: 1-26                             [128, 512]                --\n",
      "├─BatchNorm1d: 1-27                      [128, 512]                1,024\n",
      "├─Dropout: 1-28                          [128, 512]                --\n",
      "├─Linear: 1-29                           [128, 128]                65,664\n",
      "├─ReLU: 1-30                             [128, 128]                --\n",
      "├─BatchNorm1d: 1-31                      [128, 128]                256\n",
      "├─Dropout: 1-32                          [128, 128]                --\n",
      "├─Linear: 1-33                           [128, 100]                12,900\n",
      "├─Softmax: 1-34                          [128, 100]                --\n",
      "==========================================================================================\n",
      "Total params: 1,751,844\n",
      "Trainable params: 1,751,844\n",
      "Non-trainable params: 0\n",
      "Total mult-adds (G): 19.66\n",
      "==========================================================================================\n",
      "Input size (MB): 1.57\n",
      "Forward/backward pass size (MB): 471.18\n",
      "Params size (MB): 7.01\n",
      "Estimated Total Size (MB): 479.76\n",
      "==========================================================================================\n",
      "[EPOCH #0] loss: 4.605167092380047\n",
      "[EPOCH #1, elapsed time: 13.958[sec]] loss: 4.595572064339314\n",
      "[EPOCH #2, elapsed time: 25.957[sec]] loss: 4.580542029590082\n",
      "[EPOCH #3, elapsed time: 37.813[sec]] loss: 4.5676510170798075\n"
     ]
    },
    {
     "name": "stderr",
     "output_type": "stream",
     "text": [
      "/usr/local/lib/python3.10/dist-packages/sklearn/metrics/_classification.py:1344: UndefinedMetricWarning: Precision and F-score are ill-defined and being set to 0.0 in labels with no predicted samples. Use `zero_division` parameter to control this behavior.\n",
      "  _warn_prf(average, modifier, msg_start, len(result))\n",
      "/usr/local/lib/python3.10/dist-packages/sklearn/metrics/_classification.py:1344: UndefinedMetricWarning: Precision and F-score are ill-defined and being set to 0.0 in labels with no predicted samples. Use `zero_division` parameter to control this behavior.\n",
      "  _warn_prf(average, modifier, msg_start, len(result))\n",
      "/usr/local/lib/python3.10/dist-packages/sklearn/metrics/_classification.py:1344: UndefinedMetricWarning: Precision and F-score are ill-defined and being set to 0.0 in labels with no predicted samples. Use `zero_division` parameter to control this behavior.\n",
      "  _warn_prf(average, modifier, msg_start, len(result))\n",
      "/usr/local/lib/python3.10/dist-packages/sklearn/metrics/_classification.py:1344: UndefinedMetricWarning: Precision and F-score are ill-defined and being set to 0.0 in labels with no predicted samples. Use `zero_division` parameter to control this behavior.\n",
      "  _warn_prf(average, modifier, msg_start, len(result))\n",
      "/usr/local/lib/python3.10/dist-packages/sklearn/metrics/_classification.py:1344: UndefinedMetricWarning: Precision and F-score are ill-defined and being set to 0.0 in labels with no predicted samples. Use `zero_division` parameter to control this behavior.\n",
      "  _warn_prf(average, modifier, msg_start, len(result))\n",
      "/usr/local/lib/python3.10/dist-packages/sklearn/metrics/_classification.py:1344: UndefinedMetricWarning: Precision and F-score are ill-defined and being set to 0.0 in labels with no predicted samples. Use `zero_division` parameter to control this behavior.\n",
      "  _warn_prf(average, modifier, msg_start, len(result))\n",
      "[I 2024-05-12 00:24:08,847] Trial 18 finished with value: 0.04118 and parameters: {'learning_rate': 0.08943801120827582, 'momentum': 0.5734262227668037}. Best is trial 11 with value: 0.0681.\n"
     ]
    },
    {
     "name": "stdout",
     "output_type": "stream",
     "text": [
      "==========================================================================================\n",
      "Layer (type:depth-idx)                   Output Shape              Param #\n",
      "==========================================================================================\n",
      "Net                                      [128, 100]                --\n",
      "├─Conv2d: 1-1                            [128, 64, 32, 32]         1,792\n",
      "├─ReLU: 1-2                              [128, 64, 32, 32]         --\n",
      "├─BatchNorm2d: 1-3                       [128, 64, 32, 32]         128\n",
      "├─Conv2d: 1-4                            [128, 64, 32, 32]         36,928\n",
      "├─ReLU: 1-5                              [128, 64, 32, 32]         --\n",
      "├─BatchNorm2d: 1-6                       [128, 64, 32, 32]         128\n",
      "├─MaxPool2d: 1-7                         [128, 64, 16, 16]         --\n",
      "├─Dropout: 1-8                           [128, 64, 16, 16]         --\n",
      "├─Conv2d: 1-9                            [128, 128, 16, 16]        73,856\n",
      "├─ReLU: 1-10                             [128, 128, 16, 16]        --\n",
      "├─BatchNorm2d: 1-11                      [128, 128, 16, 16]        256\n",
      "├─Conv2d: 1-12                           [128, 128, 16, 16]        147,584\n",
      "├─ReLU: 1-13                             [128, 128, 16, 16]        --\n",
      "├─BatchNorm2d: 1-14                      [128, 128, 16, 16]        256\n",
      "├─MaxPool2d: 1-15                        [128, 128, 8, 8]          --\n",
      "├─Dropout: 1-16                          [128, 128, 8, 8]          --\n",
      "├─Conv2d: 1-17                           [128, 256, 8, 8]          295,168\n",
      "├─ReLU: 1-18                             [128, 256, 8, 8]          --\n",
      "├─BatchNorm2d: 1-19                      [128, 256, 8, 8]          512\n",
      "├─Conv2d: 1-20                           [128, 256, 8, 8]          590,080\n",
      "├─ReLU: 1-21                             [128, 256, 8, 8]          --\n",
      "├─BatchNorm2d: 1-22                      [128, 256, 8, 8]          512\n",
      "├─MaxPool2d: 1-23                        [128, 256, 4, 4]          --\n",
      "├─AdaptiveAvgPool2d: 1-24                [128, 256, 2, 2]          --\n",
      "├─Linear: 1-25                           [128, 512]                524,800\n",
      "├─ReLU: 1-26                             [128, 512]                --\n",
      "├─BatchNorm1d: 1-27                      [128, 512]                1,024\n",
      "├─Dropout: 1-28                          [128, 512]                --\n",
      "├─Linear: 1-29                           [128, 128]                65,664\n",
      "├─ReLU: 1-30                             [128, 128]                --\n",
      "├─BatchNorm1d: 1-31                      [128, 128]                256\n",
      "├─Dropout: 1-32                          [128, 128]                --\n",
      "├─Linear: 1-33                           [128, 100]                12,900\n",
      "├─Softmax: 1-34                          [128, 100]                --\n",
      "==========================================================================================\n",
      "Total params: 1,751,844\n",
      "Trainable params: 1,751,844\n",
      "Non-trainable params: 0\n",
      "Total mult-adds (G): 19.66\n",
      "==========================================================================================\n",
      "Input size (MB): 1.57\n",
      "Forward/backward pass size (MB): 471.18\n",
      "Params size (MB): 7.01\n",
      "Estimated Total Size (MB): 479.76\n",
      "==========================================================================================\n",
      "[EPOCH #0] loss: 4.605141210464507\n",
      "[EPOCH #1, elapsed time: 10.665[sec]] loss: 4.6028666770847195\n",
      "[EPOCH #2, elapsed time: 20.950[sec]] loss: 4.592060267887128\n",
      "[EPOCH #3, elapsed time: 32.665[sec]] loss: 4.583612724824053\n"
     ]
    },
    {
     "name": "stderr",
     "output_type": "stream",
     "text": [
      "/usr/local/lib/python3.10/dist-packages/sklearn/metrics/_classification.py:1344: UndefinedMetricWarning: Precision and F-score are ill-defined and being set to 0.0 in labels with no predicted samples. Use `zero_division` parameter to control this behavior.\n",
      "  _warn_prf(average, modifier, msg_start, len(result))\n",
      "/usr/local/lib/python3.10/dist-packages/sklearn/metrics/_classification.py:1344: UndefinedMetricWarning: Precision and F-score are ill-defined and being set to 0.0 in labels with no predicted samples. Use `zero_division` parameter to control this behavior.\n",
      "  _warn_prf(average, modifier, msg_start, len(result))\n",
      "/usr/local/lib/python3.10/dist-packages/sklearn/metrics/_classification.py:1344: UndefinedMetricWarning: Precision and F-score are ill-defined and being set to 0.0 in labels with no predicted samples. Use `zero_division` parameter to control this behavior.\n",
      "  _warn_prf(average, modifier, msg_start, len(result))\n",
      "/usr/local/lib/python3.10/dist-packages/sklearn/metrics/_classification.py:1344: UndefinedMetricWarning: Precision and F-score are ill-defined and being set to 0.0 in labels with no predicted samples. Use `zero_division` parameter to control this behavior.\n",
      "  _warn_prf(average, modifier, msg_start, len(result))\n",
      "/usr/local/lib/python3.10/dist-packages/sklearn/metrics/_classification.py:1344: UndefinedMetricWarning: Precision and F-score are ill-defined and being set to 0.0 in labels with no predicted samples. Use `zero_division` parameter to control this behavior.\n",
      "  _warn_prf(average, modifier, msg_start, len(result))\n",
      "/usr/local/lib/python3.10/dist-packages/sklearn/metrics/_classification.py:1344: UndefinedMetricWarning: Precision and F-score are ill-defined and being set to 0.0 in labels with no predicted samples. Use `zero_division` parameter to control this behavior.\n",
      "  _warn_prf(average, modifier, msg_start, len(result))\n",
      "[I 2024-05-12 00:24:57,969] Trial 19 finished with value: 0.03156 and parameters: {'learning_rate': 0.01477566800045128, 'momentum': 0.8077287168338148}. Best is trial 11 with value: 0.0681.\n"
     ]
    }
   ],
   "source": [
    "def objective_lr(dataloader):\n",
    "    def objective(trial):\n",
    "        optim_params = {\n",
    "            'optim': 'momentum',\n",
    "            'lr': trial.suggest_float('learning_rate', 0.00001, 0.1, log=True),\n",
    "            'momentum': trial.suggest_float('momentum', 0.3, 0.9)\n",
    "        }\n",
    "        \n",
    "        model = simple_cnn.SimpleCNN(device, input_size=input_size, num_classes=num_classes)\n",
    "        model_dir = Path(output_dir, f'{model_name}-{trial.number}')\n",
    "        \n",
    "        train_result = model.train(dataloader.dataset.trainloader, epochs=epochs, optim_params=optim_params, output_dir=model_dir)\n",
    "        train_result = model.predict(dataloader.dataset.trainloader)\n",
    "        train_predictions, train_labels = train_result\n",
    "        train_eval_result = model.evaluate(train_labels, train_predictions)\n",
    "        trial.set_user_attr(\"train_accuracy\", train_eval_result['accuracy'])\n",
    "\n",
    "        test_result = model.predict(dataloader.dataset.testloader)\n",
    "        test_predictions, test_labels = test_result\n",
    "        test_eval_result = model.evaluate(test_labels, test_predictions)\n",
    "        trial.set_user_attr(\"test_accuracy\", test_eval_result['accuracy'])\n",
    "        \n",
    "        return train_eval_result['accuracy']\n",
    "\n",
    "    return objective\n",
    "\n",
    "study = optuna.create_study(direction='maximize')\n",
    "study.optimize(objective_lr(dataloader), n_trials=n_trials)"
   ]
  },
  {
   "cell_type": "code",
   "execution_count": 11,
   "id": "7ea18805-7cfc-4e1e-8ab1-96096dcdb16e",
   "metadata": {},
   "outputs": [
    {
     "data": {
      "text/plain": [
       "FrozenTrial(number=0, state=TrialState.COMPLETE, values=[0.01106], datetime_start=datetime.datetime(2024, 5, 12, 0, 7, 39, 233210), datetime_complete=datetime.datetime(2024, 5, 12, 0, 8, 38, 629201), params={'learning_rate': 0.0032836320278505178, 'momentum': 0.30106677994740505}, user_attrs={'train_accuracy': 0.01106, 'test_accuracy': 0.0123}, system_attrs={}, intermediate_values={}, distributions={'learning_rate': FloatDistribution(high=0.1, log=True, low=1e-05, step=None), 'momentum': FloatDistribution(high=0.9, log=False, low=0.3, step=None)}, trial_id=0, value=None)"
      ]
     },
     "execution_count": 11,
     "metadata": {},
     "output_type": "execute_result"
    }
   ],
   "source": [
    "study.trials[0]"
   ]
  },
  {
   "cell_type": "code",
   "execution_count": 12,
   "id": "3710cb38-e83c-4d08-8665-0b87409eeead",
   "metadata": {},
   "outputs": [],
   "source": [
    "with open(Path(output_dir, 'study.pkl'), 'wb') as f:\n",
    "    pickle.dump(study, f)"
   ]
  },
  {
   "cell_type": "markdown",
   "id": "611f3fb0-c611-45f9-b7ec-74c8c7a6e02b",
   "metadata": {},
   "source": [
    "## Optimization History"
   ]
  },
  {
   "cell_type": "code",
   "execution_count": 13,
   "id": "061f26c7-d874-438f-8b77-2333c35e1359",
   "metadata": {},
   "outputs": [],
   "source": [
    "with open(Path(output_dir, 'study.pkl'), 'rb') as f:\n",
    "    study = pickle.load(f)"
   ]
  },
  {
   "cell_type": "code",
   "execution_count": 14,
   "id": "de6e8923-c8b1-4442-96a7-2a961e86bfde",
   "metadata": {},
   "outputs": [
    {
     "data": {
      "text/plain": [
       "FrozenTrial(number=0, state=TrialState.COMPLETE, values=[0.01106], datetime_start=datetime.datetime(2024, 5, 12, 0, 7, 39, 233210), datetime_complete=datetime.datetime(2024, 5, 12, 0, 8, 38, 629201), params={'learning_rate': 0.0032836320278505178, 'momentum': 0.30106677994740505}, user_attrs={'train_accuracy': 0.01106, 'test_accuracy': 0.0123}, system_attrs={}, intermediate_values={}, distributions={'learning_rate': FloatDistribution(high=0.1, log=True, low=1e-05, step=None), 'momentum': FloatDistribution(high=0.9, log=False, low=0.3, step=None)}, trial_id=0, value=None)"
      ]
     },
     "execution_count": 14,
     "metadata": {},
     "output_type": "execute_result"
    }
   ],
   "source": [
    "study.trials[0]"
   ]
  },
  {
   "cell_type": "code",
   "execution_count": 24,
   "id": "e9195aa7-e9fb-42fd-8e78-b81f8f4036e7",
   "metadata": {},
   "outputs": [
    {
     "data": {
      "application/vnd.plotly.v1+json": {
       "config": {
        "plotlyServerURL": "https://plot.ly"
       },
       "data": [
        {
         "mode": "markers",
         "name": "Objective Value",
         "type": "scatter",
         "x": [
          0,
          1,
          2,
          3,
          4,
          5,
          6,
          7,
          8,
          9,
          10,
          11,
          12,
          13,
          14,
          15,
          16,
          17,
          18,
          19
         ],
         "y": [
          0.01106,
          0.00732,
          0.01036,
          0.02306,
          0.01258,
          0.00792,
          0.00936,
          0.03582,
          0.0625,
          0.0097,
          0.03574,
          0.0681,
          0.05528,
          0.01092,
          0.02298,
          0.01276,
          0.00666,
          0.04214,
          0.04118,
          0.03156
         ]
        },
        {
         "mode": "lines",
         "name": "Best Value",
         "type": "scatter",
         "x": [
          0,
          1,
          2,
          3,
          4,
          5,
          6,
          7,
          8,
          9,
          10,
          11,
          12,
          13,
          14,
          15,
          16,
          17,
          18,
          19
         ],
         "y": [
          0.01106,
          0.01106,
          0.01106,
          0.02306,
          0.02306,
          0.02306,
          0.02306,
          0.03582,
          0.0625,
          0.0625,
          0.0625,
          0.0681,
          0.0681,
          0.0681,
          0.0681,
          0.0681,
          0.0681,
          0.0681,
          0.0681,
          0.0681
         ]
        },
        {
         "marker": {
          "color": "#cccccc"
         },
         "mode": "markers",
         "name": "Infeasible Trial",
         "showlegend": false,
         "type": "scatter",
         "x": [],
         "y": []
        }
       ],
       "layout": {
        "autosize": true,
        "template": {
         "data": {
          "bar": [
           {
            "error_x": {
             "color": "#2a3f5f"
            },
            "error_y": {
             "color": "#2a3f5f"
            },
            "marker": {
             "line": {
              "color": "#E5ECF6",
              "width": 0.5
             },
             "pattern": {
              "fillmode": "overlay",
              "size": 10,
              "solidity": 0.2
             }
            },
            "type": "bar"
           }
          ],
          "barpolar": [
           {
            "marker": {
             "line": {
              "color": "#E5ECF6",
              "width": 0.5
             },
             "pattern": {
              "fillmode": "overlay",
              "size": 10,
              "solidity": 0.2
             }
            },
            "type": "barpolar"
           }
          ],
          "carpet": [
           {
            "aaxis": {
             "endlinecolor": "#2a3f5f",
             "gridcolor": "white",
             "linecolor": "white",
             "minorgridcolor": "white",
             "startlinecolor": "#2a3f5f"
            },
            "baxis": {
             "endlinecolor": "#2a3f5f",
             "gridcolor": "white",
             "linecolor": "white",
             "minorgridcolor": "white",
             "startlinecolor": "#2a3f5f"
            },
            "type": "carpet"
           }
          ],
          "choropleth": [
           {
            "colorbar": {
             "outlinewidth": 0,
             "ticks": ""
            },
            "type": "choropleth"
           }
          ],
          "contour": [
           {
            "colorbar": {
             "outlinewidth": 0,
             "ticks": ""
            },
            "colorscale": [
             [
              0,
              "#0d0887"
             ],
             [
              0.1111111111111111,
              "#46039f"
             ],
             [
              0.2222222222222222,
              "#7201a8"
             ],
             [
              0.3333333333333333,
              "#9c179e"
             ],
             [
              0.4444444444444444,
              "#bd3786"
             ],
             [
              0.5555555555555556,
              "#d8576b"
             ],
             [
              0.6666666666666666,
              "#ed7953"
             ],
             [
              0.7777777777777778,
              "#fb9f3a"
             ],
             [
              0.8888888888888888,
              "#fdca26"
             ],
             [
              1,
              "#f0f921"
             ]
            ],
            "type": "contour"
           }
          ],
          "contourcarpet": [
           {
            "colorbar": {
             "outlinewidth": 0,
             "ticks": ""
            },
            "type": "contourcarpet"
           }
          ],
          "heatmap": [
           {
            "colorbar": {
             "outlinewidth": 0,
             "ticks": ""
            },
            "colorscale": [
             [
              0,
              "#0d0887"
             ],
             [
              0.1111111111111111,
              "#46039f"
             ],
             [
              0.2222222222222222,
              "#7201a8"
             ],
             [
              0.3333333333333333,
              "#9c179e"
             ],
             [
              0.4444444444444444,
              "#bd3786"
             ],
             [
              0.5555555555555556,
              "#d8576b"
             ],
             [
              0.6666666666666666,
              "#ed7953"
             ],
             [
              0.7777777777777778,
              "#fb9f3a"
             ],
             [
              0.8888888888888888,
              "#fdca26"
             ],
             [
              1,
              "#f0f921"
             ]
            ],
            "type": "heatmap"
           }
          ],
          "heatmapgl": [
           {
            "colorbar": {
             "outlinewidth": 0,
             "ticks": ""
            },
            "colorscale": [
             [
              0,
              "#0d0887"
             ],
             [
              0.1111111111111111,
              "#46039f"
             ],
             [
              0.2222222222222222,
              "#7201a8"
             ],
             [
              0.3333333333333333,
              "#9c179e"
             ],
             [
              0.4444444444444444,
              "#bd3786"
             ],
             [
              0.5555555555555556,
              "#d8576b"
             ],
             [
              0.6666666666666666,
              "#ed7953"
             ],
             [
              0.7777777777777778,
              "#fb9f3a"
             ],
             [
              0.8888888888888888,
              "#fdca26"
             ],
             [
              1,
              "#f0f921"
             ]
            ],
            "type": "heatmapgl"
           }
          ],
          "histogram": [
           {
            "marker": {
             "pattern": {
              "fillmode": "overlay",
              "size": 10,
              "solidity": 0.2
             }
            },
            "type": "histogram"
           }
          ],
          "histogram2d": [
           {
            "colorbar": {
             "outlinewidth": 0,
             "ticks": ""
            },
            "colorscale": [
             [
              0,
              "#0d0887"
             ],
             [
              0.1111111111111111,
              "#46039f"
             ],
             [
              0.2222222222222222,
              "#7201a8"
             ],
             [
              0.3333333333333333,
              "#9c179e"
             ],
             [
              0.4444444444444444,
              "#bd3786"
             ],
             [
              0.5555555555555556,
              "#d8576b"
             ],
             [
              0.6666666666666666,
              "#ed7953"
             ],
             [
              0.7777777777777778,
              "#fb9f3a"
             ],
             [
              0.8888888888888888,
              "#fdca26"
             ],
             [
              1,
              "#f0f921"
             ]
            ],
            "type": "histogram2d"
           }
          ],
          "histogram2dcontour": [
           {
            "colorbar": {
             "outlinewidth": 0,
             "ticks": ""
            },
            "colorscale": [
             [
              0,
              "#0d0887"
             ],
             [
              0.1111111111111111,
              "#46039f"
             ],
             [
              0.2222222222222222,
              "#7201a8"
             ],
             [
              0.3333333333333333,
              "#9c179e"
             ],
             [
              0.4444444444444444,
              "#bd3786"
             ],
             [
              0.5555555555555556,
              "#d8576b"
             ],
             [
              0.6666666666666666,
              "#ed7953"
             ],
             [
              0.7777777777777778,
              "#fb9f3a"
             ],
             [
              0.8888888888888888,
              "#fdca26"
             ],
             [
              1,
              "#f0f921"
             ]
            ],
            "type": "histogram2dcontour"
           }
          ],
          "mesh3d": [
           {
            "colorbar": {
             "outlinewidth": 0,
             "ticks": ""
            },
            "type": "mesh3d"
           }
          ],
          "parcoords": [
           {
            "line": {
             "colorbar": {
              "outlinewidth": 0,
              "ticks": ""
             }
            },
            "type": "parcoords"
           }
          ],
          "pie": [
           {
            "automargin": true,
            "type": "pie"
           }
          ],
          "scatter": [
           {
            "fillpattern": {
             "fillmode": "overlay",
             "size": 10,
             "solidity": 0.2
            },
            "type": "scatter"
           }
          ],
          "scatter3d": [
           {
            "line": {
             "colorbar": {
              "outlinewidth": 0,
              "ticks": ""
             }
            },
            "marker": {
             "colorbar": {
              "outlinewidth": 0,
              "ticks": ""
             }
            },
            "type": "scatter3d"
           }
          ],
          "scattercarpet": [
           {
            "marker": {
             "colorbar": {
              "outlinewidth": 0,
              "ticks": ""
             }
            },
            "type": "scattercarpet"
           }
          ],
          "scattergeo": [
           {
            "marker": {
             "colorbar": {
              "outlinewidth": 0,
              "ticks": ""
             }
            },
            "type": "scattergeo"
           }
          ],
          "scattergl": [
           {
            "marker": {
             "colorbar": {
              "outlinewidth": 0,
              "ticks": ""
             }
            },
            "type": "scattergl"
           }
          ],
          "scattermapbox": [
           {
            "marker": {
             "colorbar": {
              "outlinewidth": 0,
              "ticks": ""
             }
            },
            "type": "scattermapbox"
           }
          ],
          "scatterpolar": [
           {
            "marker": {
             "colorbar": {
              "outlinewidth": 0,
              "ticks": ""
             }
            },
            "type": "scatterpolar"
           }
          ],
          "scatterpolargl": [
           {
            "marker": {
             "colorbar": {
              "outlinewidth": 0,
              "ticks": ""
             }
            },
            "type": "scatterpolargl"
           }
          ],
          "scatterternary": [
           {
            "marker": {
             "colorbar": {
              "outlinewidth": 0,
              "ticks": ""
             }
            },
            "type": "scatterternary"
           }
          ],
          "surface": [
           {
            "colorbar": {
             "outlinewidth": 0,
             "ticks": ""
            },
            "colorscale": [
             [
              0,
              "#0d0887"
             ],
             [
              0.1111111111111111,
              "#46039f"
             ],
             [
              0.2222222222222222,
              "#7201a8"
             ],
             [
              0.3333333333333333,
              "#9c179e"
             ],
             [
              0.4444444444444444,
              "#bd3786"
             ],
             [
              0.5555555555555556,
              "#d8576b"
             ],
             [
              0.6666666666666666,
              "#ed7953"
             ],
             [
              0.7777777777777778,
              "#fb9f3a"
             ],
             [
              0.8888888888888888,
              "#fdca26"
             ],
             [
              1,
              "#f0f921"
             ]
            ],
            "type": "surface"
           }
          ],
          "table": [
           {
            "cells": {
             "fill": {
              "color": "#EBF0F8"
             },
             "line": {
              "color": "white"
             }
            },
            "header": {
             "fill": {
              "color": "#C8D4E3"
             },
             "line": {
              "color": "white"
             }
            },
            "type": "table"
           }
          ]
         },
         "layout": {
          "annotationdefaults": {
           "arrowcolor": "#2a3f5f",
           "arrowhead": 0,
           "arrowwidth": 1
          },
          "autotypenumbers": "strict",
          "coloraxis": {
           "colorbar": {
            "outlinewidth": 0,
            "ticks": ""
           }
          },
          "colorscale": {
           "diverging": [
            [
             0,
             "#8e0152"
            ],
            [
             0.1,
             "#c51b7d"
            ],
            [
             0.2,
             "#de77ae"
            ],
            [
             0.3,
             "#f1b6da"
            ],
            [
             0.4,
             "#fde0ef"
            ],
            [
             0.5,
             "#f7f7f7"
            ],
            [
             0.6,
             "#e6f5d0"
            ],
            [
             0.7,
             "#b8e186"
            ],
            [
             0.8,
             "#7fbc41"
            ],
            [
             0.9,
             "#4d9221"
            ],
            [
             1,
             "#276419"
            ]
           ],
           "sequential": [
            [
             0,
             "#0d0887"
            ],
            [
             0.1111111111111111,
             "#46039f"
            ],
            [
             0.2222222222222222,
             "#7201a8"
            ],
            [
             0.3333333333333333,
             "#9c179e"
            ],
            [
             0.4444444444444444,
             "#bd3786"
            ],
            [
             0.5555555555555556,
             "#d8576b"
            ],
            [
             0.6666666666666666,
             "#ed7953"
            ],
            [
             0.7777777777777778,
             "#fb9f3a"
            ],
            [
             0.8888888888888888,
             "#fdca26"
            ],
            [
             1,
             "#f0f921"
            ]
           ],
           "sequentialminus": [
            [
             0,
             "#0d0887"
            ],
            [
             0.1111111111111111,
             "#46039f"
            ],
            [
             0.2222222222222222,
             "#7201a8"
            ],
            [
             0.3333333333333333,
             "#9c179e"
            ],
            [
             0.4444444444444444,
             "#bd3786"
            ],
            [
             0.5555555555555556,
             "#d8576b"
            ],
            [
             0.6666666666666666,
             "#ed7953"
            ],
            [
             0.7777777777777778,
             "#fb9f3a"
            ],
            [
             0.8888888888888888,
             "#fdca26"
            ],
            [
             1,
             "#f0f921"
            ]
           ]
          },
          "colorway": [
           "#636efa",
           "#EF553B",
           "#00cc96",
           "#ab63fa",
           "#FFA15A",
           "#19d3f3",
           "#FF6692",
           "#B6E880",
           "#FF97FF",
           "#FECB52"
          ],
          "font": {
           "color": "#2a3f5f"
          },
          "geo": {
           "bgcolor": "white",
           "lakecolor": "white",
           "landcolor": "#E5ECF6",
           "showlakes": true,
           "showland": true,
           "subunitcolor": "white"
          },
          "hoverlabel": {
           "align": "left"
          },
          "hovermode": "closest",
          "mapbox": {
           "style": "light"
          },
          "paper_bgcolor": "white",
          "plot_bgcolor": "#E5ECF6",
          "polar": {
           "angularaxis": {
            "gridcolor": "white",
            "linecolor": "white",
            "ticks": ""
           },
           "bgcolor": "#E5ECF6",
           "radialaxis": {
            "gridcolor": "white",
            "linecolor": "white",
            "ticks": ""
           }
          },
          "scene": {
           "xaxis": {
            "backgroundcolor": "#E5ECF6",
            "gridcolor": "white",
            "gridwidth": 2,
            "linecolor": "white",
            "showbackground": true,
            "ticks": "",
            "zerolinecolor": "white"
           },
           "yaxis": {
            "backgroundcolor": "#E5ECF6",
            "gridcolor": "white",
            "gridwidth": 2,
            "linecolor": "white",
            "showbackground": true,
            "ticks": "",
            "zerolinecolor": "white"
           },
           "zaxis": {
            "backgroundcolor": "#E5ECF6",
            "gridcolor": "white",
            "gridwidth": 2,
            "linecolor": "white",
            "showbackground": true,
            "ticks": "",
            "zerolinecolor": "white"
           }
          },
          "shapedefaults": {
           "line": {
            "color": "#2a3f5f"
           }
          },
          "ternary": {
           "aaxis": {
            "gridcolor": "white",
            "linecolor": "white",
            "ticks": ""
           },
           "baxis": {
            "gridcolor": "white",
            "linecolor": "white",
            "ticks": ""
           },
           "bgcolor": "#E5ECF6",
           "caxis": {
            "gridcolor": "white",
            "linecolor": "white",
            "ticks": ""
           }
          },
          "title": {
           "x": 0.05
          },
          "xaxis": {
           "automargin": true,
           "gridcolor": "white",
           "linecolor": "white",
           "ticks": "",
           "title": {
            "standoff": 15
           },
           "zerolinecolor": "white",
           "zerolinewidth": 2
          },
          "yaxis": {
           "automargin": true,
           "gridcolor": "white",
           "linecolor": "white",
           "ticks": "",
           "title": {
            "standoff": 15
           },
           "zerolinecolor": "white",
           "zerolinewidth": 2
          }
         }
        },
        "title": {
         "text": "Optimization History Plot"
        },
        "xaxis": {
         "autorange": true,
         "range": [
          -1.16006600660066,
          20.16006600660066
         ],
         "title": {
          "text": "Trial"
         },
         "type": "linear"
        },
        "yaxis": {
         "autorange": true,
         "range": [
          0.0015897087378640784,
          0.07317029126213592
         ],
         "title": {
          "text": "Objective Value"
         },
         "type": "linear"
        }
       }
      },
      "image/png": "[encoded data removed]",
      "text/html": [
       "<div>                            <div id=\"d9fa195c-63f0-4377-8b34-8a04aa1c7cdd\" class=\"plotly-graph-div\" style=\"height:525px; width:100%;\"></div>            <script type=\"text/javascript\">                require([\"plotly\"], function(Plotly) {                    window.PLOTLYENV=window.PLOTLYENV || {};                                    if (document.getElementById(\"d9fa195c-63f0-4377-8b34-8a04aa1c7cdd\")) {                    Plotly.newPlot(                        \"d9fa195c-63f0-4377-8b34-8a04aa1c7cdd\",                        [{\"mode\":\"markers\",\"name\":\"Objective Value\",\"x\":[0,1,2,3,4,5,6,7,8,9,10,11,12,13,14,15,16,17,18,19],\"y\":[0.01106,0.00732,0.01036,0.02306,0.01258,0.00792,0.00936,0.03582,0.0625,0.0097,0.03574,0.0681,0.05528,0.01092,0.02298,0.01276,0.00666,0.04214,0.04118,0.03156],\"type\":\"scatter\"},{\"mode\":\"lines\",\"name\":\"Best Value\",\"x\":[0,1,2,3,4,5,6,7,8,9,10,11,12,13,14,15,16,17,18,19],\"y\":[0.01106,0.01106,0.01106,0.02306,0.02306,0.02306,0.02306,0.03582,0.0625,0.0625,0.0625,0.0681,0.0681,0.0681,0.0681,0.0681,0.0681,0.0681,0.0681,0.0681],\"type\":\"scatter\"},{\"marker\":{\"color\":\"#cccccc\"},\"mode\":\"markers\",\"name\":\"Infeasible Trial\",\"showlegend\":false,\"x\":[],\"y\":[],\"type\":\"scatter\"}],                        {\"title\":{\"text\":\"Optimization History Plot\"},\"xaxis\":{\"title\":{\"text\":\"Trial\"}},\"yaxis\":{\"title\":{\"text\":\"Objective Value\"}},\"template\":{\"data\":{\"histogram2dcontour\":[{\"type\":\"histogram2dcontour\",\"colorbar\":{\"outlinewidth\":0,\"ticks\":\"\"},\"colorscale\":[[0.0,\"#0d0887\"],[0.1111111111111111,\"#46039f\"],[0.2222222222222222,\"#7201a8\"],[0.3333333333333333,\"#9c179e\"],[0.4444444444444444,\"#bd3786\"],[0.5555555555555556,\"#d8576b\"],[0.6666666666666666,\"#ed7953\"],[0.7777777777777778,\"#fb9f3a\"],[0.8888888888888888,\"#fdca26\"],[1.0,\"#f0f921\"]]}],\"choropleth\":[{\"type\":\"choropleth\",\"colorbar\":{\"outlinewidth\":0,\"ticks\":\"\"}}],\"histogram2d\":[{\"type\":\"histogram2d\",\"colorbar\":{\"outlinewidth\":0,\"ticks\":\"\"},\"colorscale\":[[0.0,\"#0d0887\"],[0.1111111111111111,\"#46039f\"],[0.2222222222222222,\"#7201a8\"],[0.3333333333333333,\"#9c179e\"],[0.4444444444444444,\"#bd3786\"],[0.5555555555555556,\"#d8576b\"],[0.6666666666666666,\"#ed7953\"],[0.7777777777777778,\"#fb9f3a\"],[0.8888888888888888,\"#fdca26\"],[1.0,\"#f0f921\"]]}],\"heatmap\":[{\"type\":\"heatmap\",\"colorbar\":{\"outlinewidth\":0,\"ticks\":\"\"},\"colorscale\":[[0.0,\"#0d0887\"],[0.1111111111111111,\"#46039f\"],[0.2222222222222222,\"#7201a8\"],[0.3333333333333333,\"#9c179e\"],[0.4444444444444444,\"#bd3786\"],[0.5555555555555556,\"#d8576b\"],[0.6666666666666666,\"#ed7953\"],[0.7777777777777778,\"#fb9f3a\"],[0.8888888888888888,\"#fdca26\"],[1.0,\"#f0f921\"]]}],\"heatmapgl\":[{\"type\":\"heatmapgl\",\"colorbar\":{\"outlinewidth\":0,\"ticks\":\"\"},\"colorscale\":[[0.0,\"#0d0887\"],[0.1111111111111111,\"#46039f\"],[0.2222222222222222,\"#7201a8\"],[0.3333333333333333,\"#9c179e\"],[0.4444444444444444,\"#bd3786\"],[0.5555555555555556,\"#d8576b\"],[0.6666666666666666,\"#ed7953\"],[0.7777777777777778,\"#fb9f3a\"],[0.8888888888888888,\"#fdca26\"],[1.0,\"#f0f921\"]]}],\"contourcarpet\":[{\"type\":\"contourcarpet\",\"colorbar\":{\"outlinewidth\":0,\"ticks\":\"\"}}],\"contour\":[{\"type\":\"contour\",\"colorbar\":{\"outlinewidth\":0,\"ticks\":\"\"},\"colorscale\":[[0.0,\"#0d0887\"],[0.1111111111111111,\"#46039f\"],[0.2222222222222222,\"#7201a8\"],[0.3333333333333333,\"#9c179e\"],[0.4444444444444444,\"#bd3786\"],[0.5555555555555556,\"#d8576b\"],[0.6666666666666666,\"#ed7953\"],[0.7777777777777778,\"#fb9f3a\"],[0.8888888888888888,\"#fdca26\"],[1.0,\"#f0f921\"]]}],\"surface\":[{\"type\":\"surface\",\"colorbar\":{\"outlinewidth\":0,\"ticks\":\"\"},\"colorscale\":[[0.0,\"#0d0887\"],[0.1111111111111111,\"#46039f\"],[0.2222222222222222,\"#7201a8\"],[0.3333333333333333,\"#9c179e\"],[0.4444444444444444,\"#bd3786\"],[0.5555555555555556,\"#d8576b\"],[0.6666666666666666,\"#ed7953\"],[0.7777777777777778,\"#fb9f3a\"],[0.8888888888888888,\"#fdca26\"],[1.0,\"#f0f921\"]]}],\"mesh3d\":[{\"type\":\"mesh3d\",\"colorbar\":{\"outlinewidth\":0,\"ticks\":\"\"}}],\"scatter\":[{\"fillpattern\":{\"fillmode\":\"overlay\",\"size\":10,\"solidity\":0.2},\"type\":\"scatter\"}],\"parcoords\":[{\"type\":\"parcoords\",\"line\":{\"colorbar\":{\"outlinewidth\":0,\"ticks\":\"\"}}}],\"scatterpolargl\":[{\"type\":\"scatterpolargl\",\"marker\":{\"colorbar\":{\"outlinewidth\":0,\"ticks\":\"\"}}}],\"bar\":[{\"error_x\":{\"color\":\"#2a3f5f\"},\"error_y\":{\"color\":\"#2a3f5f\"},\"marker\":{\"line\":{\"color\":\"#E5ECF6\",\"width\":0.5},\"pattern\":{\"fillmode\":\"overlay\",\"size\":10,\"solidity\":0.2}},\"type\":\"bar\"}],\"scattergeo\":[{\"type\":\"scattergeo\",\"marker\":{\"colorbar\":{\"outlinewidth\":0,\"ticks\":\"\"}}}],\"scatterpolar\":[{\"type\":\"scatterpolar\",\"marker\":{\"colorbar\":{\"outlinewidth\":0,\"ticks\":\"\"}}}],\"histogram\":[{\"marker\":{\"pattern\":{\"fillmode\":\"overlay\",\"size\":10,\"solidity\":0.2}},\"type\":\"histogram\"}],\"scattergl\":[{\"type\":\"scattergl\",\"marker\":{\"colorbar\":{\"outlinewidth\":0,\"ticks\":\"\"}}}],\"scatter3d\":[{\"type\":\"scatter3d\",\"line\":{\"colorbar\":{\"outlinewidth\":0,\"ticks\":\"\"}},\"marker\":{\"colorbar\":{\"outlinewidth\":0,\"ticks\":\"\"}}}],\"scattermapbox\":[{\"type\":\"scattermapbox\",\"marker\":{\"colorbar\":{\"outlinewidth\":0,\"ticks\":\"\"}}}],\"scatterternary\":[{\"type\":\"scatterternary\",\"marker\":{\"colorbar\":{\"outlinewidth\":0,\"ticks\":\"\"}}}],\"scattercarpet\":[{\"type\":\"scattercarpet\",\"marker\":{\"colorbar\":{\"outlinewidth\":0,\"ticks\":\"\"}}}],\"carpet\":[{\"aaxis\":{\"endlinecolor\":\"#2a3f5f\",\"gridcolor\":\"white\",\"linecolor\":\"white\",\"minorgridcolor\":\"white\",\"startlinecolor\":\"#2a3f5f\"},\"baxis\":{\"endlinecolor\":\"#2a3f5f\",\"gridcolor\":\"white\",\"linecolor\":\"white\",\"minorgridcolor\":\"white\",\"startlinecolor\":\"#2a3f5f\"},\"type\":\"carpet\"}],\"table\":[{\"cells\":{\"fill\":{\"color\":\"#EBF0F8\"},\"line\":{\"color\":\"white\"}},\"header\":{\"fill\":{\"color\":\"#C8D4E3\"},\"line\":{\"color\":\"white\"}},\"type\":\"table\"}],\"barpolar\":[{\"marker\":{\"line\":{\"color\":\"#E5ECF6\",\"width\":0.5},\"pattern\":{\"fillmode\":\"overlay\",\"size\":10,\"solidity\":0.2}},\"type\":\"barpolar\"}],\"pie\":[{\"automargin\":true,\"type\":\"pie\"}]},\"layout\":{\"autotypenumbers\":\"strict\",\"colorway\":[\"#636efa\",\"#EF553B\",\"#00cc96\",\"#ab63fa\",\"#FFA15A\",\"#19d3f3\",\"#FF6692\",\"#B6E880\",\"#FF97FF\",\"#FECB52\"],\"font\":{\"color\":\"#2a3f5f\"},\"hovermode\":\"closest\",\"hoverlabel\":{\"align\":\"left\"},\"paper_bgcolor\":\"white\",\"plot_bgcolor\":\"#E5ECF6\",\"polar\":{\"bgcolor\":\"#E5ECF6\",\"angularaxis\":{\"gridcolor\":\"white\",\"linecolor\":\"white\",\"ticks\":\"\"},\"radialaxis\":{\"gridcolor\":\"white\",\"linecolor\":\"white\",\"ticks\":\"\"}},\"ternary\":{\"bgcolor\":\"#E5ECF6\",\"aaxis\":{\"gridcolor\":\"white\",\"linecolor\":\"white\",\"ticks\":\"\"},\"baxis\":{\"gridcolor\":\"white\",\"linecolor\":\"white\",\"ticks\":\"\"},\"caxis\":{\"gridcolor\":\"white\",\"linecolor\":\"white\",\"ticks\":\"\"}},\"coloraxis\":{\"colorbar\":{\"outlinewidth\":0,\"ticks\":\"\"}},\"colorscale\":{\"sequential\":[[0.0,\"#0d0887\"],[0.1111111111111111,\"#46039f\"],[0.2222222222222222,\"#7201a8\"],[0.3333333333333333,\"#9c179e\"],[0.4444444444444444,\"#bd3786\"],[0.5555555555555556,\"#d8576b\"],[0.6666666666666666,\"#ed7953\"],[0.7777777777777778,\"#fb9f3a\"],[0.8888888888888888,\"#fdca26\"],[1.0,\"#f0f921\"]],\"sequentialminus\":[[0.0,\"#0d0887\"],[0.1111111111111111,\"#46039f\"],[0.2222222222222222,\"#7201a8\"],[0.3333333333333333,\"#9c179e\"],[0.4444444444444444,\"#bd3786\"],[0.5555555555555556,\"#d8576b\"],[0.6666666666666666,\"#ed7953\"],[0.7777777777777778,\"#fb9f3a\"],[0.8888888888888888,\"#fdca26\"],[1.0,\"#f0f921\"]],\"diverging\":[[0,\"#8e0152\"],[0.1,\"#c51b7d\"],[0.2,\"#de77ae\"],[0.3,\"#f1b6da\"],[0.4,\"#fde0ef\"],[0.5,\"#f7f7f7\"],[0.6,\"#e6f5d0\"],[0.7,\"#b8e186\"],[0.8,\"#7fbc41\"],[0.9,\"#4d9221\"],[1,\"#276419\"]]},\"xaxis\":{\"gridcolor\":\"white\",\"linecolor\":\"white\",\"ticks\":\"\",\"title\":{\"standoff\":15},\"zerolinecolor\":\"white\",\"automargin\":true,\"zerolinewidth\":2},\"yaxis\":{\"gridcolor\":\"white\",\"linecolor\":\"white\",\"ticks\":\"\",\"title\":{\"standoff\":15},\"zerolinecolor\":\"white\",\"automargin\":true,\"zerolinewidth\":2},\"scene\":{\"xaxis\":{\"backgroundcolor\":\"#E5ECF6\",\"gridcolor\":\"white\",\"linecolor\":\"white\",\"showbackground\":true,\"ticks\":\"\",\"zerolinecolor\":\"white\",\"gridwidth\":2},\"yaxis\":{\"backgroundcolor\":\"#E5ECF6\",\"gridcolor\":\"white\",\"linecolor\":\"white\",\"showbackground\":true,\"ticks\":\"\",\"zerolinecolor\":\"white\",\"gridwidth\":2},\"zaxis\":{\"backgroundcolor\":\"#E5ECF6\",\"gridcolor\":\"white\",\"linecolor\":\"white\",\"showbackground\":true,\"ticks\":\"\",\"zerolinecolor\":\"white\",\"gridwidth\":2}},\"shapedefaults\":{\"line\":{\"color\":\"#2a3f5f\"}},\"annotationdefaults\":{\"arrowcolor\":\"#2a3f5f\",\"arrowhead\":0,\"arrowwidth\":1},\"geo\":{\"bgcolor\":\"white\",\"landcolor\":\"#E5ECF6\",\"subunitcolor\":\"white\",\"showland\":true,\"showlakes\":true,\"lakecolor\":\"white\"},\"title\":{\"x\":0.05},\"mapbox\":{\"style\":\"light\"}}}},                        {\"responsive\": true}                    ).then(function(){\n",
       "                            \n",
       "var gd = document.getElementById('d9fa195c-63f0-4377-8b34-8a04aa1c7cdd');\n",
       "var x = new MutationObserver(function (mutations, observer) {{\n",
       "        var display = window.getComputedStyle(gd).display;\n",
       "        if (!display || display === 'none') {{\n",
       "            console.log([gd, 'removed!']);\n",
       "            Plotly.purge(gd);\n",
       "            observer.disconnect();\n",
       "        }}\n",
       "}});\n",
       "\n",
       "// Listen for the removal of the full notebook cells\n",
       "var notebookContainer = gd.closest('#notebook-container');\n",
       "if (notebookContainer) {{\n",
       "    x.observe(notebookContainer, {childList: true});\n",
       "}}\n",
       "\n",
       "// Listen for the clearing of the current output cell\n",
       "var outputEl = gd.closest('.output');\n",
       "if (outputEl) {{\n",
       "    x.observe(outputEl, {childList: true});\n",
       "}}\n",
       "\n",
       "                        })                };                });            </script>        </div>"
      ]
     },
     "metadata": {},
     "output_type": "display_data"
    }
   ],
   "source": [
    "fig = optuna.visualization.plot_optimization_history(study)\n",
    "fig.show()"
   ]
  },
  {
   "cell_type": "code",
   "execution_count": 22,
   "id": "5d5407d2-f8c4-4347-a11a-65716e1bd4cb",
   "metadata": {},
   "outputs": [
    {
     "data": {
      "application/vnd.plotly.v1+json": {
       "config": {
        "plotlyServerURL": "https://plot.ly"
       },
       "data": [
        {
         "autocontour": true,
         "colorbar": {
          "title": {
           "text": "Objective Value"
          }
         },
         "colorscale": [
          [
           0,
           "rgb(247,251,255)"
          ],
          [
           0.125,
           "rgb(222,235,247)"
          ],
          [
           0.25,
           "rgb(198,219,239)"
          ],
          [
           0.375,
           "rgb(158,202,225)"
          ],
          [
           0.5,
           "rgb(107,174,214)"
          ],
          [
           0.625,
           "rgb(66,146,198)"
          ],
          [
           0.75,
           "rgb(33,113,181)"
          ],
          [
           0.875,
           "rgb(8,81,156)"
          ],
          [
           1,
           "rgb(8,48,107)"
          ]
         ],
         "connectgaps": true,
         "contours": {
          "coloring": "heatmap",
          "end": 0.065,
          "size": 0.005,
          "start": 0.01
         },
         "hoverinfo": "none",
         "line": {
          "smoothing": 1.3
         },
         "reversescale": false,
         "type": "contour",
         "x": [
          1.1208731091509616e-05,
          1.7266877929829834e-05,
          2.7448296897294305e-05,
          7.926720107392387e-05,
          0.00020626175830863302,
          0.0005395639031974406,
          0.00076561499267525,
          0.0022469509567340086,
          0.0032836320278505178,
          0.0058581166086852515,
          0.008154138433502624,
          0.01477566800045128,
          0.015372785686685734,
          0.025008192565020314,
          0.03560613901965581,
          0.03679162717171177,
          0.08812826033102203,
          0.08943801120827582,
          0.09127721118646621,
          0.0921222185855603,
          0.09780502996212616,
          0.1506671450578919
         ],
         "y": [
          0.2715572303171986,
          0.30106677994740505,
          0.47239214736973123,
          0.47846175319198436,
          0.5483519604300299,
          0.5734262227668037,
          0.6306113770099678,
          0.6706586395351547,
          0.6965512468301884,
          0.7296097227188296,
          0.7448669209136307,
          0.7467212218810378,
          0.7875451642507962,
          0.8076914801473221,
          0.8077287168338148,
          0.8088812703040751,
          0.8355577891258041,
          0.8649995479109527,
          0.8780516008799264,
          0.8904886461879522,
          0.8912577725515343,
          0.9207673221817407
         ],
         "z": [
          [
           null,
           null,
           null,
           null,
           null,
           null,
           null,
           null,
           null,
           null,
           null,
           null,
           null,
           null,
           null,
           null,
           null,
           null,
           null,
           null,
           null,
           null
          ],
          [
           null,
           null,
           null,
           null,
           null,
           null,
           null,
           null,
           0.01106,
           null,
           null,
           null,
           null,
           null,
           null,
           null,
           null,
           null,
           null,
           null,
           null,
           null
          ],
          [
           null,
           null,
           0.00792,
           null,
           null,
           null,
           null,
           null,
           null,
           null,
           null,
           null,
           null,
           null,
           null,
           null,
           null,
           null,
           null,
           null,
           null,
           null
          ],
          [
           null,
           null,
           null,
           null,
           null,
           null,
           null,
           null,
           null,
           0.0097,
           null,
           null,
           null,
           null,
           null,
           null,
           null,
           null,
           null,
           null,
           null,
           null
          ],
          [
           null,
           null,
           null,
           null,
           null,
           null,
           null,
           null,
           null,
           null,
           null,
           null,
           null,
           null,
           0.02298,
           null,
           null,
           null,
           null,
           null,
           null,
           null
          ],
          [
           null,
           null,
           null,
           null,
           null,
           null,
           null,
           null,
           null,
           null,
           null,
           null,
           null,
           null,
           null,
           null,
           null,
           0.04118,
           null,
           null,
           null,
           null
          ],
          [
           null,
           null,
           null,
           null,
           null,
           null,
           null,
           null,
           null,
           null,
           null,
           null,
           null,
           0.02306,
           null,
           null,
           null,
           null,
           null,
           null,
           null,
           null
          ],
          [
           null,
           null,
           null,
           null,
           null,
           null,
           0.01092,
           null,
           null,
           null,
           null,
           null,
           null,
           null,
           null,
           null,
           null,
           null,
           null,
           null,
           null,
           null
          ],
          [
           null,
           null,
           null,
           null,
           null,
           null,
           null,
           null,
           null,
           null,
           null,
           null,
           null,
           null,
           null,
           null,
           null,
           null,
           0.03574,
           null,
           null,
           null
          ],
          [
           null,
           null,
           null,
           null,
           null,
           null,
           null,
           null,
           null,
           null,
           null,
           null,
           null,
           null,
           null,
           0.04214,
           null,
           null,
           null,
           null,
           null,
           null
          ],
          [
           null,
           null,
           null,
           null,
           0.00666,
           null,
           null,
           null,
           null,
           null,
           null,
           null,
           null,
           null,
           null,
           null,
           null,
           null,
           null,
           null,
           null,
           null
          ],
          [
           null,
           null,
           null,
           null,
           null,
           null,
           null,
           null,
           null,
           null,
           null,
           null,
           null,
           null,
           null,
           null,
           0.05528,
           null,
           null,
           null,
           null,
           null
          ],
          [
           null,
           null,
           null,
           0.00732,
           null,
           null,
           null,
           null,
           null,
           null,
           null,
           null,
           null,
           null,
           null,
           null,
           null,
           null,
           null,
           null,
           null,
           null
          ],
          [
           null,
           null,
           null,
           null,
           null,
           null,
           null,
           null,
           null,
           null,
           null,
           null,
           null,
           null,
           null,
           null,
           null,
           null,
           null,
           0.0625,
           null,
           null
          ],
          [
           null,
           null,
           null,
           null,
           null,
           null,
           null,
           null,
           null,
           null,
           null,
           0.03156,
           null,
           null,
           null,
           null,
           null,
           null,
           null,
           null,
           null,
           null
          ],
          [
           null,
           null,
           null,
           null,
           null,
           null,
           null,
           null,
           null,
           null,
           0.01258,
           null,
           null,
           null,
           null,
           null,
           null,
           null,
           null,
           null,
           null,
           null
          ],
          [
           null,
           null,
           null,
           null,
           null,
           0.00936,
           null,
           null,
           null,
           null,
           null,
           null,
           null,
           null,
           null,
           null,
           null,
           null,
           null,
           null,
           null,
           null
          ],
          [
           null,
           0.01036,
           null,
           null,
           null,
           null,
           null,
           null,
           null,
           null,
           null,
           null,
           null,
           null,
           null,
           null,
           null,
           null,
           null,
           null,
           null,
           null
          ],
          [
           null,
           null,
           null,
           null,
           null,
           null,
           null,
           null,
           null,
           null,
           null,
           null,
           0.03582,
           null,
           null,
           null,
           null,
           null,
           null,
           null,
           null,
           null
          ],
          [
           null,
           null,
           null,
           null,
           null,
           null,
           null,
           0.01276,
           null,
           null,
           null,
           null,
           null,
           null,
           null,
           null,
           null,
           null,
           null,
           null,
           null,
           null
          ],
          [
           null,
           null,
           null,
           null,
           null,
           null,
           null,
           null,
           null,
           null,
           null,
           null,
           null,
           null,
           null,
           null,
           null,
           null,
           null,
           null,
           0.0681,
           null
          ],
          [
           null,
           null,
           null,
           null,
           null,
           null,
           null,
           null,
           null,
           null,
           null,
           null,
           null,
           null,
           null,
           null,
           null,
           null,
           null,
           null,
           null,
           null
          ]
         ]
        },
        {
         "marker": {
          "color": "black",
          "line": {
           "color": "Gray",
           "width": 2
          }
         },
         "mode": "markers",
         "name": "Feasible Trial",
         "showlegend": false,
         "type": "scatter",
         "x": [
          0.0032836320278505178,
          7.926720107392387e-05,
          1.7266877929829834e-05,
          0.025008192565020314,
          0.008154138433502624,
          2.7448296897294305e-05,
          0.0005395639031974406,
          0.015372785686685734,
          0.0921222185855603,
          0.0058581166086852515,
          0.09127721118646621,
          0.09780502996212616,
          0.08812826033102203,
          0.00076561499267525,
          0.03560613901965581,
          0.0022469509567340086,
          0.00020626175830863302,
          0.03679162717171177,
          0.08943801120827582,
          0.01477566800045128
         ],
         "y": [
          0.30106677994740505,
          0.7875451642507962,
          0.8649995479109527,
          0.6306113770099678,
          0.8088812703040751,
          0.47239214736973123,
          0.8355577891258041,
          0.8780516008799264,
          0.8076914801473221,
          0.47846175319198436,
          0.6965512468301884,
          0.8912577725515343,
          0.7467212218810378,
          0.6706586395351547,
          0.5483519604300299,
          0.8904886461879522,
          0.7448669209136307,
          0.7296097227188296,
          0.5734262227668037,
          0.8077287168338148
         ]
        },
        {
         "marker": {
          "color": "#cccccc",
          "line": {
           "color": "Gray",
           "width": 2
          }
         },
         "mode": "markers",
         "name": "Infeasible Trial",
         "showlegend": false,
         "type": "scatter",
         "x": [],
         "y": []
        }
       ],
       "layout": {
        "autosize": true,
        "template": {
         "data": {
          "bar": [
           {
            "error_x": {
             "color": "#2a3f5f"
            },
            "error_y": {
             "color": "#2a3f5f"
            },
            "marker": {
             "line": {
              "color": "#E5ECF6",
              "width": 0.5
             },
             "pattern": {
              "fillmode": "overlay",
              "size": 10,
              "solidity": 0.2
             }
            },
            "type": "bar"
           }
          ],
          "barpolar": [
           {
            "marker": {
             "line": {
              "color": "#E5ECF6",
              "width": 0.5
             },
             "pattern": {
              "fillmode": "overlay",
              "size": 10,
              "solidity": 0.2
             }
            },
            "type": "barpolar"
           }
          ],
          "carpet": [
           {
            "aaxis": {
             "endlinecolor": "#2a3f5f",
             "gridcolor": "white",
             "linecolor": "white",
             "minorgridcolor": "white",
             "startlinecolor": "#2a3f5f"
            },
            "baxis": {
             "endlinecolor": "#2a3f5f",
             "gridcolor": "white",
             "linecolor": "white",
             "minorgridcolor": "white",
             "startlinecolor": "#2a3f5f"
            },
            "type": "carpet"
           }
          ],
          "choropleth": [
           {
            "colorbar": {
             "outlinewidth": 0,
             "ticks": ""
            },
            "type": "choropleth"
           }
          ],
          "contour": [
           {
            "colorbar": {
             "outlinewidth": 0,
             "ticks": ""
            },
            "colorscale": [
             [
              0,
              "#0d0887"
             ],
             [
              0.1111111111111111,
              "#46039f"
             ],
             [
              0.2222222222222222,
              "#7201a8"
             ],
             [
              0.3333333333333333,
              "#9c179e"
             ],
             [
              0.4444444444444444,
              "#bd3786"
             ],
             [
              0.5555555555555556,
              "#d8576b"
             ],
             [
              0.6666666666666666,
              "#ed7953"
             ],
             [
              0.7777777777777778,
              "#fb9f3a"
             ],
             [
              0.8888888888888888,
              "#fdca26"
             ],
             [
              1,
              "#f0f921"
             ]
            ],
            "type": "contour"
           }
          ],
          "contourcarpet": [
           {
            "colorbar": {
             "outlinewidth": 0,
             "ticks": ""
            },
            "type": "contourcarpet"
           }
          ],
          "heatmap": [
           {
            "colorbar": {
             "outlinewidth": 0,
             "ticks": ""
            },
            "colorscale": [
             [
              0,
              "#0d0887"
             ],
             [
              0.1111111111111111,
              "#46039f"
             ],
             [
              0.2222222222222222,
              "#7201a8"
             ],
             [
              0.3333333333333333,
              "#9c179e"
             ],
             [
              0.4444444444444444,
              "#bd3786"
             ],
             [
              0.5555555555555556,
              "#d8576b"
             ],
             [
              0.6666666666666666,
              "#ed7953"
             ],
             [
              0.7777777777777778,
              "#fb9f3a"
             ],
             [
              0.8888888888888888,
              "#fdca26"
             ],
             [
              1,
              "#f0f921"
             ]
            ],
            "type": "heatmap"
           }
          ],
          "heatmapgl": [
           {
            "colorbar": {
             "outlinewidth": 0,
             "ticks": ""
            },
            "colorscale": [
             [
              0,
              "#0d0887"
             ],
             [
              0.1111111111111111,
              "#46039f"
             ],
             [
              0.2222222222222222,
              "#7201a8"
             ],
             [
              0.3333333333333333,
              "#9c179e"
             ],
             [
              0.4444444444444444,
              "#bd3786"
             ],
             [
              0.5555555555555556,
              "#d8576b"
             ],
             [
              0.6666666666666666,
              "#ed7953"
             ],
             [
              0.7777777777777778,
              "#fb9f3a"
             ],
             [
              0.8888888888888888,
              "#fdca26"
             ],
             [
              1,
              "#f0f921"
             ]
            ],
            "type": "heatmapgl"
           }
          ],
          "histogram": [
           {
            "marker": {
             "pattern": {
              "fillmode": "overlay",
              "size": 10,
              "solidity": 0.2
             }
            },
            "type": "histogram"
           }
          ],
          "histogram2d": [
           {
            "colorbar": {
             "outlinewidth": 0,
             "ticks": ""
            },
            "colorscale": [
             [
              0,
              "#0d0887"
             ],
             [
              0.1111111111111111,
              "#46039f"
             ],
             [
              0.2222222222222222,
              "#7201a8"
             ],
             [
              0.3333333333333333,
              "#9c179e"
             ],
             [
              0.4444444444444444,
              "#bd3786"
             ],
             [
              0.5555555555555556,
              "#d8576b"
             ],
             [
              0.6666666666666666,
              "#ed7953"
             ],
             [
              0.7777777777777778,
              "#fb9f3a"
             ],
             [
              0.8888888888888888,
              "#fdca26"
             ],
             [
              1,
              "#f0f921"
             ]
            ],
            "type": "histogram2d"
           }
          ],
          "histogram2dcontour": [
           {
            "colorbar": {
             "outlinewidth": 0,
             "ticks": ""
            },
            "colorscale": [
             [
              0,
              "#0d0887"
             ],
             [
              0.1111111111111111,
              "#46039f"
             ],
             [
              0.2222222222222222,
              "#7201a8"
             ],
             [
              0.3333333333333333,
              "#9c179e"
             ],
             [
              0.4444444444444444,
              "#bd3786"
             ],
             [
              0.5555555555555556,
              "#d8576b"
             ],
             [
              0.6666666666666666,
              "#ed7953"
             ],
             [
              0.7777777777777778,
              "#fb9f3a"
             ],
             [
              0.8888888888888888,
              "#fdca26"
             ],
             [
              1,
              "#f0f921"
             ]
            ],
            "type": "histogram2dcontour"
           }
          ],
          "mesh3d": [
           {
            "colorbar": {
             "outlinewidth": 0,
             "ticks": ""
            },
            "type": "mesh3d"
           }
          ],
          "parcoords": [
           {
            "line": {
             "colorbar": {
              "outlinewidth": 0,
              "ticks": ""
             }
            },
            "type": "parcoords"
           }
          ],
          "pie": [
           {
            "automargin": true,
            "type": "pie"
           }
          ],
          "scatter": [
           {
            "fillpattern": {
             "fillmode": "overlay",
             "size": 10,
             "solidity": 0.2
            },
            "type": "scatter"
           }
          ],
          "scatter3d": [
           {
            "line": {
             "colorbar": {
              "outlinewidth": 0,
              "ticks": ""
             }
            },
            "marker": {
             "colorbar": {
              "outlinewidth": 0,
              "ticks": ""
             }
            },
            "type": "scatter3d"
           }
          ],
          "scattercarpet": [
           {
            "marker": {
             "colorbar": {
              "outlinewidth": 0,
              "ticks": ""
             }
            },
            "type": "scattercarpet"
           }
          ],
          "scattergeo": [
           {
            "marker": {
             "colorbar": {
              "outlinewidth": 0,
              "ticks": ""
             }
            },
            "type": "scattergeo"
           }
          ],
          "scattergl": [
           {
            "marker": {
             "colorbar": {
              "outlinewidth": 0,
              "ticks": ""
             }
            },
            "type": "scattergl"
           }
          ],
          "scattermapbox": [
           {
            "marker": {
             "colorbar": {
              "outlinewidth": 0,
              "ticks": ""
             }
            },
            "type": "scattermapbox"
           }
          ],
          "scatterpolar": [
           {
            "marker": {
             "colorbar": {
              "outlinewidth": 0,
              "ticks": ""
             }
            },
            "type": "scatterpolar"
           }
          ],
          "scatterpolargl": [
           {
            "marker": {
             "colorbar": {
              "outlinewidth": 0,
              "ticks": ""
             }
            },
            "type": "scatterpolargl"
           }
          ],
          "scatterternary": [
           {
            "marker": {
             "colorbar": {
              "outlinewidth": 0,
              "ticks": ""
             }
            },
            "type": "scatterternary"
           }
          ],
          "surface": [
           {
            "colorbar": {
             "outlinewidth": 0,
             "ticks": ""
            },
            "colorscale": [
             [
              0,
              "#0d0887"
             ],
             [
              0.1111111111111111,
              "#46039f"
             ],
             [
              0.2222222222222222,
              "#7201a8"
             ],
             [
              0.3333333333333333,
              "#9c179e"
             ],
             [
              0.4444444444444444,
              "#bd3786"
             ],
             [
              0.5555555555555556,
              "#d8576b"
             ],
             [
              0.6666666666666666,
              "#ed7953"
             ],
             [
              0.7777777777777778,
              "#fb9f3a"
             ],
             [
              0.8888888888888888,
              "#fdca26"
             ],
             [
              1,
              "#f0f921"
             ]
            ],
            "type": "surface"
           }
          ],
          "table": [
           {
            "cells": {
             "fill": {
              "color": "#EBF0F8"
             },
             "line": {
              "color": "white"
             }
            },
            "header": {
             "fill": {
              "color": "#C8D4E3"
             },
             "line": {
              "color": "white"
             }
            },
            "type": "table"
           }
          ]
         },
         "layout": {
          "annotationdefaults": {
           "arrowcolor": "#2a3f5f",
           "arrowhead": 0,
           "arrowwidth": 1
          },
          "autotypenumbers": "strict",
          "coloraxis": {
           "colorbar": {
            "outlinewidth": 0,
            "ticks": ""
           }
          },
          "colorscale": {
           "diverging": [
            [
             0,
             "#8e0152"
            ],
            [
             0.1,
             "#c51b7d"
            ],
            [
             0.2,
             "#de77ae"
            ],
            [
             0.3,
             "#f1b6da"
            ],
            [
             0.4,
             "#fde0ef"
            ],
            [
             0.5,
             "#f7f7f7"
            ],
            [
             0.6,
             "#e6f5d0"
            ],
            [
             0.7,
             "#b8e186"
            ],
            [
             0.8,
             "#7fbc41"
            ],
            [
             0.9,
             "#4d9221"
            ],
            [
             1,
             "#276419"
            ]
           ],
           "sequential": [
            [
             0,
             "#0d0887"
            ],
            [
             0.1111111111111111,
             "#46039f"
            ],
            [
             0.2222222222222222,
             "#7201a8"
            ],
            [
             0.3333333333333333,
             "#9c179e"
            ],
            [
             0.4444444444444444,
             "#bd3786"
            ],
            [
             0.5555555555555556,
             "#d8576b"
            ],
            [
             0.6666666666666666,
             "#ed7953"
            ],
            [
             0.7777777777777778,
             "#fb9f3a"
            ],
            [
             0.8888888888888888,
             "#fdca26"
            ],
            [
             1,
             "#f0f921"
            ]
           ],
           "sequentialminus": [
            [
             0,
             "#0d0887"
            ],
            [
             0.1111111111111111,
             "#46039f"
            ],
            [
             0.2222222222222222,
             "#7201a8"
            ],
            [
             0.3333333333333333,
             "#9c179e"
            ],
            [
             0.4444444444444444,
             "#bd3786"
            ],
            [
             0.5555555555555556,
             "#d8576b"
            ],
            [
             0.6666666666666666,
             "#ed7953"
            ],
            [
             0.7777777777777778,
             "#fb9f3a"
            ],
            [
             0.8888888888888888,
             "#fdca26"
            ],
            [
             1,
             "#f0f921"
            ]
           ]
          },
          "colorway": [
           "#636efa",
           "#EF553B",
           "#00cc96",
           "#ab63fa",
           "#FFA15A",
           "#19d3f3",
           "#FF6692",
           "#B6E880",
           "#FF97FF",
           "#FECB52"
          ],
          "font": {
           "color": "#2a3f5f"
          },
          "geo": {
           "bgcolor": "white",
           "lakecolor": "white",
           "landcolor": "#E5ECF6",
           "showlakes": true,
           "showland": true,
           "subunitcolor": "white"
          },
          "hoverlabel": {
           "align": "left"
          },
          "hovermode": "closest",
          "mapbox": {
           "style": "light"
          },
          "paper_bgcolor": "white",
          "plot_bgcolor": "#E5ECF6",
          "polar": {
           "angularaxis": {
            "gridcolor": "white",
            "linecolor": "white",
            "ticks": ""
           },
           "bgcolor": "#E5ECF6",
           "radialaxis": {
            "gridcolor": "white",
            "linecolor": "white",
            "ticks": ""
           }
          },
          "scene": {
           "xaxis": {
            "backgroundcolor": "#E5ECF6",
            "gridcolor": "white",
            "gridwidth": 2,
            "linecolor": "white",
            "showbackground": true,
            "ticks": "",
            "zerolinecolor": "white"
           },
           "yaxis": {
            "backgroundcolor": "#E5ECF6",
            "gridcolor": "white",
            "gridwidth": 2,
            "linecolor": "white",
            "showbackground": true,
            "ticks": "",
            "zerolinecolor": "white"
           },
           "zaxis": {
            "backgroundcolor": "#E5ECF6",
            "gridcolor": "white",
            "gridwidth": 2,
            "linecolor": "white",
            "showbackground": true,
            "ticks": "",
            "zerolinecolor": "white"
           }
          },
          "shapedefaults": {
           "line": {
            "color": "#2a3f5f"
           }
          },
          "ternary": {
           "aaxis": {
            "gridcolor": "white",
            "linecolor": "white",
            "ticks": ""
           },
           "baxis": {
            "gridcolor": "white",
            "linecolor": "white",
            "ticks": ""
           },
           "bgcolor": "#E5ECF6",
           "caxis": {
            "gridcolor": "white",
            "linecolor": "white",
            "ticks": ""
           }
          },
          "title": {
           "x": 0.05
          },
          "xaxis": {
           "automargin": true,
           "gridcolor": "white",
           "linecolor": "white",
           "ticks": "",
           "title": {
            "standoff": 15
           },
           "zerolinecolor": "white",
           "zerolinewidth": 2
          },
          "yaxis": {
           "automargin": true,
           "gridcolor": "white",
           "linecolor": "white",
           "ticks": "",
           "title": {
            "standoff": 15
           },
           "zerolinecolor": "white",
           "zerolinewidth": 2
          }
         }
        },
        "title": {
         "text": "Contour Plot"
        },
        "xaxis": {
         "range": [
          -4.950443549862416,
          -0.8219814409546998
         ],
         "title": {
          "text": "learning_rate"
         },
         "type": "log"
        },
        "yaxis": {
         "range": [
          0.2715572303171986,
          0.9207673221817407
         ],
         "title": {
          "text": "momentum"
         },
         "type": "linear"
        }
       }
      },
      "image/png": "[encoded data removed]",
      "text/html": [
       "<div>                            <div id=\"d2f4b2f4-ce60-4bea-af1e-f45bb539fda0\" class=\"plotly-graph-div\" style=\"height:525px; width:100%;\"></div>            <script type=\"text/javascript\">                require([\"plotly\"], function(Plotly) {                    window.PLOTLYENV=window.PLOTLYENV || {};                                    if (document.getElementById(\"d2f4b2f4-ce60-4bea-af1e-f45bb539fda0\")) {                    Plotly.newPlot(                        \"d2f4b2f4-ce60-4bea-af1e-f45bb539fda0\",                        [{\"colorbar\":{\"title\":{\"text\":\"Objective Value\"}},\"colorscale\":[[0.0,\"rgb(247,251,255)\"],[0.125,\"rgb(222,235,247)\"],[0.25,\"rgb(198,219,239)\"],[0.375,\"rgb(158,202,225)\"],[0.5,\"rgb(107,174,214)\"],[0.625,\"rgb(66,146,198)\"],[0.75,\"rgb(33,113,181)\"],[0.875,\"rgb(8,81,156)\"],[1.0,\"rgb(8,48,107)\"]],\"connectgaps\":true,\"contours\":{\"coloring\":\"heatmap\"},\"hoverinfo\":\"none\",\"line\":{\"smoothing\":1.3},\"reversescale\":false,\"x\":[1.1208731091509616e-05,1.7266877929829834e-05,2.7448296897294305e-05,7.926720107392387e-05,0.00020626175830863302,0.0005395639031974406,0.00076561499267525,0.0022469509567340086,0.0032836320278505178,0.0058581166086852515,0.008154138433502624,0.01477566800045128,0.015372785686685734,0.025008192565020314,0.03560613901965581,0.03679162717171177,0.08812826033102203,0.08943801120827582,0.09127721118646621,0.0921222185855603,0.09780502996212616,0.1506671450578919],\"y\":[0.2715572303171986,0.30106677994740505,0.47239214736973123,0.47846175319198436,0.5483519604300299,0.5734262227668037,0.6306113770099678,0.6706586395351547,0.6965512468301884,0.7296097227188296,0.7448669209136307,0.7467212218810378,0.7875451642507962,0.8076914801473221,0.8077287168338148,0.8088812703040751,0.8355577891258041,0.8649995479109527,0.8780516008799264,0.8904886461879522,0.8912577725515343,0.9207673221817407],\"z\":[[null,null,null,null,null,null,null,null,null,null,null,null,null,null,null,null,null,null,null,null,null,null],[null,null,null,null,null,null,null,null,0.01106,null,null,null,null,null,null,null,null,null,null,null,null,null],[null,null,0.00792,null,null,null,null,null,null,null,null,null,null,null,null,null,null,null,null,null,null,null],[null,null,null,null,null,null,null,null,null,0.0097,null,null,null,null,null,null,null,null,null,null,null,null],[null,null,null,null,null,null,null,null,null,null,null,null,null,null,0.02298,null,null,null,null,null,null,null],[null,null,null,null,null,null,null,null,null,null,null,null,null,null,null,null,null,0.04118,null,null,null,null],[null,null,null,null,null,null,null,null,null,null,null,null,null,0.02306,null,null,null,null,null,null,null,null],[null,null,null,null,null,null,0.01092,null,null,null,null,null,null,null,null,null,null,null,null,null,null,null],[null,null,null,null,null,null,null,null,null,null,null,null,null,null,null,null,null,null,0.03574,null,null,null],[null,null,null,null,null,null,null,null,null,null,null,null,null,null,null,0.04214,null,null,null,null,null,null],[null,null,null,null,0.00666,null,null,null,null,null,null,null,null,null,null,null,null,null,null,null,null,null],[null,null,null,null,null,null,null,null,null,null,null,null,null,null,null,null,0.05528,null,null,null,null,null],[null,null,null,0.00732,null,null,null,null,null,null,null,null,null,null,null,null,null,null,null,null,null,null],[null,null,null,null,null,null,null,null,null,null,null,null,null,null,null,null,null,null,null,0.0625,null,null],[null,null,null,null,null,null,null,null,null,null,null,0.03156,null,null,null,null,null,null,null,null,null,null],[null,null,null,null,null,null,null,null,null,null,0.01258,null,null,null,null,null,null,null,null,null,null,null],[null,null,null,null,null,0.00936,null,null,null,null,null,null,null,null,null,null,null,null,null,null,null,null],[null,0.01036,null,null,null,null,null,null,null,null,null,null,null,null,null,null,null,null,null,null,null,null],[null,null,null,null,null,null,null,null,null,null,null,null,0.03582,null,null,null,null,null,null,null,null,null],[null,null,null,null,null,null,null,0.01276,null,null,null,null,null,null,null,null,null,null,null,null,null,null],[null,null,null,null,null,null,null,null,null,null,null,null,null,null,null,null,null,null,null,null,0.0681,null],[null,null,null,null,null,null,null,null,null,null,null,null,null,null,null,null,null,null,null,null,null,null]],\"type\":\"contour\"},{\"marker\":{\"color\":\"black\",\"line\":{\"color\":\"Gray\",\"width\":2.0}},\"mode\":\"markers\",\"name\":\"Feasible Trial\",\"showlegend\":false,\"x\":[0.0032836320278505178,7.926720107392387e-05,1.7266877929829834e-05,0.025008192565020314,0.008154138433502624,2.7448296897294305e-05,0.0005395639031974406,0.015372785686685734,0.0921222185855603,0.0058581166086852515,0.09127721118646621,0.09780502996212616,0.08812826033102203,0.00076561499267525,0.03560613901965581,0.0022469509567340086,0.00020626175830863302,0.03679162717171177,0.08943801120827582,0.01477566800045128],\"y\":[0.30106677994740505,0.7875451642507962,0.8649995479109527,0.6306113770099678,0.8088812703040751,0.47239214736973123,0.8355577891258041,0.8780516008799264,0.8076914801473221,0.47846175319198436,0.6965512468301884,0.8912577725515343,0.7467212218810378,0.6706586395351547,0.5483519604300299,0.8904886461879522,0.7448669209136307,0.7296097227188296,0.5734262227668037,0.8077287168338148],\"type\":\"scatter\"},{\"marker\":{\"color\":\"#cccccc\",\"line\":{\"color\":\"Gray\",\"width\":2.0}},\"mode\":\"markers\",\"name\":\"Infeasible Trial\",\"showlegend\":false,\"x\":[],\"y\":[],\"type\":\"scatter\"}],                        {\"title\":{\"text\":\"Contour Plot\"},\"template\":{\"data\":{\"histogram2dcontour\":[{\"type\":\"histogram2dcontour\",\"colorbar\":{\"outlinewidth\":0,\"ticks\":\"\"},\"colorscale\":[[0.0,\"#0d0887\"],[0.1111111111111111,\"#46039f\"],[0.2222222222222222,\"#7201a8\"],[0.3333333333333333,\"#9c179e\"],[0.4444444444444444,\"#bd3786\"],[0.5555555555555556,\"#d8576b\"],[0.6666666666666666,\"#ed7953\"],[0.7777777777777778,\"#fb9f3a\"],[0.8888888888888888,\"#fdca26\"],[1.0,\"#f0f921\"]]}],\"choropleth\":[{\"type\":\"choropleth\",\"colorbar\":{\"outlinewidth\":0,\"ticks\":\"\"}}],\"histogram2d\":[{\"type\":\"histogram2d\",\"colorbar\":{\"outlinewidth\":0,\"ticks\":\"\"},\"colorscale\":[[0.0,\"#0d0887\"],[0.1111111111111111,\"#46039f\"],[0.2222222222222222,\"#7201a8\"],[0.3333333333333333,\"#9c179e\"],[0.4444444444444444,\"#bd3786\"],[0.5555555555555556,\"#d8576b\"],[0.6666666666666666,\"#ed7953\"],[0.7777777777777778,\"#fb9f3a\"],[0.8888888888888888,\"#fdca26\"],[1.0,\"#f0f921\"]]}],\"heatmap\":[{\"type\":\"heatmap\",\"colorbar\":{\"outlinewidth\":0,\"ticks\":\"\"},\"colorscale\":[[0.0,\"#0d0887\"],[0.1111111111111111,\"#46039f\"],[0.2222222222222222,\"#7201a8\"],[0.3333333333333333,\"#9c179e\"],[0.4444444444444444,\"#bd3786\"],[0.5555555555555556,\"#d8576b\"],[0.6666666666666666,\"#ed7953\"],[0.7777777777777778,\"#fb9f3a\"],[0.8888888888888888,\"#fdca26\"],[1.0,\"#f0f921\"]]}],\"heatmapgl\":[{\"type\":\"heatmapgl\",\"colorbar\":{\"outlinewidth\":0,\"ticks\":\"\"},\"colorscale\":[[0.0,\"#0d0887\"],[0.1111111111111111,\"#46039f\"],[0.2222222222222222,\"#7201a8\"],[0.3333333333333333,\"#9c179e\"],[0.4444444444444444,\"#bd3786\"],[0.5555555555555556,\"#d8576b\"],[0.6666666666666666,\"#ed7953\"],[0.7777777777777778,\"#fb9f3a\"],[0.8888888888888888,\"#fdca26\"],[1.0,\"#f0f921\"]]}],\"contourcarpet\":[{\"type\":\"contourcarpet\",\"colorbar\":{\"outlinewidth\":0,\"ticks\":\"\"}}],\"contour\":[{\"type\":\"contour\",\"colorbar\":{\"outlinewidth\":0,\"ticks\":\"\"},\"colorscale\":[[0.0,\"#0d0887\"],[0.1111111111111111,\"#46039f\"],[0.2222222222222222,\"#7201a8\"],[0.3333333333333333,\"#9c179e\"],[0.4444444444444444,\"#bd3786\"],[0.5555555555555556,\"#d8576b\"],[0.6666666666666666,\"#ed7953\"],[0.7777777777777778,\"#fb9f3a\"],[0.8888888888888888,\"#fdca26\"],[1.0,\"#f0f921\"]]}],\"surface\":[{\"type\":\"surface\",\"colorbar\":{\"outlinewidth\":0,\"ticks\":\"\"},\"colorscale\":[[0.0,\"#0d0887\"],[0.1111111111111111,\"#46039f\"],[0.2222222222222222,\"#7201a8\"],[0.3333333333333333,\"#9c179e\"],[0.4444444444444444,\"#bd3786\"],[0.5555555555555556,\"#d8576b\"],[0.6666666666666666,\"#ed7953\"],[0.7777777777777778,\"#fb9f3a\"],[0.8888888888888888,\"#fdca26\"],[1.0,\"#f0f921\"]]}],\"mesh3d\":[{\"type\":\"mesh3d\",\"colorbar\":{\"outlinewidth\":0,\"ticks\":\"\"}}],\"scatter\":[{\"fillpattern\":{\"fillmode\":\"overlay\",\"size\":10,\"solidity\":0.2},\"type\":\"scatter\"}],\"parcoords\":[{\"type\":\"parcoords\",\"line\":{\"colorbar\":{\"outlinewidth\":0,\"ticks\":\"\"}}}],\"scatterpolargl\":[{\"type\":\"scatterpolargl\",\"marker\":{\"colorbar\":{\"outlinewidth\":0,\"ticks\":\"\"}}}],\"bar\":[{\"error_x\":{\"color\":\"#2a3f5f\"},\"error_y\":{\"color\":\"#2a3f5f\"},\"marker\":{\"line\":{\"color\":\"#E5ECF6\",\"width\":0.5},\"pattern\":{\"fillmode\":\"overlay\",\"size\":10,\"solidity\":0.2}},\"type\":\"bar\"}],\"scattergeo\":[{\"type\":\"scattergeo\",\"marker\":{\"colorbar\":{\"outlinewidth\":0,\"ticks\":\"\"}}}],\"scatterpolar\":[{\"type\":\"scatterpolar\",\"marker\":{\"colorbar\":{\"outlinewidth\":0,\"ticks\":\"\"}}}],\"histogram\":[{\"marker\":{\"pattern\":{\"fillmode\":\"overlay\",\"size\":10,\"solidity\":0.2}},\"type\":\"histogram\"}],\"scattergl\":[{\"type\":\"scattergl\",\"marker\":{\"colorbar\":{\"outlinewidth\":0,\"ticks\":\"\"}}}],\"scatter3d\":[{\"type\":\"scatter3d\",\"line\":{\"colorbar\":{\"outlinewidth\":0,\"ticks\":\"\"}},\"marker\":{\"colorbar\":{\"outlinewidth\":0,\"ticks\":\"\"}}}],\"scattermapbox\":[{\"type\":\"scattermapbox\",\"marker\":{\"colorbar\":{\"outlinewidth\":0,\"ticks\":\"\"}}}],\"scatterternary\":[{\"type\":\"scatterternary\",\"marker\":{\"colorbar\":{\"outlinewidth\":0,\"ticks\":\"\"}}}],\"scattercarpet\":[{\"type\":\"scattercarpet\",\"marker\":{\"colorbar\":{\"outlinewidth\":0,\"ticks\":\"\"}}}],\"carpet\":[{\"aaxis\":{\"endlinecolor\":\"#2a3f5f\",\"gridcolor\":\"white\",\"linecolor\":\"white\",\"minorgridcolor\":\"white\",\"startlinecolor\":\"#2a3f5f\"},\"baxis\":{\"endlinecolor\":\"#2a3f5f\",\"gridcolor\":\"white\",\"linecolor\":\"white\",\"minorgridcolor\":\"white\",\"startlinecolor\":\"#2a3f5f\"},\"type\":\"carpet\"}],\"table\":[{\"cells\":{\"fill\":{\"color\":\"#EBF0F8\"},\"line\":{\"color\":\"white\"}},\"header\":{\"fill\":{\"color\":\"#C8D4E3\"},\"line\":{\"color\":\"white\"}},\"type\":\"table\"}],\"barpolar\":[{\"marker\":{\"line\":{\"color\":\"#E5ECF6\",\"width\":0.5},\"pattern\":{\"fillmode\":\"overlay\",\"size\":10,\"solidity\":0.2}},\"type\":\"barpolar\"}],\"pie\":[{\"automargin\":true,\"type\":\"pie\"}]},\"layout\":{\"autotypenumbers\":\"strict\",\"colorway\":[\"#636efa\",\"#EF553B\",\"#00cc96\",\"#ab63fa\",\"#FFA15A\",\"#19d3f3\",\"#FF6692\",\"#B6E880\",\"#FF97FF\",\"#FECB52\"],\"font\":{\"color\":\"#2a3f5f\"},\"hovermode\":\"closest\",\"hoverlabel\":{\"align\":\"left\"},\"paper_bgcolor\":\"white\",\"plot_bgcolor\":\"#E5ECF6\",\"polar\":{\"bgcolor\":\"#E5ECF6\",\"angularaxis\":{\"gridcolor\":\"white\",\"linecolor\":\"white\",\"ticks\":\"\"},\"radialaxis\":{\"gridcolor\":\"white\",\"linecolor\":\"white\",\"ticks\":\"\"}},\"ternary\":{\"bgcolor\":\"#E5ECF6\",\"aaxis\":{\"gridcolor\":\"white\",\"linecolor\":\"white\",\"ticks\":\"\"},\"baxis\":{\"gridcolor\":\"white\",\"linecolor\":\"white\",\"ticks\":\"\"},\"caxis\":{\"gridcolor\":\"white\",\"linecolor\":\"white\",\"ticks\":\"\"}},\"coloraxis\":{\"colorbar\":{\"outlinewidth\":0,\"ticks\":\"\"}},\"colorscale\":{\"sequential\":[[0.0,\"#0d0887\"],[0.1111111111111111,\"#46039f\"],[0.2222222222222222,\"#7201a8\"],[0.3333333333333333,\"#9c179e\"],[0.4444444444444444,\"#bd3786\"],[0.5555555555555556,\"#d8576b\"],[0.6666666666666666,\"#ed7953\"],[0.7777777777777778,\"#fb9f3a\"],[0.8888888888888888,\"#fdca26\"],[1.0,\"#f0f921\"]],\"sequentialminus\":[[0.0,\"#0d0887\"],[0.1111111111111111,\"#46039f\"],[0.2222222222222222,\"#7201a8\"],[0.3333333333333333,\"#9c179e\"],[0.4444444444444444,\"#bd3786\"],[0.5555555555555556,\"#d8576b\"],[0.6666666666666666,\"#ed7953\"],[0.7777777777777778,\"#fb9f3a\"],[0.8888888888888888,\"#fdca26\"],[1.0,\"#f0f921\"]],\"diverging\":[[0,\"#8e0152\"],[0.1,\"#c51b7d\"],[0.2,\"#de77ae\"],[0.3,\"#f1b6da\"],[0.4,\"#fde0ef\"],[0.5,\"#f7f7f7\"],[0.6,\"#e6f5d0\"],[0.7,\"#b8e186\"],[0.8,\"#7fbc41\"],[0.9,\"#4d9221\"],[1,\"#276419\"]]},\"xaxis\":{\"gridcolor\":\"white\",\"linecolor\":\"white\",\"ticks\":\"\",\"title\":{\"standoff\":15},\"zerolinecolor\":\"white\",\"automargin\":true,\"zerolinewidth\":2},\"yaxis\":{\"gridcolor\":\"white\",\"linecolor\":\"white\",\"ticks\":\"\",\"title\":{\"standoff\":15},\"zerolinecolor\":\"white\",\"automargin\":true,\"zerolinewidth\":2},\"scene\":{\"xaxis\":{\"backgroundcolor\":\"#E5ECF6\",\"gridcolor\":\"white\",\"linecolor\":\"white\",\"showbackground\":true,\"ticks\":\"\",\"zerolinecolor\":\"white\",\"gridwidth\":2},\"yaxis\":{\"backgroundcolor\":\"#E5ECF6\",\"gridcolor\":\"white\",\"linecolor\":\"white\",\"showbackground\":true,\"ticks\":\"\",\"zerolinecolor\":\"white\",\"gridwidth\":2},\"zaxis\":{\"backgroundcolor\":\"#E5ECF6\",\"gridcolor\":\"white\",\"linecolor\":\"white\",\"showbackground\":true,\"ticks\":\"\",\"zerolinecolor\":\"white\",\"gridwidth\":2}},\"shapedefaults\":{\"line\":{\"color\":\"#2a3f5f\"}},\"annotationdefaults\":{\"arrowcolor\":\"#2a3f5f\",\"arrowhead\":0,\"arrowwidth\":1},\"geo\":{\"bgcolor\":\"white\",\"landcolor\":\"#E5ECF6\",\"subunitcolor\":\"white\",\"showland\":true,\"showlakes\":true,\"lakecolor\":\"white\"},\"title\":{\"x\":0.05},\"mapbox\":{\"style\":\"light\"}}},\"xaxis\":{\"title\":{\"text\":\"learning_rate\"},\"range\":[-4.950443549862416,-0.8219814409546998],\"type\":\"log\"},\"yaxis\":{\"title\":{\"text\":\"momentum\"},\"range\":[0.2715572303171986,0.9207673221817407]}},                        {\"responsive\": true}                    ).then(function(){\n",
       "                            \n",
       "var gd = document.getElementById('d2f4b2f4-ce60-4bea-af1e-f45bb539fda0');\n",
       "var x = new MutationObserver(function (mutations, observer) {{\n",
       "        var display = window.getComputedStyle(gd).display;\n",
       "        if (!display || display === 'none') {{\n",
       "            console.log([gd, 'removed!']);\n",
       "            Plotly.purge(gd);\n",
       "            observer.disconnect();\n",
       "        }}\n",
       "}});\n",
       "\n",
       "// Listen for the removal of the full notebook cells\n",
       "var notebookContainer = gd.closest('#notebook-container');\n",
       "if (notebookContainer) {{\n",
       "    x.observe(notebookContainer, {childList: true});\n",
       "}}\n",
       "\n",
       "// Listen for the clearing of the current output cell\n",
       "var outputEl = gd.closest('.output');\n",
       "if (outputEl) {{\n",
       "    x.observe(outputEl, {childList: true});\n",
       "}}\n",
       "\n",
       "                        })                };                });            </script>        </div>"
      ]
     },
     "metadata": {},
     "output_type": "display_data"
    }
   ],
   "source": [
    "target_names = list(study.trials[0].params.keys())\n",
    "fig = optuna.visualization.plot_contour(study, params=target_names)\n",
    "fig.show()"
   ]
  },
  {
   "cell_type": "code",
   "execution_count": 23,
   "id": "a60a9e9a-598b-42f1-984b-2aa69c3233ae",
   "metadata": {},
   "outputs": [
    {
     "data": {
      "application/vnd.plotly.v1+json": {
       "config": {
        "plotlyServerURL": "https://plot.ly"
       },
       "data": [
        {
         "cliponaxis": false,
         "hovertemplate": [
          "momentum (FloatDistribution): 0.18758302168976992<extra></extra>",
          "learning_rate (FloatDistribution): 0.8124169783102301<extra></extra>"
         ],
         "name": "Objective Value",
         "orientation": "h",
         "text": [
          "0.19",
          "0.81"
         ],
         "textposition": "outside",
         "type": "bar",
         "x": [
          0.18758302168976992,
          0.8124169783102301
         ],
         "y": [
          "momentum",
          "learning_rate"
         ]
        }
       ],
       "layout": {
        "autosize": true,
        "template": {
         "data": {
          "bar": [
           {
            "error_x": {
             "color": "#2a3f5f"
            },
            "error_y": {
             "color": "#2a3f5f"
            },
            "marker": {
             "line": {
              "color": "#E5ECF6",
              "width": 0.5
             },
             "pattern": {
              "fillmode": "overlay",
              "size": 10,
              "solidity": 0.2
             }
            },
            "type": "bar"
           }
          ],
          "barpolar": [
           {
            "marker": {
             "line": {
              "color": "#E5ECF6",
              "width": 0.5
             },
             "pattern": {
              "fillmode": "overlay",
              "size": 10,
              "solidity": 0.2
             }
            },
            "type": "barpolar"
           }
          ],
          "carpet": [
           {
            "aaxis": {
             "endlinecolor": "#2a3f5f",
             "gridcolor": "white",
             "linecolor": "white",
             "minorgridcolor": "white",
             "startlinecolor": "#2a3f5f"
            },
            "baxis": {
             "endlinecolor": "#2a3f5f",
             "gridcolor": "white",
             "linecolor": "white",
             "minorgridcolor": "white",
             "startlinecolor": "#2a3f5f"
            },
            "type": "carpet"
           }
          ],
          "choropleth": [
           {
            "colorbar": {
             "outlinewidth": 0,
             "ticks": ""
            },
            "type": "choropleth"
           }
          ],
          "contour": [
           {
            "colorbar": {
             "outlinewidth": 0,
             "ticks": ""
            },
            "colorscale": [
             [
              0,
              "#0d0887"
             ],
             [
              0.1111111111111111,
              "#46039f"
             ],
             [
              0.2222222222222222,
              "#7201a8"
             ],
             [
              0.3333333333333333,
              "#9c179e"
             ],
             [
              0.4444444444444444,
              "#bd3786"
             ],
             [
              0.5555555555555556,
              "#d8576b"
             ],
             [
              0.6666666666666666,
              "#ed7953"
             ],
             [
              0.7777777777777778,
              "#fb9f3a"
             ],
             [
              0.8888888888888888,
              "#fdca26"
             ],
             [
              1,
              "#f0f921"
             ]
            ],
            "type": "contour"
           }
          ],
          "contourcarpet": [
           {
            "colorbar": {
             "outlinewidth": 0,
             "ticks": ""
            },
            "type": "contourcarpet"
           }
          ],
          "heatmap": [
           {
            "colorbar": {
             "outlinewidth": 0,
             "ticks": ""
            },
            "colorscale": [
             [
              0,
              "#0d0887"
             ],
             [
              0.1111111111111111,
              "#46039f"
             ],
             [
              0.2222222222222222,
              "#7201a8"
             ],
             [
              0.3333333333333333,
              "#9c179e"
             ],
             [
              0.4444444444444444,
              "#bd3786"
             ],
             [
              0.5555555555555556,
              "#d8576b"
             ],
             [
              0.6666666666666666,
              "#ed7953"
             ],
             [
              0.7777777777777778,
              "#fb9f3a"
             ],
             [
              0.8888888888888888,
              "#fdca26"
             ],
             [
              1,
              "#f0f921"
             ]
            ],
            "type": "heatmap"
           }
          ],
          "heatmapgl": [
           {
            "colorbar": {
             "outlinewidth": 0,
             "ticks": ""
            },
            "colorscale": [
             [
              0,
              "#0d0887"
             ],
             [
              0.1111111111111111,
              "#46039f"
             ],
             [
              0.2222222222222222,
              "#7201a8"
             ],
             [
              0.3333333333333333,
              "#9c179e"
             ],
             [
              0.4444444444444444,
              "#bd3786"
             ],
             [
              0.5555555555555556,
              "#d8576b"
             ],
             [
              0.6666666666666666,
              "#ed7953"
             ],
             [
              0.7777777777777778,
              "#fb9f3a"
             ],
             [
              0.8888888888888888,
              "#fdca26"
             ],
             [
              1,
              "#f0f921"
             ]
            ],
            "type": "heatmapgl"
           }
          ],
          "histogram": [
           {
            "marker": {
             "pattern": {
              "fillmode": "overlay",
              "size": 10,
              "solidity": 0.2
             }
            },
            "type": "histogram"
           }
          ],
          "histogram2d": [
           {
            "colorbar": {
             "outlinewidth": 0,
             "ticks": ""
            },
            "colorscale": [
             [
              0,
              "#0d0887"
             ],
             [
              0.1111111111111111,
              "#46039f"
             ],
             [
              0.2222222222222222,
              "#7201a8"
             ],
             [
              0.3333333333333333,
              "#9c179e"
             ],
             [
              0.4444444444444444,
              "#bd3786"
             ],
             [
              0.5555555555555556,
              "#d8576b"
             ],
             [
              0.6666666666666666,
              "#ed7953"
             ],
             [
              0.7777777777777778,
              "#fb9f3a"
             ],
             [
              0.8888888888888888,
              "#fdca26"
             ],
             [
              1,
              "#f0f921"
             ]
            ],
            "type": "histogram2d"
           }
          ],
          "histogram2dcontour": [
           {
            "colorbar": {
             "outlinewidth": 0,
             "ticks": ""
            },
            "colorscale": [
             [
              0,
              "#0d0887"
             ],
             [
              0.1111111111111111,
              "#46039f"
             ],
             [
              0.2222222222222222,
              "#7201a8"
             ],
             [
              0.3333333333333333,
              "#9c179e"
             ],
             [
              0.4444444444444444,
              "#bd3786"
             ],
             [
              0.5555555555555556,
              "#d8576b"
             ],
             [
              0.6666666666666666,
              "#ed7953"
             ],
             [
              0.7777777777777778,
              "#fb9f3a"
             ],
             [
              0.8888888888888888,
              "#fdca26"
             ],
             [
              1,
              "#f0f921"
             ]
            ],
            "type": "histogram2dcontour"
           }
          ],
          "mesh3d": [
           {
            "colorbar": {
             "outlinewidth": 0,
             "ticks": ""
            },
            "type": "mesh3d"
           }
          ],
          "parcoords": [
           {
            "line": {
             "colorbar": {
              "outlinewidth": 0,
              "ticks": ""
             }
            },
            "type": "parcoords"
           }
          ],
          "pie": [
           {
            "automargin": true,
            "type": "pie"
           }
          ],
          "scatter": [
           {
            "fillpattern": {
             "fillmode": "overlay",
             "size": 10,
             "solidity": 0.2
            },
            "type": "scatter"
           }
          ],
          "scatter3d": [
           {
            "line": {
             "colorbar": {
              "outlinewidth": 0,
              "ticks": ""
             }
            },
            "marker": {
             "colorbar": {
              "outlinewidth": 0,
              "ticks": ""
             }
            },
            "type": "scatter3d"
           }
          ],
          "scattercarpet": [
           {
            "marker": {
             "colorbar": {
              "outlinewidth": 0,
              "ticks": ""
             }
            },
            "type": "scattercarpet"
           }
          ],
          "scattergeo": [
           {
            "marker": {
             "colorbar": {
              "outlinewidth": 0,
              "ticks": ""
             }
            },
            "type": "scattergeo"
           }
          ],
          "scattergl": [
           {
            "marker": {
             "colorbar": {
              "outlinewidth": 0,
              "ticks": ""
             }
            },
            "type": "scattergl"
           }
          ],
          "scattermapbox": [
           {
            "marker": {
             "colorbar": {
              "outlinewidth": 0,
              "ticks": ""
             }
            },
            "type": "scattermapbox"
           }
          ],
          "scatterpolar": [
           {
            "marker": {
             "colorbar": {
              "outlinewidth": 0,
              "ticks": ""
             }
            },
            "type": "scatterpolar"
           }
          ],
          "scatterpolargl": [
           {
            "marker": {
             "colorbar": {
              "outlinewidth": 0,
              "ticks": ""
             }
            },
            "type": "scatterpolargl"
           }
          ],
          "scatterternary": [
           {
            "marker": {
             "colorbar": {
              "outlinewidth": 0,
              "ticks": ""
             }
            },
            "type": "scatterternary"
           }
          ],
          "surface": [
           {
            "colorbar": {
             "outlinewidth": 0,
             "ticks": ""
            },
            "colorscale": [
             [
              0,
              "#0d0887"
             ],
             [
              0.1111111111111111,
              "#46039f"
             ],
             [
              0.2222222222222222,
              "#7201a8"
             ],
             [
              0.3333333333333333,
              "#9c179e"
             ],
             [
              0.4444444444444444,
              "#bd3786"
             ],
             [
              0.5555555555555556,
              "#d8576b"
             ],
             [
              0.6666666666666666,
              "#ed7953"
             ],
             [
              0.7777777777777778,
              "#fb9f3a"
             ],
             [
              0.8888888888888888,
              "#fdca26"
             ],
             [
              1,
              "#f0f921"
             ]
            ],
            "type": "surface"
           }
          ],
          "table": [
           {
            "cells": {
             "fill": {
              "color": "#EBF0F8"
             },
             "line": {
              "color": "white"
             }
            },
            "header": {
             "fill": {
              "color": "#C8D4E3"
             },
             "line": {
              "color": "white"
             }
            },
            "type": "table"
           }
          ]
         },
         "layout": {
          "annotationdefaults": {
           "arrowcolor": "#2a3f5f",
           "arrowhead": 0,
           "arrowwidth": 1
          },
          "autotypenumbers": "strict",
          "coloraxis": {
           "colorbar": {
            "outlinewidth": 0,
            "ticks": ""
           }
          },
          "colorscale": {
           "diverging": [
            [
             0,
             "#8e0152"
            ],
            [
             0.1,
             "#c51b7d"
            ],
            [
             0.2,
             "#de77ae"
            ],
            [
             0.3,
             "#f1b6da"
            ],
            [
             0.4,
             "#fde0ef"
            ],
            [
             0.5,
             "#f7f7f7"
            ],
            [
             0.6,
             "#e6f5d0"
            ],
            [
             0.7,
             "#b8e186"
            ],
            [
             0.8,
             "#7fbc41"
            ],
            [
             0.9,
             "#4d9221"
            ],
            [
             1,
             "#276419"
            ]
           ],
           "sequential": [
            [
             0,
             "#0d0887"
            ],
            [
             0.1111111111111111,
             "#46039f"
            ],
            [
             0.2222222222222222,
             "#7201a8"
            ],
            [
             0.3333333333333333,
             "#9c179e"
            ],
            [
             0.4444444444444444,
             "#bd3786"
            ],
            [
             0.5555555555555556,
             "#d8576b"
            ],
            [
             0.6666666666666666,
             "#ed7953"
            ],
            [
             0.7777777777777778,
             "#fb9f3a"
            ],
            [
             0.8888888888888888,
             "#fdca26"
            ],
            [
             1,
             "#f0f921"
            ]
           ],
           "sequentialminus": [
            [
             0,
             "#0d0887"
            ],
            [
             0.1111111111111111,
             "#46039f"
            ],
            [
             0.2222222222222222,
             "#7201a8"
            ],
            [
             0.3333333333333333,
             "#9c179e"
            ],
            [
             0.4444444444444444,
             "#bd3786"
            ],
            [
             0.5555555555555556,
             "#d8576b"
            ],
            [
             0.6666666666666666,
             "#ed7953"
            ],
            [
             0.7777777777777778,
             "#fb9f3a"
            ],
            [
             0.8888888888888888,
             "#fdca26"
            ],
            [
             1,
             "#f0f921"
            ]
           ]
          },
          "colorway": [
           "#636efa",
           "#EF553B",
           "#00cc96",
           "#ab63fa",
           "#FFA15A",
           "#19d3f3",
           "#FF6692",
           "#B6E880",
           "#FF97FF",
           "#FECB52"
          ],
          "font": {
           "color": "#2a3f5f"
          },
          "geo": {
           "bgcolor": "white",
           "lakecolor": "white",
           "landcolor": "#E5ECF6",
           "showlakes": true,
           "showland": true,
           "subunitcolor": "white"
          },
          "hoverlabel": {
           "align": "left"
          },
          "hovermode": "closest",
          "mapbox": {
           "style": "light"
          },
          "paper_bgcolor": "white",
          "plot_bgcolor": "#E5ECF6",
          "polar": {
           "angularaxis": {
            "gridcolor": "white",
            "linecolor": "white",
            "ticks": ""
           },
           "bgcolor": "#E5ECF6",
           "radialaxis": {
            "gridcolor": "white",
            "linecolor": "white",
            "ticks": ""
           }
          },
          "scene": {
           "xaxis": {
            "backgroundcolor": "#E5ECF6",
            "gridcolor": "white",
            "gridwidth": 2,
            "linecolor": "white",
            "showbackground": true,
            "ticks": "",
            "zerolinecolor": "white"
           },
           "yaxis": {
            "backgroundcolor": "#E5ECF6",
            "gridcolor": "white",
            "gridwidth": 2,
            "linecolor": "white",
            "showbackground": true,
            "ticks": "",
            "zerolinecolor": "white"
           },
           "zaxis": {
            "backgroundcolor": "#E5ECF6",
            "gridcolor": "white",
            "gridwidth": 2,
            "linecolor": "white",
            "showbackground": true,
            "ticks": "",
            "zerolinecolor": "white"
           }
          },
          "shapedefaults": {
           "line": {
            "color": "#2a3f5f"
           }
          },
          "ternary": {
           "aaxis": {
            "gridcolor": "white",
            "linecolor": "white",
            "ticks": ""
           },
           "baxis": {
            "gridcolor": "white",
            "linecolor": "white",
            "ticks": ""
           },
           "bgcolor": "#E5ECF6",
           "caxis": {
            "gridcolor": "white",
            "linecolor": "white",
            "ticks": ""
           }
          },
          "title": {
           "x": 0.05
          },
          "xaxis": {
           "automargin": true,
           "gridcolor": "white",
           "linecolor": "white",
           "ticks": "",
           "title": {
            "standoff": 15
           },
           "zerolinecolor": "white",
           "zerolinewidth": 2
          },
          "yaxis": {
           "automargin": true,
           "gridcolor": "white",
           "linecolor": "white",
           "ticks": "",
           "title": {
            "standoff": 15
           },
           "zerolinecolor": "white",
           "zerolinewidth": 2
          }
         }
        },
        "title": {
         "text": "Hyperparameter Importances"
        },
        "xaxis": {
         "autorange": true,
         "range": [
          0,
          0.8551757666423474
         ],
         "title": {
          "text": "Hyperparameter Importance"
         },
         "type": "linear"
        },
        "yaxis": {
         "autorange": true,
         "range": [
          -0.5,
          1.5
         ],
         "title": {
          "text": "Hyperparameter"
         },
         "type": "category"
        }
       }
      },
      "image/png": "[encoded data removed]",
      "text/html": [
       "<div>                            <div id=\"5cb568db-e8e1-48aa-898c-4291bab04701\" class=\"plotly-graph-div\" style=\"height:525px; width:100%;\"></div>            <script type=\"text/javascript\">                require([\"plotly\"], function(Plotly) {                    window.PLOTLYENV=window.PLOTLYENV || {};                                    if (document.getElementById(\"5cb568db-e8e1-48aa-898c-4291bab04701\")) {                    Plotly.newPlot(                        \"5cb568db-e8e1-48aa-898c-4291bab04701\",                        [{\"cliponaxis\":false,\"hovertemplate\":[\"momentum (FloatDistribution): 0.18758302168976992\\u003cextra\\u003e\\u003c\\u002fextra\\u003e\",\"learning_rate (FloatDistribution): 0.8124169783102301\\u003cextra\\u003e\\u003c\\u002fextra\\u003e\"],\"name\":\"Objective Value\",\"orientation\":\"h\",\"text\":[\"0.19\",\"0.81\"],\"textposition\":\"outside\",\"x\":[0.18758302168976992,0.8124169783102301],\"y\":[\"momentum\",\"learning_rate\"],\"type\":\"bar\"}],                        {\"title\":{\"text\":\"Hyperparameter Importances\"},\"xaxis\":{\"title\":{\"text\":\"Hyperparameter Importance\"}},\"yaxis\":{\"title\":{\"text\":\"Hyperparameter\"}},\"template\":{\"data\":{\"histogram2dcontour\":[{\"type\":\"histogram2dcontour\",\"colorbar\":{\"outlinewidth\":0,\"ticks\":\"\"},\"colorscale\":[[0.0,\"#0d0887\"],[0.1111111111111111,\"#46039f\"],[0.2222222222222222,\"#7201a8\"],[0.3333333333333333,\"#9c179e\"],[0.4444444444444444,\"#bd3786\"],[0.5555555555555556,\"#d8576b\"],[0.6666666666666666,\"#ed7953\"],[0.7777777777777778,\"#fb9f3a\"],[0.8888888888888888,\"#fdca26\"],[1.0,\"#f0f921\"]]}],\"choropleth\":[{\"type\":\"choropleth\",\"colorbar\":{\"outlinewidth\":0,\"ticks\":\"\"}}],\"histogram2d\":[{\"type\":\"histogram2d\",\"colorbar\":{\"outlinewidth\":0,\"ticks\":\"\"},\"colorscale\":[[0.0,\"#0d0887\"],[0.1111111111111111,\"#46039f\"],[0.2222222222222222,\"#7201a8\"],[0.3333333333333333,\"#9c179e\"],[0.4444444444444444,\"#bd3786\"],[0.5555555555555556,\"#d8576b\"],[0.6666666666666666,\"#ed7953\"],[0.7777777777777778,\"#fb9f3a\"],[0.8888888888888888,\"#fdca26\"],[1.0,\"#f0f921\"]]}],\"heatmap\":[{\"type\":\"heatmap\",\"colorbar\":{\"outlinewidth\":0,\"ticks\":\"\"},\"colorscale\":[[0.0,\"#0d0887\"],[0.1111111111111111,\"#46039f\"],[0.2222222222222222,\"#7201a8\"],[0.3333333333333333,\"#9c179e\"],[0.4444444444444444,\"#bd3786\"],[0.5555555555555556,\"#d8576b\"],[0.6666666666666666,\"#ed7953\"],[0.7777777777777778,\"#fb9f3a\"],[0.8888888888888888,\"#fdca26\"],[1.0,\"#f0f921\"]]}],\"heatmapgl\":[{\"type\":\"heatmapgl\",\"colorbar\":{\"outlinewidth\":0,\"ticks\":\"\"},\"colorscale\":[[0.0,\"#0d0887\"],[0.1111111111111111,\"#46039f\"],[0.2222222222222222,\"#7201a8\"],[0.3333333333333333,\"#9c179e\"],[0.4444444444444444,\"#bd3786\"],[0.5555555555555556,\"#d8576b\"],[0.6666666666666666,\"#ed7953\"],[0.7777777777777778,\"#fb9f3a\"],[0.8888888888888888,\"#fdca26\"],[1.0,\"#f0f921\"]]}],\"contourcarpet\":[{\"type\":\"contourcarpet\",\"colorbar\":{\"outlinewidth\":0,\"ticks\":\"\"}}],\"contour\":[{\"type\":\"contour\",\"colorbar\":{\"outlinewidth\":0,\"ticks\":\"\"},\"colorscale\":[[0.0,\"#0d0887\"],[0.1111111111111111,\"#46039f\"],[0.2222222222222222,\"#7201a8\"],[0.3333333333333333,\"#9c179e\"],[0.4444444444444444,\"#bd3786\"],[0.5555555555555556,\"#d8576b\"],[0.6666666666666666,\"#ed7953\"],[0.7777777777777778,\"#fb9f3a\"],[0.8888888888888888,\"#fdca26\"],[1.0,\"#f0f921\"]]}],\"surface\":[{\"type\":\"surface\",\"colorbar\":{\"outlinewidth\":0,\"ticks\":\"\"},\"colorscale\":[[0.0,\"#0d0887\"],[0.1111111111111111,\"#46039f\"],[0.2222222222222222,\"#7201a8\"],[0.3333333333333333,\"#9c179e\"],[0.4444444444444444,\"#bd3786\"],[0.5555555555555556,\"#d8576b\"],[0.6666666666666666,\"#ed7953\"],[0.7777777777777778,\"#fb9f3a\"],[0.8888888888888888,\"#fdca26\"],[1.0,\"#f0f921\"]]}],\"mesh3d\":[{\"type\":\"mesh3d\",\"colorbar\":{\"outlinewidth\":0,\"ticks\":\"\"}}],\"scatter\":[{\"fillpattern\":{\"fillmode\":\"overlay\",\"size\":10,\"solidity\":0.2},\"type\":\"scatter\"}],\"parcoords\":[{\"type\":\"parcoords\",\"line\":{\"colorbar\":{\"outlinewidth\":0,\"ticks\":\"\"}}}],\"scatterpolargl\":[{\"type\":\"scatterpolargl\",\"marker\":{\"colorbar\":{\"outlinewidth\":0,\"ticks\":\"\"}}}],\"bar\":[{\"error_x\":{\"color\":\"#2a3f5f\"},\"error_y\":{\"color\":\"#2a3f5f\"},\"marker\":{\"line\":{\"color\":\"#E5ECF6\",\"width\":0.5},\"pattern\":{\"fillmode\":\"overlay\",\"size\":10,\"solidity\":0.2}},\"type\":\"bar\"}],\"scattergeo\":[{\"type\":\"scattergeo\",\"marker\":{\"colorbar\":{\"outlinewidth\":0,\"ticks\":\"\"}}}],\"scatterpolar\":[{\"type\":\"scatterpolar\",\"marker\":{\"colorbar\":{\"outlinewidth\":0,\"ticks\":\"\"}}}],\"histogram\":[{\"marker\":{\"pattern\":{\"fillmode\":\"overlay\",\"size\":10,\"solidity\":0.2}},\"type\":\"histogram\"}],\"scattergl\":[{\"type\":\"scattergl\",\"marker\":{\"colorbar\":{\"outlinewidth\":0,\"ticks\":\"\"}}}],\"scatter3d\":[{\"type\":\"scatter3d\",\"line\":{\"colorbar\":{\"outlinewidth\":0,\"ticks\":\"\"}},\"marker\":{\"colorbar\":{\"outlinewidth\":0,\"ticks\":\"\"}}}],\"scattermapbox\":[{\"type\":\"scattermapbox\",\"marker\":{\"colorbar\":{\"outlinewidth\":0,\"ticks\":\"\"}}}],\"scatterternary\":[{\"type\":\"scatterternary\",\"marker\":{\"colorbar\":{\"outlinewidth\":0,\"ticks\":\"\"}}}],\"scattercarpet\":[{\"type\":\"scattercarpet\",\"marker\":{\"colorbar\":{\"outlinewidth\":0,\"ticks\":\"\"}}}],\"carpet\":[{\"aaxis\":{\"endlinecolor\":\"#2a3f5f\",\"gridcolor\":\"white\",\"linecolor\":\"white\",\"minorgridcolor\":\"white\",\"startlinecolor\":\"#2a3f5f\"},\"baxis\":{\"endlinecolor\":\"#2a3f5f\",\"gridcolor\":\"white\",\"linecolor\":\"white\",\"minorgridcolor\":\"white\",\"startlinecolor\":\"#2a3f5f\"},\"type\":\"carpet\"}],\"table\":[{\"cells\":{\"fill\":{\"color\":\"#EBF0F8\"},\"line\":{\"color\":\"white\"}},\"header\":{\"fill\":{\"color\":\"#C8D4E3\"},\"line\":{\"color\":\"white\"}},\"type\":\"table\"}],\"barpolar\":[{\"marker\":{\"line\":{\"color\":\"#E5ECF6\",\"width\":0.5},\"pattern\":{\"fillmode\":\"overlay\",\"size\":10,\"solidity\":0.2}},\"type\":\"barpolar\"}],\"pie\":[{\"automargin\":true,\"type\":\"pie\"}]},\"layout\":{\"autotypenumbers\":\"strict\",\"colorway\":[\"#636efa\",\"#EF553B\",\"#00cc96\",\"#ab63fa\",\"#FFA15A\",\"#19d3f3\",\"#FF6692\",\"#B6E880\",\"#FF97FF\",\"#FECB52\"],\"font\":{\"color\":\"#2a3f5f\"},\"hovermode\":\"closest\",\"hoverlabel\":{\"align\":\"left\"},\"paper_bgcolor\":\"white\",\"plot_bgcolor\":\"#E5ECF6\",\"polar\":{\"bgcolor\":\"#E5ECF6\",\"angularaxis\":{\"gridcolor\":\"white\",\"linecolor\":\"white\",\"ticks\":\"\"},\"radialaxis\":{\"gridcolor\":\"white\",\"linecolor\":\"white\",\"ticks\":\"\"}},\"ternary\":{\"bgcolor\":\"#E5ECF6\",\"aaxis\":{\"gridcolor\":\"white\",\"linecolor\":\"white\",\"ticks\":\"\"},\"baxis\":{\"gridcolor\":\"white\",\"linecolor\":\"white\",\"ticks\":\"\"},\"caxis\":{\"gridcolor\":\"white\",\"linecolor\":\"white\",\"ticks\":\"\"}},\"coloraxis\":{\"colorbar\":{\"outlinewidth\":0,\"ticks\":\"\"}},\"colorscale\":{\"sequential\":[[0.0,\"#0d0887\"],[0.1111111111111111,\"#46039f\"],[0.2222222222222222,\"#7201a8\"],[0.3333333333333333,\"#9c179e\"],[0.4444444444444444,\"#bd3786\"],[0.5555555555555556,\"#d8576b\"],[0.6666666666666666,\"#ed7953\"],[0.7777777777777778,\"#fb9f3a\"],[0.8888888888888888,\"#fdca26\"],[1.0,\"#f0f921\"]],\"sequentialminus\":[[0.0,\"#0d0887\"],[0.1111111111111111,\"#46039f\"],[0.2222222222222222,\"#7201a8\"],[0.3333333333333333,\"#9c179e\"],[0.4444444444444444,\"#bd3786\"],[0.5555555555555556,\"#d8576b\"],[0.6666666666666666,\"#ed7953\"],[0.7777777777777778,\"#fb9f3a\"],[0.8888888888888888,\"#fdca26\"],[1.0,\"#f0f921\"]],\"diverging\":[[0,\"#8e0152\"],[0.1,\"#c51b7d\"],[0.2,\"#de77ae\"],[0.3,\"#f1b6da\"],[0.4,\"#fde0ef\"],[0.5,\"#f7f7f7\"],[0.6,\"#e6f5d0\"],[0.7,\"#b8e186\"],[0.8,\"#7fbc41\"],[0.9,\"#4d9221\"],[1,\"#276419\"]]},\"xaxis\":{\"gridcolor\":\"white\",\"linecolor\":\"white\",\"ticks\":\"\",\"title\":{\"standoff\":15},\"zerolinecolor\":\"white\",\"automargin\":true,\"zerolinewidth\":2},\"yaxis\":{\"gridcolor\":\"white\",\"linecolor\":\"white\",\"ticks\":\"\",\"title\":{\"standoff\":15},\"zerolinecolor\":\"white\",\"automargin\":true,\"zerolinewidth\":2},\"scene\":{\"xaxis\":{\"backgroundcolor\":\"#E5ECF6\",\"gridcolor\":\"white\",\"linecolor\":\"white\",\"showbackground\":true,\"ticks\":\"\",\"zerolinecolor\":\"white\",\"gridwidth\":2},\"yaxis\":{\"backgroundcolor\":\"#E5ECF6\",\"gridcolor\":\"white\",\"linecolor\":\"white\",\"showbackground\":true,\"ticks\":\"\",\"zerolinecolor\":\"white\",\"gridwidth\":2},\"zaxis\":{\"backgroundcolor\":\"#E5ECF6\",\"gridcolor\":\"white\",\"linecolor\":\"white\",\"showbackground\":true,\"ticks\":\"\",\"zerolinecolor\":\"white\",\"gridwidth\":2}},\"shapedefaults\":{\"line\":{\"color\":\"#2a3f5f\"}},\"annotationdefaults\":{\"arrowcolor\":\"#2a3f5f\",\"arrowhead\":0,\"arrowwidth\":1},\"geo\":{\"bgcolor\":\"white\",\"landcolor\":\"#E5ECF6\",\"subunitcolor\":\"white\",\"showland\":true,\"showlakes\":true,\"lakecolor\":\"white\"},\"title\":{\"x\":0.05},\"mapbox\":{\"style\":\"light\"}}}},                        {\"responsive\": true}                    ).then(function(){\n",
       "                            \n",
       "var gd = document.getElementById('5cb568db-e8e1-48aa-898c-4291bab04701');\n",
       "var x = new MutationObserver(function (mutations, observer) {{\n",
       "        var display = window.getComputedStyle(gd).display;\n",
       "        if (!display || display === 'none') {{\n",
       "            console.log([gd, 'removed!']);\n",
       "            Plotly.purge(gd);\n",
       "            observer.disconnect();\n",
       "        }}\n",
       "}});\n",
       "\n",
       "// Listen for the removal of the full notebook cells\n",
       "var notebookContainer = gd.closest('#notebook-container');\n",
       "if (notebookContainer) {{\n",
       "    x.observe(notebookContainer, {childList: true});\n",
       "}}\n",
       "\n",
       "// Listen for the clearing of the current output cell\n",
       "var outputEl = gd.closest('.output');\n",
       "if (outputEl) {{\n",
       "    x.observe(outputEl, {childList: true});\n",
       "}}\n",
       "\n",
       "                        })                };                });            </script>        </div>"
      ]
     },
     "metadata": {},
     "output_type": "display_data"
    }
   ],
   "source": [
    "fig = optuna.visualization.plot_param_importances(study)\n",
    "fig.show()"
   ]
  },
  {
   "cell_type": "markdown",
   "id": "2e916e0b",
   "metadata": {},
   "source": [
    "## Test Best Model"
   ]
  },
  {
   "cell_type": "code",
   "execution_count": 16,
   "id": "f8a4097f-e8d1-49ca-bb18-4d98550748c1",
   "metadata": {},
   "outputs": [
    {
     "data": {
      "text/plain": [
       "FrozenTrial(number=11, state=TrialState.COMPLETE, values=[0.0681], datetime_start=datetime.datetime(2024, 5, 12, 0, 17, 27, 761650), datetime_complete=datetime.datetime(2024, 5, 12, 0, 18, 14, 750776), params={'learning_rate': 0.09780502996212616, 'momentum': 0.8912577725515343}, user_attrs={'train_accuracy': 0.0681, 'test_accuracy': 0.0657}, system_attrs={}, intermediate_values={}, distributions={'learning_rate': FloatDistribution(high=0.1, log=True, low=1e-05, step=None), 'momentum': FloatDistribution(high=0.9, log=False, low=0.3, step=None)}, trial_id=11, value=None)"
      ]
     },
     "execution_count": 16,
     "metadata": {},
     "output_type": "execute_result"
    }
   ],
   "source": [
    "study.best_trial"
   ]
  },
  {
   "cell_type": "code",
   "execution_count": 17,
   "id": "385e104a-9d48-4c24-a704-130a56534597",
   "metadata": {},
   "outputs": [
    {
     "name": "stdout",
     "output_type": "stream",
     "text": [
      "==========================================================================================\n",
      "Layer (type:depth-idx)                   Output Shape              Param #\n",
      "==========================================================================================\n",
      "Net                                      [128, 100]                --\n",
      "├─Conv2d: 1-1                            [128, 64, 32, 32]         1,792\n",
      "├─ReLU: 1-2                              [128, 64, 32, 32]         --\n",
      "├─BatchNorm2d: 1-3                       [128, 64, 32, 32]         128\n",
      "├─Conv2d: 1-4                            [128, 64, 32, 32]         36,928\n",
      "├─ReLU: 1-5                              [128, 64, 32, 32]         --\n",
      "├─BatchNorm2d: 1-6                       [128, 64, 32, 32]         128\n",
      "├─MaxPool2d: 1-7                         [128, 64, 16, 16]         --\n",
      "├─Dropout: 1-8                           [128, 64, 16, 16]         --\n",
      "├─Conv2d: 1-9                            [128, 128, 16, 16]        73,856\n",
      "├─ReLU: 1-10                             [128, 128, 16, 16]        --\n",
      "├─BatchNorm2d: 1-11                      [128, 128, 16, 16]        256\n",
      "├─Conv2d: 1-12                           [128, 128, 16, 16]        147,584\n",
      "├─ReLU: 1-13                             [128, 128, 16, 16]        --\n",
      "├─BatchNorm2d: 1-14                      [128, 128, 16, 16]        256\n",
      "├─MaxPool2d: 1-15                        [128, 128, 8, 8]          --\n",
      "├─Dropout: 1-16                          [128, 128, 8, 8]          --\n",
      "├─Conv2d: 1-17                           [128, 256, 8, 8]          295,168\n",
      "├─ReLU: 1-18                             [128, 256, 8, 8]          --\n",
      "├─BatchNorm2d: 1-19                      [128, 256, 8, 8]          512\n",
      "├─Conv2d: 1-20                           [128, 256, 8, 8]          590,080\n",
      "├─ReLU: 1-21                             [128, 256, 8, 8]          --\n",
      "├─BatchNorm2d: 1-22                      [128, 256, 8, 8]          512\n",
      "├─MaxPool2d: 1-23                        [128, 256, 4, 4]          --\n",
      "├─AdaptiveAvgPool2d: 1-24                [128, 256, 2, 2]          --\n",
      "├─Linear: 1-25                           [128, 512]                524,800\n",
      "├─ReLU: 1-26                             [128, 512]                --\n",
      "├─BatchNorm1d: 1-27                      [128, 512]                1,024\n",
      "├─Dropout: 1-28                          [128, 512]                --\n",
      "├─Linear: 1-29                           [128, 128]                65,664\n",
      "├─ReLU: 1-30                             [128, 128]                --\n",
      "├─BatchNorm1d: 1-31                      [128, 128]                256\n",
      "├─Dropout: 1-32                          [128, 128]                --\n",
      "├─Linear: 1-33                           [128, 100]                12,900\n",
      "├─Softmax: 1-34                          [128, 100]                --\n",
      "==========================================================================================\n",
      "Total params: 1,751,844\n",
      "Trainable params: 1,751,844\n",
      "Non-trainable params: 0\n",
      "Total mult-adds (G): 19.66\n",
      "==========================================================================================\n",
      "Input size (MB): 1.57\n",
      "Forward/backward pass size (MB): 471.18\n",
      "Params size (MB): 7.01\n",
      "Estimated Total Size (MB): 479.76\n",
      "==========================================================================================\n"
     ]
    }
   ],
   "source": [
    "model_dir = Path(output_dir, f'{model_name}-{study.best_trial.number}')\n",
    "pth_path = Path(model_dir, 'model.pth')\n",
    "best_model = simple_cnn.SimpleCNN(device, input_size=input_size, num_classes=num_classes, pth_path=pth_path)"
   ]
  },
  {
   "cell_type": "code",
   "execution_count": 18,
   "id": "5377e5d0-105b-4b9b-94dd-3b0a5ef7fe36",
   "metadata": {},
   "outputs": [
    {
     "name": "stdout",
     "output_type": "stream",
     "text": [
      "{'accuracy': 0.0681,\n",
      " 'classification_report': {'0': {'f1-score': 0.0,\n",
      "                                 'precision': 0.0,\n",
      "                                 'recall': 0.0,\n",
      "                                 'support': 500},\n",
      "                           '1': {'f1-score': 0.0,\n",
      "                                 'precision': 0.0,\n",
      "                                 'recall': 0.0,\n",
      "                                 'support': 500},\n",
      "                           '10': {'f1-score': 0.0,\n",
      "                                  'precision': 0.0,\n",
      "                                  'recall': 0.0,\n",
      "                                  'support': 500},\n",
      "                           '11': {'f1-score': 0.0,\n",
      "                                  'precision': 0.0,\n",
      "                                  'recall': 0.0,\n",
      "                                  'support': 500},\n",
      "                           '12': {'f1-score': 0.0,\n",
      "                                  'precision': 0.0,\n",
      "                                  'recall': 0.0,\n",
      "                                  'support': 500},\n",
      "                           '13': {'f1-score': 0.0,\n",
      "                                  'precision': 0.0,\n",
      "                                  'recall': 0.0,\n",
      "                                  'support': 500},\n",
      "                           '14': {'f1-score': 0.0,\n",
      "                                  'precision': 0.0,\n",
      "                                  'recall': 0.0,\n",
      "                                  'support': 500},\n",
      "                           '15': {'f1-score': 0.0,\n",
      "                                  'precision': 0.0,\n",
      "                                  'recall': 0.0,\n",
      "                                  'support': 500},\n",
      "                           '16': {'f1-score': 0.0,\n",
      "                                  'precision': 0.0,\n",
      "                                  'recall': 0.0,\n",
      "                                  'support': 500},\n",
      "                           '17': {'f1-score': 0.12097560975609756,\n",
      "                                  'precision': 0.06702702702702702,\n",
      "                                  'recall': 0.62,\n",
      "                                  'support': 500},\n",
      "                           '18': {'f1-score': 0.0,\n",
      "                                  'precision': 0.0,\n",
      "                                  'recall': 0.0,\n",
      "                                  'support': 500},\n",
      "                           '19': {'f1-score': 0.0,\n",
      "                                  'precision': 0.0,\n",
      "                                  'recall': 0.0,\n",
      "                                  'support': 500},\n",
      "                           '2': {'f1-score': 0.0,\n",
      "                                 'precision': 0.0,\n",
      "                                 'recall': 0.0,\n",
      "                                 'support': 500},\n",
      "                           '20': {'f1-score': 0.20052770448548815,\n",
      "                                  'precision': 0.12006319115323855,\n",
      "                                  'recall': 0.608,\n",
      "                                  'support': 500},\n",
      "                           '21': {'f1-score': 0.07649513212795549,\n",
      "                                  'precision': 0.0406003937007874,\n",
      "                                  'recall': 0.66,\n",
      "                                  'support': 500},\n",
      "                           '22': {'f1-score': 0.0,\n",
      "                                  'precision': 0.0,\n",
      "                                  'recall': 0.0,\n",
      "                                  'support': 500},\n",
      "                           '23': {'f1-score': 0.12074042911232648,\n",
      "                                  'precision': 0.06746591443347438,\n",
      "                                  'recall': 0.574,\n",
      "                                  'support': 500},\n",
      "                           '24': {'f1-score': 0.0,\n",
      "                                  'precision': 0.0,\n",
      "                                  'recall': 0.0,\n",
      "                                  'support': 500},\n",
      "                           '25': {'f1-score': 0.0,\n",
      "                                  'precision': 0.0,\n",
      "                                  'recall': 0.0,\n",
      "                                  'support': 500},\n",
      "                           '26': {'f1-score': 0.0,\n",
      "                                  'precision': 0.0,\n",
      "                                  'recall': 0.0,\n",
      "                                  'support': 500},\n",
      "                           '27': {'f1-score': 0.0,\n",
      "                                  'precision': 0.0,\n",
      "                                  'recall': 0.0,\n",
      "                                  'support': 500},\n",
      "                           '28': {'f1-score': 0.0,\n",
      "                                  'precision': 0.0,\n",
      "                                  'recall': 0.0,\n",
      "                                  'support': 500},\n",
      "                           '29': {'f1-score': 0.0,\n",
      "                                  'precision': 0.0,\n",
      "                                  'recall': 0.0,\n",
      "                                  'support': 500},\n",
      "                           '3': {'f1-score': 0.0,\n",
      "                                 'precision': 0.0,\n",
      "                                 'recall': 0.0,\n",
      "                                 'support': 500},\n",
      "                           '30': {'f1-score': 0.0,\n",
      "                                  'precision': 0.0,\n",
      "                                  'recall': 0.0,\n",
      "                                  'support': 500},\n",
      "                           '31': {'f1-score': 0.0,\n",
      "                                  'precision': 0.0,\n",
      "                                  'recall': 0.0,\n",
      "                                  'support': 500},\n",
      "                           '32': {'f1-score': 0.0,\n",
      "                                  'precision': 0.0,\n",
      "                                  'recall': 0.0,\n",
      "                                  'support': 500},\n",
      "                           '33': {'f1-score': 0.0,\n",
      "                                  'precision': 0.0,\n",
      "                                  'recall': 0.0,\n",
      "                                  'support': 500},\n",
      "                           '34': {'f1-score': 0.0,\n",
      "                                  'precision': 0.0,\n",
      "                                  'recall': 0.0,\n",
      "                                  'support': 500},\n",
      "                           '35': {'f1-score': 0.06571428571428571,\n",
      "                                  'precision': 0.043125,\n",
      "                                  'recall': 0.138,\n",
      "                                  'support': 500},\n",
      "                           '36': {'f1-score': 0.0,\n",
      "                                  'precision': 0.0,\n",
      "                                  'recall': 0.0,\n",
      "                                  'support': 500},\n",
      "                           '37': {'f1-score': 0.0,\n",
      "                                  'precision': 0.0,\n",
      "                                  'recall': 0.0,\n",
      "                                  'support': 500},\n",
      "                           '38': {'f1-score': 0.00390625,\n",
      "                                  'precision': 0.08333333333333333,\n",
      "                                  'recall': 0.002,\n",
      "                                  'support': 500},\n",
      "                           '39': {'f1-score': 0.0,\n",
      "                                  'precision': 0.0,\n",
      "                                  'recall': 0.0,\n",
      "                                  'support': 500},\n",
      "                           '4': {'f1-score': 0.0,\n",
      "                                 'precision': 0.0,\n",
      "                                 'recall': 0.0,\n",
      "                                 'support': 500},\n",
      "                           '40': {'f1-score': 0.0,\n",
      "                                  'precision': 0.0,\n",
      "                                  'recall': 0.0,\n",
      "                                  'support': 500},\n",
      "                           '41': {'f1-score': 0.25443169968717416,\n",
      "                                  'precision': 0.17207334273624825,\n",
      "                                  'recall': 0.488,\n",
      "                                  'support': 500},\n",
      "                           '42': {'f1-score': 0.0,\n",
      "                                  'precision': 0.0,\n",
      "                                  'recall': 0.0,\n",
      "                                  'support': 500},\n",
      "                           '43': {'f1-score': 0.06954208626258788,\n",
      "                                  'precision': 0.03842116313247953,\n",
      "                                  'recall': 0.366,\n",
      "                                  'support': 500},\n",
      "                           '44': {'f1-score': 0.0,\n",
      "                                  'precision': 0.0,\n",
      "                                  'recall': 0.0,\n",
      "                                  'support': 500},\n",
      "                           '45': {'f1-score': 0.0,\n",
      "                                  'precision': 0.0,\n",
      "                                  'recall': 0.0,\n",
      "                                  'support': 500},\n",
      "                           '46': {'f1-score': 0.0,\n",
      "                                  'precision': 0.0,\n",
      "                                  'recall': 0.0,\n",
      "                                  'support': 500},\n",
      "                           '47': {'f1-score': 0.0,\n",
      "                                  'precision': 0.0,\n",
      "                                  'recall': 0.0,\n",
      "                                  'support': 500},\n",
      "                           '48': {'f1-score': 0.0,\n",
      "                                  'precision': 0.0,\n",
      "                                  'recall': 0.0,\n",
      "                                  'support': 500},\n",
      "                           '49': {'f1-score': 0.0,\n",
      "                                  'precision': 0.0,\n",
      "                                  'recall': 0.0,\n",
      "                                  'support': 500},\n",
      "                           '5': {'f1-score': 0.0,\n",
      "                                 'precision': 0.0,\n",
      "                                 'recall': 0.0,\n",
      "                                 'support': 500},\n",
      "                           '50': {'f1-score': 0.0,\n",
      "                                  'precision': 0.0,\n",
      "                                  'recall': 0.0,\n",
      "                                  'support': 500},\n",
      "                           '51': {'f1-score': 0.0,\n",
      "                                  'precision': 0.0,\n",
      "                                  'recall': 0.0,\n",
      "                                  'support': 500},\n",
      "                           '52': {'f1-score': 0.0,\n",
      "                                  'precision': 0.0,\n",
      "                                  'recall': 0.0,\n",
      "                                  'support': 500},\n",
      "                           '53': {'f1-score': 0.0,\n",
      "                                  'precision': 0.0,\n",
      "                                  'recall': 0.0,\n",
      "                                  'support': 500},\n",
      "                           '54': {'f1-score': 0.0,\n",
      "                                  'precision': 0.0,\n",
      "                                  'recall': 0.0,\n",
      "                                  'support': 500},\n",
      "                           '55': {'f1-score': 0.0,\n",
      "                                  'precision': 0.0,\n",
      "                                  'recall': 0.0,\n",
      "                                  'support': 500},\n",
      "                           '56': {'f1-score': 0.0,\n",
      "                                  'precision': 0.0,\n",
      "                                  'recall': 0.0,\n",
      "                                  'support': 500},\n",
      "                           '57': {'f1-score': 0.0,\n",
      "                                  'precision': 0.0,\n",
      "                                  'recall': 0.0,\n",
      "                                  'support': 500},\n",
      "                           '58': {'f1-score': 0.0,\n",
      "                                  'precision': 0.0,\n",
      "                                  'recall': 0.0,\n",
      "                                  'support': 500},\n",
      "                           '59': {'f1-score': 0.0,\n",
      "                                  'precision': 0.0,\n",
      "                                  'recall': 0.0,\n",
      "                                  'support': 500},\n",
      "                           '6': {'f1-score': 0.0,\n",
      "                                 'precision': 0.0,\n",
      "                                 'recall': 0.0,\n",
      "                                 'support': 500},\n",
      "                           '60': {'f1-score': 0.0,\n",
      "                                  'precision': 0.0,\n",
      "                                  'recall': 0.0,\n",
      "                                  'support': 500},\n",
      "                           '61': {'f1-score': 0.0,\n",
      "                                  'precision': 0.0,\n",
      "                                  'recall': 0.0,\n",
      "                                  'support': 500},\n",
      "                           '62': {'f1-score': 0.0,\n",
      "                                  'precision': 0.0,\n",
      "                                  'recall': 0.0,\n",
      "                                  'support': 500},\n",
      "                           '63': {'f1-score': 0.0681650311279941,\n",
      "                                  'precision': 0.035980839924250864,\n",
      "                                  'recall': 0.646,\n",
      "                                  'support': 500},\n",
      "                           '64': {'f1-score': 0.0,\n",
      "                                  'precision': 0.0,\n",
      "                                  'recall': 0.0,\n",
      "                                  'support': 500},\n",
      "                           '65': {'f1-score': 0.0,\n",
      "                                  'precision': 0.0,\n",
      "                                  'recall': 0.0,\n",
      "                                  'support': 500},\n",
      "                           '66': {'f1-score': 0.0,\n",
      "                                  'precision': 0.0,\n",
      "                                  'recall': 0.0,\n",
      "                                  'support': 500},\n",
      "                           '67': {'f1-score': 0.0,\n",
      "                                  'precision': 0.0,\n",
      "                                  'recall': 0.0,\n",
      "                                  'support': 500},\n",
      "                           '68': {'f1-score': 0.0,\n",
      "                                  'precision': 0.0,\n",
      "                                  'recall': 0.0,\n",
      "                                  'support': 500},\n",
      "                           '69': {'f1-score': 0.0,\n",
      "                                  'precision': 0.0,\n",
      "                                  'recall': 0.0,\n",
      "                                  'support': 500},\n",
      "                           '7': {'f1-score': 0.0,\n",
      "                                 'precision': 0.0,\n",
      "                                 'recall': 0.0,\n",
      "                                 'support': 500},\n",
      "                           '70': {'f1-score': 0.15545023696682464,\n",
      "                                  'precision': 0.08817204301075268,\n",
      "                                  'recall': 0.656,\n",
      "                                  'support': 500},\n",
      "                           '71': {'f1-score': 0.13538640325392212,\n",
      "                                  'precision': 0.07919782460910944,\n",
      "                                  'recall': 0.466,\n",
      "                                  'support': 500},\n",
      "                           '72': {'f1-score': 0.0,\n",
      "                                  'precision': 0.0,\n",
      "                                  'recall': 0.0,\n",
      "                                  'support': 500},\n",
      "                           '73': {'f1-score': 0.16995241332426922,\n",
      "                                  'precision': 0.09583439815997956,\n",
      "                                  'recall': 0.75,\n",
      "                                  'support': 500},\n",
      "                           '74': {'f1-score': 0.0,\n",
      "                                  'precision': 0.0,\n",
      "                                  'recall': 0.0,\n",
      "                                  'support': 500},\n",
      "                           '75': {'f1-score': 0.0,\n",
      "                                  'precision': 0.0,\n",
      "                                  'recall': 0.0,\n",
      "                                  'support': 500},\n",
      "                           '76': {'f1-score': 0.0,\n",
      "                                  'precision': 0.0,\n",
      "                                  'recall': 0.0,\n",
      "                                  'support': 500},\n",
      "                           '77': {'f1-score': 0.0,\n",
      "                                  'precision': 0.0,\n",
      "                                  'recall': 0.0,\n",
      "                                  'support': 500},\n",
      "                           '78': {'f1-score': 0.0,\n",
      "                                  'precision': 0.0,\n",
      "                                  'recall': 0.0,\n",
      "                                  'support': 500},\n",
      "                           '79': {'f1-score': 0.0,\n",
      "                                  'precision': 0.0,\n",
      "                                  'recall': 0.0,\n",
      "                                  'support': 500},\n",
      "                           '8': {'f1-score': 0.0,\n",
      "                                 'precision': 0.0,\n",
      "                                 'recall': 0.0,\n",
      "                                 'support': 500},\n",
      "                           '80': {'f1-score': 0.0,\n",
      "                                  'precision': 0.0,\n",
      "                                  'recall': 0.0,\n",
      "                                  'support': 500},\n",
      "                           '81': {'f1-score': 0.0,\n",
      "                                  'precision': 0.0,\n",
      "                                  'recall': 0.0,\n",
      "                                  'support': 500},\n",
      "                           '82': {'f1-score': 0.3894297635605007,\n",
      "                                  'precision': 0.29850746268656714,\n",
      "                                  'recall': 0.56,\n",
      "                                  'support': 500},\n",
      "                           '83': {'f1-score': 0.0,\n",
      "                                  'precision': 0.0,\n",
      "                                  'recall': 0.0,\n",
      "                                  'support': 500},\n",
      "                           '84': {'f1-score': 0.0,\n",
      "                                  'precision': 0.0,\n",
      "                                  'recall': 0.0,\n",
      "                                  'support': 500},\n",
      "                           '85': {'f1-score': 0.0,\n",
      "                                  'precision': 0.0,\n",
      "                                  'recall': 0.0,\n",
      "                                  'support': 500},\n",
      "                           '86': {'f1-score': 0.10310048561822936,\n",
      "                                  'precision': 0.0633899862195682,\n",
      "                                  'recall': 0.276,\n",
      "                                  'support': 500},\n",
      "                           '87': {'f1-score': 0.0,\n",
      "                                  'precision': 0.0,\n",
      "                                  'recall': 0.0,\n",
      "                                  'support': 500},\n",
      "                           '88': {'f1-score': 0.0,\n",
      "                                  'precision': 0.0,\n",
      "                                  'recall': 0.0,\n",
      "                                  'support': 500},\n",
      "                           '89': {'f1-score': 0.0,\n",
      "                                  'precision': 0.0,\n",
      "                                  'recall': 0.0,\n",
      "                                  'support': 500},\n",
      "                           '9': {'f1-score': 0.0,\n",
      "                                 'precision': 0.0,\n",
      "                                 'recall': 0.0,\n",
      "                                 'support': 500},\n",
      "                           '90': {'f1-score': 0.0,\n",
      "                                  'precision': 0.0,\n",
      "                                  'recall': 0.0,\n",
      "                                  'support': 500},\n",
      "                           '91': {'f1-score': 0.0,\n",
      "                                  'precision': 0.0,\n",
      "                                  'recall': 0.0,\n",
      "                                  'support': 500},\n",
      "                           '92': {'f1-score': 0.0,\n",
      "                                  'precision': 0.0,\n",
      "                                  'recall': 0.0,\n",
      "                                  'support': 500},\n",
      "                           '93': {'f1-score': 0.0,\n",
      "                                  'precision': 0.0,\n",
      "                                  'recall': 0.0,\n",
      "                                  'support': 500},\n",
      "                           '94': {'f1-score': 0.0,\n",
      "                                  'precision': 0.0,\n",
      "                                  'recall': 0.0,\n",
      "                                  'support': 500},\n",
      "                           '95': {'f1-score': 0.0,\n",
      "                                  'precision': 0.0,\n",
      "                                  'recall': 0.0,\n",
      "                                  'support': 500},\n",
      "                           '96': {'f1-score': 0.0,\n",
      "                                  'precision': 0.0,\n",
      "                                  'recall': 0.0,\n",
      "                                  'support': 500},\n",
      "                           '97': {'f1-score': 0.0,\n",
      "                                  'precision': 0.0,\n",
      "                                  'recall': 0.0,\n",
      "                                  'support': 500},\n",
      "                           '98': {'f1-score': 0.0,\n",
      "                                  'precision': 0.0,\n",
      "                                  'recall': 0.0,\n",
      "                                  'support': 500},\n",
      "                           '99': {'f1-score': 0.0,\n",
      "                                  'precision': 0.0,\n",
      "                                  'recall': 0.0,\n",
      "                                  'support': 500},\n",
      "                           'accuracy': 0.0681,\n",
      "                           'macro avg': {'f1-score': 0.019338175309976554,\n",
      "                                         'precision': 0.012931919201268162,\n",
      "                                         'recall': 0.06810000000000001,\n",
      "                                         'support': 50000},\n",
      "                           'weighted avg': {'f1-score': 0.019338175309976557,\n",
      "                                            'precision': 0.012931919201268164,\n",
      "                                            'recall': 0.0681,\n",
      "                                            'support': 50000}}}\n"
     ]
    },
    {
     "name": "stderr",
     "output_type": "stream",
     "text": [
      "/usr/local/lib/python3.10/dist-packages/sklearn/metrics/_classification.py:1344: UndefinedMetricWarning:\n",
      "\n",
      "Precision and F-score are ill-defined and being set to 0.0 in labels with no predicted samples. Use `zero_division` parameter to control this behavior.\n",
      "\n",
      "/usr/local/lib/python3.10/dist-packages/sklearn/metrics/_classification.py:1344: UndefinedMetricWarning:\n",
      "\n",
      "Precision and F-score are ill-defined and being set to 0.0 in labels with no predicted samples. Use `zero_division` parameter to control this behavior.\n",
      "\n",
      "/usr/local/lib/python3.10/dist-packages/sklearn/metrics/_classification.py:1344: UndefinedMetricWarning:\n",
      "\n",
      "Precision and F-score are ill-defined and being set to 0.0 in labels with no predicted samples. Use `zero_division` parameter to control this behavior.\n",
      "\n"
     ]
    }
   ],
   "source": [
    "train_predictions, train_labels = best_model.predict(dataloader.dataset.trainloader)\n",
    "train_eval_result = best_model.evaluate(train_labels, train_predictions)\n",
    "pprint.pprint(train_eval_result)"
   ]
  },
  {
   "cell_type": "code",
   "execution_count": 19,
   "id": "1510ab2b",
   "metadata": {},
   "outputs": [
    {
     "name": "stdout",
     "output_type": "stream",
     "text": [
      "{'accuracy': 0.0657,\n",
      " 'classification_report': {'0': {'f1-score': 0.0,\n",
      "                                 'precision': 0.0,\n",
      "                                 'recall': 0.0,\n",
      "                                 'support': 100},\n",
      "                           '1': {'f1-score': 0.0,\n",
      "                                 'precision': 0.0,\n",
      "                                 'recall': 0.0,\n",
      "                                 'support': 100},\n",
      "                           '10': {'f1-score': 0.0,\n",
      "                                  'precision': 0.0,\n",
      "                                  'recall': 0.0,\n",
      "                                  'support': 100},\n",
      "                           '11': {'f1-score': 0.0,\n",
      "                                  'precision': 0.0,\n",
      "                                  'recall': 0.0,\n",
      "                                  'support': 100},\n",
      "                           '12': {'f1-score': 0.0,\n",
      "                                  'precision': 0.0,\n",
      "                                  'recall': 0.0,\n",
      "                                  'support': 100},\n",
      "                           '13': {'f1-score': 0.0,\n",
      "                                  'precision': 0.0,\n",
      "                                  'recall': 0.0,\n",
      "                                  'support': 100},\n",
      "                           '14': {'f1-score': 0.0,\n",
      "                                  'precision': 0.0,\n",
      "                                  'recall': 0.0,\n",
      "                                  'support': 100},\n",
      "                           '15': {'f1-score': 0.0,\n",
      "                                  'precision': 0.0,\n",
      "                                  'recall': 0.0,\n",
      "                                  'support': 100},\n",
      "                           '16': {'f1-score': 0.0,\n",
      "                                  'precision': 0.0,\n",
      "                                  'recall': 0.0,\n",
      "                                  'support': 100},\n",
      "                           '17': {'f1-score': 0.10984848484848483,\n",
      "                                  'precision': 0.060669456066945605,\n",
      "                                  'recall': 0.58,\n",
      "                                  'support': 100},\n",
      "                           '18': {'f1-score': 0.0,\n",
      "                                  'precision': 0.0,\n",
      "                                  'recall': 0.0,\n",
      "                                  'support': 100},\n",
      "                           '19': {'f1-score': 0.0,\n",
      "                                  'precision': 0.0,\n",
      "                                  'recall': 0.0,\n",
      "                                  'support': 100},\n",
      "                           '2': {'f1-score': 0.0,\n",
      "                                 'precision': 0.0,\n",
      "                                 'recall': 0.0,\n",
      "                                 'support': 100},\n",
      "                           '20': {'f1-score': 0.2016260162601626,\n",
      "                                  'precision': 0.1203883495145631,\n",
      "                                  'recall': 0.62,\n",
      "                                  'support': 100},\n",
      "                           '21': {'f1-score': 0.07879490150637312,\n",
      "                                  'precision': 0.041820418204182044,\n",
      "                                  'recall': 0.68,\n",
      "                                  'support': 100},\n",
      "                           '22': {'f1-score': 0.0,\n",
      "                                  'precision': 0.0,\n",
      "                                  'recall': 0.0,\n",
      "                                  'support': 100},\n",
      "                           '23': {'f1-score': 0.09957627118644068,\n",
      "                                  'precision': 0.05568720379146919,\n",
      "                                  'recall': 0.47,\n",
      "                                  'support': 100},\n",
      "                           '24': {'f1-score': 0.0,\n",
      "                                  'precision': 0.0,\n",
      "                                  'recall': 0.0,\n",
      "                                  'support': 100},\n",
      "                           '25': {'f1-score': 0.0,\n",
      "                                  'precision': 0.0,\n",
      "                                  'recall': 0.0,\n",
      "                                  'support': 100},\n",
      "                           '26': {'f1-score': 0.0,\n",
      "                                  'precision': 0.0,\n",
      "                                  'recall': 0.0,\n",
      "                                  'support': 100},\n",
      "                           '27': {'f1-score': 0.0,\n",
      "                                  'precision': 0.0,\n",
      "                                  'recall': 0.0,\n",
      "                                  'support': 100},\n",
      "                           '28': {'f1-score': 0.0,\n",
      "                                  'precision': 0.0,\n",
      "                                  'recall': 0.0,\n",
      "                                  'support': 100},\n",
      "                           '29': {'f1-score': 0.0,\n",
      "                                  'precision': 0.0,\n",
      "                                  'recall': 0.0,\n",
      "                                  'support': 100},\n",
      "                           '3': {'f1-score': 0.0,\n",
      "                                 'precision': 0.0,\n",
      "                                 'recall': 0.0,\n",
      "                                 'support': 100},\n",
      "                           '30': {'f1-score': 0.0,\n",
      "                                  'precision': 0.0,\n",
      "                                  'recall': 0.0,\n",
      "                                  'support': 100},\n",
      "                           '31': {'f1-score': 0.0,\n",
      "                                  'precision': 0.0,\n",
      "                                  'recall': 0.0,\n",
      "                                  'support': 100},\n",
      "                           '32': {'f1-score': 0.0,\n",
      "                                  'precision': 0.0,\n",
      "                                  'recall': 0.0,\n",
      "                                  'support': 100},\n",
      "                           '33': {'f1-score': 0.0,\n",
      "                                  'precision': 0.0,\n",
      "                                  'recall': 0.0,\n",
      "                                  'support': 100},\n",
      "                           '34': {'f1-score': 0.0,\n",
      "                                  'precision': 0.0,\n",
      "                                  'recall': 0.0,\n",
      "                                  'support': 100},\n",
      "                           '35': {'f1-score': 0.06363636363636364,\n",
      "                                  'precision': 0.041176470588235294,\n",
      "                                  'recall': 0.14,\n",
      "                                  'support': 100},\n",
      "                           '36': {'f1-score': 0.0,\n",
      "                                  'precision': 0.0,\n",
      "                                  'recall': 0.0,\n",
      "                                  'support': 100},\n",
      "                           '37': {'f1-score': 0.0,\n",
      "                                  'precision': 0.0,\n",
      "                                  'recall': 0.0,\n",
      "                                  'support': 100},\n",
      "                           '38': {'f1-score': 0.0,\n",
      "                                  'precision': 0.0,\n",
      "                                  'recall': 0.0,\n",
      "                                  'support': 100},\n",
      "                           '39': {'f1-score': 0.0,\n",
      "                                  'precision': 0.0,\n",
      "                                  'recall': 0.0,\n",
      "                                  'support': 100},\n",
      "                           '4': {'f1-score': 0.0,\n",
      "                                 'precision': 0.0,\n",
      "                                 'recall': 0.0,\n",
      "                                 'support': 100},\n",
      "                           '40': {'f1-score': 0.0,\n",
      "                                  'precision': 0.0,\n",
      "                                  'recall': 0.0,\n",
      "                                  'support': 100},\n",
      "                           '41': {'f1-score': 0.2480211081794195,\n",
      "                                  'precision': 0.16845878136200718,\n",
      "                                  'recall': 0.47,\n",
      "                                  'support': 100},\n",
      "                           '42': {'f1-score': 0.0,\n",
      "                                  'precision': 0.0,\n",
      "                                  'recall': 0.0,\n",
      "                                  'support': 100},\n",
      "                           '43': {'f1-score': 0.07175712971481141,\n",
      "                                  'precision': 0.03951367781155015,\n",
      "                                  'recall': 0.39,\n",
      "                                  'support': 100},\n",
      "                           '44': {'f1-score': 0.0,\n",
      "                                  'precision': 0.0,\n",
      "                                  'recall': 0.0,\n",
      "                                  'support': 100},\n",
      "                           '45': {'f1-score': 0.0,\n",
      "                                  'precision': 0.0,\n",
      "                                  'recall': 0.0,\n",
      "                                  'support': 100},\n",
      "                           '46': {'f1-score': 0.0,\n",
      "                                  'precision': 0.0,\n",
      "                                  'recall': 0.0,\n",
      "                                  'support': 100},\n",
      "                           '47': {'f1-score': 0.0,\n",
      "                                  'precision': 0.0,\n",
      "                                  'recall': 0.0,\n",
      "                                  'support': 100},\n",
      "                           '48': {'f1-score': 0.0,\n",
      "                                  'precision': 0.0,\n",
      "                                  'recall': 0.0,\n",
      "                                  'support': 100},\n",
      "                           '49': {'f1-score': 0.0,\n",
      "                                  'precision': 0.0,\n",
      "                                  'recall': 0.0,\n",
      "                                  'support': 100},\n",
      "                           '5': {'f1-score': 0.0,\n",
      "                                 'precision': 0.0,\n",
      "                                 'recall': 0.0,\n",
      "                                 'support': 100},\n",
      "                           '50': {'f1-score': 0.0,\n",
      "                                  'precision': 0.0,\n",
      "                                  'recall': 0.0,\n",
      "                                  'support': 100},\n",
      "                           '51': {'f1-score': 0.0,\n",
      "                                  'precision': 0.0,\n",
      "                                  'recall': 0.0,\n",
      "                                  'support': 100},\n",
      "                           '52': {'f1-score': 0.0,\n",
      "                                  'precision': 0.0,\n",
      "                                  'recall': 0.0,\n",
      "                                  'support': 100},\n",
      "                           '53': {'f1-score': 0.0,\n",
      "                                  'precision': 0.0,\n",
      "                                  'recall': 0.0,\n",
      "                                  'support': 100},\n",
      "                           '54': {'f1-score': 0.0,\n",
      "                                  'precision': 0.0,\n",
      "                                  'recall': 0.0,\n",
      "                                  'support': 100},\n",
      "                           '55': {'f1-score': 0.0,\n",
      "                                  'precision': 0.0,\n",
      "                                  'recall': 0.0,\n",
      "                                  'support': 100},\n",
      "                           '56': {'f1-score': 0.0,\n",
      "                                  'precision': 0.0,\n",
      "                                  'recall': 0.0,\n",
      "                                  'support': 100},\n",
      "                           '57': {'f1-score': 0.0,\n",
      "                                  'precision': 0.0,\n",
      "                                  'recall': 0.0,\n",
      "                                  'support': 100},\n",
      "                           '58': {'f1-score': 0.0,\n",
      "                                  'precision': 0.0,\n",
      "                                  'recall': 0.0,\n",
      "                                  'support': 100},\n",
      "                           '59': {'f1-score': 0.0,\n",
      "                                  'precision': 0.0,\n",
      "                                  'recall': 0.0,\n",
      "                                  'support': 100},\n",
      "                           '6': {'f1-score': 0.0,\n",
      "                                 'precision': 0.0,\n",
      "                                 'recall': 0.0,\n",
      "                                 'support': 100},\n",
      "                           '60': {'f1-score': 0.0,\n",
      "                                  'precision': 0.0,\n",
      "                                  'recall': 0.0,\n",
      "                                  'support': 100},\n",
      "                           '61': {'f1-score': 0.0,\n",
      "                                  'precision': 0.0,\n",
      "                                  'recall': 0.0,\n",
      "                                  'support': 100},\n",
      "                           '62': {'f1-score': 0.0,\n",
      "                                  'precision': 0.0,\n",
      "                                  'recall': 0.0,\n",
      "                                  'support': 100},\n",
      "                           '63': {'f1-score': 0.060033351862145645,\n",
      "                                  'precision': 0.031783402001177165,\n",
      "                                  'recall': 0.54,\n",
      "                                  'support': 100},\n",
      "                           '64': {'f1-score': 0.0,\n",
      "                                  'precision': 0.0,\n",
      "                                  'recall': 0.0,\n",
      "                                  'support': 100},\n",
      "                           '65': {'f1-score': 0.0,\n",
      "                                  'precision': 0.0,\n",
      "                                  'recall': 0.0,\n",
      "                                  'support': 100},\n",
      "                           '66': {'f1-score': 0.0,\n",
      "                                  'precision': 0.0,\n",
      "                                  'recall': 0.0,\n",
      "                                  'support': 100},\n",
      "                           '67': {'f1-score': 0.0,\n",
      "                                  'precision': 0.0,\n",
      "                                  'recall': 0.0,\n",
      "                                  'support': 100},\n",
      "                           '68': {'f1-score': 0.0,\n",
      "                                  'precision': 0.0,\n",
      "                                  'recall': 0.0,\n",
      "                                  'support': 100},\n",
      "                           '69': {'f1-score': 0.0,\n",
      "                                  'precision': 0.0,\n",
      "                                  'recall': 0.0,\n",
      "                                  'support': 100},\n",
      "                           '7': {'f1-score': 0.0,\n",
      "                                 'precision': 0.0,\n",
      "                                 'recall': 0.0,\n",
      "                                 'support': 100},\n",
      "                           '70': {'f1-score': 0.1565017261219793,\n",
      "                                  'precision': 0.08842652795838751,\n",
      "                                  'recall': 0.68,\n",
      "                                  'support': 100},\n",
      "                           '71': {'f1-score': 0.13056379821958455,\n",
      "                                  'precision': 0.07665505226480836,\n",
      "                                  'recall': 0.44,\n",
      "                                  'support': 100},\n",
      "                           '72': {'f1-score': 0.0,\n",
      "                                  'precision': 0.0,\n",
      "                                  'recall': 0.0,\n",
      "                                  'support': 100},\n",
      "                           '73': {'f1-score': 0.17680826636050517,\n",
      "                                  'precision': 0.09987029831387809,\n",
      "                                  'recall': 0.77,\n",
      "                                  'support': 100},\n",
      "                           '74': {'f1-score': 0.0,\n",
      "                                  'precision': 0.0,\n",
      "                                  'recall': 0.0,\n",
      "                                  'support': 100},\n",
      "                           '75': {'f1-score': 0.0,\n",
      "                                  'precision': 0.0,\n",
      "                                  'recall': 0.0,\n",
      "                                  'support': 100},\n",
      "                           '76': {'f1-score': 0.0,\n",
      "                                  'precision': 0.0,\n",
      "                                  'recall': 0.0,\n",
      "                                  'support': 100},\n",
      "                           '77': {'f1-score': 0.0,\n",
      "                                  'precision': 0.0,\n",
      "                                  'recall': 0.0,\n",
      "                                  'support': 100},\n",
      "                           '78': {'f1-score': 0.0,\n",
      "                                  'precision': 0.0,\n",
      "                                  'recall': 0.0,\n",
      "                                  'support': 100},\n",
      "                           '79': {'f1-score': 0.0,\n",
      "                                  'precision': 0.0,\n",
      "                                  'recall': 0.0,\n",
      "                                  'support': 100},\n",
      "                           '8': {'f1-score': 0.0,\n",
      "                                 'precision': 0.0,\n",
      "                                 'recall': 0.0,\n",
      "                                 'support': 100},\n",
      "                           '80': {'f1-score': 0.0,\n",
      "                                  'precision': 0.0,\n",
      "                                  'recall': 0.0,\n",
      "                                  'support': 100},\n",
      "                           '81': {'f1-score': 0.0,\n",
      "                                  'precision': 0.0,\n",
      "                                  'recall': 0.0,\n",
      "                                  'support': 100},\n",
      "                           '82': {'f1-score': 0.397212543554007,\n",
      "                                  'precision': 0.3048128342245989,\n",
      "                                  'recall': 0.57,\n",
      "                                  'support': 100},\n",
      "                           '83': {'f1-score': 0.0,\n",
      "                                  'precision': 0.0,\n",
      "                                  'recall': 0.0,\n",
      "                                  'support': 100},\n",
      "                           '84': {'f1-score': 0.0,\n",
      "                                  'precision': 0.0,\n",
      "                                  'recall': 0.0,\n",
      "                                  'support': 100},\n",
      "                           '85': {'f1-score': 0.0,\n",
      "                                  'precision': 0.0,\n",
      "                                  'recall': 0.0,\n",
      "                                  'support': 100},\n",
      "                           '86': {'f1-score': 0.07985480943738657,\n",
      "                                  'precision': 0.04878048780487805,\n",
      "                                  'recall': 0.22,\n",
      "                                  'support': 100},\n",
      "                           '87': {'f1-score': 0.0,\n",
      "                                  'precision': 0.0,\n",
      "                                  'recall': 0.0,\n",
      "                                  'support': 100},\n",
      "                           '88': {'f1-score': 0.0,\n",
      "                                  'precision': 0.0,\n",
      "                                  'recall': 0.0,\n",
      "                                  'support': 100},\n",
      "                           '89': {'f1-score': 0.0,\n",
      "                                  'precision': 0.0,\n",
      "                                  'recall': 0.0,\n",
      "                                  'support': 100},\n",
      "                           '9': {'f1-score': 0.0,\n",
      "                                 'precision': 0.0,\n",
      "                                 'recall': 0.0,\n",
      "                                 'support': 100},\n",
      "                           '90': {'f1-score': 0.0,\n",
      "                                  'precision': 0.0,\n",
      "                                  'recall': 0.0,\n",
      "                                  'support': 100},\n",
      "                           '91': {'f1-score': 0.0,\n",
      "                                  'precision': 0.0,\n",
      "                                  'recall': 0.0,\n",
      "                                  'support': 100},\n",
      "                           '92': {'f1-score': 0.0,\n",
      "                                  'precision': 0.0,\n",
      "                                  'recall': 0.0,\n",
      "                                  'support': 100},\n",
      "                           '93': {'f1-score': 0.0,\n",
      "                                  'precision': 0.0,\n",
      "                                  'recall': 0.0,\n",
      "                                  'support': 100},\n",
      "                           '94': {'f1-score': 0.0,\n",
      "                                  'precision': 0.0,\n",
      "                                  'recall': 0.0,\n",
      "                                  'support': 100},\n",
      "                           '95': {'f1-score': 0.0,\n",
      "                                  'precision': 0.0,\n",
      "                                  'recall': 0.0,\n",
      "                                  'support': 100},\n",
      "                           '96': {'f1-score': 0.0,\n",
      "                                  'precision': 0.0,\n",
      "                                  'recall': 0.0,\n",
      "                                  'support': 100},\n",
      "                           '97': {'f1-score': 0.0,\n",
      "                                  'precision': 0.0,\n",
      "                                  'recall': 0.0,\n",
      "                                  'support': 100},\n",
      "                           '98': {'f1-score': 0.0,\n",
      "                                  'precision': 0.0,\n",
      "                                  'recall': 0.0,\n",
      "                                  'support': 100},\n",
      "                           '99': {'f1-score': 0.0,\n",
      "                                  'precision': 0.0,\n",
      "                                  'recall': 0.0,\n",
      "                                  'support': 100},\n",
      "                           'accuracy': 0.0657,\n",
      "                           'macro avg': {'f1-score': 0.01874234770887664,\n",
      "                                         'precision': 0.011780429599066807,\n",
      "                                         'recall': 0.06570000000000001,\n",
      "                                         'support': 10000},\n",
      "                           'weighted avg': {'f1-score': 0.018742347708876637,\n",
      "                                            'precision': 0.011780429599066807,\n",
      "                                            'recall': 0.0657,\n",
      "                                            'support': 10000}}}\n"
     ]
    },
    {
     "name": "stderr",
     "output_type": "stream",
     "text": [
      "/usr/local/lib/python3.10/dist-packages/sklearn/metrics/_classification.py:1344: UndefinedMetricWarning:\n",
      "\n",
      "Precision and F-score are ill-defined and being set to 0.0 in labels with no predicted samples. Use `zero_division` parameter to control this behavior.\n",
      "\n",
      "/usr/local/lib/python3.10/dist-packages/sklearn/metrics/_classification.py:1344: UndefinedMetricWarning:\n",
      "\n",
      "Precision and F-score are ill-defined and being set to 0.0 in labels with no predicted samples. Use `zero_division` parameter to control this behavior.\n",
      "\n",
      "/usr/local/lib/python3.10/dist-packages/sklearn/metrics/_classification.py:1344: UndefinedMetricWarning:\n",
      "\n",
      "Precision and F-score are ill-defined and being set to 0.0 in labels with no predicted samples. Use `zero_division` parameter to control this behavior.\n",
      "\n"
     ]
    }
   ],
   "source": [
    "test_predictions, test_labels = best_model.predict(dataloader.dataset.testloader)\n",
    "test_eval_result = best_model.evaluate(test_labels, test_predictions)\n",
    "pprint.pprint(test_eval_result)"
   ]
  }
 ],
 "metadata": {
  "kernelspec": {
   "display_name": "Python 3 (ipykernel)",
   "language": "python",
   "name": "python3"
  },
  "language_info": {
   "codemirror_mode": {
    "name": "ipython",
    "version": 3
   },
   "file_extension": ".py",
   "mimetype": "text/x-python",
   "name": "python",
   "nbconvert_exporter": "python",
   "pygments_lexer": "ipython3",
   "version": "3.10.12"
  }
 },
 "nbformat": 4,
 "nbformat_minor": 5
}
