{
 "cells": [
  {
   "cell_type": "markdown",
   "id": "cc802916-2d8d-4787-9027-5f62c0a67d0f",
   "metadata": {},
   "source": [
    "# Sample code for Compare Weights of VGG16 PyTorch and Keras"
   ]
  },
  {
   "cell_type": "code",
   "execution_count": 1,
   "id": "4459dd4a-c400-4707-a2f5-f0b1f3048309",
   "metadata": {},
   "outputs": [
    {
     "name": "stderr",
     "output_type": "stream",
     "text": [
      "2024-04-14 13:22:21.972102: E external/local_xla/xla/stream_executor/cuda/cuda_dnn.cc:9261] Unable to register cuDNN factory: Attempting to register factory for plugin cuDNN when one has already been registered\n",
      "2024-04-14 13:22:21.972201: E external/local_xla/xla/stream_executor/cuda/cuda_fft.cc:607] Unable to register cuFFT factory: Attempting to register factory for plugin cuFFT when one has already been registered\n",
      "2024-04-14 13:22:21.977155: E external/local_xla/xla/stream_executor/cuda/cuda_blas.cc:1515] Unable to register cuBLAS factory: Attempting to register factory for plugin cuBLAS when one has already been registered\n",
      "2024-04-14 13:22:22.000258: I tensorflow/core/platform/cpu_feature_guard.cc:182] This TensorFlow binary is optimized to use available CPU instructions in performance-critical operations.\n",
      "To enable the following instructions: AVX2 FMA, in other operations, rebuild TensorFlow with the appropriate compiler flags.\n"
     ]
    }
   ],
   "source": [
    "from collections import OrderedDict\n",
    "import numpy as np\n",
    "\n",
    "#import torch\n",
    "#import torch.nn as nn\n",
    "import torchvision.models as models\n",
    "\n",
    "import tensorflow as tf"
   ]
  },
  {
   "cell_type": "markdown",
   "id": "0bd3c7ca-4fac-4cb6-8612-74b638e875fb",
   "metadata": {},
   "source": [
    "## Load VGG16 model"
   ]
  },
  {
   "cell_type": "code",
   "execution_count": 2,
   "id": "63d0ef72-173f-4faf-ae15-1db424d924d6",
   "metadata": {},
   "outputs": [],
   "source": [
    "vgg_pytorch = models.vgg16(weights=models.VGG16_Weights.IMAGENET1K_V1)"
   ]
  },
  {
   "cell_type": "code",
   "execution_count": 3,
   "id": "3375f39a-d945-450e-ace2-21988756982d",
   "metadata": {},
   "outputs": [
    {
     "name": "stderr",
     "output_type": "stream",
     "text": [
      "2024-04-14 13:22:39.109640: I external/local_xla/xla/stream_executor/cuda/cuda_executor.cc:887] could not open file to read NUMA node: /sys/bus/pci/devices/0000:01:00.0/numa_node\n",
      "Your kernel may have been built without NUMA support.\n",
      "2024-04-14 13:22:39.136377: I external/local_xla/xla/stream_executor/cuda/cuda_executor.cc:887] could not open file to read NUMA node: /sys/bus/pci/devices/0000:01:00.0/numa_node\n",
      "Your kernel may have been built without NUMA support.\n",
      "2024-04-14 13:22:39.136409: I external/local_xla/xla/stream_executor/cuda/cuda_executor.cc:887] could not open file to read NUMA node: /sys/bus/pci/devices/0000:01:00.0/numa_node\n",
      "Your kernel may have been built without NUMA support.\n",
      "2024-04-14 13:22:39.149669: I external/local_xla/xla/stream_executor/cuda/cuda_executor.cc:887] could not open file to read NUMA node: /sys/bus/pci/devices/0000:01:00.0/numa_node\n",
      "Your kernel may have been built without NUMA support.\n",
      "2024-04-14 13:22:39.149706: I external/local_xla/xla/stream_executor/cuda/cuda_executor.cc:887] could not open file to read NUMA node: /sys/bus/pci/devices/0000:01:00.0/numa_node\n",
      "Your kernel may have been built without NUMA support.\n",
      "2024-04-14 13:22:39.149721: I external/local_xla/xla/stream_executor/cuda/cuda_executor.cc:887] could not open file to read NUMA node: /sys/bus/pci/devices/0000:01:00.0/numa_node\n",
      "Your kernel may have been built without NUMA support.\n",
      "2024-04-14 13:22:39.496534: I external/local_xla/xla/stream_executor/cuda/cuda_executor.cc:887] could not open file to read NUMA node: /sys/bus/pci/devices/0000:01:00.0/numa_node\n",
      "Your kernel may have been built without NUMA support.\n",
      "2024-04-14 13:22:39.496645: I external/local_xla/xla/stream_executor/cuda/cuda_executor.cc:887] could not open file to read NUMA node: /sys/bus/pci/devices/0000:01:00.0/numa_node\n",
      "Your kernel may have been built without NUMA support.\n",
      "2024-04-14 13:22:39.496659: I tensorflow/core/common_runtime/gpu/gpu_device.cc:2022] Could not identify NUMA node of platform GPU id 0, defaulting to 0.  Your kernel may not have been built with NUMA support.\n",
      "2024-04-14 13:22:39.496708: I external/local_xla/xla/stream_executor/cuda/cuda_executor.cc:887] could not open file to read NUMA node: /sys/bus/pci/devices/0000:01:00.0/numa_node\n",
      "Your kernel may have been built without NUMA support.\n",
      "2024-04-14 13:22:39.496762: I tensorflow/core/common_runtime/gpu/gpu_device.cc:1929] Created device /job:localhost/replica:0/task:0/device:GPU:0 with 9516 MB memory:  -> device: 0, name: NVIDIA GeForce RTX 4070 Ti, pci bus id: 0000:01:00.0, compute capability: 8.9\n"
     ]
    }
   ],
   "source": [
    "vgg_tf = tf.keras.applications.vgg16.VGG16(weights='imagenet')"
   ]
  },
  {
   "cell_type": "markdown",
   "id": "e663cc3b-d956-433c-9772-1ea6e4589f98",
   "metadata": {},
   "source": [
    "## Load weights"
   ]
  },
  {
   "cell_type": "code",
   "execution_count": 4,
   "id": "a3b0e8ed-8303-4110-92d7-c2a9562be667",
   "metadata": {},
   "outputs": [
    {
     "data": {
      "text/plain": [
       "odict_keys(['features.0.weight', 'features.0.bias', 'features.2.weight', 'features.2.bias', 'features.5.weight', 'features.5.bias', 'features.7.weight', 'features.7.bias', 'features.10.weight', 'features.10.bias', 'features.12.weight', 'features.12.bias', 'features.14.weight', 'features.14.bias', 'features.17.weight', 'features.17.bias', 'features.19.weight', 'features.19.bias', 'features.21.weight', 'features.21.bias', 'features.24.weight', 'features.24.bias', 'features.26.weight', 'features.26.bias', 'features.28.weight', 'features.28.bias', 'classifier.0.weight', 'classifier.0.bias', 'classifier.3.weight', 'classifier.3.bias', 'classifier.6.weight', 'classifier.6.bias'])"
      ]
     },
     "execution_count": 4,
     "metadata": {},
     "output_type": "execute_result"
    }
   ],
   "source": [
    "weights_pytorch = OrderedDict()\n",
    "for name, param in vgg_pytorch.named_parameters():\n",
    "    weights_pytorch[name] = param\n",
    "weights_pytorch.keys()"
   ]
  },
  {
   "cell_type": "code",
   "execution_count": 5,
   "id": "51d6065b-f08b-479c-a4d3-723c765d2b26",
   "metadata": {},
   "outputs": [],
   "source": [
    "key = list(weights_pytorch.keys())[0]\n",
    "weight_val_pytorch = weights_pytorch[key].detach().numpy()"
   ]
  },
  {
   "cell_type": "code",
   "execution_count": 6,
   "id": "2657bd69-286f-441f-be6f-2df15f3fb1a1",
   "metadata": {},
   "outputs": [
    {
     "data": {
      "text/plain": [
       "'[out_ch, in_ch, kernel_h, kernel_w] = (64, 3, 3, 3)'"
      ]
     },
     "execution_count": 6,
     "metadata": {},
     "output_type": "execute_result"
    }
   ],
   "source": [
    "f'[out_ch, in_ch, kernel_h, kernel_w] = {weight_val_pytorch.shape}'"
   ]
  },
  {
   "cell_type": "code",
   "execution_count": 7,
   "id": "026f904a-8fbb-47f8-9de2-efd80685a237",
   "metadata": {},
   "outputs": [
    {
     "data": {
      "text/plain": [
       "'[kernel_h, kernel_w, in_ch, out_ch] = (3, 3, 3, 64)'"
      ]
     },
     "execution_count": 7,
     "metadata": {},
     "output_type": "execute_result"
    }
   ],
   "source": [
    "weights_tf = vgg_tf.weights\n",
    "weight_val_tf = np.array(weights_tf[0].read_value())\n",
    "f'[kernel_h, kernel_w, in_ch, out_ch] = {weight_val_tf.shape}'"
   ]
  },
  {
   "cell_type": "markdown",
   "id": "c24b58c8-1f4e-464b-9a30-80feda33fc26",
   "metadata": {},
   "source": [
    "## Compare weights"
   ]
  },
  {
   "cell_type": "code",
   "execution_count": 8,
   "id": "d7ef8d77-3b4e-405d-b3e0-911f2a3e587a",
   "metadata": {},
   "outputs": [],
   "source": [
    "weight_val_pytorch_tf_fmt = weight_val_pytorch.transpose([2, 3, 1, 0])  # [out_ch, in_ch, kernel_h, kernel_w] -> [kernel_h, kernel_w, in_ch, out_ch]"
   ]
  },
  {
   "cell_type": "code",
   "execution_count": 9,
   "id": "c7264634-e1a6-4379-a44e-34135e29362e",
   "metadata": {},
   "outputs": [],
   "source": [
    "diff = weight_val_pytorch_tf_fmt - weight_val_tf"
   ]
  },
  {
   "cell_type": "code",
   "execution_count": 10,
   "id": "a6ed95ea-35bf-43ba-ba34-a37e1427d607",
   "metadata": {},
   "outputs": [
    {
     "data": {
      "text/plain": [
       "-1.8021048"
      ]
     },
     "execution_count": 10,
     "metadata": {},
     "output_type": "execute_result"
    }
   ],
   "source": [
    "diff.min()"
   ]
  },
  {
   "cell_type": "code",
   "execution_count": 11,
   "id": "5c4d3092-aaae-45a6-8b23-a7bd4ea40050",
   "metadata": {},
   "outputs": [
    {
     "data": {
      "text/plain": [
       "1.1417828"
      ]
     },
     "execution_count": 11,
     "metadata": {},
     "output_type": "execute_result"
    }
   ],
   "source": [
    "diff.max()"
   ]
  },
  {
   "cell_type": "code",
   "execution_count": 12,
   "id": "0184acd5-5f45-4fe0-b9bb-631e3b6350d6",
   "metadata": {},
   "outputs": [
    {
     "data": {
      "text/plain": [
       "array([[[[-5.53730607e-01,  2.32537210e-01,  1.77150413e-01, ...,\n",
       "           7.75985420e-02,  1.65203176e-02,  3.21764126e-02],\n",
       "         [ 1.75483912e-01, -1.40762165e-01,  3.09239298e-01, ...,\n",
       "          -1.83272704e-01,  4.27811295e-02,  2.50632346e-01],\n",
       "         [ 3.13025624e-01, -3.14323962e-01,  3.15720350e-01, ...,\n",
       "          -2.25471616e-01,  1.26607120e-01,  4.60319877e-01]],\n",
       "\n",
       "        [[ 1.42704695e-01,  1.26659840e-01,  5.21490514e-01, ...,\n",
       "           1.26918361e-01, -3.22253704e-02, -1.07658058e-01],\n",
       "         [ 9.86296963e-03, -2.19025537e-01,  6.70709550e-01, ...,\n",
       "          -6.74249977e-02, -6.75286353e-02,  1.55430257e-01],\n",
       "         [-1.65913403e-01, -3.70477855e-01,  4.23345655e-01, ...,\n",
       "          -1.19312614e-01,  8.50455090e-02,  4.33990777e-01]],\n",
       "\n",
       "        [[ 5.28961480e-01,  1.86054602e-01,  9.87398718e-03, ...,\n",
       "           3.23051959e-02, -3.84501694e-03, -2.63881803e-01],\n",
       "         [-8.14131498e-02,  1.50406718e-01,  2.05457117e-02, ...,\n",
       "          -7.21196318e-03, -7.03086471e-03, -1.74324512e-01],\n",
       "         [-4.27522570e-01, -1.30936608e-01, -3.49762589e-01, ...,\n",
       "          -2.34251544e-02,  1.30661160e-01,  2.83524245e-01]]],\n",
       "\n",
       "\n",
       "       [[[-5.83124042e-01, -4.28053141e-01, -2.71847457e-01, ...,\n",
       "           2.21314669e-01, -6.82063401e-02,  2.79573798e-01],\n",
       "         [ 4.40889224e-02, -8.41266751e-01, -4.66073930e-01, ...,\n",
       "          -4.88547944e-02,  1.17647024e-02,  3.92545670e-01],\n",
       "         [ 4.75186735e-01, -4.71441835e-01,  8.63536075e-02, ...,\n",
       "          -9.91711989e-02,  1.75852060e-01,  1.63412422e-01]],\n",
       "\n",
       "        [[ 3.56551468e-01, -2.43485749e-01, -7.17088699e-01, ...,\n",
       "           2.46805400e-01, -1.94448143e-01, -3.74161601e-02],\n",
       "         [-7.03225136e-02, -3.51756185e-01, -1.06969118e+00, ...,\n",
       "           7.04266503e-03, -1.49583027e-01,  3.23055200e-02],\n",
       "         [-8.26772675e-02, -1.55034259e-01, -4.64569539e-01, ...,\n",
       "          -1.51429819e-02,  1.12884440e-01, -5.81645779e-02]],\n",
       "\n",
       "        [[ 7.65662253e-01,  2.46284440e-01,  3.12923729e-01, ...,\n",
       "          -4.66366410e-02, -1.41662598e-01, -2.54707962e-01],\n",
       "         [-2.60350764e-01,  5.63976288e-01,  3.35013777e-01, ...,\n",
       "          -1.28831804e-01, -1.23609900e-01, -3.51914287e-01],\n",
       "         [-4.86999154e-01,  3.45889896e-01,  1.18028736e-02, ...,\n",
       "           9.53851675e-04,  1.19365111e-01, -1.91960767e-01]]],\n",
       "\n",
       "\n",
       "       [[[-6.90221131e-01, -2.50661612e-01, -7.57526010e-02, ...,\n",
       "           4.64070551e-02, -6.95275366e-02,  3.48721623e-01],\n",
       "         [ 1.32391751e-01, -2.41944522e-01, -8.02842304e-02, ...,\n",
       "          -6.46005124e-02,  1.02053080e-02,  1.92993715e-01],\n",
       "         [ 6.32025242e-01,  5.43839261e-02,  1.04826510e-01, ...,\n",
       "          -2.61373986e-02,  1.46559939e-01, -1.95208415e-01]],\n",
       "\n",
       "        [[-4.80188541e-02,  1.41770035e-01, -2.20788494e-01, ...,\n",
       "           2.82456912e-02, -1.83402315e-01,  3.00411656e-02],\n",
       "         [-1.72786206e-01,  5.19275784e-01, -3.05223972e-01, ...,\n",
       "          -6.45657405e-02, -1.03934266e-01, -1.98978543e-01],\n",
       "         [ 1.93075743e-02,  5.86827695e-01, -1.45835787e-01, ...,\n",
       "           1.35672197e-03,  9.88915861e-02, -4.56300586e-01]],\n",
       "\n",
       "        [[ 4.84091550e-01, -5.48640266e-03,  3.34552497e-01, ...,\n",
       "           1.75283980e-02, -1.74216509e-01, -5.58983497e-02],\n",
       "         [-1.32263303e-01,  5.39149880e-01,  5.44604361e-01, ...,\n",
       "           4.42351364e-02, -1.17418699e-01, -2.97130346e-01],\n",
       "         [-2.77530313e-01,  4.95799243e-01, -1.57648940e-02, ...,\n",
       "           1.42819539e-01,  1.03475623e-01, -4.27323639e-01]]]],\n",
       "      dtype=float32)"
      ]
     },
     "execution_count": 12,
     "metadata": {},
     "output_type": "execute_result"
    }
   ],
   "source": [
    "weight_val_pytorch_tf_fmt"
   ]
  },
  {
   "cell_type": "code",
   "execution_count": 13,
   "id": "1498770b-8f4b-43ae-97ef-d8ec2995471a",
   "metadata": {},
   "outputs": [
    {
     "data": {
      "text/plain": [
       "array([[[[ 4.29470569e-01,  1.17273867e-01,  3.40129584e-02, ...,\n",
       "          -1.32241577e-01, -5.33475243e-02,  7.57738389e-03],\n",
       "         [ 5.50379455e-01,  2.08774377e-02,  9.88311544e-02, ...,\n",
       "          -8.48205537e-02, -5.11389151e-02,  3.74943428e-02],\n",
       "         [ 4.80015397e-01, -1.72696680e-01,  3.75577137e-02, ...,\n",
       "          -1.27135560e-01, -5.02991639e-02,  3.48965675e-02]],\n",
       "\n",
       "        [[ 3.73466998e-01,  1.62062630e-01,  1.70863140e-03, ...,\n",
       "          -1.48207128e-01, -2.35300660e-01, -6.30356818e-02],\n",
       "         [ 4.40074533e-01,  4.73412387e-02,  5.13819456e-02, ...,\n",
       "          -9.88498852e-02, -2.96195745e-01, -7.04357103e-02],\n",
       "         [ 4.08547401e-01, -1.70375049e-01, -4.96297423e-03, ...,\n",
       "          -1.22360572e-01, -2.76450396e-01, -3.90796512e-02]],\n",
       "\n",
       "        [[-6.13601133e-02,  1.35693997e-01, -1.15694344e-01, ...,\n",
       "          -1.40158370e-01, -3.77666801e-01, -3.00509870e-01],\n",
       "         [-8.13870355e-02,  4.18543853e-02, -1.01763301e-01, ...,\n",
       "          -9.43124294e-02, -5.05662560e-01, -3.83694321e-01],\n",
       "         [-6.51455522e-02, -1.54351532e-01, -1.38038069e-01, ...,\n",
       "          -1.29404560e-01, -4.62243795e-01, -3.23985279e-01]]],\n",
       "\n",
       "\n",
       "       [[[ 2.74769872e-01,  1.48350164e-01,  1.61559835e-01, ...,\n",
       "          -1.14316158e-01,  3.65494519e-01,  3.39938998e-01],\n",
       "         [ 3.45739067e-01,  3.10493708e-02,  2.40750551e-01, ...,\n",
       "          -6.93419054e-02,  4.37116861e-01,  4.13171440e-01],\n",
       "         [ 3.10477257e-01, -1.87601492e-01,  1.66595340e-01, ...,\n",
       "          -9.88388434e-02,  4.04058546e-01,  3.92561197e-01]],\n",
       "\n",
       "        [[ 3.86807770e-02,  2.02298447e-01,  1.56414255e-01, ...,\n",
       "          -5.20089604e-02,  2.57149011e-01,  3.71682674e-01],\n",
       "         [ 4.06322069e-02,  6.58102185e-02,  2.20311403e-01, ...,\n",
       "          -3.78979952e-03,  2.69412428e-01,  4.09505904e-01],\n",
       "         [ 5.02023660e-02, -1.77571565e-01,  1.51188180e-01, ...,\n",
       "          -1.40649760e-02,  2.59300828e-01,  4.23764467e-01]],\n",
       "\n",
       "        [[-3.67223352e-01,  1.61688417e-01, -8.99365395e-02, ...,\n",
       "          -1.45945460e-01, -2.71823555e-01, -2.39718184e-01],\n",
       "         [-4.53501314e-01,  4.62574959e-02, -6.67438358e-02, ...,\n",
       "          -1.03502415e-01, -3.45792353e-01, -2.92486250e-01],\n",
       "         [-4.03383434e-01, -1.74399972e-01, -1.09849639e-01, ...,\n",
       "          -1.25688612e-01, -3.14026326e-01, -2.32839763e-01]]],\n",
       "\n",
       "\n",
       "       [[[-5.74681684e-02,  1.29344285e-01,  1.29030216e-02, ...,\n",
       "          -1.41449392e-01,  2.41099641e-01,  4.55602147e-02],\n",
       "         [-5.86349145e-02,  3.16787697e-02,  7.59588331e-02, ...,\n",
       "          -1.05017252e-01,  3.39550197e-01,  9.86374393e-02],\n",
       "         [-5.08716851e-02, -1.66002661e-01,  1.56279504e-02, ...,\n",
       "          -1.49742723e-01,  3.06801915e-01,  8.82701725e-02]],\n",
       "\n",
       "        [[-2.62249678e-01,  1.71572417e-01,  5.44555223e-05, ...,\n",
       "          -1.22728683e-01,  2.44687453e-01,  5.32913655e-02],\n",
       "         [-3.30669671e-01,  5.47101051e-02,  4.86797579e-02, ...,\n",
       "          -8.29023942e-02,  2.95466095e-01,  7.44469985e-02],\n",
       "         [-2.85227507e-01, -1.66666731e-01, -7.96697661e-03, ...,\n",
       "          -1.09780088e-01,  2.79203743e-01,  9.46525261e-02]],\n",
       "\n",
       "        [[-3.50096762e-01,  1.38710454e-01, -1.25339806e-01, ...,\n",
       "          -1.53092295e-01, -1.39917329e-01, -2.65075237e-01],\n",
       "         [-4.85030204e-01,  4.23195846e-02, -1.12076312e-01, ...,\n",
       "          -1.18306056e-01, -1.67058021e-01, -3.22241962e-01],\n",
       "         [-4.18516338e-01, -1.57048807e-01, -1.49133086e-01, ...,\n",
       "          -1.56839803e-01, -1.42874300e-01, -2.69694626e-01]]]],\n",
       "      dtype=float32)"
      ]
     },
     "execution_count": 13,
     "metadata": {},
     "output_type": "execute_result"
    }
   ],
   "source": [
    "weight_val_tf"
   ]
  }
 ],
 "metadata": {
  "kernelspec": {
   "display_name": "Python 3 (ipykernel)",
   "language": "python",
   "name": "python3"
  },
  "language_info": {
   "codemirror_mode": {
    "name": "ipython",
    "version": 3
   },
   "file_extension": ".py",
   "mimetype": "text/x-python",
   "name": "python",
   "nbconvert_exporter": "python",
   "pygments_lexer": "ipython3",
   "version": "3.10.12"
  }
 },
 "nbformat": 4,
 "nbformat_minor": 5
}
