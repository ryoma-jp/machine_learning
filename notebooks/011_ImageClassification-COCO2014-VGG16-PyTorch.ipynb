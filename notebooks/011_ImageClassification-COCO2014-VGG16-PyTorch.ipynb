{
 "cells": [
  {
   "cell_type": "markdown",
   "id": "7bfcf5ad-531c-4505-9fb2-48db18b4568e",
   "metadata": {},
   "source": [
    "# Sample code of Image Classification VGG16 Model with PyTorch\n",
    "\n",
    "This notebook is the sample code of training the image classification model using COCO2014 dataset.  \n",
    "COCO2014 dataset has not classification labels, therefore it makes classification dataset cropping bounding boxes.\n",
    "\n",
    "|Item|Description|\n",
    "|---|---|\n",
    "|DeepLearning Framework|PyTorch|\n",
    "|Dataset|COCO2014 Classification|\n",
    "|Model Architecture|VGG16|"
   ]
  },
  {
   "cell_type": "code",
   "execution_count": 1,
   "id": "ea2f3e25-58a2-4dae-9166-a85f649bde47",
   "metadata": {},
   "outputs": [],
   "source": [
    "%load_ext autoreload\n",
    "%autoreload 2"
   ]
  },
  {
   "cell_type": "code",
   "execution_count": 2,
   "id": "d563f93f-798e-4334-8094-334e84c69097",
   "metadata": {},
   "outputs": [],
   "source": [
    "import os\n",
    "#import cv2\n",
    "#import json\n",
    "#import numpy as np\n",
    "#import pandas as pd\n",
    "#from pathlib import Path\n",
    "#from tqdm import tqdm\n",
    "#from PIL import Image\n",
    "#from data_loader.data_loader import DataLoader\n",
    "#from models.pytorch import vgg16\n",
    "#\n",
    "#import torch\n",
    "#from torch.utils.data import Dataset\n",
    "\n",
    "import random\n",
    "import numpy as np\n",
    "import torch\n",
    "import pprint\n",
    "\n",
    "from data_loader.data_loader import DataLoader\n",
    "from models.pytorch import vgg16"
   ]
  },
  {
   "cell_type": "markdown",
   "id": "1da0d189-4ff4-4619-b8e4-91151436612c",
   "metadata": {},
   "source": [
    "## Set Random Seed"
   ]
  },
  {
   "cell_type": "code",
   "execution_count": 3,
   "id": "b6f272e2-e60d-4bf3-aff9-a255ce7e68f1",
   "metadata": {},
   "outputs": [
    {
     "data": {
      "text/plain": [
       "<torch._C.Generator at 0x7f94d00d3cd0>"
      ]
     },
     "execution_count": 3,
     "metadata": {},
     "output_type": "execute_result"
    }
   ],
   "source": [
    "seed=42\n",
    "\n",
    "random.seed(seed)\n",
    "np.random.seed(seed)\n",
    "torch.manual_seed(seed)"
   ]
  },
  {
   "cell_type": "markdown",
   "id": "d53721ad-cdf2-4570-a63d-34eca78d01bf",
   "metadata": {},
   "source": [
    "## Device Settings"
   ]
  },
  {
   "cell_type": "code",
   "execution_count": 4,
   "id": "8d22f5cd-18ef-4a30-9d92-ce0c0afffd66",
   "metadata": {},
   "outputs": [
    {
     "data": {
      "text/plain": [
       "device(type='cuda', index=0)"
      ]
     },
     "execution_count": 4,
     "metadata": {},
     "output_type": "execute_result"
    }
   ],
   "source": [
    "device = torch.device('cuda:0' if torch.cuda.is_available() else 'cpu')\n",
    "device"
   ]
  },
  {
   "cell_type": "markdown",
   "id": "a6ca638a-c879-4044-bd94-4181db50a2d2",
   "metadata": {},
   "source": [
    "## Hyperparameters"
   ]
  },
  {
   "cell_type": "code",
   "execution_count": 5,
   "id": "dfee9194-b6b7-438e-a967-eb25c0f544fb",
   "metadata": {},
   "outputs": [],
   "source": [
    "epochs = 50\n",
    "batch_size = 32\n",
    "learning_rate = 0.001\n",
    "weight_decay = 0.001\n",
    "input_tensor_shape = (3, 224, 224)   # CHW"
   ]
  },
  {
   "cell_type": "markdown",
   "id": "06247d29-f8d4-4ab5-83bf-830195df2ef8",
   "metadata": {},
   "source": [
    "## Preparing Dataset"
   ]
  },
  {
   "cell_type": "markdown",
   "id": "95ac110b-b5d8-4dbd-b982-49b82ee743c6",
   "metadata": {},
   "source": [
    "### Download and Extract"
   ]
  },
  {
   "cell_type": "code",
   "execution_count": 6,
   "id": "f86cf2bd-366a-4e94-8835-4a01ed16deee",
   "metadata": {},
   "outputs": [
    {
     "name": "stderr",
     "output_type": "stream",
     "text": [
      "100% 1000/1000 [00:21<00:00, 46.78it/s]\n",
      "100% 519/519 [00:00<00:00, 1303.07it/s]\n",
      "100% 519/519 [00:00<00:00, 420159.00it/s]\n",
      "100% 1000/1000 [00:16<00:00, 61.86it/s]\n",
      "100% 316/316 [00:00<00:00, 1252.80it/s]\n",
      "100% 316/316 [00:00<00:00, 363422.01it/s]\n"
     ]
    }
   ],
   "source": [
    "dataset_dir = '/tmp/dataset'\n",
    "os.makedirs(dataset_dir, exist_ok=True)\n",
    "dataloader = DataLoader(dataset_name='coco2014_classification_pytorch', resize=input_tensor_shape[1:], dataset_dir=dataset_dir, batch_size=batch_size)"
   ]
  },
  {
   "cell_type": "code",
   "execution_count": 7,
   "id": "f2b3fa3a-64fa-4d11-81a0-7a5822b2d430",
   "metadata": {},
   "outputs": [
    {
     "data": {
      "text/plain": [
       "['hot dog', 'dog']"
      ]
     },
     "execution_count": 7,
     "metadata": {},
     "output_type": "execute_result"
    }
   ],
   "source": [
    "dataloader.dataset.class_name"
   ]
  },
  {
   "cell_type": "markdown",
   "id": "3d567088-238b-45ef-93a2-d490ceafcef1",
   "metadata": {},
   "source": [
    "## Training VGG16"
   ]
  },
  {
   "cell_type": "code",
   "execution_count": 8,
   "id": "803a91f2-3e38-4378-be27-0267d8892b03",
   "metadata": {},
   "outputs": [
    {
     "name": "stdout",
     "output_type": "stream",
     "text": [
      "==========================================================================================\n",
      "Layer (type:depth-idx)                   Output Shape              Param #\n",
      "==========================================================================================\n",
      "Net                                      [32, 2]                   --\n",
      "├─Sequential: 1-1                        [32, 64, 224, 224]        --\n",
      "│    └─Conv2d: 2-1                       [32, 64, 224, 224]        1,792\n",
      "│    └─BatchNorm2d: 2-2                  [32, 64, 224, 224]        128\n",
      "│    └─ReLU: 2-3                         [32, 64, 224, 224]        --\n",
      "├─Sequential: 1-2                        [32, 64, 112, 112]        --\n",
      "│    └─Conv2d: 2-4                       [32, 64, 224, 224]        36,928\n",
      "│    └─BatchNorm2d: 2-5                  [32, 64, 224, 224]        128\n",
      "│    └─ReLU: 2-6                         [32, 64, 224, 224]        --\n",
      "│    └─MaxPool2d: 2-7                    [32, 64, 112, 112]        --\n",
      "├─Sequential: 1-3                        [32, 128, 112, 112]       --\n",
      "│    └─Conv2d: 2-8                       [32, 128, 112, 112]       73,856\n",
      "│    └─BatchNorm2d: 2-9                  [32, 128, 112, 112]       256\n",
      "│    └─ReLU: 2-10                        [32, 128, 112, 112]       --\n",
      "├─Sequential: 1-4                        [32, 128, 56, 56]         --\n",
      "│    └─Conv2d: 2-11                      [32, 128, 112, 112]       147,584\n",
      "│    └─BatchNorm2d: 2-12                 [32, 128, 112, 112]       256\n",
      "│    └─ReLU: 2-13                        [32, 128, 112, 112]       --\n",
      "│    └─MaxPool2d: 2-14                   [32, 128, 56, 56]         --\n",
      "├─Sequential: 1-5                        [32, 256, 56, 56]         --\n",
      "│    └─Conv2d: 2-15                      [32, 256, 56, 56]         295,168\n",
      "│    └─BatchNorm2d: 2-16                 [32, 256, 56, 56]         512\n",
      "│    └─ReLU: 2-17                        [32, 256, 56, 56]         --\n",
      "├─Sequential: 1-6                        [32, 256, 56, 56]         --\n",
      "│    └─Conv2d: 2-18                      [32, 256, 56, 56]         590,080\n",
      "│    └─BatchNorm2d: 2-19                 [32, 256, 56, 56]         512\n",
      "│    └─ReLU: 2-20                        [32, 256, 56, 56]         --\n",
      "├─Sequential: 1-7                        [32, 256, 28, 28]         --\n",
      "│    └─Conv2d: 2-21                      [32, 256, 56, 56]         590,080\n",
      "│    └─BatchNorm2d: 2-22                 [32, 256, 56, 56]         512\n",
      "│    └─ReLU: 2-23                        [32, 256, 56, 56]         --\n",
      "│    └─MaxPool2d: 2-24                   [32, 256, 28, 28]         --\n",
      "├─Sequential: 1-8                        [32, 512, 28, 28]         --\n",
      "│    └─Conv2d: 2-25                      [32, 512, 28, 28]         1,180,160\n",
      "│    └─BatchNorm2d: 2-26                 [32, 512, 28, 28]         1,024\n",
      "│    └─ReLU: 2-27                        [32, 512, 28, 28]         --\n",
      "├─Sequential: 1-9                        [32, 512, 28, 28]         --\n",
      "│    └─Conv2d: 2-28                      [32, 512, 28, 28]         2,359,808\n",
      "│    └─BatchNorm2d: 2-29                 [32, 512, 28, 28]         1,024\n",
      "│    └─ReLU: 2-30                        [32, 512, 28, 28]         --\n",
      "├─Sequential: 1-10                       [32, 512, 14, 14]         --\n",
      "│    └─Conv2d: 2-31                      [32, 512, 28, 28]         2,359,808\n",
      "│    └─BatchNorm2d: 2-32                 [32, 512, 28, 28]         1,024\n",
      "│    └─ReLU: 2-33                        [32, 512, 28, 28]         --\n",
      "│    └─MaxPool2d: 2-34                   [32, 512, 14, 14]         --\n",
      "├─Sequential: 1-11                       [32, 512, 14, 14]         --\n",
      "│    └─Conv2d: 2-35                      [32, 512, 14, 14]         2,359,808\n",
      "│    └─BatchNorm2d: 2-36                 [32, 512, 14, 14]         1,024\n",
      "│    └─ReLU: 2-37                        [32, 512, 14, 14]         --\n",
      "├─Sequential: 1-12                       [32, 512, 14, 14]         --\n",
      "│    └─Conv2d: 2-38                      [32, 512, 14, 14]         2,359,808\n",
      "│    └─BatchNorm2d: 2-39                 [32, 512, 14, 14]         1,024\n",
      "│    └─ReLU: 2-40                        [32, 512, 14, 14]         --\n",
      "├─Sequential: 1-13                       [32, 512, 7, 7]           --\n",
      "│    └─Conv2d: 2-41                      [32, 512, 14, 14]         2,359,808\n",
      "│    └─BatchNorm2d: 2-42                 [32, 512, 14, 14]         1,024\n",
      "│    └─ReLU: 2-43                        [32, 512, 14, 14]         --\n",
      "│    └─MaxPool2d: 2-44                   [32, 512, 7, 7]           --\n",
      "├─AdaptiveAvgPool2d: 1-14                [32, 512, 7, 7]           --\n",
      "├─Sequential: 1-15                       [32, 4096]                --\n",
      "│    └─Linear: 2-45                      [32, 4096]                102,764,544\n",
      "│    └─ReLU: 2-46                        [32, 4096]                --\n",
      "│    └─Dropout: 2-47                     [32, 4096]                --\n",
      "├─Sequential: 1-16                       [32, 4096]                --\n",
      "│    └─Linear: 2-48                      [32, 4096]                16,781,312\n",
      "│    └─ReLU: 2-49                        [32, 4096]                --\n",
      "│    └─Dropout: 2-50                     [32, 4096]                --\n",
      "├─Sequential: 1-17                       [32, 2]                   --\n",
      "│    └─Linear: 2-51                      [32, 2]                   8,194\n",
      "==========================================================================================\n",
      "Total params: 134,277,186\n",
      "Trainable params: 134,277,186\n",
      "Non-trainable params: 0\n",
      "Total mult-adds (G): 495.35\n",
      "==========================================================================================\n",
      "Input size (MB): 19.27\n",
      "Forward/backward pass size (MB): 6938.43\n",
      "Params size (MB): 537.11\n",
      "Estimated Total Size (MB): 7494.80\n",
      "==========================================================================================\n"
     ]
    }
   ],
   "source": [
    "input_size = (batch_size, 3, 224, 224)\n",
    "num_classes = len(dataloader.dataset.class_name)\n",
    "model = vgg16.VGG16(device, input_size=input_size, num_classes=num_classes)"
   ]
  },
  {
   "cell_type": "code",
   "execution_count": 9,
   "id": "528c4a81-3ed8-4c1a-8f9c-acd8e1b23dad",
   "metadata": {},
   "outputs": [
    {
     "name": "stdout",
     "output_type": "stream",
     "text": [
      "[EPOCH #0] loss: 0.6153548272217021\n",
      "[EPOCH #1, elapsed time: 3.962[sec]] loss: 7.26684949088239\n",
      "[EPOCH #2, elapsed time: 7.730[sec]] loss: 0.2785912655732211\n",
      "[EPOCH #3, elapsed time: 11.525[sec]] loss: 0.31644077489481254\n",
      "[EPOCH #4, elapsed time: 15.359[sec]] loss: 0.22380714293788462\n",
      "[EPOCH #5, elapsed time: 19.162[sec]] loss: 0.22321772772599668\n",
      "[EPOCH #6, elapsed time: 22.993[sec]] loss: 0.5496498661882737\n",
      "[EPOCH #7, elapsed time: 26.846[sec]] loss: 0.33894442323157015\n",
      "[EPOCH #8, elapsed time: 30.698[sec]] loss: 0.24415693125304053\n",
      "[EPOCH #9, elapsed time: 34.477[sec]] loss: 0.3100174824323724\n",
      "[EPOCH #10, elapsed time: 38.290[sec]] loss: 0.2660251645480885\n",
      "[EPOCH #11, elapsed time: 42.087[sec]] loss: 0.178917337944072\n",
      "[EPOCH #12, elapsed time: 45.869[sec]] loss: 0.22078676236902967\n",
      "[EPOCH #13, elapsed time: 49.661[sec]] loss: 0.15141517800443313\n",
      "[EPOCH #14, elapsed time: 53.494[sec]] loss: 0.3577402900247013\n",
      "[EPOCH #15, elapsed time: 57.282[sec]] loss: 0.22365090229055462\n",
      "[EPOCH #16, elapsed time: 61.079[sec]] loss: 0.22600114214069703\n",
      "[EPOCH #17, elapsed time: 64.866[sec]] loss: 0.19291171650676167\n",
      "[EPOCH #18, elapsed time: 68.673[sec]] loss: 0.1730925252332407\n",
      "[EPOCH #19, elapsed time: 72.453[sec]] loss: 0.2606579245013349\n",
      "[EPOCH #20, elapsed time: 76.268[sec]] loss: 0.2519708231968038\n",
      "[EPOCH #21, elapsed time: 80.050[sec]] loss: 0.1864870972931385\n",
      "[EPOCH #22, elapsed time: 83.819[sec]] loss: 0.154342837357784\n",
      "[EPOCH #23, elapsed time: 87.601[sec]] loss: 0.15085039506940282\n",
      "[EPOCH #24, elapsed time: 91.392[sec]] loss: 1.4740742359529524\n",
      "[EPOCH #25, elapsed time: 95.183[sec]] loss: 1.0644838527283247\n",
      "[EPOCH #26, elapsed time: 98.969[sec]] loss: 0.5949718120014843\n",
      "[EPOCH #27, elapsed time: 102.735[sec]] loss: 0.6892218055093989\n",
      "[EPOCH #28, elapsed time: 106.518[sec]] loss: 0.34731395104352164\n",
      "[EPOCH #29, elapsed time: 110.310[sec]] loss: 0.469031699878328\n",
      "[EPOCH #30, elapsed time: 114.122[sec]] loss: 0.30041371154434543\n",
      "[EPOCH #31, elapsed time: 117.915[sec]] loss: 0.27285894926856546\n",
      "[EPOCH #32, elapsed time: 121.720[sec]] loss: 0.35045170258073244\n",
      "[EPOCH #33, elapsed time: 125.556[sec]] loss: 0.3344047208844559\n",
      "[EPOCH #34, elapsed time: 129.375[sec]] loss: 0.4829006576362778\n",
      "[EPOCH #35, elapsed time: 133.228[sec]] loss: 0.3312191104187685\n",
      "[EPOCH #36, elapsed time: 137.086[sec]] loss: 0.19342959431164405\n",
      "[EPOCH #37, elapsed time: 140.919[sec]] loss: 0.18468916722956827\n",
      "[EPOCH #38, elapsed time: 144.733[sec]] loss: 0.15208258567487493\n",
      "[EPOCH #39, elapsed time: 148.528[sec]] loss: 0.15706681372488246\n",
      "[EPOCH #40, elapsed time: 152.332[sec]] loss: 0.18027961385600708\n",
      "[EPOCH #41, elapsed time: 156.100[sec]] loss: 0.20031911572989294\n",
      "[EPOCH #42, elapsed time: 159.844[sec]] loss: 0.2690961459542022\n",
      "[EPOCH #43, elapsed time: 163.618[sec]] loss: 0.20274853969321532\n",
      "[EPOCH #44, elapsed time: 167.398[sec]] loss: 0.312971583184074\n",
      "[EPOCH #45, elapsed time: 171.196[sec]] loss: 0.42355152953635244\n",
      "[EPOCH #46, elapsed time: 174.978[sec]] loss: 0.3152286471689449\n",
      "[EPOCH #47, elapsed time: 178.759[sec]] loss: 0.3118827074547024\n",
      "[EPOCH #48, elapsed time: 182.534[sec]] loss: 0.1931305025868556\n",
      "[EPOCH #49, elapsed time: 186.314[sec]] loss: 0.4322004620643223\n",
      "[EPOCH #50, elapsed time: 190.095[sec]] loss: 0.21237494621206732\n"
     ]
    }
   ],
   "source": [
    "model_dir = 'coco2014_clf'\n",
    "model.train(dataloader.dataset.trainloader, epochs=epochs, lr=learning_rate, wd=weight_decay, output_dir=model_dir)"
   ]
  },
  {
   "cell_type": "markdown",
   "id": "95ba45fa-de0f-4164-a9f4-8aab6c875907",
   "metadata": {},
   "source": [
    "## Test Model"
   ]
  },
  {
   "cell_type": "code",
   "execution_count": 10,
   "id": "bb3a83ec-4044-46fe-bdaf-bc2963063a0d",
   "metadata": {},
   "outputs": [],
   "source": [
    "train_result = model.predict(dataloader.dataset.trainloader)\n",
    "train_predictions, train_labels = train_result"
   ]
  },
  {
   "cell_type": "code",
   "execution_count": 11,
   "id": "50fcb205-1cff-48c0-9ad2-1881319b9056",
   "metadata": {},
   "outputs": [
    {
     "name": "stdout",
     "output_type": "stream",
     "text": [
      "{'accuracy': 0.9229287090558767,\n",
      " 'classification_report': {'0': {'f1-score': 0.0909090909090909,\n",
      "                                 'precision': 1.0,\n",
      "                                 'recall': 0.047619047619047616,\n",
      "                                 'support': 42},\n",
      "                           '1': {'f1-score': 0.9597585513078472,\n",
      "                                 'precision': 0.9226305609284333,\n",
      "                                 'recall': 1.0,\n",
      "                                 'support': 477},\n",
      "                           'accuracy': 0.9229287090558767,\n",
      "                           'macro avg': {'f1-score': 0.525333821108469,\n",
      "                                         'precision': 0.9613152804642167,\n",
      "                                         'recall': 0.5238095238095238,\n",
      "                                         'support': 519},\n",
      "                           'weighted avg': {'f1-score': 0.8894470342813582,\n",
      "                                            'precision': 0.9288916716047451,\n",
      "                                            'recall': 0.9229287090558767,\n",
      "                                            'support': 519}}}\n"
     ]
    }
   ],
   "source": [
    "train_eval_result = model.evaluate(train_labels, train_predictions)\n",
    "pprint.pprint(train_eval_result)"
   ]
  },
  {
   "cell_type": "code",
   "execution_count": 12,
   "id": "b7768822-0900-4959-8618-20c89b0f5d2b",
   "metadata": {},
   "outputs": [],
   "source": [
    "test_result = model.predict(dataloader.dataset.testloader)\n",
    "test_predictions, test_labels = test_result"
   ]
  },
  {
   "cell_type": "code",
   "execution_count": 13,
   "id": "9521acc2-29d8-4dbb-81e2-0e264b4155a1",
   "metadata": {},
   "outputs": [
    {
     "name": "stdout",
     "output_type": "stream",
     "text": [
      "{'accuracy': 0.0379746835443038,\n",
      " 'classification_report': {'0': {'f1-score': 0.0,\n",
      "                                 'precision': 0.0,\n",
      "                                 'recall': 0.0,\n",
      "                                 'support': 85},\n",
      "                           '1': {'f1-score': 0.07339449541284404,\n",
      "                                 'precision': 0.03821656050955414,\n",
      "                                 'recall': 0.9230769230769231,\n",
      "                                 'support': 13},\n",
      "                           '2': {'f1-score': 0.0,\n",
      "                                 'precision': 0.0,\n",
      "                                 'recall': 0.0,\n",
      "                                 'support': 15},\n",
      "                           '3': {'f1-score': 0.0,\n",
      "                                 'precision': 0.0,\n",
      "                                 'recall': 0.0,\n",
      "                                 'support': 6},\n",
      "                           '4': {'f1-score': 0.0,\n",
      "                                 'precision': 0.0,\n",
      "                                 'recall': 0.0,\n",
      "                                 'support': 162},\n",
      "                           '5': {'f1-score': 0.0,\n",
      "                                 'precision': 0.0,\n",
      "                                 'recall': 0.0,\n",
      "                                 'support': 22},\n",
      "                           '6': {'f1-score': 0.0,\n",
      "                                 'precision': 0.0,\n",
      "                                 'recall': 0.0,\n",
      "                                 'support': 1},\n",
      "                           '7': {'f1-score': 0.0,\n",
      "                                 'precision': 0.0,\n",
      "                                 'recall': 0.0,\n",
      "                                 'support': 10},\n",
      "                           '8': {'f1-score': 0.0,\n",
      "                                 'precision': 0.0,\n",
      "                                 'recall': 0.0,\n",
      "                                 'support': 2},\n",
      "                           'accuracy': 0.0379746835443038,\n",
      "                           'macro avg': {'f1-score': 0.00815494393476045,\n",
      "                                         'precision': 0.004246284501061571,\n",
      "                                         'recall': 0.10256410256410257,\n",
      "                                         'support': 316},\n",
      "                           'weighted avg': {'f1-score': 0.00301939379862966,\n",
      "                                            'precision': 0.0015722002741272274,\n",
      "                                            'recall': 0.0379746835443038,\n",
      "                                            'support': 316}}}\n"
     ]
    },
    {
     "name": "stderr",
     "output_type": "stream",
     "text": [
      "/usr/local/lib/python3.10/dist-packages/sklearn/metrics/_classification.py:1344: UndefinedMetricWarning: Precision and F-score are ill-defined and being set to 0.0 in labels with no predicted samples. Use `zero_division` parameter to control this behavior.\n",
      "  _warn_prf(average, modifier, msg_start, len(result))\n",
      "/usr/local/lib/python3.10/dist-packages/sklearn/metrics/_classification.py:1344: UndefinedMetricWarning: Precision and F-score are ill-defined and being set to 0.0 in labels with no predicted samples. Use `zero_division` parameter to control this behavior.\n",
      "  _warn_prf(average, modifier, msg_start, len(result))\n",
      "/usr/local/lib/python3.10/dist-packages/sklearn/metrics/_classification.py:1344: UndefinedMetricWarning: Precision and F-score are ill-defined and being set to 0.0 in labels with no predicted samples. Use `zero_division` parameter to control this behavior.\n",
      "  _warn_prf(average, modifier, msg_start, len(result))\n"
     ]
    }
   ],
   "source": [
    "test_eval_result = model.evaluate(test_labels, test_predictions)\n",
    "pprint.pprint(test_eval_result)"
   ]
  }
 ],
 "metadata": {
  "kernelspec": {
   "display_name": "Python 3 (ipykernel)",
   "language": "python",
   "name": "python3"
  },
  "language_info": {
   "codemirror_mode": {
    "name": "ipython",
    "version": 3
   },
   "file_extension": ".py",
   "mimetype": "text/x-python",
   "name": "python",
   "nbconvert_exporter": "python",
   "pygments_lexer": "ipython3",
   "version": "3.10.12"
  }
 },
 "nbformat": 4,
 "nbformat_minor": 5
}
