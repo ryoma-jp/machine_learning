{
 "cells": [
  {
   "cell_type": "markdown",
   "id": "7bfcf5ad-531c-4505-9fb2-48db18b4568e",
   "metadata": {},
   "source": [
    "# Sample code of Image Classification VGG16 Model with PyTorch\n",
    "\n",
    "This notebook is the sample code of training the image classification model using COCO2014 dataset.  \n",
    "COCO2014 dataset has not classification labels, therefore it makes classification dataset cropping bounding boxes.\n",
    "\n",
    "|Item|Description|\n",
    "|---|---|\n",
    "|DeepLearning Framework|PyTorch|\n",
    "|Dataset|COCO2014 Classification|\n",
    "|Model Architecture|VGG16|"
   ]
  },
  {
   "cell_type": "code",
   "execution_count": 7,
   "id": "ea2f3e25-58a2-4dae-9166-a85f649bde47",
   "metadata": {},
   "outputs": [
    {
     "name": "stdout",
     "output_type": "stream",
     "text": [
      "The autoreload extension is already loaded. To reload it, use:\n",
      "  %reload_ext autoreload\n"
     ]
    }
   ],
   "source": [
    "%load_ext autoreload\n",
    "%autoreload 2"
   ]
  },
  {
   "cell_type": "code",
   "execution_count": 8,
   "id": "d563f93f-798e-4334-8094-334e84c69097",
   "metadata": {},
   "outputs": [],
   "source": [
    "import os\n",
    "#import cv2\n",
    "#import json\n",
    "#import numpy as np\n",
    "#import pandas as pd\n",
    "#from pathlib import Path\n",
    "#from tqdm import tqdm\n",
    "#from PIL import Image\n",
    "#from data_loader.data_loader import DataLoader\n",
    "#from models.pytorch import vgg16\n",
    "#\n",
    "#import torch\n",
    "#from torch.utils.data import Dataset\n",
    "\n",
    "import random\n",
    "import numpy as np\n",
    "import torch\n",
    "import pprint\n",
    "\n",
    "from data_loader.data_loader import DataLoader\n",
    "from models.pytorch import vgg16"
   ]
  },
  {
   "cell_type": "markdown",
   "id": "1da0d189-4ff4-4619-b8e4-91151436612c",
   "metadata": {},
   "source": [
    "## Set Random Seed"
   ]
  },
  {
   "cell_type": "code",
   "execution_count": 9,
   "id": "b6f272e2-e60d-4bf3-aff9-a255ce7e68f1",
   "metadata": {},
   "outputs": [
    {
     "data": {
      "text/plain": [
       "<torch._C.Generator at 0x7fd8100b39f0>"
      ]
     },
     "execution_count": 9,
     "metadata": {},
     "output_type": "execute_result"
    }
   ],
   "source": [
    "seed=42\n",
    "\n",
    "random.seed(seed)\n",
    "np.random.seed(seed)\n",
    "torch.manual_seed(seed)"
   ]
  },
  {
   "cell_type": "markdown",
   "id": "d53721ad-cdf2-4570-a63d-34eca78d01bf",
   "metadata": {},
   "source": [
    "## Device Settings"
   ]
  },
  {
   "cell_type": "code",
   "execution_count": 10,
   "id": "8d22f5cd-18ef-4a30-9d92-ce0c0afffd66",
   "metadata": {},
   "outputs": [
    {
     "data": {
      "text/plain": [
       "device(type='cuda', index=0)"
      ]
     },
     "execution_count": 10,
     "metadata": {},
     "output_type": "execute_result"
    }
   ],
   "source": [
    "device = torch.device('cuda:0' if torch.cuda.is_available() else 'cpu')\n",
    "device"
   ]
  },
  {
   "cell_type": "markdown",
   "id": "a6ca638a-c879-4044-bd94-4181db50a2d2",
   "metadata": {},
   "source": [
    "## Hyperparameters"
   ]
  },
  {
   "cell_type": "code",
   "execution_count": 11,
   "id": "dfee9194-b6b7-438e-a967-eb25c0f544fb",
   "metadata": {},
   "outputs": [],
   "source": [
    "epochs = 50\n",
    "batch_size = 32\n",
    "learning_rate = 0.001\n",
    "weight_decay = 0.001\n",
    "input_tensor_shape = (3, 224, 224)   # CHW"
   ]
  },
  {
   "cell_type": "markdown",
   "id": "06247d29-f8d4-4ab5-83bf-830195df2ef8",
   "metadata": {},
   "source": [
    "## Preparing Dataset"
   ]
  },
  {
   "cell_type": "markdown",
   "id": "95ac110b-b5d8-4dbd-b982-49b82ee743c6",
   "metadata": {},
   "source": [
    "### Download and Extract"
   ]
  },
  {
   "cell_type": "code",
   "execution_count": 13,
   "id": "f86cf2bd-366a-4e94-8835-4a01ed16deee",
   "metadata": {},
   "outputs": [
    {
     "name": "stdout",
     "output_type": "stream",
     "text": [
      "{'train': True, 'transform': Compose(\n",
      "    ToTensor()\n",
      "    Normalize(mean=(0.5, 0.5, 0.5), std=(0.5, 0.5, 0.5))\n",
      ")}\n"
     ]
    },
    {
     "name": "stderr",
     "output_type": "stream",
     "text": [
      "100% 100000/100000 [16:56<00:00, 98.41it/s] \n",
      "100% 28519/28519 [00:21<00:00, 1324.16it/s]\n",
      "100% 28519/28519 [00:00<00:00, 644507.43it/s]\n"
     ]
    }
   ],
   "source": [
    "dataset_dir = '/tmp/dataset'\n",
    "os.makedirs(dataset_dir, exist_ok=True)\n",
    "dataloader = DataLoader(dataset_name='coco2014_classification_pytorch', resize=input_tensor_shape[1:], dataset_dir=dataset_dir, batch_size=batch_size)"
   ]
  },
  {
   "cell_type": "markdown",
   "id": "3d567088-238b-45ef-93a2-d490ceafcef1",
   "metadata": {},
   "source": [
    "## Training VGG16"
   ]
  }
 ],
 "metadata": {
  "kernelspec": {
   "display_name": "Python 3 (ipykernel)",
   "language": "python",
   "name": "python3"
  },
  "language_info": {
   "codemirror_mode": {
    "name": "ipython",
    "version": 3
   },
   "file_extension": ".py",
   "mimetype": "text/x-python",
   "name": "python",
   "nbconvert_exporter": "python",
   "pygments_lexer": "ipython3",
   "version": "3.10.12"
  }
 },
 "nbformat": 4,
 "nbformat_minor": 5
}
